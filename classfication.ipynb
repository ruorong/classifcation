{
  "nbformat": 4,
  "nbformat_minor": 5,
  "metadata": {
    "kernelspec": {
      "display_name": "Python 3 (ipykernel)",
      "language": "python",
      "name": "python3"
    },
    "language_info": {
      "codemirror_mode": {
        "name": "ipython",
        "version": 3
      },
      "file_extension": ".py",
      "mimetype": "text/x-python",
      "name": "python",
      "nbconvert_exporter": "python",
      "pygments_lexer": "ipython3",
      "version": "3.7.11"
    },
    "colab": {
      "name": "classfication.ipynb",
      "provenance": [],
      "collapsed_sections": [],
      "include_colab_link": true
    }
  },
  "cells": [
    {
      "cell_type": "markdown",
      "metadata": {
        "id": "view-in-github",
        "colab_type": "text"
      },
      "source": [
        "<a href=\"https://colab.research.google.com/github/ruorong/classifcation/blob/main/classfication.ipynb\" target=\"_parent\"><img src=\"https://colab.research.google.com/assets/colab-badge.svg\" alt=\"Open In Colab\"/></a>"
      ]
    },
    {
      "cell_type": "code",
      "metadata": {
        "id": "a38a3536"
      },
      "source": [
        "import tensorflow as tf\n",
        "import numpy as np\n",
        "import pandas as pd\n",
        "import glob\n",
        "import matplotlib.pyplot as plt\n",
        "import os\n",
        "import time\n",
        "import random\n",
        "import datetime\n",
        "import sklearn"
      ],
      "id": "a38a3536",
      "execution_count": 14,
      "outputs": []
    },
    {
      "cell_type": "code",
      "metadata": {
        "id": "XgY0_lJR7iKq",
        "colab": {
          "base_uri": "https://localhost:8080/",
          "height": 35
        },
        "outputId": "462d9e50-7caf-4a98-cbc4-c31370085cb6"
      },
      "source": [
        "tf.__version__"
      ],
      "id": "XgY0_lJR7iKq",
      "execution_count": 15,
      "outputs": [
        {
          "output_type": "execute_result",
          "data": {
            "application/vnd.google.colaboratory.intrinsic+json": {
              "type": "string"
            },
            "text/plain": [
              "'2.6.0'"
            ]
          },
          "metadata": {},
          "execution_count": 15
        }
      ]
    },
    {
      "cell_type": "code",
      "metadata": {
        "colab": {
          "base_uri": "https://localhost:8080/"
        },
        "id": "zzYpJjmK-b0S",
        "outputId": "c10f83e0-ba1a-4b3f-960a-0cf62b561800"
      },
      "source": [
        "!git clone https://github.com/ruorong/classifcation.git"
      ],
      "id": "zzYpJjmK-b0S",
      "execution_count": 1,
      "outputs": [
        {
          "output_type": "stream",
          "name": "stdout",
          "text": [
            "Cloning into 'classifcation'...\n",
            "remote: Enumerating objects: 2544, done.\u001b[K\n",
            "remote: Counting objects: 100% (2544/2544), done.\u001b[K\n",
            "remote: Compressing objects: 100% (2543/2543), done.\u001b[K\n",
            "remote: Total 2544 (delta 4), reused 2533 (delta 0), pack-reused 0\u001b[K\n",
            "Receiving objects: 100% (2544/2544), 92.71 MiB | 32.80 MiB/s, done.\n",
            "Resolving deltas: 100% (4/4), done.\n"
          ]
        }
      ]
    },
    {
      "cell_type": "markdown",
      "metadata": {
        "id": "b38db548"
      },
      "source": [
        "# 数据增强"
      ],
      "id": "b38db548"
    },
    {
      "cell_type": "code",
      "metadata": {
        "colab": {
          "base_uri": "https://localhost:8080/"
        },
        "id": "NajZfubWEEhq",
        "outputId": "e2f1fa62-3483-4ea0-b23a-eb6cd97aa5a6"
      },
      "source": [
        "for dirs in glob.glob(\"/content/classifcation/Garbage classification/*\"):\n",
        "  print(dirs)\n"
      ],
      "id": "NajZfubWEEhq",
      "execution_count": 22,
      "outputs": [
        {
          "output_type": "stream",
          "name": "stdout",
          "text": [
            "/content/classifcation/Garbage classification/metal\n",
            "/content/classifcation/Garbage classification/glass\n",
            "/content/classifcation/Garbage classification/prediction\n",
            "/content/classifcation/Garbage classification/paper\n",
            "/content/classifcation/Garbage classification/plastic\n",
            "/content/classifcation/Garbage classification/cardboard\n"
          ]
        }
      ]
    },
    {
      "cell_type": "code",
      "metadata": {
        "colab": {
          "base_uri": "https://localhost:8080/"
        },
        "id": "xnwZhA6dEdK7",
        "outputId": "12b4bb61-5af8-49c9-c56c-cc73dec5df47"
      },
      "source": [
        "for dirs in glob.glob(\"/content/classifcation/Garbage classification/*\"):\n",
        "  # print(dirs)\n",
        "  paths = glob.glob(dirs + \"/*\")\n",
        "  print(paths)"
      ],
      "id": "xnwZhA6dEdK7",
      "execution_count": 20,
      "outputs": [
        {
          "output_type": "stream",
          "name": "stdout",
          "text": [
            "['/content/classifcation/Garbage classification/metal/metal165.jpg', '/content/classifcation/Garbage classification/metal/metal158.jpg', '/content/classifcation/Garbage classification/metal/metal340.jpg', '/content/classifcation/Garbage classification/metal/metal382.jpg', '/content/classifcation/Garbage classification/metal/metal143.jpg', '/content/classifcation/Garbage classification/metal/metal177.jpg', '/content/classifcation/Garbage classification/metal/metal254.jpg', '/content/classifcation/Garbage classification/metal/metal241.jpg', '/content/classifcation/Garbage classification/metal/metal391.jpg', '/content/classifcation/Garbage classification/metal/metal16.jpg', '/content/classifcation/Garbage classification/metal/metal87.jpg', '/content/classifcation/Garbage classification/metal/metal136.jpg', '/content/classifcation/Garbage classification/metal/metal172.jpg', '/content/classifcation/Garbage classification/metal/metal9.jpg', '/content/classifcation/Garbage classification/metal/metal383.jpg', '/content/classifcation/Garbage classification/metal/metal1.jpg', '/content/classifcation/Garbage classification/metal/metal80.jpg', '/content/classifcation/Garbage classification/metal/metal248.jpg', '/content/classifcation/Garbage classification/metal/metal161.jpg', '/content/classifcation/Garbage classification/metal/metal83.jpg', '/content/classifcation/Garbage classification/metal/metal396.jpg', '/content/classifcation/Garbage classification/metal/metal283.jpg', '/content/classifcation/Garbage classification/metal/metal156.jpg', '/content/classifcation/Garbage classification/metal/metal116.jpg', '/content/classifcation/Garbage classification/metal/metal40.jpg', '/content/classifcation/Garbage classification/metal/metal286.jpg', '/content/classifcation/Garbage classification/metal/metal13.jpg', '/content/classifcation/Garbage classification/metal/metal287.jpg', '/content/classifcation/Garbage classification/metal/metal106.jpg', '/content/classifcation/Garbage classification/metal/metal231.jpg', '/content/classifcation/Garbage classification/metal/metal23.jpg', '/content/classifcation/Garbage classification/metal/metal261.jpg', '/content/classifcation/Garbage classification/metal/metal135.jpg', '/content/classifcation/Garbage classification/metal/metal237.jpg', '/content/classifcation/Garbage classification/metal/metal352.jpg', '/content/classifcation/Garbage classification/metal/metal388.jpg', '/content/classifcation/Garbage classification/metal/metal228.jpg', '/content/classifcation/Garbage classification/metal/metal149.jpg', '/content/classifcation/Garbage classification/metal/metal62.jpg', '/content/classifcation/Garbage classification/metal/metal252.jpg', '/content/classifcation/Garbage classification/metal/metal218.jpg', '/content/classifcation/Garbage classification/metal/metal354.jpg', '/content/classifcation/Garbage classification/metal/metal229.jpg', '/content/classifcation/Garbage classification/metal/metal19.jpg', '/content/classifcation/Garbage classification/metal/metal31.jpg', '/content/classifcation/Garbage classification/metal/metal394.jpg', '/content/classifcation/Garbage classification/metal/metal108.jpg', '/content/classifcation/Garbage classification/metal/metal236.jpg', '/content/classifcation/Garbage classification/metal/metal234.jpg', '/content/classifcation/Garbage classification/metal/metal76.jpg', '/content/classifcation/Garbage classification/metal/metal81.jpg', '/content/classifcation/Garbage classification/metal/metal22.jpg', '/content/classifcation/Garbage classification/metal/metal239.jpg', '/content/classifcation/Garbage classification/metal/metal50.jpg', '/content/classifcation/Garbage classification/metal/metal66.jpg', '/content/classifcation/Garbage classification/metal/metal35.jpg', '/content/classifcation/Garbage classification/metal/metal153.jpg', '/content/classifcation/Garbage classification/metal/metal162.jpg', '/content/classifcation/Garbage classification/metal/metal114.jpg', '/content/classifcation/Garbage classification/metal/metal181.jpg', '/content/classifcation/Garbage classification/metal/metal289.jpg', '/content/classifcation/Garbage classification/metal/metal200.jpg', '/content/classifcation/Garbage classification/metal/metal189.jpg', '/content/classifcation/Garbage classification/metal/metal321.jpg', '/content/classifcation/Garbage classification/metal/metal25.jpg', '/content/classifcation/Garbage classification/metal/metal117.jpg', '/content/classifcation/Garbage classification/metal/metal336.jpg', '/content/classifcation/Garbage classification/metal/metal338.jpg', '/content/classifcation/Garbage classification/metal/metal409.jpg', '/content/classifcation/Garbage classification/metal/metal110.jpg', '/content/classifcation/Garbage classification/metal/metal339.jpg', '/content/classifcation/Garbage classification/metal/metal42.jpg', '/content/classifcation/Garbage classification/metal/metal54.jpg', '/content/classifcation/Garbage classification/metal/metal342.jpg', '/content/classifcation/Garbage classification/metal/metal260.jpg', '/content/classifcation/Garbage classification/metal/metal362.jpg', '/content/classifcation/Garbage classification/metal/metal122.jpg', '/content/classifcation/Garbage classification/metal/metal36.jpg', '/content/classifcation/Garbage classification/metal/metal169.jpg', '/content/classifcation/Garbage classification/metal/metal324.jpg', '/content/classifcation/Garbage classification/metal/metal300.jpg', '/content/classifcation/Garbage classification/metal/metal191.jpg', '/content/classifcation/Garbage classification/metal/metal367.jpg', '/content/classifcation/Garbage classification/metal/metal392.jpg', '/content/classifcation/Garbage classification/metal/metal322.jpg', '/content/classifcation/Garbage classification/metal/metal410.jpg', '/content/classifcation/Garbage classification/metal/metal207.jpg', '/content/classifcation/Garbage classification/metal/metal364.jpg', '/content/classifcation/Garbage classification/metal/metal184.jpg', '/content/classifcation/Garbage classification/metal/metal154.jpg', '/content/classifcation/Garbage classification/metal/metal344.jpg', '/content/classifcation/Garbage classification/metal/metal204.jpg', '/content/classifcation/Garbage classification/metal/metal138.jpg', '/content/classifcation/Garbage classification/metal/metal232.jpg', '/content/classifcation/Garbage classification/metal/metal369.jpg', '/content/classifcation/Garbage classification/metal/metal126.jpg', '/content/classifcation/Garbage classification/metal/metal251.jpg', '/content/classifcation/Garbage classification/metal/metal107.jpg', '/content/classifcation/Garbage classification/metal/metal133.jpg', '/content/classifcation/Garbage classification/metal/metal121.jpg', '/content/classifcation/Garbage classification/metal/metal273.jpg', '/content/classifcation/Garbage classification/metal/metal211.jpg', '/content/classifcation/Garbage classification/metal/metal350.jpg', '/content/classifcation/Garbage classification/metal/metal375.jpg', '/content/classifcation/Garbage classification/metal/metal361.jpg', '/content/classifcation/Garbage classification/metal/metal309.jpg', '/content/classifcation/Garbage classification/metal/metal94.jpg', '/content/classifcation/Garbage classification/metal/metal298.jpg', '/content/classifcation/Garbage classification/metal/metal401.jpg', '/content/classifcation/Garbage classification/metal/metal255.jpg', '/content/classifcation/Garbage classification/metal/metal174.jpg', '/content/classifcation/Garbage classification/metal/metal176.jpg', '/content/classifcation/Garbage classification/metal/metal8.jpg', '/content/classifcation/Garbage classification/metal/metal393.jpg', '/content/classifcation/Garbage classification/metal/metal284.jpg', '/content/classifcation/Garbage classification/metal/metal145.jpg', '/content/classifcation/Garbage classification/metal/metal265.jpg', '/content/classifcation/Garbage classification/metal/metal370.jpg', '/content/classifcation/Garbage classification/metal/metal20.jpg', '/content/classifcation/Garbage classification/metal/metal363.jpg', '/content/classifcation/Garbage classification/metal/metal99.jpg', '/content/classifcation/Garbage classification/metal/metal90.jpg', '/content/classifcation/Garbage classification/metal/metal247.jpg', '/content/classifcation/Garbage classification/metal/metal224.jpg', '/content/classifcation/Garbage classification/metal/metal11.jpg', '/content/classifcation/Garbage classification/metal/metal69.jpg', '/content/classifcation/Garbage classification/metal/metal55.jpg', '/content/classifcation/Garbage classification/metal/metal12.jpg', '/content/classifcation/Garbage classification/metal/metal128.jpg', '/content/classifcation/Garbage classification/metal/metal332.jpg', '/content/classifcation/Garbage classification/metal/metal131.jpg', '/content/classifcation/Garbage classification/metal/metal166.jpg', '/content/classifcation/Garbage classification/metal/metal262.jpg', '/content/classifcation/Garbage classification/metal/metal32.jpg', '/content/classifcation/Garbage classification/metal/metal37.jpg', '/content/classifcation/Garbage classification/metal/metal24.jpg', '/content/classifcation/Garbage classification/metal/metal193.jpg', '/content/classifcation/Garbage classification/metal/metal343.jpg', '/content/classifcation/Garbage classification/metal/metal29.jpg', '/content/classifcation/Garbage classification/metal/metal61.jpg', '/content/classifcation/Garbage classification/metal/metal374.jpg', '/content/classifcation/Garbage classification/metal/metal127.jpg', '/content/classifcation/Garbage classification/metal/metal34.jpg', '/content/classifcation/Garbage classification/metal/metal372.jpg', '/content/classifcation/Garbage classification/metal/metal219.jpg', '/content/classifcation/Garbage classification/metal/metal253.jpg', '/content/classifcation/Garbage classification/metal/metal199.jpg', '/content/classifcation/Garbage classification/metal/metal89.jpg', '/content/classifcation/Garbage classification/metal/metal349.jpg', '/content/classifcation/Garbage classification/metal/metal358.jpg', '/content/classifcation/Garbage classification/metal/metal306.jpg', '/content/classifcation/Garbage classification/metal/metal146.jpg', '/content/classifcation/Garbage classification/metal/metal250.jpg', '/content/classifcation/Garbage classification/metal/metal405.jpg', '/content/classifcation/Garbage classification/metal/metal74.jpg', '/content/classifcation/Garbage classification/metal/metal327.jpg', '/content/classifcation/Garbage classification/metal/metal212.jpg', '/content/classifcation/Garbage classification/metal/metal326.jpg', '/content/classifcation/Garbage classification/metal/metal333.jpg', '/content/classifcation/Garbage classification/metal/metal105.jpg', '/content/classifcation/Garbage classification/metal/metal244.jpg', '/content/classifcation/Garbage classification/metal/metal317.jpg', '/content/classifcation/Garbage classification/metal/metal119.jpg', '/content/classifcation/Garbage classification/metal/metal58.jpg', '/content/classifcation/Garbage classification/metal/metal292.jpg', '/content/classifcation/Garbage classification/metal/metal113.jpg', '/content/classifcation/Garbage classification/metal/metal96.jpg', '/content/classifcation/Garbage classification/metal/metal341.jpg', '/content/classifcation/Garbage classification/metal/metal134.jpg', '/content/classifcation/Garbage classification/metal/metal351.jpg', '/content/classifcation/Garbage classification/metal/metal331.jpg', '/content/classifcation/Garbage classification/metal/metal17.jpg', '/content/classifcation/Garbage classification/metal/metal368.jpg', '/content/classifcation/Garbage classification/metal/metal230.jpg', '/content/classifcation/Garbage classification/metal/metal195.jpg', '/content/classifcation/Garbage classification/metal/metal395.jpg', '/content/classifcation/Garbage classification/metal/metal397.jpg', '/content/classifcation/Garbage classification/metal/metal277.jpg', '/content/classifcation/Garbage classification/metal/metal384.jpg', '/content/classifcation/Garbage classification/metal/metal242.jpg', '/content/classifcation/Garbage classification/metal/metal41.jpg', '/content/classifcation/Garbage classification/metal/metal215.jpg', '/content/classifcation/Garbage classification/metal/metal60.jpg', '/content/classifcation/Garbage classification/metal/metal150.jpg', '/content/classifcation/Garbage classification/metal/metal132.jpg', '/content/classifcation/Garbage classification/metal/metal220.jpg', '/content/classifcation/Garbage classification/metal/metal182.jpg', '/content/classifcation/Garbage classification/metal/metal210.jpg', '/content/classifcation/Garbage classification/metal/metal307.jpg', '/content/classifcation/Garbage classification/metal/metal365.jpg', '/content/classifcation/Garbage classification/metal/metal378.jpg', '/content/classifcation/Garbage classification/metal/metal329.jpg', '/content/classifcation/Garbage classification/metal/metal296.jpg', '/content/classifcation/Garbage classification/metal/metal79.jpg', '/content/classifcation/Garbage classification/metal/metal238.jpg', '/content/classifcation/Garbage classification/metal/metal198.jpg', '/content/classifcation/Garbage classification/metal/metal318.jpg', '/content/classifcation/Garbage classification/metal/metal82.jpg', '/content/classifcation/Garbage classification/metal/metal295.jpg', '/content/classifcation/Garbage classification/metal/metal92.jpg', '/content/classifcation/Garbage classification/metal/metal159.jpg', '/content/classifcation/Garbage classification/metal/metal345.jpg', '/content/classifcation/Garbage classification/metal/metal303.jpg', '/content/classifcation/Garbage classification/metal/metal209.jpg', '/content/classifcation/Garbage classification/metal/metal43.jpg', '/content/classifcation/Garbage classification/metal/metal98.jpg', '/content/classifcation/Garbage classification/metal/metal123.jpg', '/content/classifcation/Garbage classification/metal/metal243.jpg', '/content/classifcation/Garbage classification/metal/metal279.jpg', '/content/classifcation/Garbage classification/metal/metal245.jpg', '/content/classifcation/Garbage classification/metal/metal180.jpg', '/content/classifcation/Garbage classification/metal/metal305.jpg', '/content/classifcation/Garbage classification/metal/metal91.jpg', '/content/classifcation/Garbage classification/metal/metal314.jpg', '/content/classifcation/Garbage classification/metal/metal155.jpg', '/content/classifcation/Garbage classification/metal/metal100.jpg', '/content/classifcation/Garbage classification/metal/metal222.jpg', '/content/classifcation/Garbage classification/metal/metal21.jpg', '/content/classifcation/Garbage classification/metal/metal38.jpg', '/content/classifcation/Garbage classification/metal/metal386.jpg', '/content/classifcation/Garbage classification/metal/metal84.jpg', '/content/classifcation/Garbage classification/metal/metal188.jpg', '/content/classifcation/Garbage classification/metal/metal190.jpg', '/content/classifcation/Garbage classification/metal/metal185.jpg', '/content/classifcation/Garbage classification/metal/metal14.jpg', '/content/classifcation/Garbage classification/metal/metal403.jpg', '/content/classifcation/Garbage classification/metal/metal203.jpg', '/content/classifcation/Garbage classification/metal/metal404.jpg', '/content/classifcation/Garbage classification/metal/metal56.jpg', '/content/classifcation/Garbage classification/metal/metal225.jpg', '/content/classifcation/Garbage classification/metal/metal373.jpg', '/content/classifcation/Garbage classification/metal/metal223.jpg', '/content/classifcation/Garbage classification/metal/metal272.jpg', '/content/classifcation/Garbage classification/metal/metal173.jpg', '/content/classifcation/Garbage classification/metal/metal380.jpg', '/content/classifcation/Garbage classification/metal/metal366.jpg', '/content/classifcation/Garbage classification/metal/metal290.jpg', '/content/classifcation/Garbage classification/metal/metal398.jpg', '/content/classifcation/Garbage classification/metal/metal299.jpg', '/content/classifcation/Garbage classification/metal/metal315.jpg', '/content/classifcation/Garbage classification/metal/metal275.jpg', '/content/classifcation/Garbage classification/metal/metal310.jpg', '/content/classifcation/Garbage classification/metal/metal67.jpg', '/content/classifcation/Garbage classification/metal/metal216.jpg', '/content/classifcation/Garbage classification/metal/metal46.jpg', '/content/classifcation/Garbage classification/metal/metal270.jpg', '/content/classifcation/Garbage classification/metal/metal235.jpg', '/content/classifcation/Garbage classification/metal/metal407.jpg', '/content/classifcation/Garbage classification/metal/metal130.jpg', '/content/classifcation/Garbage classification/metal/metal226.jpg', '/content/classifcation/Garbage classification/metal/metal263.jpg', '/content/classifcation/Garbage classification/metal/metal246.jpg', '/content/classifcation/Garbage classification/metal/metal39.jpg', '/content/classifcation/Garbage classification/metal/metal221.jpg', '/content/classifcation/Garbage classification/metal/metal259.jpg', '/content/classifcation/Garbage classification/metal/metal353.jpg', '/content/classifcation/Garbage classification/metal/metal377.jpg', '/content/classifcation/Garbage classification/metal/metal30.jpg', '/content/classifcation/Garbage classification/metal/metal201.jpg', '/content/classifcation/Garbage classification/metal/metal45.jpg', '/content/classifcation/Garbage classification/metal/metal141.jpg', '/content/classifcation/Garbage classification/metal/metal77.jpg', '/content/classifcation/Garbage classification/metal/metal115.jpg', '/content/classifcation/Garbage classification/metal/metal297.jpg', '/content/classifcation/Garbage classification/metal/metal2.jpg', '/content/classifcation/Garbage classification/metal/metal293.jpg', '/content/classifcation/Garbage classification/metal/metal346.jpg', '/content/classifcation/Garbage classification/metal/metal357.jpg', '/content/classifcation/Garbage classification/metal/metal47.jpg', '/content/classifcation/Garbage classification/metal/metal385.jpg', '/content/classifcation/Garbage classification/metal/metal335.jpg', '/content/classifcation/Garbage classification/metal/metal206.jpg', '/content/classifcation/Garbage classification/metal/metal112.jpg', '/content/classifcation/Garbage classification/metal/metal97.jpg', '/content/classifcation/Garbage classification/metal/metal137.jpg', '/content/classifcation/Garbage classification/metal/metal302.jpg', '/content/classifcation/Garbage classification/metal/metal400.jpg', '/content/classifcation/Garbage classification/metal/metal3.jpg', '/content/classifcation/Garbage classification/metal/metal5.jpg', '/content/classifcation/Garbage classification/metal/metal348.jpg', '/content/classifcation/Garbage classification/metal/metal205.jpg', '/content/classifcation/Garbage classification/metal/metal53.jpg', '/content/classifcation/Garbage classification/metal/metal88.jpg', '/content/classifcation/Garbage classification/metal/metal65.jpg', '/content/classifcation/Garbage classification/metal/metal208.jpg', '/content/classifcation/Garbage classification/metal/metal355.jpg', '/content/classifcation/Garbage classification/metal/metal213.jpg', '/content/classifcation/Garbage classification/metal/metal227.jpg', '/content/classifcation/Garbage classification/metal/metal258.jpg', '/content/classifcation/Garbage classification/metal/metal70.jpg', '/content/classifcation/Garbage classification/metal/metal183.jpg', '/content/classifcation/Garbage classification/metal/metal408.jpg', '/content/classifcation/Garbage classification/metal/metal171.jpg', '/content/classifcation/Garbage classification/metal/metal178.jpg', '/content/classifcation/Garbage classification/metal/metal101.jpg', '/content/classifcation/Garbage classification/metal/metal381.jpg', '/content/classifcation/Garbage classification/metal/metal276.jpg', '/content/classifcation/Garbage classification/metal/metal274.jpg', '/content/classifcation/Garbage classification/metal/metal402.jpg', '/content/classifcation/Garbage classification/metal/metal313.jpg', '/content/classifcation/Garbage classification/metal/metal269.jpg', '/content/classifcation/Garbage classification/metal/metal10.jpg', '/content/classifcation/Garbage classification/metal/metal85.jpg', '/content/classifcation/Garbage classification/metal/metal167.jpg', '/content/classifcation/Garbage classification/metal/metal48.jpg', '/content/classifcation/Garbage classification/metal/metal356.jpg', '/content/classifcation/Garbage classification/metal/metal267.jpg', '/content/classifcation/Garbage classification/metal/metal376.jpg', '/content/classifcation/Garbage classification/metal/metal187.jpg', '/content/classifcation/Garbage classification/metal/metal390.jpg', '/content/classifcation/Garbage classification/metal/metal192.jpg', '/content/classifcation/Garbage classification/metal/metal71.jpg', '/content/classifcation/Garbage classification/metal/metal51.jpg', '/content/classifcation/Garbage classification/metal/metal152.jpg', '/content/classifcation/Garbage classification/metal/metal379.jpg', '/content/classifcation/Garbage classification/metal/metal104.jpg', '/content/classifcation/Garbage classification/metal/metal268.jpg', '/content/classifcation/Garbage classification/metal/metal387.jpg', '/content/classifcation/Garbage classification/metal/metal291.jpg', '/content/classifcation/Garbage classification/metal/metal186.jpg', '/content/classifcation/Garbage classification/metal/metal78.jpg', '/content/classifcation/Garbage classification/metal/metal197.jpg', '/content/classifcation/Garbage classification/metal/metal28.jpg', '/content/classifcation/Garbage classification/metal/metal347.jpg', '/content/classifcation/Garbage classification/metal/metal64.jpg', '/content/classifcation/Garbage classification/metal/metal49.jpg', '/content/classifcation/Garbage classification/metal/metal214.jpg', '/content/classifcation/Garbage classification/metal/metal120.jpg', '/content/classifcation/Garbage classification/metal/metal102.jpg', '/content/classifcation/Garbage classification/metal/metal278.jpg', '/content/classifcation/Garbage classification/metal/metal57.jpg', '/content/classifcation/Garbage classification/metal/metal33.jpg', '/content/classifcation/Garbage classification/metal/metal233.jpg', '/content/classifcation/Garbage classification/metal/metal6.jpg', '/content/classifcation/Garbage classification/metal/metal86.jpg', '/content/classifcation/Garbage classification/metal/metal73.jpg', '/content/classifcation/Garbage classification/metal/metal320.jpg', '/content/classifcation/Garbage classification/metal/metal257.jpg', '/content/classifcation/Garbage classification/metal/metal68.jpg', '/content/classifcation/Garbage classification/metal/metal337.jpg', '/content/classifcation/Garbage classification/metal/metal249.jpg', '/content/classifcation/Garbage classification/metal/metal129.jpg', '/content/classifcation/Garbage classification/metal/metal109.jpg', '/content/classifcation/Garbage classification/metal/metal124.jpg', '/content/classifcation/Garbage classification/metal/metal328.jpg', '/content/classifcation/Garbage classification/metal/metal26.jpg', '/content/classifcation/Garbage classification/metal/metal330.jpg', '/content/classifcation/Garbage classification/metal/metal151.jpg', '/content/classifcation/Garbage classification/metal/metal308.jpg', '/content/classifcation/Garbage classification/metal/metal301.jpg', '/content/classifcation/Garbage classification/metal/metal325.jpg', '/content/classifcation/Garbage classification/metal/metal312.jpg', '/content/classifcation/Garbage classification/metal/metal15.jpg', '/content/classifcation/Garbage classification/metal/metal111.jpg', '/content/classifcation/Garbage classification/metal/metal256.jpg', '/content/classifcation/Garbage classification/metal/metal7.jpg', '/content/classifcation/Garbage classification/metal/metal147.jpg', '/content/classifcation/Garbage classification/metal/metal164.jpg', '/content/classifcation/Garbage classification/metal/metal175.jpg', '/content/classifcation/Garbage classification/metal/metal282.jpg', '/content/classifcation/Garbage classification/metal/metal157.jpg', '/content/classifcation/Garbage classification/metal/metal285.jpg', '/content/classifcation/Garbage classification/metal/metal240.jpg', '/content/classifcation/Garbage classification/metal/metal139.jpg', '/content/classifcation/Garbage classification/metal/metal4.jpg', '/content/classifcation/Garbage classification/metal/metal144.jpg', '/content/classifcation/Garbage classification/metal/metal93.jpg', '/content/classifcation/Garbage classification/metal/metal18.jpg', '/content/classifcation/Garbage classification/metal/metal75.jpg', '/content/classifcation/Garbage classification/metal/metal63.jpg', '/content/classifcation/Garbage classification/metal/metal319.jpg', '/content/classifcation/Garbage classification/metal/metal359.jpg', '/content/classifcation/Garbage classification/metal/metal27.jpg', '/content/classifcation/Garbage classification/metal/metal304.jpg', '/content/classifcation/Garbage classification/metal/metal140.jpg', '/content/classifcation/Garbage classification/metal/metal281.jpg', '/content/classifcation/Garbage classification/metal/metal360.jpg', '/content/classifcation/Garbage classification/metal/metal280.jpg', '/content/classifcation/Garbage classification/metal/metal311.jpg', '/content/classifcation/Garbage classification/metal/metal103.jpg', '/content/classifcation/Garbage classification/metal/metal371.jpg', '/content/classifcation/Garbage classification/metal/metal266.jpg', '/content/classifcation/Garbage classification/metal/metal217.jpg', '/content/classifcation/Garbage classification/metal/metal389.jpg', '/content/classifcation/Garbage classification/metal/metal142.jpg', '/content/classifcation/Garbage classification/metal/metal44.jpg', '/content/classifcation/Garbage classification/metal/metal399.jpg', '/content/classifcation/Garbage classification/metal/metal59.jpg', '/content/classifcation/Garbage classification/metal/metal202.jpg', '/content/classifcation/Garbage classification/metal/metal179.jpg', '/content/classifcation/Garbage classification/metal/metal194.jpg', '/content/classifcation/Garbage classification/metal/metal288.jpg', '/content/classifcation/Garbage classification/metal/metal163.jpg', '/content/classifcation/Garbage classification/metal/metal264.jpg', '/content/classifcation/Garbage classification/metal/metal52.jpg', '/content/classifcation/Garbage classification/metal/metal323.jpg', '/content/classifcation/Garbage classification/metal/metal72.jpg', '/content/classifcation/Garbage classification/metal/metal148.jpg', '/content/classifcation/Garbage classification/metal/metal271.jpg', '/content/classifcation/Garbage classification/metal/metal316.jpg', '/content/classifcation/Garbage classification/metal/metal160.jpg', '/content/classifcation/Garbage classification/metal/metal196.jpg', '/content/classifcation/Garbage classification/metal/metal406.jpg', '/content/classifcation/Garbage classification/metal/metal125.jpg', '/content/classifcation/Garbage classification/metal/metal95.jpg', '/content/classifcation/Garbage classification/metal/metal334.jpg', '/content/classifcation/Garbage classification/metal/metal118.jpg', '/content/classifcation/Garbage classification/metal/metal168.jpg', '/content/classifcation/Garbage classification/metal/metal294.jpg', '/content/classifcation/Garbage classification/metal/metal170.jpg']\n",
            "['/content/classifcation/Garbage classification/glass/glass279.jpg', '/content/classifcation/Garbage classification/glass/glass370.jpg', '/content/classifcation/Garbage classification/glass/glass11.jpg', '/content/classifcation/Garbage classification/glass/glass281.jpg', '/content/classifcation/Garbage classification/glass/glass180.jpg', '/content/classifcation/Garbage classification/glass/glass456.jpg', '/content/classifcation/Garbage classification/glass/glass496.jpg', '/content/classifcation/Garbage classification/glass/glass216.jpg', '/content/classifcation/Garbage classification/glass/glass434.jpg', '/content/classifcation/Garbage classification/glass/glass187.jpg', '/content/classifcation/Garbage classification/glass/glass68.jpg', '/content/classifcation/Garbage classification/glass/glass310.jpg', '/content/classifcation/Garbage classification/glass/glass394.jpg', '/content/classifcation/Garbage classification/glass/glass444.jpg', '/content/classifcation/Garbage classification/glass/glass37.jpg', '/content/classifcation/Garbage classification/glass/glass389.jpg', '/content/classifcation/Garbage classification/glass/glass404.jpg', '/content/classifcation/Garbage classification/glass/glass201.jpg', '/content/classifcation/Garbage classification/glass/glass23.jpg', '/content/classifcation/Garbage classification/glass/glass354.jpg', '/content/classifcation/Garbage classification/glass/glass136.jpg', '/content/classifcation/Garbage classification/glass/glass18.jpg', '/content/classifcation/Garbage classification/glass/glass318.jpg', '/content/classifcation/Garbage classification/glass/glass212.jpg', '/content/classifcation/Garbage classification/glass/glass190.jpg', '/content/classifcation/Garbage classification/glass/glass399.jpg', '/content/classifcation/Garbage classification/glass/glass205.jpg', '/content/classifcation/Garbage classification/glass/glass223.jpg', '/content/classifcation/Garbage classification/glass/glass466.jpg', '/content/classifcation/Garbage classification/glass/glass257.jpg', '/content/classifcation/Garbage classification/glass/glass408.jpg', '/content/classifcation/Garbage classification/glass/glass232.jpg', '/content/classifcation/Garbage classification/glass/glass149.jpg', '/content/classifcation/Garbage classification/glass/glass93.jpg', '/content/classifcation/Garbage classification/glass/glass240.jpg', '/content/classifcation/Garbage classification/glass/glass364.jpg', '/content/classifcation/Garbage classification/glass/glass94.jpg', '/content/classifcation/Garbage classification/glass/glass359.jpg', '/content/classifcation/Garbage classification/glass/glass117.jpg', '/content/classifcation/Garbage classification/glass/glass147.jpg', '/content/classifcation/Garbage classification/glass/glass289.jpg', '/content/classifcation/Garbage classification/glass/glass151.jpg', '/content/classifcation/Garbage classification/glass/glass166.jpg', '/content/classifcation/Garbage classification/glass/glass213.jpg', '/content/classifcation/Garbage classification/glass/glass74.jpg', '/content/classifcation/Garbage classification/glass/glass487.jpg', '/content/classifcation/Garbage classification/glass/glass143.jpg', '/content/classifcation/Garbage classification/glass/glass208.jpg', '/content/classifcation/Garbage classification/glass/glass270.jpg', '/content/classifcation/Garbage classification/glass/glass175.jpg', '/content/classifcation/Garbage classification/glass/glass329.jpg', '/content/classifcation/Garbage classification/glass/glass28.jpg', '/content/classifcation/Garbage classification/glass/glass85.jpg', '/content/classifcation/Garbage classification/glass/glass263.jpg', '/content/classifcation/Garbage classification/glass/glass96.jpg', '/content/classifcation/Garbage classification/glass/glass377.jpg', '/content/classifcation/Garbage classification/glass/glass495.jpg', '/content/classifcation/Garbage classification/glass/glass234.jpg', '/content/classifcation/Garbage classification/glass/glass78.jpg', '/content/classifcation/Garbage classification/glass/glass401.jpg', '/content/classifcation/Garbage classification/glass/glass73.jpg', '/content/classifcation/Garbage classification/glass/glass388.jpg', '/content/classifcation/Garbage classification/glass/glass207.jpg', '/content/classifcation/Garbage classification/glass/glass131.jpg', '/content/classifcation/Garbage classification/glass/glass392.jpg', '/content/classifcation/Garbage classification/glass/glass494.jpg', '/content/classifcation/Garbage classification/glass/glass47.jpg', '/content/classifcation/Garbage classification/glass/glass154.jpg', '/content/classifcation/Garbage classification/glass/glass102.jpg', '/content/classifcation/Garbage classification/glass/glass340.jpg', '/content/classifcation/Garbage classification/glass/glass379.jpg', '/content/classifcation/Garbage classification/glass/glass426.jpg', '/content/classifcation/Garbage classification/glass/glass16.jpg', '/content/classifcation/Garbage classification/glass/glass49.jpg', '/content/classifcation/Garbage classification/glass/glass319.jpg', '/content/classifcation/Garbage classification/glass/glass225.jpg', '/content/classifcation/Garbage classification/glass/glass92.jpg', '/content/classifcation/Garbage classification/glass/glass295.jpg', '/content/classifcation/Garbage classification/glass/glass397.jpg', '/content/classifcation/Garbage classification/glass/glass425.jpg', '/content/classifcation/Garbage classification/glass/glass429.jpg', '/content/classifcation/Garbage classification/glass/glass32.jpg', '/content/classifcation/Garbage classification/glass/glass87.jpg', '/content/classifcation/Garbage classification/glass/glass386.jpg', '/content/classifcation/Garbage classification/glass/glass250.jpg', '/content/classifcation/Garbage classification/glass/glass287.jpg', '/content/classifcation/Garbage classification/glass/glass253.jpg', '/content/classifcation/Garbage classification/glass/glass17.jpg', '/content/classifcation/Garbage classification/glass/glass42.jpg', '/content/classifcation/Garbage classification/glass/glass366.jpg', '/content/classifcation/Garbage classification/glass/glass355.jpg', '/content/classifcation/Garbage classification/glass/glass76.jpg', '/content/classifcation/Garbage classification/glass/glass153.jpg', '/content/classifcation/Garbage classification/glass/glass124.jpg', '/content/classifcation/Garbage classification/glass/glass436.jpg', '/content/classifcation/Garbage classification/glass/glass128.jpg', '/content/classifcation/Garbage classification/glass/glass339.jpg', '/content/classifcation/Garbage classification/glass/glass326.jpg', '/content/classifcation/Garbage classification/glass/glass303.jpg', '/content/classifcation/Garbage classification/glass/glass246.jpg', '/content/classifcation/Garbage classification/glass/glass219.jpg', '/content/classifcation/Garbage classification/glass/glass442.jpg', '/content/classifcation/Garbage classification/glass/glass413.jpg', '/content/classifcation/Garbage classification/glass/glass10.jpg', '/content/classifcation/Garbage classification/glass/glass304.jpg', '/content/classifcation/Garbage classification/glass/glass315.jpg', '/content/classifcation/Garbage classification/glass/glass231.jpg', '/content/classifcation/Garbage classification/glass/glass483.jpg', '/content/classifcation/Garbage classification/glass/glass256.jpg', '/content/classifcation/Garbage classification/glass/glass261.jpg', '/content/classifcation/Garbage classification/glass/glass145.jpg', '/content/classifcation/Garbage classification/glass/glass306.jpg', '/content/classifcation/Garbage classification/glass/glass83.jpg', '/content/classifcation/Garbage classification/glass/glass123.jpg', '/content/classifcation/Garbage classification/glass/glass200.jpg', '/content/classifcation/Garbage classification/glass/glass333.jpg', '/content/classifcation/Garbage classification/glass/glass445.jpg', '/content/classifcation/Garbage classification/glass/glass348.jpg', '/content/classifcation/Garbage classification/glass/glass381.jpg', '/content/classifcation/Garbage classification/glass/glass288.jpg', '/content/classifcation/Garbage classification/glass/glass439.jpg', '/content/classifcation/Garbage classification/glass/glass446.jpg', '/content/classifcation/Garbage classification/glass/glass229.jpg', '/content/classifcation/Garbage classification/glass/glass330.jpg', '/content/classifcation/Garbage classification/glass/glass491.jpg', '/content/classifcation/Garbage classification/glass/glass152.jpg', '/content/classifcation/Garbage classification/glass/glass384.jpg', '/content/classifcation/Garbage classification/glass/glass107.jpg', '/content/classifcation/Garbage classification/glass/glass286.jpg', '/content/classifcation/Garbage classification/glass/glass103.jpg', '/content/classifcation/Garbage classification/glass/glass452.jpg', '/content/classifcation/Garbage classification/glass/glass489.jpg', '/content/classifcation/Garbage classification/glass/glass35.jpg', '/content/classifcation/Garbage classification/glass/glass338.jpg', '/content/classifcation/Garbage classification/glass/glass424.jpg', '/content/classifcation/Garbage classification/glass/glass290.jpg', '/content/classifcation/Garbage classification/glass/glass284.jpg', '/content/classifcation/Garbage classification/glass/glass99.jpg', '/content/classifcation/Garbage classification/glass/glass269.jpg', '/content/classifcation/Garbage classification/glass/glass391.jpg', '/content/classifcation/Garbage classification/glass/glass314.jpg', '/content/classifcation/Garbage classification/glass/glass475.jpg', '/content/classifcation/Garbage classification/glass/glass188.jpg', '/content/classifcation/Garbage classification/glass/glass276.jpg', '/content/classifcation/Garbage classification/glass/glass77.jpg', '/content/classifcation/Garbage classification/glass/glass56.jpg', '/content/classifcation/Garbage classification/glass/glass98.jpg', '/content/classifcation/Garbage classification/glass/glass375.jpg', '/content/classifcation/Garbage classification/glass/glass430.jpg', '/content/classifcation/Garbage classification/glass/glass398.jpg', '/content/classifcation/Garbage classification/glass/glass44.jpg', '/content/classifcation/Garbage classification/glass/glass275.jpg', '/content/classifcation/Garbage classification/glass/glass414.jpg', '/content/classifcation/Garbage classification/glass/glass192.jpg', '/content/classifcation/Garbage classification/glass/glass360.jpg', '/content/classifcation/Garbage classification/glass/glass476.jpg', '/content/classifcation/Garbage classification/glass/glass410.jpg', '/content/classifcation/Garbage classification/glass/glass69.jpg', '/content/classifcation/Garbage classification/glass/glass230.jpg', '/content/classifcation/Garbage classification/glass/glass36.jpg', '/content/classifcation/Garbage classification/glass/glass323.jpg', '/content/classifcation/Garbage classification/glass/glass51.jpg', '/content/classifcation/Garbage classification/glass/glass285.jpg', '/content/classifcation/Garbage classification/glass/glass179.jpg', '/content/classifcation/Garbage classification/glass/glass266.jpg', '/content/classifcation/Garbage classification/glass/glass172.jpg', '/content/classifcation/Garbage classification/glass/glass40.jpg', '/content/classifcation/Garbage classification/glass/glass194.jpg', '/content/classifcation/Garbage classification/glass/glass423.jpg', '/content/classifcation/Garbage classification/glass/glass86.jpg', '/content/classifcation/Garbage classification/glass/glass242.jpg', '/content/classifcation/Garbage classification/glass/glass12.jpg', '/content/classifcation/Garbage classification/glass/glass178.jpg', '/content/classifcation/Garbage classification/glass/glass293.jpg', '/content/classifcation/Garbage classification/glass/glass376.jpg', '/content/classifcation/Garbage classification/glass/glass29.jpg', '/content/classifcation/Garbage classification/glass/glass199.jpg', '/content/classifcation/Garbage classification/glass/glass331.jpg', '/content/classifcation/Garbage classification/glass/glass493.jpg', '/content/classifcation/Garbage classification/glass/glass203.jpg', '/content/classifcation/Garbage classification/glass/glass116.jpg', '/content/classifcation/Garbage classification/glass/glass112.jpg', '/content/classifcation/Garbage classification/glass/glass273.jpg', '/content/classifcation/Garbage classification/glass/glass75.jpg', '/content/classifcation/Garbage classification/glass/glass427.jpg', '/content/classifcation/Garbage classification/glass/glass196.jpg', '/content/classifcation/Garbage classification/glass/glass4.jpg', '/content/classifcation/Garbage classification/glass/glass106.jpg', '/content/classifcation/Garbage classification/glass/glass500.jpg', '/content/classifcation/Garbage classification/glass/glass337.jpg', '/content/classifcation/Garbage classification/glass/glass262.jpg', '/content/classifcation/Garbage classification/glass/glass100.jpg', '/content/classifcation/Garbage classification/glass/glass181.jpg', '/content/classifcation/Garbage classification/glass/glass24.jpg', '/content/classifcation/Garbage classification/glass/glass164.jpg', '/content/classifcation/Garbage classification/glass/glass280.jpg', '/content/classifcation/Garbage classification/glass/glass160.jpg', '/content/classifcation/Garbage classification/glass/glass403.jpg', '/content/classifcation/Garbage classification/glass/glass300.jpg', '/content/classifcation/Garbage classification/glass/glass80.jpg', '/content/classifcation/Garbage classification/glass/glass312.jpg', '/content/classifcation/Garbage classification/glass/glass485.jpg', '/content/classifcation/Garbage classification/glass/glass380.jpg', '/content/classifcation/Garbage classification/glass/glass129.jpg', '/content/classifcation/Garbage classification/glass/glass346.jpg', '/content/classifcation/Garbage classification/glass/glass365.jpg', '/content/classifcation/Garbage classification/glass/glass155.jpg', '/content/classifcation/Garbage classification/glass/glass484.jpg', '/content/classifcation/Garbage classification/glass/glass320.jpg', '/content/classifcation/Garbage classification/glass/glass499.jpg', '/content/classifcation/Garbage classification/glass/glass59.jpg', '/content/classifcation/Garbage classification/glass/glass115.jpg', '/content/classifcation/Garbage classification/glass/glass268.jpg', '/content/classifcation/Garbage classification/glass/glass209.jpg', '/content/classifcation/Garbage classification/glass/glass248.jpg', '/content/classifcation/Garbage classification/glass/glass239.jpg', '/content/classifcation/Garbage classification/glass/glass133.jpg', '/content/classifcation/Garbage classification/glass/glass177.jpg', '/content/classifcation/Garbage classification/glass/glass341.jpg', '/content/classifcation/Garbage classification/glass/glass418.jpg', '/content/classifcation/Garbage classification/glass/glass169.jpg', '/content/classifcation/Garbage classification/glass/glass411.jpg', '/content/classifcation/Garbage classification/glass/glass278.jpg', '/content/classifcation/Garbage classification/glass/glass395.jpg', '/content/classifcation/Garbage classification/glass/glass294.jpg', '/content/classifcation/Garbage classification/glass/glass105.jpg', '/content/classifcation/Garbage classification/glass/glass373.jpg', '/content/classifcation/Garbage classification/glass/glass141.jpg', '/content/classifcation/Garbage classification/glass/glass473.jpg', '/content/classifcation/Garbage classification/glass/glass82.jpg', '/content/classifcation/Garbage classification/glass/glass14.jpg', '/content/classifcation/Garbage classification/glass/glass362.jpg', '/content/classifcation/Garbage classification/glass/glass406.jpg', '/content/classifcation/Garbage classification/glass/glass464.jpg', '/content/classifcation/Garbage classification/glass/glass189.jpg', '/content/classifcation/Garbage classification/glass/glass184.jpg', '/content/classifcation/Garbage classification/glass/glass402.jpg', '/content/classifcation/Garbage classification/glass/glass274.jpg', '/content/classifcation/Garbage classification/glass/glass101.jpg', '/content/classifcation/Garbage classification/glass/glass271.jpg', '/content/classifcation/Garbage classification/glass/glass283.jpg', '/content/classifcation/Garbage classification/glass/glass109.jpg', '/content/classifcation/Garbage classification/glass/glass57.jpg', '/content/classifcation/Garbage classification/glass/glass265.jpg', '/content/classifcation/Garbage classification/glass/glass417.jpg', '/content/classifcation/Garbage classification/glass/glass130.jpg', '/content/classifcation/Garbage classification/glass/glass336.jpg', '/content/classifcation/Garbage classification/glass/glass79.jpg', '/content/classifcation/Garbage classification/glass/glass245.jpg', '/content/classifcation/Garbage classification/glass/glass458.jpg', '/content/classifcation/Garbage classification/glass/glass343.jpg', '/content/classifcation/Garbage classification/glass/glass357.jpg', '/content/classifcation/Garbage classification/glass/glass233.jpg', '/content/classifcation/Garbage classification/glass/glass264.jpg', '/content/classifcation/Garbage classification/glass/glass70.jpg', '/content/classifcation/Garbage classification/glass/glass173.jpg', '/content/classifcation/Garbage classification/glass/glass111.jpg', '/content/classifcation/Garbage classification/glass/glass469.jpg', '/content/classifcation/Garbage classification/glass/glass454.jpg', '/content/classifcation/Garbage classification/glass/glass420.jpg', '/content/classifcation/Garbage classification/glass/glass235.jpg', '/content/classifcation/Garbage classification/glass/glass202.jpg', '/content/classifcation/Garbage classification/glass/glass54.jpg', '/content/classifcation/Garbage classification/glass/glass158.jpg', '/content/classifcation/Garbage classification/glass/glass104.jpg', '/content/classifcation/Garbage classification/glass/glass272.jpg', '/content/classifcation/Garbage classification/glass/glass67.jpg', '/content/classifcation/Garbage classification/glass/glass325.jpg', '/content/classifcation/Garbage classification/glass/glass479.jpg', '/content/classifcation/Garbage classification/glass/glass431.jpg', '/content/classifcation/Garbage classification/glass/glass62.jpg', '/content/classifcation/Garbage classification/glass/glass409.jpg', '/content/classifcation/Garbage classification/glass/glass53.jpg', '/content/classifcation/Garbage classification/glass/glass490.jpg', '/content/classifcation/Garbage classification/glass/glass249.jpg', '/content/classifcation/Garbage classification/glass/glass453.jpg', '/content/classifcation/Garbage classification/glass/glass13.jpg', '/content/classifcation/Garbage classification/glass/glass254.jpg', '/content/classifcation/Garbage classification/glass/glass132.jpg', '/content/classifcation/Garbage classification/glass/glass351.jpg', '/content/classifcation/Garbage classification/glass/glass437.jpg', '/content/classifcation/Garbage classification/glass/glass405.jpg', '/content/classifcation/Garbage classification/glass/glass21.jpg', '/content/classifcation/Garbage classification/glass/glass467.jpg', '/content/classifcation/Garbage classification/glass/glass146.jpg', '/content/classifcation/Garbage classification/glass/glass157.jpg', '/content/classifcation/Garbage classification/glass/glass50.jpg', '/content/classifcation/Garbage classification/glass/glass45.jpg', '/content/classifcation/Garbage classification/glass/glass114.jpg', '/content/classifcation/Garbage classification/glass/glass33.jpg', '/content/classifcation/Garbage classification/glass/glass321.jpg', '/content/classifcation/Garbage classification/glass/glass463.jpg', '/content/classifcation/Garbage classification/glass/glass488.jpg', '/content/classifcation/Garbage classification/glass/glass185.jpg', '/content/classifcation/Garbage classification/glass/glass457.jpg', '/content/classifcation/Garbage classification/glass/glass342.jpg', '/content/classifcation/Garbage classification/glass/glass492.jpg', '/content/classifcation/Garbage classification/glass/glass159.jpg', '/content/classifcation/Garbage classification/glass/glass27.jpg', '/content/classifcation/Garbage classification/glass/glass71.jpg', '/content/classifcation/Garbage classification/glass/glass26.jpg', '/content/classifcation/Garbage classification/glass/glass470.jpg', '/content/classifcation/Garbage classification/glass/glass335.jpg', '/content/classifcation/Garbage classification/glass/glass387.jpg', '/content/classifcation/Garbage classification/glass/glass221.jpg', '/content/classifcation/Garbage classification/glass/glass482.jpg', '/content/classifcation/Garbage classification/glass/glass193.jpg', '/content/classifcation/Garbage classification/glass/glass226.jpg', '/content/classifcation/Garbage classification/glass/glass167.jpg', '/content/classifcation/Garbage classification/glass/glass227.jpg', '/content/classifcation/Garbage classification/glass/glass451.jpg', '/content/classifcation/Garbage classification/glass/glass191.jpg', '/content/classifcation/Garbage classification/glass/glass60.jpg', '/content/classifcation/Garbage classification/glass/glass472.jpg', '/content/classifcation/Garbage classification/glass/glass168.jpg', '/content/classifcation/Garbage classification/glass/glass371.jpg', '/content/classifcation/Garbage classification/glass/glass459.jpg', '/content/classifcation/Garbage classification/glass/glass186.jpg', '/content/classifcation/Garbage classification/glass/glass15.jpg', '/content/classifcation/Garbage classification/glass/glass150.jpg', '/content/classifcation/Garbage classification/glass/glass31.jpg', '/content/classifcation/Garbage classification/glass/glass385.jpg', '/content/classifcation/Garbage classification/glass/glass353.jpg', '/content/classifcation/Garbage classification/glass/glass108.jpg', '/content/classifcation/Garbage classification/glass/glass125.jpg', '/content/classifcation/Garbage classification/glass/glass449.jpg', '/content/classifcation/Garbage classification/glass/glass20.jpg', '/content/classifcation/Garbage classification/glass/glass308.jpg', '/content/classifcation/Garbage classification/glass/glass127.jpg', '/content/classifcation/Garbage classification/glass/glass89.jpg', '/content/classifcation/Garbage classification/glass/glass382.jpg', '/content/classifcation/Garbage classification/glass/glass63.jpg', '/content/classifcation/Garbage classification/glass/glass91.jpg', '/content/classifcation/Garbage classification/glass/glass66.jpg', '/content/classifcation/Garbage classification/glass/glass461.jpg', '/content/classifcation/Garbage classification/glass/glass460.jpg', '/content/classifcation/Garbage classification/glass/glass228.jpg', '/content/classifcation/Garbage classification/glass/glass252.jpg', '/content/classifcation/Garbage classification/glass/glass415.jpg', '/content/classifcation/Garbage classification/glass/glass367.jpg', '/content/classifcation/Garbage classification/glass/glass144.jpg', '/content/classifcation/Garbage classification/glass/glass383.jpg', '/content/classifcation/Garbage classification/glass/glass22.jpg', '/content/classifcation/Garbage classification/glass/glass183.jpg', '/content/classifcation/Garbage classification/glass/glass313.jpg', '/content/classifcation/Garbage classification/glass/glass292.jpg', '/content/classifcation/Garbage classification/glass/glass440.jpg', '/content/classifcation/Garbage classification/glass/glass447.jpg', '/content/classifcation/Garbage classification/glass/glass30.jpg', '/content/classifcation/Garbage classification/glass/glass25.jpg', '/content/classifcation/Garbage classification/glass/glass311.jpg', '/content/classifcation/Garbage classification/glass/glass237.jpg', '/content/classifcation/Garbage classification/glass/glass135.jpg', '/content/classifcation/Garbage classification/glass/glass298.jpg', '/content/classifcation/Garbage classification/glass/glass182.jpg', '/content/classifcation/Garbage classification/glass/glass345.jpg', '/content/classifcation/Garbage classification/glass/glass121.jpg', '/content/classifcation/Garbage classification/glass/glass163.jpg', '/content/classifcation/Garbage classification/glass/glass441.jpg', '/content/classifcation/Garbage classification/glass/glass142.jpg', '/content/classifcation/Garbage classification/glass/glass243.jpg', '/content/classifcation/Garbage classification/glass/glass64.jpg', '/content/classifcation/Garbage classification/glass/glass478.jpg', '/content/classifcation/Garbage classification/glass/glass259.jpg', '/content/classifcation/Garbage classification/glass/glass244.jpg', '/content/classifcation/Garbage classification/glass/glass34.jpg', '/content/classifcation/Garbage classification/glass/glass1.jpg', '/content/classifcation/Garbage classification/glass/glass448.jpg', '/content/classifcation/Garbage classification/glass/glass90.jpg', '/content/classifcation/Garbage classification/glass/glass309.jpg', '/content/classifcation/Garbage classification/glass/glass428.jpg', '/content/classifcation/Garbage classification/glass/glass176.jpg', '/content/classifcation/Garbage classification/glass/glass378.jpg', '/content/classifcation/Garbage classification/glass/glass324.jpg', '/content/classifcation/Garbage classification/glass/glass296.jpg', '/content/classifcation/Garbage classification/glass/glass480.jpg', '/content/classifcation/Garbage classification/glass/glass474.jpg', '/content/classifcation/Garbage classification/glass/glass195.jpg', '/content/classifcation/Garbage classification/glass/glass48.jpg', '/content/classifcation/Garbage classification/glass/glass301.jpg', '/content/classifcation/Garbage classification/glass/glass322.jpg', '/content/classifcation/Garbage classification/glass/glass352.jpg', '/content/classifcation/Garbage classification/glass/glass215.jpg', '/content/classifcation/Garbage classification/glass/glass255.jpg', '/content/classifcation/Garbage classification/glass/glass38.jpg', '/content/classifcation/Garbage classification/glass/glass134.jpg', '/content/classifcation/Garbage classification/glass/glass162.jpg', '/content/classifcation/Garbage classification/glass/glass119.jpg', '/content/classifcation/Garbage classification/glass/glass206.jpg', '/content/classifcation/Garbage classification/glass/glass498.jpg', '/content/classifcation/Garbage classification/glass/glass138.jpg', '/content/classifcation/Garbage classification/glass/glass305.jpg', '/content/classifcation/Garbage classification/glass/glass369.jpg', '/content/classifcation/Garbage classification/glass/glass204.jpg', '/content/classifcation/Garbage classification/glass/glass282.jpg', '/content/classifcation/Garbage classification/glass/glass258.jpg', '/content/classifcation/Garbage classification/glass/glass251.jpg', '/content/classifcation/Garbage classification/glass/glass477.jpg', '/content/classifcation/Garbage classification/glass/glass55.jpg', '/content/classifcation/Garbage classification/glass/glass197.jpg', '/content/classifcation/Garbage classification/glass/glass139.jpg', '/content/classifcation/Garbage classification/glass/glass210.jpg', '/content/classifcation/Garbage classification/glass/glass297.jpg', '/content/classifcation/Garbage classification/glass/glass412.jpg', '/content/classifcation/Garbage classification/glass/glass247.jpg', '/content/classifcation/Garbage classification/glass/glass236.jpg', '/content/classifcation/Garbage classification/glass/glass165.jpg', '/content/classifcation/Garbage classification/glass/glass41.jpg', '/content/classifcation/Garbage classification/glass/glass3.jpg', '/content/classifcation/Garbage classification/glass/glass171.jpg', '/content/classifcation/Garbage classification/glass/glass396.jpg', '/content/classifcation/Garbage classification/glass/glass95.jpg', '/content/classifcation/Garbage classification/glass/glass19.jpg', '/content/classifcation/Garbage classification/glass/glass344.jpg', '/content/classifcation/Garbage classification/glass/glass374.jpg', '/content/classifcation/Garbage classification/glass/glass2.jpg', '/content/classifcation/Garbage classification/glass/glass372.jpg', '/content/classifcation/Garbage classification/glass/glass350.jpg', '/content/classifcation/Garbage classification/glass/glass435.jpg', '/content/classifcation/Garbage classification/glass/glass137.jpg', '/content/classifcation/Garbage classification/glass/glass332.jpg', '/content/classifcation/Garbage classification/glass/glass148.jpg', '/content/classifcation/Garbage classification/glass/glass481.jpg', '/content/classifcation/Garbage classification/glass/glass486.jpg', '/content/classifcation/Garbage classification/glass/glass450.jpg', '/content/classifcation/Garbage classification/glass/glass358.jpg', '/content/classifcation/Garbage classification/glass/glass302.jpg', '/content/classifcation/Garbage classification/glass/glass81.jpg', '/content/classifcation/Garbage classification/glass/glass46.jpg', '/content/classifcation/Garbage classification/glass/glass97.jpg', '/content/classifcation/Garbage classification/glass/glass118.jpg', '/content/classifcation/Garbage classification/glass/glass39.jpg', '/content/classifcation/Garbage classification/glass/glass110.jpg', '/content/classifcation/Garbage classification/glass/glass462.jpg', '/content/classifcation/Garbage classification/glass/glass8.jpg', '/content/classifcation/Garbage classification/glass/glass88.jpg', '/content/classifcation/Garbage classification/glass/glass122.jpg', '/content/classifcation/Garbage classification/glass/glass501.jpg', '/content/classifcation/Garbage classification/glass/glass61.jpg', '/content/classifcation/Garbage classification/glass/glass416.jpg', '/content/classifcation/Garbage classification/glass/glass390.jpg', '/content/classifcation/Garbage classification/glass/glass174.jpg', '/content/classifcation/Garbage classification/glass/glass471.jpg', '/content/classifcation/Garbage classification/glass/glass140.jpg', '/content/classifcation/Garbage classification/glass/glass156.jpg', '/content/classifcation/Garbage classification/glass/glass422.jpg', '/content/classifcation/Garbage classification/glass/glass433.jpg', '/content/classifcation/Garbage classification/glass/glass218.jpg', '/content/classifcation/Garbage classification/glass/glass222.jpg', '/content/classifcation/Garbage classification/glass/glass65.jpg', '/content/classifcation/Garbage classification/glass/glass84.jpg', '/content/classifcation/Garbage classification/glass/glass198.jpg', '/content/classifcation/Garbage classification/glass/glass220.jpg', '/content/classifcation/Garbage classification/glass/glass267.jpg', '/content/classifcation/Garbage classification/glass/glass307.jpg', '/content/classifcation/Garbage classification/glass/glass455.jpg', '/content/classifcation/Garbage classification/glass/glass421.jpg', '/content/classifcation/Garbage classification/glass/glass43.jpg', '/content/classifcation/Garbage classification/glass/glass497.jpg', '/content/classifcation/Garbage classification/glass/glass120.jpg', '/content/classifcation/Garbage classification/glass/glass400.jpg', '/content/classifcation/Garbage classification/glass/glass407.jpg', '/content/classifcation/Garbage classification/glass/glass241.jpg', '/content/classifcation/Garbage classification/glass/glass443.jpg', '/content/classifcation/Garbage classification/glass/glass316.jpg', '/content/classifcation/Garbage classification/glass/glass6.jpg', '/content/classifcation/Garbage classification/glass/glass58.jpg', '/content/classifcation/Garbage classification/glass/glass299.jpg', '/content/classifcation/Garbage classification/glass/glass5.jpg', '/content/classifcation/Garbage classification/glass/glass217.jpg', '/content/classifcation/Garbage classification/glass/glass317.jpg', '/content/classifcation/Garbage classification/glass/glass393.jpg', '/content/classifcation/Garbage classification/glass/glass161.jpg', '/content/classifcation/Garbage classification/glass/glass260.jpg', '/content/classifcation/Garbage classification/glass/glass334.jpg', '/content/classifcation/Garbage classification/glass/glass328.jpg', '/content/classifcation/Garbage classification/glass/glass170.jpg', '/content/classifcation/Garbage classification/glass/glass238.jpg', '/content/classifcation/Garbage classification/glass/glass368.jpg', '/content/classifcation/Garbage classification/glass/glass465.jpg', '/content/classifcation/Garbage classification/glass/glass361.jpg', '/content/classifcation/Garbage classification/glass/glass211.jpg', '/content/classifcation/Garbage classification/glass/glass438.jpg', '/content/classifcation/Garbage classification/glass/glass363.jpg', '/content/classifcation/Garbage classification/glass/glass72.jpg', '/content/classifcation/Garbage classification/glass/glass349.jpg', '/content/classifcation/Garbage classification/glass/glass7.jpg', '/content/classifcation/Garbage classification/glass/glass432.jpg', '/content/classifcation/Garbage classification/glass/glass214.jpg', '/content/classifcation/Garbage classification/glass/glass126.jpg', '/content/classifcation/Garbage classification/glass/glass419.jpg', '/content/classifcation/Garbage classification/glass/glass468.jpg', '/content/classifcation/Garbage classification/glass/glass291.jpg', '/content/classifcation/Garbage classification/glass/glass113.jpg', '/content/classifcation/Garbage classification/glass/glass327.jpg', '/content/classifcation/Garbage classification/glass/glass347.jpg', '/content/classifcation/Garbage classification/glass/glass52.jpg', '/content/classifcation/Garbage classification/glass/glass9.jpg', '/content/classifcation/Garbage classification/glass/glass224.jpg', '/content/classifcation/Garbage classification/glass/glass356.jpg', '/content/classifcation/Garbage classification/glass/glass277.jpg']\n",
            "['/content/classifcation/Garbage classification/prediction/trash59.jpg', '/content/classifcation/Garbage classification/prediction/trash91.jpg', '/content/classifcation/Garbage classification/prediction/trash121.jpg', '/content/classifcation/Garbage classification/prediction/trash70.jpg', '/content/classifcation/Garbage classification/prediction/trash61.jpg', '/content/classifcation/Garbage classification/prediction/trash30.jpg', '/content/classifcation/Garbage classification/prediction/trash124.jpg', '/content/classifcation/Garbage classification/prediction/trash50.jpg', '/content/classifcation/Garbage classification/prediction/trash110.jpg', '/content/classifcation/Garbage classification/prediction/trash55.jpg', '/content/classifcation/Garbage classification/prediction/trash63.jpg', '/content/classifcation/Garbage classification/prediction/trash134.jpg', '/content/classifcation/Garbage classification/prediction/trash90.jpg', '/content/classifcation/Garbage classification/prediction/trash17.jpg', '/content/classifcation/Garbage classification/prediction/trash20.jpg', '/content/classifcation/Garbage classification/prediction/trash57.jpg', '/content/classifcation/Garbage classification/prediction/trash64.jpg', '/content/classifcation/Garbage classification/prediction/trash15.jpg', '/content/classifcation/Garbage classification/prediction/trash34.jpg', '/content/classifcation/Garbage classification/prediction/trash11.jpg', '/content/classifcation/Garbage classification/prediction/trash19.jpg', '/content/classifcation/Garbage classification/prediction/trash82.jpg', '/content/classifcation/Garbage classification/prediction/trash53.jpg', '/content/classifcation/Garbage classification/prediction/trash60.jpg', '/content/classifcation/Garbage classification/prediction/trash47.jpg', '/content/classifcation/Garbage classification/prediction/trash69.jpg', '/content/classifcation/Garbage classification/prediction/trash37.jpg', '/content/classifcation/Garbage classification/prediction/trash89.jpg', '/content/classifcation/Garbage classification/prediction/trash56.jpg', '/content/classifcation/Garbage classification/prediction/trash26.jpg', '/content/classifcation/Garbage classification/prediction/trash40.jpg', '/content/classifcation/Garbage classification/prediction/trash8.jpg', '/content/classifcation/Garbage classification/prediction/trash36.jpg', '/content/classifcation/Garbage classification/prediction/trash81.jpg', '/content/classifcation/Garbage classification/prediction/trash73.jpg', '/content/classifcation/Garbage classification/prediction/trash125.jpg', '/content/classifcation/Garbage classification/prediction/trash131.jpg', '/content/classifcation/Garbage classification/prediction/trash109.jpg', '/content/classifcation/Garbage classification/prediction/trash74.jpg', '/content/classifcation/Garbage classification/prediction/trash108.jpg', '/content/classifcation/Garbage classification/prediction/trash76.jpg', '/content/classifcation/Garbage classification/prediction/trash102.jpg', '/content/classifcation/Garbage classification/prediction/trash65.jpg', '/content/classifcation/Garbage classification/prediction/trash24.jpg', '/content/classifcation/Garbage classification/prediction/trash58.jpg', '/content/classifcation/Garbage classification/prediction/trash114.jpg', '/content/classifcation/Garbage classification/prediction/trash16.jpg', '/content/classifcation/Garbage classification/prediction/trash27.jpg', '/content/classifcation/Garbage classification/prediction/trash51.jpg', '/content/classifcation/Garbage classification/prediction/trash46.jpg', '/content/classifcation/Garbage classification/prediction/trash99.jpg', '/content/classifcation/Garbage classification/prediction/trash62.jpg', '/content/classifcation/Garbage classification/prediction/trash21.jpg', '/content/classifcation/Garbage classification/prediction/trash67.jpg', '/content/classifcation/Garbage classification/prediction/trash92.jpg', '/content/classifcation/Garbage classification/prediction/trash43.jpg', '/content/classifcation/Garbage classification/prediction/trash68.jpg', '/content/classifcation/Garbage classification/prediction/trash127.jpg', '/content/classifcation/Garbage classification/prediction/trash29.jpg', '/content/classifcation/Garbage classification/prediction/trash129.jpg', '/content/classifcation/Garbage classification/prediction/trash100.jpg', '/content/classifcation/Garbage classification/prediction/trash106.jpg', '/content/classifcation/Garbage classification/prediction/trash97.jpg', '/content/classifcation/Garbage classification/prediction/trash87.jpg', '/content/classifcation/Garbage classification/prediction/trash32.jpg', '/content/classifcation/Garbage classification/prediction/trash28.jpg', '/content/classifcation/Garbage classification/prediction/trash33.jpg', '/content/classifcation/Garbage classification/prediction/trash126.jpg', '/content/classifcation/Garbage classification/prediction/trash94.jpg', '/content/classifcation/Garbage classification/prediction/trash79.jpg', '/content/classifcation/Garbage classification/prediction/trash137.jpg', '/content/classifcation/Garbage classification/prediction/trash117.jpg', '/content/classifcation/Garbage classification/prediction/trash111.jpg', '/content/classifcation/Garbage classification/prediction/trash48.jpg', '/content/classifcation/Garbage classification/prediction/trash115.jpg', '/content/classifcation/Garbage classification/prediction/trash7.jpg', '/content/classifcation/Garbage classification/prediction/trash96.jpg', '/content/classifcation/Garbage classification/prediction/trash14.jpg', '/content/classifcation/Garbage classification/prediction/trash9.jpg', '/content/classifcation/Garbage classification/prediction/trash136.jpg', '/content/classifcation/Garbage classification/prediction/trash75.jpg', '/content/classifcation/Garbage classification/prediction/trash104.jpg', '/content/classifcation/Garbage classification/prediction/trash3.jpg', '/content/classifcation/Garbage classification/prediction/trash98.jpg', '/content/classifcation/Garbage classification/prediction/trash133.jpg', '/content/classifcation/Garbage classification/prediction/trash113.jpg', '/content/classifcation/Garbage classification/prediction/trash4.jpg', '/content/classifcation/Garbage classification/prediction/trash45.jpg', '/content/classifcation/Garbage classification/prediction/trash123.jpg', '/content/classifcation/Garbage classification/prediction/trash93.jpg', '/content/classifcation/Garbage classification/prediction/trash35.jpg', '/content/classifcation/Garbage classification/prediction/trash105.jpg', '/content/classifcation/Garbage classification/prediction/trash38.jpg', '/content/classifcation/Garbage classification/prediction/trash77.jpg', '/content/classifcation/Garbage classification/prediction/trash128.jpg', '/content/classifcation/Garbage classification/prediction/trash44.jpg', '/content/classifcation/Garbage classification/prediction/trash6.jpg', '/content/classifcation/Garbage classification/prediction/trash25.jpg', '/content/classifcation/Garbage classification/prediction/trash41.jpg', '/content/classifcation/Garbage classification/prediction/trash119.jpg', '/content/classifcation/Garbage classification/prediction/trash130.jpg', '/content/classifcation/Garbage classification/prediction/trash101.jpg', '/content/classifcation/Garbage classification/prediction/trash18.jpg', '/content/classifcation/Garbage classification/prediction/trash54.jpg', '/content/classifcation/Garbage classification/prediction/trash5.jpg', '/content/classifcation/Garbage classification/prediction/trash22.jpg', '/content/classifcation/Garbage classification/prediction/trash72.jpg', '/content/classifcation/Garbage classification/prediction/trash85.jpg', '/content/classifcation/Garbage classification/prediction/trash49.jpg', '/content/classifcation/Garbage classification/prediction/trash12.jpg', '/content/classifcation/Garbage classification/prediction/trash103.jpg', '/content/classifcation/Garbage classification/prediction/trash116.jpg', '/content/classifcation/Garbage classification/prediction/trash78.jpg', '/content/classifcation/Garbage classification/prediction/trash120.jpg', '/content/classifcation/Garbage classification/prediction/trash71.jpg', '/content/classifcation/Garbage classification/prediction/trash118.jpg', '/content/classifcation/Garbage classification/prediction/trash135.jpg', '/content/classifcation/Garbage classification/prediction/trash84.jpg', '/content/classifcation/Garbage classification/prediction/trash52.jpg', '/content/classifcation/Garbage classification/prediction/trash31.jpg', '/content/classifcation/Garbage classification/prediction/trash122.jpg', '/content/classifcation/Garbage classification/prediction/trash42.jpg', '/content/classifcation/Garbage classification/prediction/trash39.jpg', '/content/classifcation/Garbage classification/prediction/trash80.jpg', '/content/classifcation/Garbage classification/prediction/trash88.jpg', '/content/classifcation/Garbage classification/prediction/trash2.jpg', '/content/classifcation/Garbage classification/prediction/trash95.jpg', '/content/classifcation/Garbage classification/prediction/trash132.jpg', '/content/classifcation/Garbage classification/prediction/trash23.jpg', '/content/classifcation/Garbage classification/prediction/trash66.jpg', '/content/classifcation/Garbage classification/prediction/trash83.jpg', '/content/classifcation/Garbage classification/prediction/trash1.jpg', '/content/classifcation/Garbage classification/prediction/trash13.jpg', '/content/classifcation/Garbage classification/prediction/trash86.jpg', '/content/classifcation/Garbage classification/prediction/trash107.jpg', '/content/classifcation/Garbage classification/prediction/trash112.jpg', '/content/classifcation/Garbage classification/prediction/trash10.jpg']\n",
            "['/content/classifcation/Garbage classification/paper/paper116.jpg', '/content/classifcation/Garbage classification/paper/paper201.jpg', '/content/classifcation/Garbage classification/paper/paper4.jpg', '/content/classifcation/Garbage classification/paper/paper184.jpg', '/content/classifcation/Garbage classification/paper/paper149.jpg', '/content/classifcation/Garbage classification/paper/paper303.jpg', '/content/classifcation/Garbage classification/paper/paper387.jpg', '/content/classifcation/Garbage classification/paper/paper479.jpg', '/content/classifcation/Garbage classification/paper/paper467.jpg', '/content/classifcation/Garbage classification/paper/paper232.jpg', '/content/classifcation/Garbage classification/paper/paper422.jpg', '/content/classifcation/Garbage classification/paper/paper470.jpg', '/content/classifcation/Garbage classification/paper/paper584.jpg', '/content/classifcation/Garbage classification/paper/paper62.jpg', '/content/classifcation/Garbage classification/paper/paper516.jpg', '/content/classifcation/Garbage classification/paper/paper280.jpg', '/content/classifcation/Garbage classification/paper/paper252.jpg', '/content/classifcation/Garbage classification/paper/paper200.jpg', '/content/classifcation/Garbage classification/paper/paper575.jpg', '/content/classifcation/Garbage classification/paper/paper84.jpg', '/content/classifcation/Garbage classification/paper/paper207.jpg', '/content/classifcation/Garbage classification/paper/paper318.jpg', '/content/classifcation/Garbage classification/paper/paper144.jpg', '/content/classifcation/Garbage classification/paper/paper95.jpg', '/content/classifcation/Garbage classification/paper/paper504.jpg', '/content/classifcation/Garbage classification/paper/paper577.jpg', '/content/classifcation/Garbage classification/paper/paper186.jpg', '/content/classifcation/Garbage classification/paper/paper526.jpg', '/content/classifcation/Garbage classification/paper/paper397.jpg', '/content/classifcation/Garbage classification/paper/paper90.jpg', '/content/classifcation/Garbage classification/paper/paper458.jpg', '/content/classifcation/Garbage classification/paper/paper323.jpg', '/content/classifcation/Garbage classification/paper/paper32.jpg', '/content/classifcation/Garbage classification/paper/paper135.jpg', '/content/classifcation/Garbage classification/paper/paper385.jpg', '/content/classifcation/Garbage classification/paper/paper98.jpg', '/content/classifcation/Garbage classification/paper/paper30.jpg', '/content/classifcation/Garbage classification/paper/paper42.jpg', '/content/classifcation/Garbage classification/paper/paper292.jpg', '/content/classifcation/Garbage classification/paper/paper464.jpg', '/content/classifcation/Garbage classification/paper/paper39.jpg', '/content/classifcation/Garbage classification/paper/paper22.jpg', '/content/classifcation/Garbage classification/paper/paper235.jpg', '/content/classifcation/Garbage classification/paper/paper169.jpg', '/content/classifcation/Garbage classification/paper/paper472.jpg', '/content/classifcation/Garbage classification/paper/paper359.jpg', '/content/classifcation/Garbage classification/paper/paper148.jpg', '/content/classifcation/Garbage classification/paper/paper217.jpg', '/content/classifcation/Garbage classification/paper/paper246.jpg', '/content/classifcation/Garbage classification/paper/paper363.jpg', '/content/classifcation/Garbage classification/paper/paper557.jpg', '/content/classifcation/Garbage classification/paper/paper44.jpg', '/content/classifcation/Garbage classification/paper/paper241.jpg', '/content/classifcation/Garbage classification/paper/paper130.jpg', '/content/classifcation/Garbage classification/paper/paper474.jpg', '/content/classifcation/Garbage classification/paper/paper404.jpg', '/content/classifcation/Garbage classification/paper/paper305.jpg', '/content/classifcation/Garbage classification/paper/paper111.jpg', '/content/classifcation/Garbage classification/paper/paper425.jpg', '/content/classifcation/Garbage classification/paper/paper119.jpg', '/content/classifcation/Garbage classification/paper/paper224.jpg', '/content/classifcation/Garbage classification/paper/paper275.jpg', '/content/classifcation/Garbage classification/paper/paper423.jpg', '/content/classifcation/Garbage classification/paper/paper579.jpg', '/content/classifcation/Garbage classification/paper/paper503.jpg', '/content/classifcation/Garbage classification/paper/paper43.jpg', '/content/classifcation/Garbage classification/paper/paper418.jpg', '/content/classifcation/Garbage classification/paper/paper571.jpg', '/content/classifcation/Garbage classification/paper/paper499.jpg', '/content/classifcation/Garbage classification/paper/paper507.jpg', '/content/classifcation/Garbage classification/paper/paper113.jpg', '/content/classifcation/Garbage classification/paper/paper21.jpg', '/content/classifcation/Garbage classification/paper/paper156.jpg', '/content/classifcation/Garbage classification/paper/paper1.jpg', '/content/classifcation/Garbage classification/paper/paper417.jpg', '/content/classifcation/Garbage classification/paper/paper65.jpg', '/content/classifcation/Garbage classification/paper/paper317.jpg', '/content/classifcation/Garbage classification/paper/paper223.jpg', '/content/classifcation/Garbage classification/paper/paper123.jpg', '/content/classifcation/Garbage classification/paper/paper570.jpg', '/content/classifcation/Garbage classification/paper/paper345.jpg', '/content/classifcation/Garbage classification/paper/paper271.jpg', '/content/classifcation/Garbage classification/paper/paper212.jpg', '/content/classifcation/Garbage classification/paper/paper343.jpg', '/content/classifcation/Garbage classification/paper/paper399.jpg', '/content/classifcation/Garbage classification/paper/paper372.jpg', '/content/classifcation/Garbage classification/paper/paper282.jpg', '/content/classifcation/Garbage classification/paper/paper589.jpg', '/content/classifcation/Garbage classification/paper/paper438.jpg', '/content/classifcation/Garbage classification/paper/paper436.jpg', '/content/classifcation/Garbage classification/paper/paper53.jpg', '/content/classifcation/Garbage classification/paper/paper163.jpg', '/content/classifcation/Garbage classification/paper/paper162.jpg', '/content/classifcation/Garbage classification/paper/paper266.jpg', '/content/classifcation/Garbage classification/paper/paper58.jpg', '/content/classifcation/Garbage classification/paper/paper283.jpg', '/content/classifcation/Garbage classification/paper/paper97.jpg', '/content/classifcation/Garbage classification/paper/paper432.jpg', '/content/classifcation/Garbage classification/paper/paper34.jpg', '/content/classifcation/Garbage classification/paper/paper492.jpg', '/content/classifcation/Garbage classification/paper/paper259.jpg', '/content/classifcation/Garbage classification/paper/paper120.jpg', '/content/classifcation/Garbage classification/paper/paper219.jpg', '/content/classifcation/Garbage classification/paper/paper166.jpg', '/content/classifcation/Garbage classification/paper/paper157.jpg', '/content/classifcation/Garbage classification/paper/paper578.jpg', '/content/classifcation/Garbage classification/paper/paper490.jpg', '/content/classifcation/Garbage classification/paper/paper532.jpg', '/content/classifcation/Garbage classification/paper/paper286.jpg', '/content/classifcation/Garbage classification/paper/paper308.jpg', '/content/classifcation/Garbage classification/paper/paper81.jpg', '/content/classifcation/Garbage classification/paper/paper463.jpg', '/content/classifcation/Garbage classification/paper/paper325.jpg', '/content/classifcation/Garbage classification/paper/paper296.jpg', '/content/classifcation/Garbage classification/paper/paper302.jpg', '/content/classifcation/Garbage classification/paper/paper225.jpg', '/content/classifcation/Garbage classification/paper/paper215.jpg', '/content/classifcation/Garbage classification/paper/paper164.jpg', '/content/classifcation/Garbage classification/paper/paper489.jpg', '/content/classifcation/Garbage classification/paper/paper313.jpg', '/content/classifcation/Garbage classification/paper/paper171.jpg', '/content/classifcation/Garbage classification/paper/paper529.jpg', '/content/classifcation/Garbage classification/paper/paper371.jpg', '/content/classifcation/Garbage classification/paper/paper284.jpg', '/content/classifcation/Garbage classification/paper/paper338.jpg', '/content/classifcation/Garbage classification/paper/paper105.jpg', '/content/classifcation/Garbage classification/paper/paper314.jpg', '/content/classifcation/Garbage classification/paper/paper501.jpg', '/content/classifcation/Garbage classification/paper/paper114.jpg', '/content/classifcation/Garbage classification/paper/paper421.jpg', '/content/classifcation/Garbage classification/paper/paper69.jpg', '/content/classifcation/Garbage classification/paper/paper415.jpg', '/content/classifcation/Garbage classification/paper/paper20.jpg', '/content/classifcation/Garbage classification/paper/paper558.jpg', '/content/classifcation/Garbage classification/paper/paper552.jpg', '/content/classifcation/Garbage classification/paper/paper550.jpg', '/content/classifcation/Garbage classification/paper/paper498.jpg', '/content/classifcation/Garbage classification/paper/paper240.jpg', '/content/classifcation/Garbage classification/paper/paper140.jpg', '/content/classifcation/Garbage classification/paper/paper86.jpg', '/content/classifcation/Garbage classification/paper/paper222.jpg', '/content/classifcation/Garbage classification/paper/paper234.jpg', '/content/classifcation/Garbage classification/paper/paper76.jpg', '/content/classifcation/Garbage classification/paper/paper174.jpg', '/content/classifcation/Garbage classification/paper/paper395.jpg', '/content/classifcation/Garbage classification/paper/paper298.jpg', '/content/classifcation/Garbage classification/paper/paper513.jpg', '/content/classifcation/Garbage classification/paper/paper96.jpg', '/content/classifcation/Garbage classification/paper/paper352.jpg', '/content/classifcation/Garbage classification/paper/paper182.jpg', '/content/classifcation/Garbage classification/paper/paper147.jpg', '/content/classifcation/Garbage classification/paper/paper199.jpg', '/content/classifcation/Garbage classification/paper/paper276.jpg', '/content/classifcation/Garbage classification/paper/paper360.jpg', '/content/classifcation/Garbage classification/paper/paper194.jpg', '/content/classifcation/Garbage classification/paper/paper391.jpg', '/content/classifcation/Garbage classification/paper/paper221.jpg', '/content/classifcation/Garbage classification/paper/paper448.jpg', '/content/classifcation/Garbage classification/paper/paper139.jpg', '/content/classifcation/Garbage classification/paper/paper568.jpg', '/content/classifcation/Garbage classification/paper/paper364.jpg', '/content/classifcation/Garbage classification/paper/paper178.jpg', '/content/classifcation/Garbage classification/paper/paper473.jpg', '/content/classifcation/Garbage classification/paper/paper242.jpg', '/content/classifcation/Garbage classification/paper/paper290.jpg', '/content/classifcation/Garbage classification/paper/paper556.jpg', '/content/classifcation/Garbage classification/paper/paper239.jpg', '/content/classifcation/Garbage classification/paper/paper582.jpg', '/content/classifcation/Garbage classification/paper/paper356.jpg', '/content/classifcation/Garbage classification/paper/paper453.jpg', '/content/classifcation/Garbage classification/paper/paper64.jpg', '/content/classifcation/Garbage classification/paper/paper450.jpg', '/content/classifcation/Garbage classification/paper/paper481.jpg', '/content/classifcation/Garbage classification/paper/paper545.jpg', '/content/classifcation/Garbage classification/paper/paper439.jpg', '/content/classifcation/Garbage classification/paper/paper180.jpg', '/content/classifcation/Garbage classification/paper/paper26.jpg', '/content/classifcation/Garbage classification/paper/paper269.jpg', '/content/classifcation/Garbage classification/paper/paper14.jpg', '/content/classifcation/Garbage classification/paper/paper477.jpg', '/content/classifcation/Garbage classification/paper/paper285.jpg', '/content/classifcation/Garbage classification/paper/paper381.jpg', '/content/classifcation/Garbage classification/paper/paper106.jpg', '/content/classifcation/Garbage classification/paper/paper435.jpg', '/content/classifcation/Garbage classification/paper/paper176.jpg', '/content/classifcation/Garbage classification/paper/paper496.jpg', '/content/classifcation/Garbage classification/paper/paper367.jpg', '/content/classifcation/Garbage classification/paper/paper3.jpg', '/content/classifcation/Garbage classification/paper/paper382.jpg', '/content/classifcation/Garbage classification/paper/paper334.jpg', '/content/classifcation/Garbage classification/paper/paper316.jpg', '/content/classifcation/Garbage classification/paper/paper419.jpg', '/content/classifcation/Garbage classification/paper/paper524.jpg', '/content/classifcation/Garbage classification/paper/paper565.jpg', '/content/classifcation/Garbage classification/paper/paper79.jpg', '/content/classifcation/Garbage classification/paper/paper41.jpg', '/content/classifcation/Garbage classification/paper/paper520.jpg', '/content/classifcation/Garbage classification/paper/paper428.jpg', '/content/classifcation/Garbage classification/paper/paper398.jpg', '/content/classifcation/Garbage classification/paper/paper88.jpg', '/content/classifcation/Garbage classification/paper/paper341.jpg', '/content/classifcation/Garbage classification/paper/paper78.jpg', '/content/classifcation/Garbage classification/paper/paper331.jpg', '/content/classifcation/Garbage classification/paper/paper388.jpg', '/content/classifcation/Garbage classification/paper/paper165.jpg', '/content/classifcation/Garbage classification/paper/paper300.jpg', '/content/classifcation/Garbage classification/paper/paper228.jpg', '/content/classifcation/Garbage classification/paper/paper218.jpg', '/content/classifcation/Garbage classification/paper/paper537.jpg', '/content/classifcation/Garbage classification/paper/paper559.jpg', '/content/classifcation/Garbage classification/paper/paper261.jpg', '/content/classifcation/Garbage classification/paper/paper175.jpg', '/content/classifcation/Garbage classification/paper/paper293.jpg', '/content/classifcation/Garbage classification/paper/paper365.jpg', '/content/classifcation/Garbage classification/paper/paper8.jpg', '/content/classifcation/Garbage classification/paper/paper151.jpg', '/content/classifcation/Garbage classification/paper/paper320.jpg', '/content/classifcation/Garbage classification/paper/paper17.jpg', '/content/classifcation/Garbage classification/paper/paper527.jpg', '/content/classifcation/Garbage classification/paper/paper509.jpg', '/content/classifcation/Garbage classification/paper/paper410.jpg', '/content/classifcation/Garbage classification/paper/paper366.jpg', '/content/classifcation/Garbage classification/paper/paper158.jpg', '/content/classifcation/Garbage classification/paper/paper437.jpg', '/content/classifcation/Garbage classification/paper/paper45.jpg', '/content/classifcation/Garbage classification/paper/paper457.jpg', '/content/classifcation/Garbage classification/paper/paper209.jpg', '/content/classifcation/Garbage classification/paper/paper204.jpg', '/content/classifcation/Garbage classification/paper/paper585.jpg', '/content/classifcation/Garbage classification/paper/paper444.jpg', '/content/classifcation/Garbage classification/paper/paper29.jpg', '/content/classifcation/Garbage classification/paper/paper153.jpg', '/content/classifcation/Garbage classification/paper/paper289.jpg', '/content/classifcation/Garbage classification/paper/paper452.jpg', '/content/classifcation/Garbage classification/paper/paper534.jpg', '/content/classifcation/Garbage classification/paper/paper210.jpg', '/content/classifcation/Garbage classification/paper/paper374.jpg', '/content/classifcation/Garbage classification/paper/paper466.jpg', '/content/classifcation/Garbage classification/paper/paper392.jpg', '/content/classifcation/Garbage classification/paper/paper441.jpg', '/content/classifcation/Garbage classification/paper/paper591.jpg', '/content/classifcation/Garbage classification/paper/paper67.jpg', '/content/classifcation/Garbage classification/paper/paper152.jpg', '/content/classifcation/Garbage classification/paper/paper137.jpg', '/content/classifcation/Garbage classification/paper/paper183.jpg', '/content/classifcation/Garbage classification/paper/paper567.jpg', '/content/classifcation/Garbage classification/paper/paper535.jpg', '/content/classifcation/Garbage classification/paper/paper9.jpg', '/content/classifcation/Garbage classification/paper/paper377.jpg', '/content/classifcation/Garbage classification/paper/paper378.jpg', '/content/classifcation/Garbage classification/paper/paper214.jpg', '/content/classifcation/Garbage classification/paper/paper92.jpg', '/content/classifcation/Garbage classification/paper/paper112.jpg', '/content/classifcation/Garbage classification/paper/paper304.jpg', '/content/classifcation/Garbage classification/paper/paper588.jpg', '/content/classifcation/Garbage classification/paper/paper358.jpg', '/content/classifcation/Garbage classification/paper/paper134.jpg', '/content/classifcation/Garbage classification/paper/paper468.jpg', '/content/classifcation/Garbage classification/paper/paper580.jpg', '/content/classifcation/Garbage classification/paper/paper237.jpg', '/content/classifcation/Garbage classification/paper/paper536.jpg', '/content/classifcation/Garbage classification/paper/paper127.jpg', '/content/classifcation/Garbage classification/paper/paper83.jpg', '/content/classifcation/Garbage classification/paper/paper103.jpg', '/content/classifcation/Garbage classification/paper/paper216.jpg', '/content/classifcation/Garbage classification/paper/paper512.jpg', '/content/classifcation/Garbage classification/paper/paper192.jpg', '/content/classifcation/Garbage classification/paper/paper263.jpg', '/content/classifcation/Garbage classification/paper/paper354.jpg', '/content/classifcation/Garbage classification/paper/paper243.jpg', '/content/classifcation/Garbage classification/paper/paper465.jpg', '/content/classifcation/Garbage classification/paper/paper168.jpg', '/content/classifcation/Garbage classification/paper/paper273.jpg', '/content/classifcation/Garbage classification/paper/paper206.jpg', '/content/classifcation/Garbage classification/paper/paper142.jpg', '/content/classifcation/Garbage classification/paper/paper462.jpg', '/content/classifcation/Garbage classification/paper/paper185.jpg', '/content/classifcation/Garbage classification/paper/paper274.jpg', '/content/classifcation/Garbage classification/paper/paper213.jpg', '/content/classifcation/Garbage classification/paper/paper547.jpg', '/content/classifcation/Garbage classification/paper/paper517.jpg', '/content/classifcation/Garbage classification/paper/paper46.jpg', '/content/classifcation/Garbage classification/paper/paper177.jpg', '/content/classifcation/Garbage classification/paper/paper429.jpg', '/content/classifcation/Garbage classification/paper/paper426.jpg', '/content/classifcation/Garbage classification/paper/paper68.jpg', '/content/classifcation/Garbage classification/paper/paper373.jpg', '/content/classifcation/Garbage classification/paper/paper49.jpg', '/content/classifcation/Garbage classification/paper/paper514.jpg', '/content/classifcation/Garbage classification/paper/paper523.jpg', '/content/classifcation/Garbage classification/paper/paper416.jpg', '/content/classifcation/Garbage classification/paper/paper487.jpg', '/content/classifcation/Garbage classification/paper/paper27.jpg', '/content/classifcation/Garbage classification/paper/paper245.jpg', '/content/classifcation/Garbage classification/paper/paper51.jpg', '/content/classifcation/Garbage classification/paper/paper24.jpg', '/content/classifcation/Garbage classification/paper/paper50.jpg', '/content/classifcation/Garbage classification/paper/paper346.jpg', '/content/classifcation/Garbage classification/paper/paper551.jpg', '/content/classifcation/Garbage classification/paper/paper307.jpg', '/content/classifcation/Garbage classification/paper/paper132.jpg', '/content/classifcation/Garbage classification/paper/paper332.jpg', '/content/classifcation/Garbage classification/paper/paper530.jpg', '/content/classifcation/Garbage classification/paper/paper348.jpg', '/content/classifcation/Garbage classification/paper/paper238.jpg', '/content/classifcation/Garbage classification/paper/paper566.jpg', '/content/classifcation/Garbage classification/paper/paper11.jpg', '/content/classifcation/Garbage classification/paper/paper291.jpg', '/content/classifcation/Garbage classification/paper/paper522.jpg', '/content/classifcation/Garbage classification/paper/paper528.jpg', '/content/classifcation/Garbage classification/paper/paper445.jpg', '/content/classifcation/Garbage classification/paper/paper554.jpg', '/content/classifcation/Garbage classification/paper/paper124.jpg', '/content/classifcation/Garbage classification/paper/paper253.jpg', '/content/classifcation/Garbage classification/paper/paper251.jpg', '/content/classifcation/Garbage classification/paper/paper471.jpg', '/content/classifcation/Garbage classification/paper/paper511.jpg', '/content/classifcation/Garbage classification/paper/paper143.jpg', '/content/classifcation/Garbage classification/paper/paper542.jpg', '/content/classifcation/Garbage classification/paper/paper265.jpg', '/content/classifcation/Garbage classification/paper/paper150.jpg', '/content/classifcation/Garbage classification/paper/paper451.jpg', '/content/classifcation/Garbage classification/paper/paper407.jpg', '/content/classifcation/Garbage classification/paper/paper7.jpg', '/content/classifcation/Garbage classification/paper/paper344.jpg', '/content/classifcation/Garbage classification/paper/paper281.jpg', '/content/classifcation/Garbage classification/paper/paper167.jpg', '/content/classifcation/Garbage classification/paper/paper494.jpg', '/content/classifcation/Garbage classification/paper/paper87.jpg', '/content/classifcation/Garbage classification/paper/paper446.jpg', '/content/classifcation/Garbage classification/paper/paper361.jpg', '/content/classifcation/Garbage classification/paper/paper402.jpg', '/content/classifcation/Garbage classification/paper/paper254.jpg', '/content/classifcation/Garbage classification/paper/paper66.jpg', '/content/classifcation/Garbage classification/paper/paper131.jpg', '/content/classifcation/Garbage classification/paper/paper433.jpg', '/content/classifcation/Garbage classification/paper/paper592.jpg', '/content/classifcation/Garbage classification/paper/paper456.jpg', '/content/classifcation/Garbage classification/paper/paper349.jpg', '/content/classifcation/Garbage classification/paper/paper129.jpg', '/content/classifcation/Garbage classification/paper/paper424.jpg', '/content/classifcation/Garbage classification/paper/paper384.jpg', '/content/classifcation/Garbage classification/paper/paper299.jpg', '/content/classifcation/Garbage classification/paper/paper488.jpg', '/content/classifcation/Garbage classification/paper/paper108.jpg', '/content/classifcation/Garbage classification/paper/paper301.jpg', '/content/classifcation/Garbage classification/paper/paper229.jpg', '/content/classifcation/Garbage classification/paper/paper57.jpg', '/content/classifcation/Garbage classification/paper/paper342.jpg', '/content/classifcation/Garbage classification/paper/paper431.jpg', '/content/classifcation/Garbage classification/paper/paper576.jpg', '/content/classifcation/Garbage classification/paper/paper37.jpg', '/content/classifcation/Garbage classification/paper/paper518.jpg', '/content/classifcation/Garbage classification/paper/paper403.jpg', '/content/classifcation/Garbage classification/paper/paper236.jpg', '/content/classifcation/Garbage classification/paper/paper115.jpg', '/content/classifcation/Garbage classification/paper/paper586.jpg', '/content/classifcation/Garbage classification/paper/paper267.jpg', '/content/classifcation/Garbage classification/paper/paper508.jpg', '/content/classifcation/Garbage classification/paper/paper393.jpg', '/content/classifcation/Garbage classification/paper/paper277.jpg', '/content/classifcation/Garbage classification/paper/paper122.jpg', '/content/classifcation/Garbage classification/paper/paper337.jpg', '/content/classifcation/Garbage classification/paper/paper321.jpg', '/content/classifcation/Garbage classification/paper/paper155.jpg', '/content/classifcation/Garbage classification/paper/paper525.jpg', '/content/classifcation/Garbage classification/paper/paper52.jpg', '/content/classifcation/Garbage classification/paper/paper379.jpg', '/content/classifcation/Garbage classification/paper/paper279.jpg', '/content/classifcation/Garbage classification/paper/paper396.jpg', '/content/classifcation/Garbage classification/paper/paper262.jpg', '/content/classifcation/Garbage classification/paper/paper561.jpg', '/content/classifcation/Garbage classification/paper/paper519.jpg', '/content/classifcation/Garbage classification/paper/paper48.jpg', '/content/classifcation/Garbage classification/paper/paper594.jpg', '/content/classifcation/Garbage classification/paper/paper188.jpg', '/content/classifcation/Garbage classification/paper/paper380.jpg', '/content/classifcation/Garbage classification/paper/paper478.jpg', '/content/classifcation/Garbage classification/paper/paper475.jpg', '/content/classifcation/Garbage classification/paper/paper181.jpg', '/content/classifcation/Garbage classification/paper/paper375.jpg', '/content/classifcation/Garbage classification/paper/paper138.jpg', '/content/classifcation/Garbage classification/paper/paper362.jpg', '/content/classifcation/Garbage classification/paper/paper198.jpg', '/content/classifcation/Garbage classification/paper/paper159.jpg', '/content/classifcation/Garbage classification/paper/paper339.jpg', '/content/classifcation/Garbage classification/paper/paper491.jpg', '/content/classifcation/Garbage classification/paper/paper564.jpg', '/content/classifcation/Garbage classification/paper/paper312.jpg', '/content/classifcation/Garbage classification/paper/paper60.jpg', '/content/classifcation/Garbage classification/paper/paper389.jpg', '/content/classifcation/Garbage classification/paper/paper250.jpg', '/content/classifcation/Garbage classification/paper/paper99.jpg', '/content/classifcation/Garbage classification/paper/paper28.jpg', '/content/classifcation/Garbage classification/paper/paper340.jpg', '/content/classifcation/Garbage classification/paper/paper311.jpg', '/content/classifcation/Garbage classification/paper/paper368.jpg', '/content/classifcation/Garbage classification/paper/paper420.jpg', '/content/classifcation/Garbage classification/paper/paper249.jpg', '/content/classifcation/Garbage classification/paper/paper145.jpg', '/content/classifcation/Garbage classification/paper/paper255.jpg', '/content/classifcation/Garbage classification/paper/paper107.jpg', '/content/classifcation/Garbage classification/paper/paper256.jpg', '/content/classifcation/Garbage classification/paper/paper33.jpg', '/content/classifcation/Garbage classification/paper/paper459.jpg', '/content/classifcation/Garbage classification/paper/paper485.jpg', '/content/classifcation/Garbage classification/paper/paper248.jpg', '/content/classifcation/Garbage classification/paper/paper109.jpg', '/content/classifcation/Garbage classification/paper/paper170.jpg', '/content/classifcation/Garbage classification/paper/paper10.jpg', '/content/classifcation/Garbage classification/paper/paper118.jpg', '/content/classifcation/Garbage classification/paper/paper390.jpg', '/content/classifcation/Garbage classification/paper/paper75.jpg', '/content/classifcation/Garbage classification/paper/paper483.jpg', '/content/classifcation/Garbage classification/paper/paper270.jpg', '/content/classifcation/Garbage classification/paper/paper161.jpg', '/content/classifcation/Garbage classification/paper/paper484.jpg', '/content/classifcation/Garbage classification/paper/paper91.jpg', '/content/classifcation/Garbage classification/paper/paper141.jpg', '/content/classifcation/Garbage classification/paper/paper230.jpg', '/content/classifcation/Garbage classification/paper/paper61.jpg', '/content/classifcation/Garbage classification/paper/paper294.jpg', '/content/classifcation/Garbage classification/paper/paper327.jpg', '/content/classifcation/Garbage classification/paper/paper555.jpg', '/content/classifcation/Garbage classification/paper/paper85.jpg', '/content/classifcation/Garbage classification/paper/paper6.jpg', '/content/classifcation/Garbage classification/paper/paper258.jpg', '/content/classifcation/Garbage classification/paper/paper35.jpg', '/content/classifcation/Garbage classification/paper/paper63.jpg', '/content/classifcation/Garbage classification/paper/paper587.jpg', '/content/classifcation/Garbage classification/paper/paper560.jpg', '/content/classifcation/Garbage classification/paper/paper405.jpg', '/content/classifcation/Garbage classification/paper/paper572.jpg', '/content/classifcation/Garbage classification/paper/paper80.jpg', '/content/classifcation/Garbage classification/paper/paper202.jpg', '/content/classifcation/Garbage classification/paper/paper173.jpg', '/content/classifcation/Garbage classification/paper/paper74.jpg', '/content/classifcation/Garbage classification/paper/paper497.jpg', '/content/classifcation/Garbage classification/paper/paper189.jpg', '/content/classifcation/Garbage classification/paper/paper411.jpg', '/content/classifcation/Garbage classification/paper/paper442.jpg', '/content/classifcation/Garbage classification/paper/paper538.jpg', '/content/classifcation/Garbage classification/paper/paper70.jpg', '/content/classifcation/Garbage classification/paper/paper154.jpg', '/content/classifcation/Garbage classification/paper/paper125.jpg', '/content/classifcation/Garbage classification/paper/paper449.jpg', '/content/classifcation/Garbage classification/paper/paper593.jpg', '/content/classifcation/Garbage classification/paper/paper268.jpg', '/content/classifcation/Garbage classification/paper/paper324.jpg', '/content/classifcation/Garbage classification/paper/paper460.jpg', '/content/classifcation/Garbage classification/paper/paper350.jpg', '/content/classifcation/Garbage classification/paper/paper573.jpg', '/content/classifcation/Garbage classification/paper/paper543.jpg', '/content/classifcation/Garbage classification/paper/paper369.jpg', '/content/classifcation/Garbage classification/paper/paper493.jpg', '/content/classifcation/Garbage classification/paper/paper394.jpg', '/content/classifcation/Garbage classification/paper/paper401.jpg', '/content/classifcation/Garbage classification/paper/paper515.jpg', '/content/classifcation/Garbage classification/paper/paper260.jpg', '/content/classifcation/Garbage classification/paper/paper400.jpg', '/content/classifcation/Garbage classification/paper/paper31.jpg', '/content/classifcation/Garbage classification/paper/paper322.jpg', '/content/classifcation/Garbage classification/paper/paper461.jpg', '/content/classifcation/Garbage classification/paper/paper191.jpg', '/content/classifcation/Garbage classification/paper/paper469.jpg', '/content/classifcation/Garbage classification/paper/paper355.jpg', '/content/classifcation/Garbage classification/paper/paper531.jpg', '/content/classifcation/Garbage classification/paper/paper172.jpg', '/content/classifcation/Garbage classification/paper/paper72.jpg', '/content/classifcation/Garbage classification/paper/paper406.jpg', '/content/classifcation/Garbage classification/paper/paper347.jpg', '/content/classifcation/Garbage classification/paper/paper196.jpg', '/content/classifcation/Garbage classification/paper/paper427.jpg', '/content/classifcation/Garbage classification/paper/paper357.jpg', '/content/classifcation/Garbage classification/paper/paper409.jpg', '/content/classifcation/Garbage classification/paper/paper25.jpg', '/content/classifcation/Garbage classification/paper/paper574.jpg', '/content/classifcation/Garbage classification/paper/paper353.jpg', '/content/classifcation/Garbage classification/paper/paper533.jpg', '/content/classifcation/Garbage classification/paper/paper56.jpg', '/content/classifcation/Garbage classification/paper/paper82.jpg', '/content/classifcation/Garbage classification/paper/paper500.jpg', '/content/classifcation/Garbage classification/paper/paper136.jpg', '/content/classifcation/Garbage classification/paper/paper179.jpg', '/content/classifcation/Garbage classification/paper/paper197.jpg', '/content/classifcation/Garbage classification/paper/paper40.jpg', '/content/classifcation/Garbage classification/paper/paper440.jpg', '/content/classifcation/Garbage classification/paper/paper47.jpg', '/content/classifcation/Garbage classification/paper/paper386.jpg', '/content/classifcation/Garbage classification/paper/paper297.jpg', '/content/classifcation/Garbage classification/paper/paper486.jpg', '/content/classifcation/Garbage classification/paper/paper36.jpg', '/content/classifcation/Garbage classification/paper/paper434.jpg', '/content/classifcation/Garbage classification/paper/paper370.jpg', '/content/classifcation/Garbage classification/paper/paper272.jpg', '/content/classifcation/Garbage classification/paper/paper104.jpg', '/content/classifcation/Garbage classification/paper/paper226.jpg', '/content/classifcation/Garbage classification/paper/paper244.jpg', '/content/classifcation/Garbage classification/paper/paper195.jpg', '/content/classifcation/Garbage classification/paper/paper287.jpg', '/content/classifcation/Garbage classification/paper/paper54.jpg', '/content/classifcation/Garbage classification/paper/paper89.jpg', '/content/classifcation/Garbage classification/paper/paper583.jpg', '/content/classifcation/Garbage classification/paper/paper94.jpg', '/content/classifcation/Garbage classification/paper/paper476.jpg', '/content/classifcation/Garbage classification/paper/paper328.jpg', '/content/classifcation/Garbage classification/paper/paper101.jpg', '/content/classifcation/Garbage classification/paper/paper93.jpg', '/content/classifcation/Garbage classification/paper/paper540.jpg', '/content/classifcation/Garbage classification/paper/paper581.jpg', '/content/classifcation/Garbage classification/paper/paper383.jpg', '/content/classifcation/Garbage classification/paper/paper205.jpg', '/content/classifcation/Garbage classification/paper/paper430.jpg', '/content/classifcation/Garbage classification/paper/paper408.jpg', '/content/classifcation/Garbage classification/paper/paper541.jpg', '/content/classifcation/Garbage classification/paper/paper73.jpg', '/content/classifcation/Garbage classification/paper/paper336.jpg', '/content/classifcation/Garbage classification/paper/paper413.jpg', '/content/classifcation/Garbage classification/paper/paper187.jpg', '/content/classifcation/Garbage classification/paper/paper59.jpg', '/content/classifcation/Garbage classification/paper/paper257.jpg', '/content/classifcation/Garbage classification/paper/paper295.jpg', '/content/classifcation/Garbage classification/paper/paper13.jpg', '/content/classifcation/Garbage classification/paper/paper233.jpg', '/content/classifcation/Garbage classification/paper/paper102.jpg', '/content/classifcation/Garbage classification/paper/paper546.jpg', '/content/classifcation/Garbage classification/paper/paper548.jpg', '/content/classifcation/Garbage classification/paper/paper71.jpg', '/content/classifcation/Garbage classification/paper/paper549.jpg', '/content/classifcation/Garbage classification/paper/paper208.jpg', '/content/classifcation/Garbage classification/paper/paper5.jpg', '/content/classifcation/Garbage classification/paper/paper220.jpg', '/content/classifcation/Garbage classification/paper/paper12.jpg', '/content/classifcation/Garbage classification/paper/paper315.jpg', '/content/classifcation/Garbage classification/paper/paper100.jpg', '/content/classifcation/Garbage classification/paper/paper16.jpg', '/content/classifcation/Garbage classification/paper/paper203.jpg', '/content/classifcation/Garbage classification/paper/paper38.jpg', '/content/classifcation/Garbage classification/paper/paper412.jpg', '/content/classifcation/Garbage classification/paper/paper482.jpg', '/content/classifcation/Garbage classification/paper/paper15.jpg', '/content/classifcation/Garbage classification/paper/paper278.jpg', '/content/classifcation/Garbage classification/paper/paper227.jpg', '/content/classifcation/Garbage classification/paper/paper2.jpg', '/content/classifcation/Garbage classification/paper/paper447.jpg', '/content/classifcation/Garbage classification/paper/paper19.jpg', '/content/classifcation/Garbage classification/paper/paper309.jpg', '/content/classifcation/Garbage classification/paper/paper133.jpg', '/content/classifcation/Garbage classification/paper/paper110.jpg', '/content/classifcation/Garbage classification/paper/paper330.jpg', '/content/classifcation/Garbage classification/paper/paper77.jpg', '/content/classifcation/Garbage classification/paper/paper326.jpg', '/content/classifcation/Garbage classification/paper/paper160.jpg', '/content/classifcation/Garbage classification/paper/paper333.jpg', '/content/classifcation/Garbage classification/paper/paper443.jpg', '/content/classifcation/Garbage classification/paper/paper563.jpg', '/content/classifcation/Garbage classification/paper/paper454.jpg', '/content/classifcation/Garbage classification/paper/paper376.jpg', '/content/classifcation/Garbage classification/paper/paper480.jpg', '/content/classifcation/Garbage classification/paper/paper264.jpg', '/content/classifcation/Garbage classification/paper/paper335.jpg', '/content/classifcation/Garbage classification/paper/paper562.jpg', '/content/classifcation/Garbage classification/paper/paper146.jpg', '/content/classifcation/Garbage classification/paper/paper505.jpg', '/content/classifcation/Garbage classification/paper/paper506.jpg', '/content/classifcation/Garbage classification/paper/paper190.jpg', '/content/classifcation/Garbage classification/paper/paper414.jpg', '/content/classifcation/Garbage classification/paper/paper231.jpg', '/content/classifcation/Garbage classification/paper/paper495.jpg', '/content/classifcation/Garbage classification/paper/paper121.jpg', '/content/classifcation/Garbage classification/paper/paper310.jpg', '/content/classifcation/Garbage classification/paper/paper351.jpg', '/content/classifcation/Garbage classification/paper/paper211.jpg', '/content/classifcation/Garbage classification/paper/paper18.jpg', '/content/classifcation/Garbage classification/paper/paper539.jpg', '/content/classifcation/Garbage classification/paper/paper193.jpg', '/content/classifcation/Garbage classification/paper/paper126.jpg', '/content/classifcation/Garbage classification/paper/paper128.jpg', '/content/classifcation/Garbage classification/paper/paper510.jpg', '/content/classifcation/Garbage classification/paper/paper247.jpg', '/content/classifcation/Garbage classification/paper/paper329.jpg', '/content/classifcation/Garbage classification/paper/paper590.jpg', '/content/classifcation/Garbage classification/paper/paper306.jpg', '/content/classifcation/Garbage classification/paper/paper521.jpg', '/content/classifcation/Garbage classification/paper/paper319.jpg', '/content/classifcation/Garbage classification/paper/paper553.jpg', '/content/classifcation/Garbage classification/paper/paper55.jpg', '/content/classifcation/Garbage classification/paper/paper288.jpg', '/content/classifcation/Garbage classification/paper/paper455.jpg', '/content/classifcation/Garbage classification/paper/paper544.jpg', '/content/classifcation/Garbage classification/paper/paper23.jpg', '/content/classifcation/Garbage classification/paper/paper117.jpg', '/content/classifcation/Garbage classification/paper/paper569.jpg', '/content/classifcation/Garbage classification/paper/paper502.jpg']\n",
            "['/content/classifcation/Garbage classification/plastic/plastic39.jpg', '/content/classifcation/Garbage classification/plastic/plastic27.jpg', '/content/classifcation/Garbage classification/plastic/plastic190.jpg', '/content/classifcation/Garbage classification/plastic/plastic413.jpg', '/content/classifcation/Garbage classification/plastic/plastic427.jpg', '/content/classifcation/Garbage classification/plastic/plastic448.jpg', '/content/classifcation/Garbage classification/plastic/plastic263.jpg', '/content/classifcation/Garbage classification/plastic/plastic157.jpg', '/content/classifcation/Garbage classification/plastic/plastic450.jpg', '/content/classifcation/Garbage classification/plastic/plastic276.jpg', '/content/classifcation/Garbage classification/plastic/plastic78.jpg', '/content/classifcation/Garbage classification/plastic/plastic165.jpg', '/content/classifcation/Garbage classification/plastic/plastic119.jpg', '/content/classifcation/Garbage classification/plastic/plastic174.jpg', '/content/classifcation/Garbage classification/plastic/plastic164.jpg', '/content/classifcation/Garbage classification/plastic/plastic401.jpg', '/content/classifcation/Garbage classification/plastic/plastic308.jpg', '/content/classifcation/Garbage classification/plastic/plastic469.jpg', '/content/classifcation/Garbage classification/plastic/plastic328.jpg', '/content/classifcation/Garbage classification/plastic/plastic333.jpg', '/content/classifcation/Garbage classification/plastic/plastic250.jpg', '/content/classifcation/Garbage classification/plastic/plastic437.jpg', '/content/classifcation/Garbage classification/plastic/plastic75.jpg', '/content/classifcation/Garbage classification/plastic/plastic442.jpg', '/content/classifcation/Garbage classification/plastic/plastic434.jpg', '/content/classifcation/Garbage classification/plastic/plastic158.jpg', '/content/classifcation/Garbage classification/plastic/plastic239.jpg', '/content/classifcation/Garbage classification/plastic/plastic66.jpg', '/content/classifcation/Garbage classification/plastic/plastic168.jpg', '/content/classifcation/Garbage classification/plastic/plastic166.jpg', '/content/classifcation/Garbage classification/plastic/plastic204.jpg', '/content/classifcation/Garbage classification/plastic/plastic291.jpg', '/content/classifcation/Garbage classification/plastic/plastic299.jpg', '/content/classifcation/Garbage classification/plastic/plastic169.jpg', '/content/classifcation/Garbage classification/plastic/plastic216.jpg', '/content/classifcation/Garbage classification/plastic/plastic74.jpg', '/content/classifcation/Garbage classification/plastic/plastic402.jpg', '/content/classifcation/Garbage classification/plastic/plastic138.jpg', '/content/classifcation/Garbage classification/plastic/plastic55.jpg', '/content/classifcation/Garbage classification/plastic/plastic47.jpg', '/content/classifcation/Garbage classification/plastic/plastic463.jpg', '/content/classifcation/Garbage classification/plastic/plastic242.jpg', '/content/classifcation/Garbage classification/plastic/plastic22.jpg', '/content/classifcation/Garbage classification/plastic/plastic362.jpg', '/content/classifcation/Garbage classification/plastic/plastic99.jpg', '/content/classifcation/Garbage classification/plastic/plastic246.jpg', '/content/classifcation/Garbage classification/plastic/plastic49.jpg', '/content/classifcation/Garbage classification/plastic/plastic187.jpg', '/content/classifcation/Garbage classification/plastic/plastic235.jpg', '/content/classifcation/Garbage classification/plastic/plastic285.jpg', '/content/classifcation/Garbage classification/plastic/plastic326.jpg', '/content/classifcation/Garbage classification/plastic/plastic337.jpg', '/content/classifcation/Garbage classification/plastic/plastic309.jpg', '/content/classifcation/Garbage classification/plastic/plastic287.jpg', '/content/classifcation/Garbage classification/plastic/plastic252.jpg', '/content/classifcation/Garbage classification/plastic/plastic421.jpg', '/content/classifcation/Garbage classification/plastic/plastic380.jpg', '/content/classifcation/Garbage classification/plastic/plastic161.jpg', '/content/classifcation/Garbage classification/plastic/plastic108.jpg', '/content/classifcation/Garbage classification/plastic/plastic191.jpg', '/content/classifcation/Garbage classification/plastic/plastic162.jpg', '/content/classifcation/Garbage classification/plastic/plastic438.jpg', '/content/classifcation/Garbage classification/plastic/plastic441.jpg', '/content/classifcation/Garbage classification/plastic/plastic317.jpg', '/content/classifcation/Garbage classification/plastic/plastic336.jpg', '/content/classifcation/Garbage classification/plastic/plastic210.jpg', '/content/classifcation/Garbage classification/plastic/plastic87.jpg', '/content/classifcation/Garbage classification/plastic/plastic385.jpg', '/content/classifcation/Garbage classification/plastic/plastic233.jpg', '/content/classifcation/Garbage classification/plastic/plastic244.jpg', '/content/classifcation/Garbage classification/plastic/plastic390.jpg', '/content/classifcation/Garbage classification/plastic/plastic349.jpg', '/content/classifcation/Garbage classification/plastic/plastic215.jpg', '/content/classifcation/Garbage classification/plastic/plastic323.jpg', '/content/classifcation/Garbage classification/plastic/plastic461.jpg', '/content/classifcation/Garbage classification/plastic/plastic482.jpg', '/content/classifcation/Garbage classification/plastic/plastic144.jpg', '/content/classifcation/Garbage classification/plastic/plastic196.jpg', '/content/classifcation/Garbage classification/plastic/plastic282.jpg', '/content/classifcation/Garbage classification/plastic/plastic409.jpg', '/content/classifcation/Garbage classification/plastic/plastic353.jpg', '/content/classifcation/Garbage classification/plastic/plastic154.jpg', '/content/classifcation/Garbage classification/plastic/plastic48.jpg', '/content/classifcation/Garbage classification/plastic/plastic382.jpg', '/content/classifcation/Garbage classification/plastic/plastic392.jpg', '/content/classifcation/Garbage classification/plastic/plastic14.jpg', '/content/classifcation/Garbage classification/plastic/plastic458.jpg', '/content/classifcation/Garbage classification/plastic/plastic451.jpg', '/content/classifcation/Garbage classification/plastic/plastic183.jpg', '/content/classifcation/Garbage classification/plastic/plastic60.jpg', '/content/classifcation/Garbage classification/plastic/plastic65.jpg', '/content/classifcation/Garbage classification/plastic/plastic329.jpg', '/content/classifcation/Garbage classification/plastic/plastic176.jpg', '/content/classifcation/Garbage classification/plastic/plastic473.jpg', '/content/classifcation/Garbage classification/plastic/plastic9.jpg', '/content/classifcation/Garbage classification/plastic/plastic354.jpg', '/content/classifcation/Garbage classification/plastic/plastic56.jpg', '/content/classifcation/Garbage classification/plastic/plastic295.jpg', '/content/classifcation/Garbage classification/plastic/plastic301.jpg', '/content/classifcation/Garbage classification/plastic/plastic278.jpg', '/content/classifcation/Garbage classification/plastic/plastic293.jpg', '/content/classifcation/Garbage classification/plastic/plastic115.jpg', '/content/classifcation/Garbage classification/plastic/plastic197.jpg', '/content/classifcation/Garbage classification/plastic/plastic286.jpg', '/content/classifcation/Garbage classification/plastic/plastic77.jpg', '/content/classifcation/Garbage classification/plastic/plastic262.jpg', '/content/classifcation/Garbage classification/plastic/plastic365.jpg', '/content/classifcation/Garbage classification/plastic/plastic112.jpg', '/content/classifcation/Garbage classification/plastic/plastic292.jpg', '/content/classifcation/Garbage classification/plastic/plastic83.jpg', '/content/classifcation/Garbage classification/plastic/plastic70.jpg', '/content/classifcation/Garbage classification/plastic/plastic46.jpg', '/content/classifcation/Garbage classification/plastic/plastic398.jpg', '/content/classifcation/Garbage classification/plastic/plastic71.jpg', '/content/classifcation/Garbage classification/plastic/plastic62.jpg', '/content/classifcation/Garbage classification/plastic/plastic76.jpg', '/content/classifcation/Garbage classification/plastic/plastic57.jpg', '/content/classifcation/Garbage classification/plastic/plastic106.jpg', '/content/classifcation/Garbage classification/plastic/plastic306.jpg', '/content/classifcation/Garbage classification/plastic/plastic316.jpg', '/content/classifcation/Garbage classification/plastic/plastic201.jpg', '/content/classifcation/Garbage classification/plastic/plastic283.jpg', '/content/classifcation/Garbage classification/plastic/plastic182.jpg', '/content/classifcation/Garbage classification/plastic/plastic206.jpg', '/content/classifcation/Garbage classification/plastic/plastic410.jpg', '/content/classifcation/Garbage classification/plastic/plastic205.jpg', '/content/classifcation/Garbage classification/plastic/plastic23.jpg', '/content/classifcation/Garbage classification/plastic/plastic198.jpg', '/content/classifcation/Garbage classification/plastic/plastic418.jpg', '/content/classifcation/Garbage classification/plastic/plastic453.jpg', '/content/classifcation/Garbage classification/plastic/plastic24.jpg', '/content/classifcation/Garbage classification/plastic/plastic42.jpg', '/content/classifcation/Garbage classification/plastic/plastic211.jpg', '/content/classifcation/Garbage classification/plastic/plastic404.jpg', '/content/classifcation/Garbage classification/plastic/plastic375.jpg', '/content/classifcation/Garbage classification/plastic/plastic63.jpg', '/content/classifcation/Garbage classification/plastic/plastic208.jpg', '/content/classifcation/Garbage classification/plastic/plastic403.jpg', '/content/classifcation/Garbage classification/plastic/plastic439.jpg', '/content/classifcation/Garbage classification/plastic/plastic146.jpg', '/content/classifcation/Garbage classification/plastic/plastic142.jpg', '/content/classifcation/Garbage classification/plastic/plastic177.jpg', '/content/classifcation/Garbage classification/plastic/plastic30.jpg', '/content/classifcation/Garbage classification/plastic/plastic464.jpg', '/content/classifcation/Garbage classification/plastic/plastic33.jpg', '/content/classifcation/Garbage classification/plastic/plastic134.jpg', '/content/classifcation/Garbage classification/plastic/plastic352.jpg', '/content/classifcation/Garbage classification/plastic/plastic325.jpg', '/content/classifcation/Garbage classification/plastic/plastic436.jpg', '/content/classifcation/Garbage classification/plastic/plastic247.jpg', '/content/classifcation/Garbage classification/plastic/plastic54.jpg', '/content/classifcation/Garbage classification/plastic/plastic342.jpg', '/content/classifcation/Garbage classification/plastic/plastic10.jpg', '/content/classifcation/Garbage classification/plastic/plastic44.jpg', '/content/classifcation/Garbage classification/plastic/plastic456.jpg', '/content/classifcation/Garbage classification/plastic/plastic123.jpg', '/content/classifcation/Garbage classification/plastic/plastic428.jpg', '/content/classifcation/Garbage classification/plastic/plastic305.jpg', '/content/classifcation/Garbage classification/plastic/plastic125.jpg', '/content/classifcation/Garbage classification/plastic/plastic351.jpg', '/content/classifcation/Garbage classification/plastic/plastic406.jpg', '/content/classifcation/Garbage classification/plastic/plastic229.jpg', '/content/classifcation/Garbage classification/plastic/plastic440.jpg', '/content/classifcation/Garbage classification/plastic/plastic220.jpg', '/content/classifcation/Garbage classification/plastic/plastic423.jpg', '/content/classifcation/Garbage classification/plastic/plastic15.jpg', '/content/classifcation/Garbage classification/plastic/plastic426.jpg', '/content/classifcation/Garbage classification/plastic/plastic260.jpg', '/content/classifcation/Garbage classification/plastic/plastic79.jpg', '/content/classifcation/Garbage classification/plastic/plastic97.jpg', '/content/classifcation/Garbage classification/plastic/plastic45.jpg', '/content/classifcation/Garbage classification/plastic/plastic468.jpg', '/content/classifcation/Garbage classification/plastic/plastic16.jpg', '/content/classifcation/Garbage classification/plastic/plastic372.jpg', '/content/classifcation/Garbage classification/plastic/plastic145.jpg', '/content/classifcation/Garbage classification/plastic/plastic273.jpg', '/content/classifcation/Garbage classification/plastic/plastic462.jpg', '/content/classifcation/Garbage classification/plastic/plastic110.jpg', '/content/classifcation/Garbage classification/plastic/plastic35.jpg', '/content/classifcation/Garbage classification/plastic/plastic381.jpg', '/content/classifcation/Garbage classification/plastic/plastic475.jpg', '/content/classifcation/Garbage classification/plastic/plastic202.jpg', '/content/classifcation/Garbage classification/plastic/plastic476.jpg', '/content/classifcation/Garbage classification/plastic/plastic102.jpg', '/content/classifcation/Garbage classification/plastic/plastic192.jpg', '/content/classifcation/Garbage classification/plastic/plastic180.jpg', '/content/classifcation/Garbage classification/plastic/plastic422.jpg', '/content/classifcation/Garbage classification/plastic/plastic277.jpg', '/content/classifcation/Garbage classification/plastic/plastic356.jpg', '/content/classifcation/Garbage classification/plastic/plastic341.jpg', '/content/classifcation/Garbage classification/plastic/plastic344.jpg', '/content/classifcation/Garbage classification/plastic/plastic332.jpg', '/content/classifcation/Garbage classification/plastic/plastic213.jpg', '/content/classifcation/Garbage classification/plastic/plastic370.jpg', '/content/classifcation/Garbage classification/plastic/plastic167.jpg', '/content/classifcation/Garbage classification/plastic/plastic357.jpg', '/content/classifcation/Garbage classification/plastic/plastic331.jpg', '/content/classifcation/Garbage classification/plastic/plastic383.jpg', '/content/classifcation/Garbage classification/plastic/plastic284.jpg', '/content/classifcation/Garbage classification/plastic/plastic13.jpg', '/content/classifcation/Garbage classification/plastic/plastic143.jpg', '/content/classifcation/Garbage classification/plastic/plastic345.jpg', '/content/classifcation/Garbage classification/plastic/plastic61.jpg', '/content/classifcation/Garbage classification/plastic/plastic6.jpg', '/content/classifcation/Garbage classification/plastic/plastic214.jpg', '/content/classifcation/Garbage classification/plastic/plastic452.jpg', '/content/classifcation/Garbage classification/plastic/plastic170.jpg', '/content/classifcation/Garbage classification/plastic/plastic241.jpg', '/content/classifcation/Garbage classification/plastic/plastic147.jpg', '/content/classifcation/Garbage classification/plastic/plastic8.jpg', '/content/classifcation/Garbage classification/plastic/plastic419.jpg', '/content/classifcation/Garbage classification/plastic/plastic84.jpg', '/content/classifcation/Garbage classification/plastic/plastic117.jpg', '/content/classifcation/Garbage classification/plastic/plastic188.jpg', '/content/classifcation/Garbage classification/plastic/plastic300.jpg', '/content/classifcation/Garbage classification/plastic/plastic90.jpg', '/content/classifcation/Garbage classification/plastic/plastic4.jpg', '/content/classifcation/Garbage classification/plastic/plastic445.jpg', '/content/classifcation/Garbage classification/plastic/plastic471.jpg', '/content/classifcation/Garbage classification/plastic/plastic407.jpg', '/content/classifcation/Garbage classification/plastic/plastic240.jpg', '/content/classifcation/Garbage classification/plastic/plastic257.jpg', '/content/classifcation/Garbage classification/plastic/plastic193.jpg', '/content/classifcation/Garbage classification/plastic/plastic395.jpg', '/content/classifcation/Garbage classification/plastic/plastic443.jpg', '/content/classifcation/Garbage classification/plastic/plastic270.jpg', '/content/classifcation/Garbage classification/plastic/plastic379.jpg', '/content/classifcation/Garbage classification/plastic/plastic364.jpg', '/content/classifcation/Garbage classification/plastic/plastic141.jpg', '/content/classifcation/Garbage classification/plastic/plastic139.jpg', '/content/classifcation/Garbage classification/plastic/plastic194.jpg', '/content/classifcation/Garbage classification/plastic/plastic275.jpg', '/content/classifcation/Garbage classification/plastic/plastic207.jpg', '/content/classifcation/Garbage classification/plastic/plastic111.jpg', '/content/classifcation/Garbage classification/plastic/plastic393.jpg', '/content/classifcation/Garbage classification/plastic/plastic137.jpg', '/content/classifcation/Garbage classification/plastic/plastic195.jpg', '/content/classifcation/Garbage classification/plastic/plastic140.jpg', '/content/classifcation/Garbage classification/plastic/plastic50.jpg', '/content/classifcation/Garbage classification/plastic/plastic346.jpg', '/content/classifcation/Garbage classification/plastic/plastic131.jpg', '/content/classifcation/Garbage classification/plastic/plastic267.jpg', '/content/classifcation/Garbage classification/plastic/plastic289.jpg', '/content/classifcation/Garbage classification/plastic/plastic359.jpg', '/content/classifcation/Garbage classification/plastic/plastic415.jpg', '/content/classifcation/Garbage classification/plastic/plastic93.jpg', '/content/classifcation/Garbage classification/plastic/plastic408.jpg', '/content/classifcation/Garbage classification/plastic/plastic43.jpg', '/content/classifcation/Garbage classification/plastic/plastic80.jpg', '/content/classifcation/Garbage classification/plastic/plastic340.jpg', '/content/classifcation/Garbage classification/plastic/plastic155.jpg', '/content/classifcation/Garbage classification/plastic/plastic64.jpg', '/content/classifcation/Garbage classification/plastic/plastic175.jpg', '/content/classifcation/Garbage classification/plastic/plastic472.jpg', '/content/classifcation/Garbage classification/plastic/plastic265.jpg', '/content/classifcation/Garbage classification/plastic/plastic481.jpg', '/content/classifcation/Garbage classification/plastic/plastic38.jpg', '/content/classifcation/Garbage classification/plastic/plastic248.jpg', '/content/classifcation/Garbage classification/plastic/plastic151.jpg', '/content/classifcation/Garbage classification/plastic/plastic259.jpg', '/content/classifcation/Garbage classification/plastic/plastic429.jpg', '/content/classifcation/Garbage classification/plastic/plastic366.jpg', '/content/classifcation/Garbage classification/plastic/plastic209.jpg', '/content/classifcation/Garbage classification/plastic/plastic96.jpg', '/content/classifcation/Garbage classification/plastic/plastic199.jpg', '/content/classifcation/Garbage classification/plastic/plastic34.jpg', '/content/classifcation/Garbage classification/plastic/plastic255.jpg', '/content/classifcation/Garbage classification/plastic/plastic274.jpg', '/content/classifcation/Garbage classification/plastic/plastic40.jpg', '/content/classifcation/Garbage classification/plastic/plastic320.jpg', '/content/classifcation/Garbage classification/plastic/plastic122.jpg', '/content/classifcation/Garbage classification/plastic/plastic384.jpg', '/content/classifcation/Garbage classification/plastic/plastic69.jpg', '/content/classifcation/Garbage classification/plastic/plastic288.jpg', '/content/classifcation/Garbage classification/plastic/plastic310.jpg', '/content/classifcation/Garbage classification/plastic/plastic88.jpg', '/content/classifcation/Garbage classification/plastic/plastic411.jpg', '/content/classifcation/Garbage classification/plastic/plastic219.jpg', '/content/classifcation/Garbage classification/plastic/plastic314.jpg', '/content/classifcation/Garbage classification/plastic/plastic5.jpg', '/content/classifcation/Garbage classification/plastic/plastic68.jpg', '/content/classifcation/Garbage classification/plastic/plastic470.jpg', '/content/classifcation/Garbage classification/plastic/plastic11.jpg', '/content/classifcation/Garbage classification/plastic/plastic297.jpg', '/content/classifcation/Garbage classification/plastic/plastic81.jpg', '/content/classifcation/Garbage classification/plastic/plastic313.jpg', '/content/classifcation/Garbage classification/plastic/plastic53.jpg', '/content/classifcation/Garbage classification/plastic/plastic126.jpg', '/content/classifcation/Garbage classification/plastic/plastic105.jpg', '/content/classifcation/Garbage classification/plastic/plastic37.jpg', '/content/classifcation/Garbage classification/plastic/plastic120.jpg', '/content/classifcation/Garbage classification/plastic/plastic386.jpg', '/content/classifcation/Garbage classification/plastic/plastic17.jpg', '/content/classifcation/Garbage classification/plastic/plastic130.jpg', '/content/classifcation/Garbage classification/plastic/plastic373.jpg', '/content/classifcation/Garbage classification/plastic/plastic302.jpg', '/content/classifcation/Garbage classification/plastic/plastic399.jpg', '/content/classifcation/Garbage classification/plastic/plastic129.jpg', '/content/classifcation/Garbage classification/plastic/plastic172.jpg', '/content/classifcation/Garbage classification/plastic/plastic303.jpg', '/content/classifcation/Garbage classification/plastic/plastic338.jpg', '/content/classifcation/Garbage classification/plastic/plastic133.jpg', '/content/classifcation/Garbage classification/plastic/plastic272.jpg', '/content/classifcation/Garbage classification/plastic/plastic312.jpg', '/content/classifcation/Garbage classification/plastic/plastic227.jpg', '/content/classifcation/Garbage classification/plastic/plastic467.jpg', '/content/classifcation/Garbage classification/plastic/plastic376.jpg', '/content/classifcation/Garbage classification/plastic/plastic446.jpg', '/content/classifcation/Garbage classification/plastic/plastic231.jpg', '/content/classifcation/Garbage classification/plastic/plastic444.jpg', '/content/classifcation/Garbage classification/plastic/plastic478.jpg', '/content/classifcation/Garbage classification/plastic/plastic189.jpg', '/content/classifcation/Garbage classification/plastic/plastic232.jpg', '/content/classifcation/Garbage classification/plastic/plastic85.jpg', '/content/classifcation/Garbage classification/plastic/plastic256.jpg', '/content/classifcation/Garbage classification/plastic/plastic430.jpg', '/content/classifcation/Garbage classification/plastic/plastic387.jpg', '/content/classifcation/Garbage classification/plastic/plastic321.jpg', '/content/classifcation/Garbage classification/plastic/plastic113.jpg', '/content/classifcation/Garbage classification/plastic/plastic186.jpg', '/content/classifcation/Garbage classification/plastic/plastic477.jpg', '/content/classifcation/Garbage classification/plastic/plastic217.jpg', '/content/classifcation/Garbage classification/plastic/plastic343.jpg', '/content/classifcation/Garbage classification/plastic/plastic318.jpg', '/content/classifcation/Garbage classification/plastic/plastic185.jpg', '/content/classifcation/Garbage classification/plastic/plastic91.jpg', '/content/classifcation/Garbage classification/plastic/plastic425.jpg', '/content/classifcation/Garbage classification/plastic/plastic19.jpg', '/content/classifcation/Garbage classification/plastic/plastic116.jpg', '/content/classifcation/Garbage classification/plastic/plastic400.jpg', '/content/classifcation/Garbage classification/plastic/plastic334.jpg', '/content/classifcation/Garbage classification/plastic/plastic225.jpg', '/content/classifcation/Garbage classification/plastic/plastic480.jpg', '/content/classifcation/Garbage classification/plastic/plastic433.jpg', '/content/classifcation/Garbage classification/plastic/plastic72.jpg', '/content/classifcation/Garbage classification/plastic/plastic394.jpg', '/content/classifcation/Garbage classification/plastic/plastic184.jpg', '/content/classifcation/Garbage classification/plastic/plastic51.jpg', '/content/classifcation/Garbage classification/plastic/plastic28.jpg', '/content/classifcation/Garbage classification/plastic/plastic369.jpg', '/content/classifcation/Garbage classification/plastic/plastic173.jpg', '/content/classifcation/Garbage classification/plastic/plastic223.jpg', '/content/classifcation/Garbage classification/plastic/plastic290.jpg', '/content/classifcation/Garbage classification/plastic/plastic118.jpg', '/content/classifcation/Garbage classification/plastic/plastic41.jpg', '/content/classifcation/Garbage classification/plastic/plastic104.jpg', '/content/classifcation/Garbage classification/plastic/plastic254.jpg', '/content/classifcation/Garbage classification/plastic/plastic243.jpg', '/content/classifcation/Garbage classification/plastic/plastic98.jpg', '/content/classifcation/Garbage classification/plastic/plastic135.jpg', '/content/classifcation/Garbage classification/plastic/plastic465.jpg', '/content/classifcation/Garbage classification/plastic/plastic109.jpg', '/content/classifcation/Garbage classification/plastic/plastic330.jpg', '/content/classifcation/Garbage classification/plastic/plastic294.jpg', '/content/classifcation/Garbage classification/plastic/plastic396.jpg', '/content/classifcation/Garbage classification/plastic/plastic296.jpg', '/content/classifcation/Garbage classification/plastic/plastic103.jpg', '/content/classifcation/Garbage classification/plastic/plastic95.jpg', '/content/classifcation/Garbage classification/plastic/plastic315.jpg', '/content/classifcation/Garbage classification/plastic/plastic416.jpg', '/content/classifcation/Garbage classification/plastic/plastic350.jpg', '/content/classifcation/Garbage classification/plastic/plastic150.jpg', '/content/classifcation/Garbage classification/plastic/plastic281.jpg', '/content/classifcation/Garbage classification/plastic/plastic355.jpg', '/content/classifcation/Garbage classification/plastic/plastic360.jpg', '/content/classifcation/Garbage classification/plastic/plastic86.jpg', '/content/classifcation/Garbage classification/plastic/plastic374.jpg', '/content/classifcation/Garbage classification/plastic/plastic335.jpg', '/content/classifcation/Garbage classification/plastic/plastic94.jpg', '/content/classifcation/Garbage classification/plastic/plastic226.jpg', '/content/classifcation/Garbage classification/plastic/plastic249.jpg', '/content/classifcation/Garbage classification/plastic/plastic271.jpg', '/content/classifcation/Garbage classification/plastic/plastic212.jpg', '/content/classifcation/Garbage classification/plastic/plastic324.jpg', '/content/classifcation/Garbage classification/plastic/plastic367.jpg', '/content/classifcation/Garbage classification/plastic/plastic307.jpg', '/content/classifcation/Garbage classification/plastic/plastic121.jpg', '/content/classifcation/Garbage classification/plastic/plastic67.jpg', '/content/classifcation/Garbage classification/plastic/plastic136.jpg', '/content/classifcation/Garbage classification/plastic/plastic397.jpg', '/content/classifcation/Garbage classification/plastic/plastic363.jpg', '/content/classifcation/Garbage classification/plastic/plastic253.jpg', '/content/classifcation/Garbage classification/plastic/plastic234.jpg', '/content/classifcation/Garbage classification/plastic/plastic101.jpg', '/content/classifcation/Garbage classification/plastic/plastic378.jpg', '/content/classifcation/Garbage classification/plastic/plastic20.jpg', '/content/classifcation/Garbage classification/plastic/plastic171.jpg', '/content/classifcation/Garbage classification/plastic/plastic92.jpg', '/content/classifcation/Garbage classification/plastic/plastic1.jpg', '/content/classifcation/Garbage classification/plastic/plastic159.jpg', '/content/classifcation/Garbage classification/plastic/plastic298.jpg', '/content/classifcation/Garbage classification/plastic/plastic12.jpg', '/content/classifcation/Garbage classification/plastic/plastic258.jpg', '/content/classifcation/Garbage classification/plastic/plastic466.jpg', '/content/classifcation/Garbage classification/plastic/plastic25.jpg', '/content/classifcation/Garbage classification/plastic/plastic268.jpg', '/content/classifcation/Garbage classification/plastic/plastic455.jpg', '/content/classifcation/Garbage classification/plastic/plastic58.jpg', '/content/classifcation/Garbage classification/plastic/plastic261.jpg', '/content/classifcation/Garbage classification/plastic/plastic132.jpg', '/content/classifcation/Garbage classification/plastic/plastic222.jpg', '/content/classifcation/Garbage classification/plastic/plastic479.jpg', '/content/classifcation/Garbage classification/plastic/plastic127.jpg', '/content/classifcation/Garbage classification/plastic/plastic420.jpg', '/content/classifcation/Garbage classification/plastic/plastic269.jpg', '/content/classifcation/Garbage classification/plastic/plastic31.jpg', '/content/classifcation/Garbage classification/plastic/plastic417.jpg', '/content/classifcation/Garbage classification/plastic/plastic18.jpg', '/content/classifcation/Garbage classification/plastic/plastic218.jpg', '/content/classifcation/Garbage classification/plastic/plastic460.jpg', '/content/classifcation/Garbage classification/plastic/plastic279.jpg', '/content/classifcation/Garbage classification/plastic/plastic114.jpg', '/content/classifcation/Garbage classification/plastic/plastic454.jpg', '/content/classifcation/Garbage classification/plastic/plastic368.jpg', '/content/classifcation/Garbage classification/plastic/plastic424.jpg', '/content/classifcation/Garbage classification/plastic/plastic358.jpg', '/content/classifcation/Garbage classification/plastic/plastic107.jpg', '/content/classifcation/Garbage classification/plastic/plastic264.jpg', '/content/classifcation/Garbage classification/plastic/plastic203.jpg', '/content/classifcation/Garbage classification/plastic/plastic266.jpg', '/content/classifcation/Garbage classification/plastic/plastic280.jpg', '/content/classifcation/Garbage classification/plastic/plastic377.jpg', '/content/classifcation/Garbage classification/plastic/plastic322.jpg', '/content/classifcation/Garbage classification/plastic/plastic431.jpg', '/content/classifcation/Garbage classification/plastic/plastic245.jpg', '/content/classifcation/Garbage classification/plastic/plastic361.jpg', '/content/classifcation/Garbage classification/plastic/plastic36.jpg', '/content/classifcation/Garbage classification/plastic/plastic163.jpg', '/content/classifcation/Garbage classification/plastic/plastic237.jpg', '/content/classifcation/Garbage classification/plastic/plastic181.jpg', '/content/classifcation/Garbage classification/plastic/plastic26.jpg', '/content/classifcation/Garbage classification/plastic/plastic435.jpg', '/content/classifcation/Garbage classification/plastic/plastic59.jpg', '/content/classifcation/Garbage classification/plastic/plastic148.jpg', '/content/classifcation/Garbage classification/plastic/plastic21.jpg', '/content/classifcation/Garbage classification/plastic/plastic414.jpg', '/content/classifcation/Garbage classification/plastic/plastic3.jpg', '/content/classifcation/Garbage classification/plastic/plastic388.jpg', '/content/classifcation/Garbage classification/plastic/plastic224.jpg', '/content/classifcation/Garbage classification/plastic/plastic160.jpg', '/content/classifcation/Garbage classification/plastic/plastic128.jpg', '/content/classifcation/Garbage classification/plastic/plastic52.jpg', '/content/classifcation/Garbage classification/plastic/plastic405.jpg', '/content/classifcation/Garbage classification/plastic/plastic391.jpg', '/content/classifcation/Garbage classification/plastic/plastic311.jpg', '/content/classifcation/Garbage classification/plastic/plastic200.jpg', '/content/classifcation/Garbage classification/plastic/plastic230.jpg', '/content/classifcation/Garbage classification/plastic/plastic178.jpg', '/content/classifcation/Garbage classification/plastic/plastic156.jpg', '/content/classifcation/Garbage classification/plastic/plastic152.jpg', '/content/classifcation/Garbage classification/plastic/plastic389.jpg', '/content/classifcation/Garbage classification/plastic/plastic179.jpg', '/content/classifcation/Garbage classification/plastic/plastic221.jpg', '/content/classifcation/Garbage classification/plastic/plastic89.jpg', '/content/classifcation/Garbage classification/plastic/plastic327.jpg', '/content/classifcation/Garbage classification/plastic/plastic319.jpg', '/content/classifcation/Garbage classification/plastic/plastic347.jpg', '/content/classifcation/Garbage classification/plastic/plastic29.jpg', '/content/classifcation/Garbage classification/plastic/plastic251.jpg', '/content/classifcation/Garbage classification/plastic/plastic228.jpg', '/content/classifcation/Garbage classification/plastic/plastic236.jpg', '/content/classifcation/Garbage classification/plastic/plastic238.jpg', '/content/classifcation/Garbage classification/plastic/plastic348.jpg', '/content/classifcation/Garbage classification/plastic/plastic82.jpg', '/content/classifcation/Garbage classification/plastic/plastic371.jpg', '/content/classifcation/Garbage classification/plastic/plastic153.jpg', '/content/classifcation/Garbage classification/plastic/plastic412.jpg', '/content/classifcation/Garbage classification/plastic/plastic7.jpg', '/content/classifcation/Garbage classification/plastic/plastic432.jpg', '/content/classifcation/Garbage classification/plastic/plastic2.jpg', '/content/classifcation/Garbage classification/plastic/plastic457.jpg', '/content/classifcation/Garbage classification/plastic/plastic459.jpg', '/content/classifcation/Garbage classification/plastic/plastic124.jpg', '/content/classifcation/Garbage classification/plastic/plastic32.jpg', '/content/classifcation/Garbage classification/plastic/plastic339.jpg', '/content/classifcation/Garbage classification/plastic/plastic474.jpg', '/content/classifcation/Garbage classification/plastic/plastic447.jpg', '/content/classifcation/Garbage classification/plastic/plastic100.jpg', '/content/classifcation/Garbage classification/plastic/plastic449.jpg', '/content/classifcation/Garbage classification/plastic/plastic73.jpg', '/content/classifcation/Garbage classification/plastic/plastic149.jpg', '/content/classifcation/Garbage classification/plastic/plastic304.jpg']\n",
            "['/content/classifcation/Garbage classification/cardboard/cardboard238.jpg', '/content/classifcation/Garbage classification/cardboard/cardboard201.jpg', '/content/classifcation/Garbage classification/cardboard/cardboard323.jpg', '/content/classifcation/Garbage classification/cardboard/cardboard360.jpg', '/content/classifcation/Garbage classification/cardboard/cardboard274.jpg', '/content/classifcation/Garbage classification/cardboard/cardboard381.jpg', '/content/classifcation/Garbage classification/cardboard/cardboard368.jpg', '/content/classifcation/Garbage classification/cardboard/cardboard37.jpg', '/content/classifcation/Garbage classification/cardboard/cardboard205.jpg', '/content/classifcation/Garbage classification/cardboard/cardboard140.jpg', '/content/classifcation/Garbage classification/cardboard/cardboard299.jpg', '/content/classifcation/Garbage classification/cardboard/cardboard317.jpg', '/content/classifcation/Garbage classification/cardboard/cardboard1.jpg', '/content/classifcation/Garbage classification/cardboard/cardboard255.jpg', '/content/classifcation/Garbage classification/cardboard/cardboard118.jpg', '/content/classifcation/Garbage classification/cardboard/cardboard382.jpg', '/content/classifcation/Garbage classification/cardboard/cardboard77.jpg', '/content/classifcation/Garbage classification/cardboard/cardboard9.jpg', '/content/classifcation/Garbage classification/cardboard/cardboard31.jpg', '/content/classifcation/Garbage classification/cardboard/cardboard71.jpg', '/content/classifcation/Garbage classification/cardboard/cardboard167.jpg', '/content/classifcation/Garbage classification/cardboard/cardboard120.jpg', '/content/classifcation/Garbage classification/cardboard/cardboard60.jpg', '/content/classifcation/Garbage classification/cardboard/cardboard172.jpg', '/content/classifcation/Garbage classification/cardboard/cardboard114.jpg', '/content/classifcation/Garbage classification/cardboard/cardboard149.jpg', '/content/classifcation/Garbage classification/cardboard/cardboard182.jpg', '/content/classifcation/Garbage classification/cardboard/cardboard154.jpg', '/content/classifcation/Garbage classification/cardboard/cardboard349.jpg', '/content/classifcation/Garbage classification/cardboard/cardboard55.jpg', '/content/classifcation/Garbage classification/cardboard/cardboard378.jpg', '/content/classifcation/Garbage classification/cardboard/cardboard23.jpg', '/content/classifcation/Garbage classification/cardboard/cardboard121.jpg', '/content/classifcation/Garbage classification/cardboard/cardboard50.jpg', '/content/classifcation/Garbage classification/cardboard/cardboard313.jpg', '/content/classifcation/Garbage classification/cardboard/cardboard353.jpg', '/content/classifcation/Garbage classification/cardboard/cardboard86.jpg', '/content/classifcation/Garbage classification/cardboard/cardboard207.jpg', '/content/classifcation/Garbage classification/cardboard/cardboard232.jpg', '/content/classifcation/Garbage classification/cardboard/cardboard19.jpg', '/content/classifcation/Garbage classification/cardboard/cardboard270.jpg', '/content/classifcation/Garbage classification/cardboard/cardboard396.jpg', '/content/classifcation/Garbage classification/cardboard/cardboard107.jpg', '/content/classifcation/Garbage classification/cardboard/cardboard300.jpg', '/content/classifcation/Garbage classification/cardboard/cardboard185.jpg', '/content/classifcation/Garbage classification/cardboard/cardboard363.jpg', '/content/classifcation/Garbage classification/cardboard/cardboard162.jpg', '/content/classifcation/Garbage classification/cardboard/cardboard251.jpg', '/content/classifcation/Garbage classification/cardboard/cardboard84.jpg', '/content/classifcation/Garbage classification/cardboard/cardboard279.jpg', '/content/classifcation/Garbage classification/cardboard/cardboard179.jpg', '/content/classifcation/Garbage classification/cardboard/cardboard186.jpg', '/content/classifcation/Garbage classification/cardboard/cardboard301.jpg', '/content/classifcation/Garbage classification/cardboard/cardboard45.jpg', '/content/classifcation/Garbage classification/cardboard/cardboard105.jpg', '/content/classifcation/Garbage classification/cardboard/cardboard198.jpg', '/content/classifcation/Garbage classification/cardboard/cardboard391.jpg', '/content/classifcation/Garbage classification/cardboard/cardboard389.jpg', '/content/classifcation/Garbage classification/cardboard/cardboard203.jpg', '/content/classifcation/Garbage classification/cardboard/cardboard260.jpg', '/content/classifcation/Garbage classification/cardboard/cardboard81.jpg', '/content/classifcation/Garbage classification/cardboard/cardboard289.jpg', '/content/classifcation/Garbage classification/cardboard/cardboard82.jpg', '/content/classifcation/Garbage classification/cardboard/cardboard113.jpg', '/content/classifcation/Garbage classification/cardboard/cardboard316.jpg', '/content/classifcation/Garbage classification/cardboard/cardboard303.jpg', '/content/classifcation/Garbage classification/cardboard/cardboard160.jpg', '/content/classifcation/Garbage classification/cardboard/cardboard63.jpg', '/content/classifcation/Garbage classification/cardboard/cardboard72.jpg', '/content/classifcation/Garbage classification/cardboard/cardboard11.jpg', '/content/classifcation/Garbage classification/cardboard/cardboard339.jpg', '/content/classifcation/Garbage classification/cardboard/cardboard271.jpg', '/content/classifcation/Garbage classification/cardboard/cardboard216.jpg', '/content/classifcation/Garbage classification/cardboard/cardboard155.jpg', '/content/classifcation/Garbage classification/cardboard/cardboard321.jpg', '/content/classifcation/Garbage classification/cardboard/cardboard250.jpg', '/content/classifcation/Garbage classification/cardboard/cardboard362.jpg', '/content/classifcation/Garbage classification/cardboard/cardboard387.jpg', '/content/classifcation/Garbage classification/cardboard/cardboard94.jpg', '/content/classifcation/Garbage classification/cardboard/cardboard54.jpg', '/content/classifcation/Garbage classification/cardboard/cardboard315.jpg', '/content/classifcation/Garbage classification/cardboard/cardboard254.jpg', '/content/classifcation/Garbage classification/cardboard/cardboard28.jpg', '/content/classifcation/Garbage classification/cardboard/cardboard330.jpg', '/content/classifcation/Garbage classification/cardboard/cardboard267.jpg', '/content/classifcation/Garbage classification/cardboard/cardboard7.jpg', '/content/classifcation/Garbage classification/cardboard/cardboard208.jpg', '/content/classifcation/Garbage classification/cardboard/cardboard183.jpg', '/content/classifcation/Garbage classification/cardboard/cardboard347.jpg', '/content/classifcation/Garbage classification/cardboard/cardboard357.jpg', '/content/classifcation/Garbage classification/cardboard/cardboard334.jpg', '/content/classifcation/Garbage classification/cardboard/cardboard345.jpg', '/content/classifcation/Garbage classification/cardboard/cardboard2.jpg', '/content/classifcation/Garbage classification/cardboard/cardboard123.jpg', '/content/classifcation/Garbage classification/cardboard/cardboard269.jpg', '/content/classifcation/Garbage classification/cardboard/cardboard264.jpg', '/content/classifcation/Garbage classification/cardboard/cardboard348.jpg', '/content/classifcation/Garbage classification/cardboard/cardboard324.jpg', '/content/classifcation/Garbage classification/cardboard/cardboard141.jpg', '/content/classifcation/Garbage classification/cardboard/cardboard90.jpg', '/content/classifcation/Garbage classification/cardboard/cardboard395.jpg', '/content/classifcation/Garbage classification/cardboard/cardboard322.jpg', '/content/classifcation/Garbage classification/cardboard/cardboard359.jpg', '/content/classifcation/Garbage classification/cardboard/cardboard40.jpg', '/content/classifcation/Garbage classification/cardboard/cardboard220.jpg', '/content/classifcation/Garbage classification/cardboard/cardboard319.jpg', '/content/classifcation/Garbage classification/cardboard/cardboard366.jpg', '/content/classifcation/Garbage classification/cardboard/cardboard244.jpg', '/content/classifcation/Garbage classification/cardboard/cardboard276.jpg', '/content/classifcation/Garbage classification/cardboard/cardboard83.jpg', '/content/classifcation/Garbage classification/cardboard/cardboard204.jpg', '/content/classifcation/Garbage classification/cardboard/cardboard148.jpg', '/content/classifcation/Garbage classification/cardboard/cardboard376.jpg', '/content/classifcation/Garbage classification/cardboard/cardboard6.jpg', '/content/classifcation/Garbage classification/cardboard/cardboard281.jpg', '/content/classifcation/Garbage classification/cardboard/cardboard385.jpg', '/content/classifcation/Garbage classification/cardboard/cardboard392.jpg', '/content/classifcation/Garbage classification/cardboard/cardboard355.jpg', '/content/classifcation/Garbage classification/cardboard/cardboard49.jpg', '/content/classifcation/Garbage classification/cardboard/cardboard29.jpg', '/content/classifcation/Garbage classification/cardboard/cardboard206.jpg', '/content/classifcation/Garbage classification/cardboard/cardboard181.jpg', '/content/classifcation/Garbage classification/cardboard/cardboard66.jpg', '/content/classifcation/Garbage classification/cardboard/cardboard76.jpg', '/content/classifcation/Garbage classification/cardboard/cardboard16.jpg', '/content/classifcation/Garbage classification/cardboard/cardboard296.jpg', '/content/classifcation/Garbage classification/cardboard/cardboard4.jpg', '/content/classifcation/Garbage classification/cardboard/cardboard342.jpg', '/content/classifcation/Garbage classification/cardboard/cardboard73.jpg', '/content/classifcation/Garbage classification/cardboard/cardboard249.jpg', '/content/classifcation/Garbage classification/cardboard/cardboard302.jpg', '/content/classifcation/Garbage classification/cardboard/cardboard112.jpg', '/content/classifcation/Garbage classification/cardboard/cardboard245.jpg', '/content/classifcation/Garbage classification/cardboard/cardboard70.jpg', '/content/classifcation/Garbage classification/cardboard/cardboard117.jpg', '/content/classifcation/Garbage classification/cardboard/cardboard100.jpg', '/content/classifcation/Garbage classification/cardboard/cardboard102.jpg', '/content/classifcation/Garbage classification/cardboard/cardboard125.jpg', '/content/classifcation/Garbage classification/cardboard/cardboard197.jpg', '/content/classifcation/Garbage classification/cardboard/cardboard374.jpg', '/content/classifcation/Garbage classification/cardboard/cardboard89.jpg', '/content/classifcation/Garbage classification/cardboard/cardboard5.jpg', '/content/classifcation/Garbage classification/cardboard/cardboard24.jpg', '/content/classifcation/Garbage classification/cardboard/cardboard364.jpg', '/content/classifcation/Garbage classification/cardboard/cardboard96.jpg', '/content/classifcation/Garbage classification/cardboard/cardboard115.jpg', '/content/classifcation/Garbage classification/cardboard/cardboard298.jpg', '/content/classifcation/Garbage classification/cardboard/cardboard168.jpg', '/content/classifcation/Garbage classification/cardboard/cardboard41.jpg', '/content/classifcation/Garbage classification/cardboard/cardboard130.jpg', '/content/classifcation/Garbage classification/cardboard/cardboard312.jpg', '/content/classifcation/Garbage classification/cardboard/cardboard243.jpg', '/content/classifcation/Garbage classification/cardboard/cardboard110.jpg', '/content/classifcation/Garbage classification/cardboard/cardboard131.jpg', '/content/classifcation/Garbage classification/cardboard/cardboard341.jpg', '/content/classifcation/Garbage classification/cardboard/cardboard211.jpg', '/content/classifcation/Garbage classification/cardboard/cardboard190.jpg', '/content/classifcation/Garbage classification/cardboard/cardboard278.jpg', '/content/classifcation/Garbage classification/cardboard/cardboard343.jpg', '/content/classifcation/Garbage classification/cardboard/cardboard214.jpg', '/content/classifcation/Garbage classification/cardboard/cardboard221.jpg', '/content/classifcation/Garbage classification/cardboard/cardboard371.jpg', '/content/classifcation/Garbage classification/cardboard/cardboard48.jpg', '/content/classifcation/Garbage classification/cardboard/cardboard240.jpg', '/content/classifcation/Garbage classification/cardboard/cardboard165.jpg', '/content/classifcation/Garbage classification/cardboard/cardboard275.jpg', '/content/classifcation/Garbage classification/cardboard/cardboard127.jpg', '/content/classifcation/Garbage classification/cardboard/cardboard361.jpg', '/content/classifcation/Garbage classification/cardboard/cardboard228.jpg', '/content/classifcation/Garbage classification/cardboard/cardboard192.jpg', '/content/classifcation/Garbage classification/cardboard/cardboard350.jpg', '/content/classifcation/Garbage classification/cardboard/cardboard34.jpg', '/content/classifcation/Garbage classification/cardboard/cardboard252.jpg', '/content/classifcation/Garbage classification/cardboard/cardboard152.jpg', '/content/classifcation/Garbage classification/cardboard/cardboard282.jpg', '/content/classifcation/Garbage classification/cardboard/cardboard65.jpg', '/content/classifcation/Garbage classification/cardboard/cardboard268.jpg', '/content/classifcation/Garbage classification/cardboard/cardboard210.jpg', '/content/classifcation/Garbage classification/cardboard/cardboard233.jpg', '/content/classifcation/Garbage classification/cardboard/cardboard173.jpg', '/content/classifcation/Garbage classification/cardboard/cardboard99.jpg', '/content/classifcation/Garbage classification/cardboard/cardboard383.jpg', '/content/classifcation/Garbage classification/cardboard/cardboard375.jpg', '/content/classifcation/Garbage classification/cardboard/cardboard56.jpg', '/content/classifcation/Garbage classification/cardboard/cardboard75.jpg', '/content/classifcation/Garbage classification/cardboard/cardboard304.jpg', '/content/classifcation/Garbage classification/cardboard/cardboard42.jpg', '/content/classifcation/Garbage classification/cardboard/cardboard133.jpg', '/content/classifcation/Garbage classification/cardboard/cardboard156.jpg', '/content/classifcation/Garbage classification/cardboard/cardboard108.jpg', '/content/classifcation/Garbage classification/cardboard/cardboard134.jpg', '/content/classifcation/Garbage classification/cardboard/cardboard180.jpg', '/content/classifcation/Garbage classification/cardboard/cardboard159.jpg', '/content/classifcation/Garbage classification/cardboard/cardboard61.jpg', '/content/classifcation/Garbage classification/cardboard/cardboard329.jpg', '/content/classifcation/Garbage classification/cardboard/cardboard17.jpg', '/content/classifcation/Garbage classification/cardboard/cardboard174.jpg', '/content/classifcation/Garbage classification/cardboard/cardboard266.jpg', '/content/classifcation/Garbage classification/cardboard/cardboard224.jpg', '/content/classifcation/Garbage classification/cardboard/cardboard256.jpg', '/content/classifcation/Garbage classification/cardboard/cardboard394.jpg', '/content/classifcation/Garbage classification/cardboard/cardboard158.jpg', '/content/classifcation/Garbage classification/cardboard/cardboard235.jpg', '/content/classifcation/Garbage classification/cardboard/cardboard388.jpg', '/content/classifcation/Garbage classification/cardboard/cardboard333.jpg', '/content/classifcation/Garbage classification/cardboard/cardboard288.jpg', '/content/classifcation/Garbage classification/cardboard/cardboard52.jpg', '/content/classifcation/Garbage classification/cardboard/cardboard64.jpg', '/content/classifcation/Garbage classification/cardboard/cardboard166.jpg', '/content/classifcation/Garbage classification/cardboard/cardboard369.jpg', '/content/classifcation/Garbage classification/cardboard/cardboard227.jpg', '/content/classifcation/Garbage classification/cardboard/cardboard138.jpg', '/content/classifcation/Garbage classification/cardboard/cardboard53.jpg', '/content/classifcation/Garbage classification/cardboard/cardboard95.jpg', '/content/classifcation/Garbage classification/cardboard/cardboard93.jpg', '/content/classifcation/Garbage classification/cardboard/cardboard67.jpg', '/content/classifcation/Garbage classification/cardboard/cardboard126.jpg', '/content/classifcation/Garbage classification/cardboard/cardboard213.jpg', '/content/classifcation/Garbage classification/cardboard/cardboard277.jpg', '/content/classifcation/Garbage classification/cardboard/cardboard390.jpg', '/content/classifcation/Garbage classification/cardboard/cardboard188.jpg', '/content/classifcation/Garbage classification/cardboard/cardboard399.jpg', '/content/classifcation/Garbage classification/cardboard/cardboard25.jpg', '/content/classifcation/Garbage classification/cardboard/cardboard111.jpg', '/content/classifcation/Garbage classification/cardboard/cardboard26.jpg', '/content/classifcation/Garbage classification/cardboard/cardboard143.jpg', '/content/classifcation/Garbage classification/cardboard/cardboard151.jpg', '/content/classifcation/Garbage classification/cardboard/cardboard85.jpg', '/content/classifcation/Garbage classification/cardboard/cardboard175.jpg', '/content/classifcation/Garbage classification/cardboard/cardboard219.jpg', '/content/classifcation/Garbage classification/cardboard/cardboard62.jpg', '/content/classifcation/Garbage classification/cardboard/cardboard403.jpg', '/content/classifcation/Garbage classification/cardboard/cardboard370.jpg', '/content/classifcation/Garbage classification/cardboard/cardboard320.jpg', '/content/classifcation/Garbage classification/cardboard/cardboard170.jpg', '/content/classifcation/Garbage classification/cardboard/cardboard217.jpg', '/content/classifcation/Garbage classification/cardboard/cardboard397.jpg', '/content/classifcation/Garbage classification/cardboard/cardboard91.jpg', '/content/classifcation/Garbage classification/cardboard/cardboard272.jpg', '/content/classifcation/Garbage classification/cardboard/cardboard402.jpg', '/content/classifcation/Garbage classification/cardboard/cardboard88.jpg', '/content/classifcation/Garbage classification/cardboard/cardboard310.jpg', '/content/classifcation/Garbage classification/cardboard/cardboard215.jpg', '/content/classifcation/Garbage classification/cardboard/cardboard79.jpg', '/content/classifcation/Garbage classification/cardboard/cardboard8.jpg', '/content/classifcation/Garbage classification/cardboard/cardboard51.jpg', '/content/classifcation/Garbage classification/cardboard/cardboard153.jpg', '/content/classifcation/Garbage classification/cardboard/cardboard142.jpg', '/content/classifcation/Garbage classification/cardboard/cardboard109.jpg', '/content/classifcation/Garbage classification/cardboard/cardboard184.jpg', '/content/classifcation/Garbage classification/cardboard/cardboard284.jpg', '/content/classifcation/Garbage classification/cardboard/cardboard157.jpg', '/content/classifcation/Garbage classification/cardboard/cardboard307.jpg', '/content/classifcation/Garbage classification/cardboard/cardboard280.jpg', '/content/classifcation/Garbage classification/cardboard/cardboard283.jpg', '/content/classifcation/Garbage classification/cardboard/cardboard169.jpg', '/content/classifcation/Garbage classification/cardboard/cardboard273.jpg', '/content/classifcation/Garbage classification/cardboard/cardboard30.jpg', '/content/classifcation/Garbage classification/cardboard/cardboard326.jpg', '/content/classifcation/Garbage classification/cardboard/cardboard59.jpg', '/content/classifcation/Garbage classification/cardboard/cardboard104.jpg', '/content/classifcation/Garbage classification/cardboard/cardboard46.jpg', '/content/classifcation/Garbage classification/cardboard/cardboard98.jpg', '/content/classifcation/Garbage classification/cardboard/cardboard358.jpg', '/content/classifcation/Garbage classification/cardboard/cardboard13.jpg', '/content/classifcation/Garbage classification/cardboard/cardboard292.jpg', '/content/classifcation/Garbage classification/cardboard/cardboard124.jpg', '/content/classifcation/Garbage classification/cardboard/cardboard241.jpg', '/content/classifcation/Garbage classification/cardboard/cardboard234.jpg', '/content/classifcation/Garbage classification/cardboard/cardboard377.jpg', '/content/classifcation/Garbage classification/cardboard/cardboard373.jpg', '/content/classifcation/Garbage classification/cardboard/cardboard257.jpg', '/content/classifcation/Garbage classification/cardboard/cardboard161.jpg', '/content/classifcation/Garbage classification/cardboard/cardboard337.jpg', '/content/classifcation/Garbage classification/cardboard/cardboard287.jpg', '/content/classifcation/Garbage classification/cardboard/cardboard226.jpg', '/content/classifcation/Garbage classification/cardboard/cardboard336.jpg', '/content/classifcation/Garbage classification/cardboard/cardboard335.jpg', '/content/classifcation/Garbage classification/cardboard/cardboard367.jpg', '/content/classifcation/Garbage classification/cardboard/cardboard293.jpg', '/content/classifcation/Garbage classification/cardboard/cardboard196.jpg', '/content/classifcation/Garbage classification/cardboard/cardboard38.jpg', '/content/classifcation/Garbage classification/cardboard/cardboard262.jpg', '/content/classifcation/Garbage classification/cardboard/cardboard136.jpg', '/content/classifcation/Garbage classification/cardboard/cardboard401.jpg', '/content/classifcation/Garbage classification/cardboard/cardboard344.jpg', '/content/classifcation/Garbage classification/cardboard/cardboard15.jpg', '/content/classifcation/Garbage classification/cardboard/cardboard199.jpg', '/content/classifcation/Garbage classification/cardboard/cardboard128.jpg', '/content/classifcation/Garbage classification/cardboard/cardboard3.jpg', '/content/classifcation/Garbage classification/cardboard/cardboard230.jpg', '/content/classifcation/Garbage classification/cardboard/cardboard386.jpg', '/content/classifcation/Garbage classification/cardboard/cardboard137.jpg', '/content/classifcation/Garbage classification/cardboard/cardboard295.jpg', '/content/classifcation/Garbage classification/cardboard/cardboard202.jpg', '/content/classifcation/Garbage classification/cardboard/cardboard332.jpg', '/content/classifcation/Garbage classification/cardboard/cardboard22.jpg', '/content/classifcation/Garbage classification/cardboard/cardboard331.jpg', '/content/classifcation/Garbage classification/cardboard/cardboard44.jpg', '/content/classifcation/Garbage classification/cardboard/cardboard306.jpg', '/content/classifcation/Garbage classification/cardboard/cardboard393.jpg', '/content/classifcation/Garbage classification/cardboard/cardboard351.jpg', '/content/classifcation/Garbage classification/cardboard/cardboard14.jpg', '/content/classifcation/Garbage classification/cardboard/cardboard259.jpg', '/content/classifcation/Garbage classification/cardboard/cardboard92.jpg', '/content/classifcation/Garbage classification/cardboard/cardboard39.jpg', '/content/classifcation/Garbage classification/cardboard/cardboard171.jpg', '/content/classifcation/Garbage classification/cardboard/cardboard222.jpg', '/content/classifcation/Garbage classification/cardboard/cardboard12.jpg', '/content/classifcation/Garbage classification/cardboard/cardboard58.jpg', '/content/classifcation/Garbage classification/cardboard/cardboard139.jpg', '/content/classifcation/Garbage classification/cardboard/cardboard400.jpg', '/content/classifcation/Garbage classification/cardboard/cardboard78.jpg', '/content/classifcation/Garbage classification/cardboard/cardboard132.jpg', '/content/classifcation/Garbage classification/cardboard/cardboard285.jpg', '/content/classifcation/Garbage classification/cardboard/cardboard294.jpg', '/content/classifcation/Garbage classification/cardboard/cardboard305.jpg', '/content/classifcation/Garbage classification/cardboard/cardboard223.jpg', '/content/classifcation/Garbage classification/cardboard/cardboard10.jpg', '/content/classifcation/Garbage classification/cardboard/cardboard74.jpg', '/content/classifcation/Garbage classification/cardboard/cardboard150.jpg', '/content/classifcation/Garbage classification/cardboard/cardboard239.jpg', '/content/classifcation/Garbage classification/cardboard/cardboard328.jpg', '/content/classifcation/Garbage classification/cardboard/cardboard248.jpg', '/content/classifcation/Garbage classification/cardboard/cardboard69.jpg', '/content/classifcation/Garbage classification/cardboard/cardboard209.jpg', '/content/classifcation/Garbage classification/cardboard/cardboard122.jpg', '/content/classifcation/Garbage classification/cardboard/cardboard32.jpg', '/content/classifcation/Garbage classification/cardboard/cardboard43.jpg', '/content/classifcation/Garbage classification/cardboard/cardboard103.jpg', '/content/classifcation/Garbage classification/cardboard/cardboard291.jpg', '/content/classifcation/Garbage classification/cardboard/cardboard236.jpg', '/content/classifcation/Garbage classification/cardboard/cardboard36.jpg', '/content/classifcation/Garbage classification/cardboard/cardboard309.jpg', '/content/classifcation/Garbage classification/cardboard/cardboard372.jpg', '/content/classifcation/Garbage classification/cardboard/cardboard290.jpg', '/content/classifcation/Garbage classification/cardboard/cardboard247.jpg', '/content/classifcation/Garbage classification/cardboard/cardboard189.jpg', '/content/classifcation/Garbage classification/cardboard/cardboard177.jpg', '/content/classifcation/Garbage classification/cardboard/cardboard237.jpg', '/content/classifcation/Garbage classification/cardboard/cardboard263.jpg', '/content/classifcation/Garbage classification/cardboard/cardboard297.jpg', '/content/classifcation/Garbage classification/cardboard/cardboard144.jpg', '/content/classifcation/Garbage classification/cardboard/cardboard218.jpg', '/content/classifcation/Garbage classification/cardboard/cardboard87.jpg', '/content/classifcation/Garbage classification/cardboard/cardboard146.jpg', '/content/classifcation/Garbage classification/cardboard/cardboard286.jpg', '/content/classifcation/Garbage classification/cardboard/cardboard147.jpg', '/content/classifcation/Garbage classification/cardboard/cardboard116.jpg', '/content/classifcation/Garbage classification/cardboard/cardboard340.jpg', '/content/classifcation/Garbage classification/cardboard/cardboard314.jpg', '/content/classifcation/Garbage classification/cardboard/cardboard354.jpg', '/content/classifcation/Garbage classification/cardboard/cardboard164.jpg', '/content/classifcation/Garbage classification/cardboard/cardboard352.jpg', '/content/classifcation/Garbage classification/cardboard/cardboard231.jpg', '/content/classifcation/Garbage classification/cardboard/cardboard68.jpg', '/content/classifcation/Garbage classification/cardboard/cardboard47.jpg', '/content/classifcation/Garbage classification/cardboard/cardboard80.jpg', '/content/classifcation/Garbage classification/cardboard/cardboard253.jpg', '/content/classifcation/Garbage classification/cardboard/cardboard265.jpg', '/content/classifcation/Garbage classification/cardboard/cardboard145.jpg', '/content/classifcation/Garbage classification/cardboard/cardboard246.jpg', '/content/classifcation/Garbage classification/cardboard/cardboard176.jpg', '/content/classifcation/Garbage classification/cardboard/cardboard178.jpg', '/content/classifcation/Garbage classification/cardboard/cardboard325.jpg', '/content/classifcation/Garbage classification/cardboard/cardboard193.jpg', '/content/classifcation/Garbage classification/cardboard/cardboard384.jpg', '/content/classifcation/Garbage classification/cardboard/cardboard20.jpg', '/content/classifcation/Garbage classification/cardboard/cardboard380.jpg', '/content/classifcation/Garbage classification/cardboard/cardboard356.jpg', '/content/classifcation/Garbage classification/cardboard/cardboard101.jpg', '/content/classifcation/Garbage classification/cardboard/cardboard106.jpg', '/content/classifcation/Garbage classification/cardboard/cardboard119.jpg', '/content/classifcation/Garbage classification/cardboard/cardboard261.jpg', '/content/classifcation/Garbage classification/cardboard/cardboard57.jpg', '/content/classifcation/Garbage classification/cardboard/cardboard365.jpg', '/content/classifcation/Garbage classification/cardboard/cardboard258.jpg', '/content/classifcation/Garbage classification/cardboard/cardboard21.jpg', '/content/classifcation/Garbage classification/cardboard/cardboard346.jpg', '/content/classifcation/Garbage classification/cardboard/cardboard311.jpg', '/content/classifcation/Garbage classification/cardboard/cardboard398.jpg', '/content/classifcation/Garbage classification/cardboard/cardboard129.jpg', '/content/classifcation/Garbage classification/cardboard/cardboard212.jpg', '/content/classifcation/Garbage classification/cardboard/cardboard308.jpg', '/content/classifcation/Garbage classification/cardboard/cardboard242.jpg', '/content/classifcation/Garbage classification/cardboard/cardboard135.jpg', '/content/classifcation/Garbage classification/cardboard/cardboard327.jpg', '/content/classifcation/Garbage classification/cardboard/cardboard35.jpg', '/content/classifcation/Garbage classification/cardboard/cardboard18.jpg', '/content/classifcation/Garbage classification/cardboard/cardboard194.jpg', '/content/classifcation/Garbage classification/cardboard/cardboard187.jpg', '/content/classifcation/Garbage classification/cardboard/cardboard195.jpg', '/content/classifcation/Garbage classification/cardboard/cardboard318.jpg', '/content/classifcation/Garbage classification/cardboard/cardboard97.jpg', '/content/classifcation/Garbage classification/cardboard/cardboard33.jpg', '/content/classifcation/Garbage classification/cardboard/cardboard27.jpg', '/content/classifcation/Garbage classification/cardboard/cardboard379.jpg', '/content/classifcation/Garbage classification/cardboard/cardboard229.jpg', '/content/classifcation/Garbage classification/cardboard/cardboard200.jpg', '/content/classifcation/Garbage classification/cardboard/cardboard225.jpg', '/content/classifcation/Garbage classification/cardboard/cardboard191.jpg', '/content/classifcation/Garbage classification/cardboard/cardboard163.jpg', '/content/classifcation/Garbage classification/cardboard/cardboard338.jpg']\n"
          ]
        }
      ]
    },
    {
      "cell_type": "code",
      "metadata": {
        "colab": {
          "base_uri": "https://localhost:8080/"
        },
        "id": "rSdPO9_W-PZP",
        "outputId": "a851ca21-c700-4526-f169-0bb7d1eb594d"
      },
      "source": [
        "# 数据增强\n",
        "for dirs in glob.glob(\"/content/classifcation/Garbage classification/*\"):\n",
        "  # print(dirs)\n",
        "  paths = glob.glob(dirs + \"/*\")\n",
        "  # print(paths)\n",
        "  for path in paths:\n",
        "      img = tf.keras.preprocessing.image.load_img(path) # 加载图片\n",
        "      img = np.array(img) # 转化为 ndarray的形式\n",
        "      img = tf.image.adjust_brightness(img,0.3) #调整 RGB 或灰度图像的亮度。\n",
        "      temp = os.path.dirname(path) + \"/\" + str(time.time()) + \".png\"\n",
        "      tf.keras.preprocessing.image.save_img(temp,img)"
      ],
      "id": "rSdPO9_W-PZP",
      "execution_count": 28,
      "outputs": [
        {
          "output_type": "stream",
          "name": "stdout",
          "text": [
            "['/content/classifcation/Garbage classification/metal/metal165.jpg', '/content/classifcation/Garbage classification/metal/metal158.jpg', '/content/classifcation/Garbage classification/metal/metal340.jpg', '/content/classifcation/Garbage classification/metal/metal382.jpg', '/content/classifcation/Garbage classification/metal/metal143.jpg', '/content/classifcation/Garbage classification/metal/metal177.jpg', '/content/classifcation/Garbage classification/metal/metal254.jpg', '/content/classifcation/Garbage classification/metal/metal241.jpg', '/content/classifcation/Garbage classification/metal/metal391.jpg', '/content/classifcation/Garbage classification/metal/metal16.jpg', '/content/classifcation/Garbage classification/metal/metal87.jpg', '/content/classifcation/Garbage classification/metal/metal136.jpg', '/content/classifcation/Garbage classification/metal/metal172.jpg', '/content/classifcation/Garbage classification/metal/metal9.jpg', '/content/classifcation/Garbage classification/metal/metal383.jpg', '/content/classifcation/Garbage classification/metal/metal1.jpg', '/content/classifcation/Garbage classification/metal/metal80.jpg', '/content/classifcation/Garbage classification/metal/metal248.jpg', '/content/classifcation/Garbage classification/metal/metal161.jpg', '/content/classifcation/Garbage classification/metal/metal83.jpg', '/content/classifcation/Garbage classification/metal/metal396.jpg', '/content/classifcation/Garbage classification/metal/metal283.jpg', '/content/classifcation/Garbage classification/metal/metal156.jpg', '/content/classifcation/Garbage classification/metal/metal116.jpg', '/content/classifcation/Garbage classification/metal/metal40.jpg', '/content/classifcation/Garbage classification/metal/metal286.jpg', '/content/classifcation/Garbage classification/metal/metal13.jpg', '/content/classifcation/Garbage classification/metal/metal287.jpg', '/content/classifcation/Garbage classification/metal/metal106.jpg', '/content/classifcation/Garbage classification/metal/metal231.jpg', '/content/classifcation/Garbage classification/metal/metal23.jpg', '/content/classifcation/Garbage classification/metal/metal261.jpg', '/content/classifcation/Garbage classification/metal/metal135.jpg', '/content/classifcation/Garbage classification/metal/metal237.jpg', '/content/classifcation/Garbage classification/metal/metal352.jpg', '/content/classifcation/Garbage classification/metal/metal388.jpg', '/content/classifcation/Garbage classification/metal/metal228.jpg', '/content/classifcation/Garbage classification/metal/metal149.jpg', '/content/classifcation/Garbage classification/metal/metal62.jpg', '/content/classifcation/Garbage classification/metal/metal252.jpg', '/content/classifcation/Garbage classification/metal/metal218.jpg', '/content/classifcation/Garbage classification/metal/metal354.jpg', '/content/classifcation/Garbage classification/metal/metal229.jpg', '/content/classifcation/Garbage classification/metal/metal19.jpg', '/content/classifcation/Garbage classification/metal/metal31.jpg', '/content/classifcation/Garbage classification/metal/metal394.jpg', '/content/classifcation/Garbage classification/metal/metal108.jpg', '/content/classifcation/Garbage classification/metal/metal236.jpg', '/content/classifcation/Garbage classification/metal/metal234.jpg', '/content/classifcation/Garbage classification/metal/metal76.jpg', '/content/classifcation/Garbage classification/metal/metal81.jpg', '/content/classifcation/Garbage classification/metal/metal22.jpg', '/content/classifcation/Garbage classification/metal/metal239.jpg', '/content/classifcation/Garbage classification/metal/metal50.jpg', '/content/classifcation/Garbage classification/metal/metal66.jpg', '/content/classifcation/Garbage classification/metal/metal35.jpg', '/content/classifcation/Garbage classification/metal/metal153.jpg', '/content/classifcation/Garbage classification/metal/metal162.jpg', '/content/classifcation/Garbage classification/metal/metal114.jpg', '/content/classifcation/Garbage classification/metal/metal181.jpg', '/content/classifcation/Garbage classification/metal/metal289.jpg', '/content/classifcation/Garbage classification/metal/metal200.jpg', '/content/classifcation/Garbage classification/metal/metal189.jpg', '/content/classifcation/Garbage classification/metal/metal321.jpg', '/content/classifcation/Garbage classification/metal/metal25.jpg', '/content/classifcation/Garbage classification/metal/metal117.jpg', '/content/classifcation/Garbage classification/metal/metal336.jpg', '/content/classifcation/Garbage classification/metal/metal338.jpg', '/content/classifcation/Garbage classification/metal/metal409.jpg', '/content/classifcation/Garbage classification/metal/metal110.jpg', '/content/classifcation/Garbage classification/metal/metal339.jpg', '/content/classifcation/Garbage classification/metal/metal42.jpg', '/content/classifcation/Garbage classification/metal/metal54.jpg', '/content/classifcation/Garbage classification/metal/metal342.jpg', '/content/classifcation/Garbage classification/metal/metal260.jpg', '/content/classifcation/Garbage classification/metal/metal362.jpg', '/content/classifcation/Garbage classification/metal/metal122.jpg', '/content/classifcation/Garbage classification/metal/metal36.jpg', '/content/classifcation/Garbage classification/metal/metal169.jpg', '/content/classifcation/Garbage classification/metal/metal324.jpg', '/content/classifcation/Garbage classification/metal/metal300.jpg', '/content/classifcation/Garbage classification/metal/metal191.jpg', '/content/classifcation/Garbage classification/metal/metal367.jpg', '/content/classifcation/Garbage classification/metal/metal392.jpg', '/content/classifcation/Garbage classification/metal/metal322.jpg', '/content/classifcation/Garbage classification/metal/metal410.jpg', '/content/classifcation/Garbage classification/metal/metal207.jpg', '/content/classifcation/Garbage classification/metal/metal364.jpg', '/content/classifcation/Garbage classification/metal/metal184.jpg', '/content/classifcation/Garbage classification/metal/metal154.jpg', '/content/classifcation/Garbage classification/metal/metal344.jpg', '/content/classifcation/Garbage classification/metal/metal204.jpg', '/content/classifcation/Garbage classification/metal/metal138.jpg', '/content/classifcation/Garbage classification/metal/metal232.jpg', '/content/classifcation/Garbage classification/metal/metal369.jpg', '/content/classifcation/Garbage classification/metal/metal126.jpg', '/content/classifcation/Garbage classification/metal/metal251.jpg', '/content/classifcation/Garbage classification/metal/metal107.jpg', '/content/classifcation/Garbage classification/metal/metal133.jpg', '/content/classifcation/Garbage classification/metal/metal121.jpg', '/content/classifcation/Garbage classification/metal/metal273.jpg', '/content/classifcation/Garbage classification/metal/metal211.jpg', '/content/classifcation/Garbage classification/metal/metal350.jpg', '/content/classifcation/Garbage classification/metal/metal375.jpg', '/content/classifcation/Garbage classification/metal/metal361.jpg', '/content/classifcation/Garbage classification/metal/metal309.jpg', '/content/classifcation/Garbage classification/metal/metal94.jpg', '/content/classifcation/Garbage classification/metal/metal298.jpg', '/content/classifcation/Garbage classification/metal/metal401.jpg', '/content/classifcation/Garbage classification/metal/metal255.jpg', '/content/classifcation/Garbage classification/metal/metal174.jpg', '/content/classifcation/Garbage classification/metal/metal176.jpg', '/content/classifcation/Garbage classification/metal/metal8.jpg', '/content/classifcation/Garbage classification/metal/metal393.jpg', '/content/classifcation/Garbage classification/metal/metal284.jpg', '/content/classifcation/Garbage classification/metal/metal145.jpg', '/content/classifcation/Garbage classification/metal/metal265.jpg', '/content/classifcation/Garbage classification/metal/metal370.jpg', '/content/classifcation/Garbage classification/metal/metal20.jpg', '/content/classifcation/Garbage classification/metal/metal363.jpg', '/content/classifcation/Garbage classification/metal/metal99.jpg', '/content/classifcation/Garbage classification/metal/metal90.jpg', '/content/classifcation/Garbage classification/metal/metal247.jpg', '/content/classifcation/Garbage classification/metal/metal224.jpg', '/content/classifcation/Garbage classification/metal/metal11.jpg', '/content/classifcation/Garbage classification/metal/metal69.jpg', '/content/classifcation/Garbage classification/metal/metal55.jpg', '/content/classifcation/Garbage classification/metal/metal12.jpg', '/content/classifcation/Garbage classification/metal/metal128.jpg', '/content/classifcation/Garbage classification/metal/metal332.jpg', '/content/classifcation/Garbage classification/metal/metal131.jpg', '/content/classifcation/Garbage classification/metal/metal166.jpg', '/content/classifcation/Garbage classification/metal/metal262.jpg', '/content/classifcation/Garbage classification/metal/metal32.jpg', '/content/classifcation/Garbage classification/metal/metal37.jpg', '/content/classifcation/Garbage classification/metal/metal24.jpg', '/content/classifcation/Garbage classification/metal/metal193.jpg', '/content/classifcation/Garbage classification/metal/metal343.jpg', '/content/classifcation/Garbage classification/metal/metal29.jpg', '/content/classifcation/Garbage classification/metal/metal61.jpg', '/content/classifcation/Garbage classification/metal/metal374.jpg', '/content/classifcation/Garbage classification/metal/metal127.jpg', '/content/classifcation/Garbage classification/metal/metal34.jpg', '/content/classifcation/Garbage classification/metal/metal372.jpg', '/content/classifcation/Garbage classification/metal/metal219.jpg', '/content/classifcation/Garbage classification/metal/metal253.jpg', '/content/classifcation/Garbage classification/metal/metal199.jpg', '/content/classifcation/Garbage classification/metal/metal89.jpg', '/content/classifcation/Garbage classification/metal/metal349.jpg', '/content/classifcation/Garbage classification/metal/metal358.jpg', '/content/classifcation/Garbage classification/metal/metal306.jpg', '/content/classifcation/Garbage classification/metal/metal146.jpg', '/content/classifcation/Garbage classification/metal/metal250.jpg', '/content/classifcation/Garbage classification/metal/metal405.jpg', '/content/classifcation/Garbage classification/metal/metal74.jpg', '/content/classifcation/Garbage classification/metal/metal327.jpg', '/content/classifcation/Garbage classification/metal/metal212.jpg', '/content/classifcation/Garbage classification/metal/metal326.jpg', '/content/classifcation/Garbage classification/metal/metal333.jpg', '/content/classifcation/Garbage classification/metal/metal105.jpg', '/content/classifcation/Garbage classification/metal/metal244.jpg', '/content/classifcation/Garbage classification/metal/metal317.jpg', '/content/classifcation/Garbage classification/metal/metal119.jpg', '/content/classifcation/Garbage classification/metal/metal58.jpg', '/content/classifcation/Garbage classification/metal/metal292.jpg', '/content/classifcation/Garbage classification/metal/metal113.jpg', '/content/classifcation/Garbage classification/metal/metal96.jpg', '/content/classifcation/Garbage classification/metal/metal341.jpg', '/content/classifcation/Garbage classification/metal/metal134.jpg', '/content/classifcation/Garbage classification/metal/metal351.jpg', '/content/classifcation/Garbage classification/metal/metal331.jpg', '/content/classifcation/Garbage classification/metal/metal17.jpg', '/content/classifcation/Garbage classification/metal/metal368.jpg', '/content/classifcation/Garbage classification/metal/metal230.jpg', '/content/classifcation/Garbage classification/metal/metal195.jpg', '/content/classifcation/Garbage classification/metal/metal395.jpg', '/content/classifcation/Garbage classification/metal/metal397.jpg', '/content/classifcation/Garbage classification/metal/metal277.jpg', '/content/classifcation/Garbage classification/metal/metal384.jpg', '/content/classifcation/Garbage classification/metal/metal242.jpg', '/content/classifcation/Garbage classification/metal/metal41.jpg', '/content/classifcation/Garbage classification/metal/metal215.jpg', '/content/classifcation/Garbage classification/metal/metal60.jpg', '/content/classifcation/Garbage classification/metal/metal150.jpg', '/content/classifcation/Garbage classification/metal/metal132.jpg', '/content/classifcation/Garbage classification/metal/metal220.jpg', '/content/classifcation/Garbage classification/metal/metal182.jpg', '/content/classifcation/Garbage classification/metal/metal210.jpg', '/content/classifcation/Garbage classification/metal/metal307.jpg', '/content/classifcation/Garbage classification/metal/metal365.jpg', '/content/classifcation/Garbage classification/metal/metal378.jpg', '/content/classifcation/Garbage classification/metal/metal329.jpg', '/content/classifcation/Garbage classification/metal/metal296.jpg', '/content/classifcation/Garbage classification/metal/metal79.jpg', '/content/classifcation/Garbage classification/metal/metal238.jpg', '/content/classifcation/Garbage classification/metal/metal198.jpg', '/content/classifcation/Garbage classification/metal/metal318.jpg', '/content/classifcation/Garbage classification/metal/metal82.jpg', '/content/classifcation/Garbage classification/metal/metal295.jpg', '/content/classifcation/Garbage classification/metal/metal92.jpg', '/content/classifcation/Garbage classification/metal/metal159.jpg', '/content/classifcation/Garbage classification/metal/metal345.jpg', '/content/classifcation/Garbage classification/metal/metal303.jpg', '/content/classifcation/Garbage classification/metal/metal209.jpg', '/content/classifcation/Garbage classification/metal/metal43.jpg', '/content/classifcation/Garbage classification/metal/metal98.jpg', '/content/classifcation/Garbage classification/metal/metal123.jpg', '/content/classifcation/Garbage classification/metal/metal243.jpg', '/content/classifcation/Garbage classification/metal/metal279.jpg', '/content/classifcation/Garbage classification/metal/metal245.jpg', '/content/classifcation/Garbage classification/metal/metal180.jpg', '/content/classifcation/Garbage classification/metal/metal305.jpg', '/content/classifcation/Garbage classification/metal/metal91.jpg', '/content/classifcation/Garbage classification/metal/metal314.jpg', '/content/classifcation/Garbage classification/metal/metal155.jpg', '/content/classifcation/Garbage classification/metal/metal100.jpg', '/content/classifcation/Garbage classification/metal/metal222.jpg', '/content/classifcation/Garbage classification/metal/metal21.jpg', '/content/classifcation/Garbage classification/metal/metal38.jpg', '/content/classifcation/Garbage classification/metal/metal386.jpg', '/content/classifcation/Garbage classification/metal/metal84.jpg', '/content/classifcation/Garbage classification/metal/metal188.jpg', '/content/classifcation/Garbage classification/metal/metal190.jpg', '/content/classifcation/Garbage classification/metal/metal185.jpg', '/content/classifcation/Garbage classification/metal/metal14.jpg', '/content/classifcation/Garbage classification/metal/metal403.jpg', '/content/classifcation/Garbage classification/metal/metal203.jpg', '/content/classifcation/Garbage classification/metal/metal404.jpg', '/content/classifcation/Garbage classification/metal/metal56.jpg', '/content/classifcation/Garbage classification/metal/metal225.jpg', '/content/classifcation/Garbage classification/metal/metal373.jpg', '/content/classifcation/Garbage classification/metal/metal223.jpg', '/content/classifcation/Garbage classification/metal/metal272.jpg', '/content/classifcation/Garbage classification/metal/metal173.jpg', '/content/classifcation/Garbage classification/metal/metal380.jpg', '/content/classifcation/Garbage classification/metal/metal366.jpg', '/content/classifcation/Garbage classification/metal/metal290.jpg', '/content/classifcation/Garbage classification/metal/metal398.jpg', '/content/classifcation/Garbage classification/metal/metal299.jpg', '/content/classifcation/Garbage classification/metal/metal315.jpg', '/content/classifcation/Garbage classification/metal/metal275.jpg', '/content/classifcation/Garbage classification/metal/metal310.jpg', '/content/classifcation/Garbage classification/metal/metal67.jpg', '/content/classifcation/Garbage classification/metal/metal216.jpg', '/content/classifcation/Garbage classification/metal/metal46.jpg', '/content/classifcation/Garbage classification/metal/metal270.jpg', '/content/classifcation/Garbage classification/metal/metal235.jpg', '/content/classifcation/Garbage classification/metal/metal407.jpg', '/content/classifcation/Garbage classification/metal/metal130.jpg', '/content/classifcation/Garbage classification/metal/metal226.jpg', '/content/classifcation/Garbage classification/metal/metal263.jpg', '/content/classifcation/Garbage classification/metal/metal246.jpg', '/content/classifcation/Garbage classification/metal/metal39.jpg', '/content/classifcation/Garbage classification/metal/metal221.jpg', '/content/classifcation/Garbage classification/metal/metal259.jpg', '/content/classifcation/Garbage classification/metal/metal353.jpg', '/content/classifcation/Garbage classification/metal/metal377.jpg', '/content/classifcation/Garbage classification/metal/metal30.jpg', '/content/classifcation/Garbage classification/metal/metal201.jpg', '/content/classifcation/Garbage classification/metal/metal45.jpg', '/content/classifcation/Garbage classification/metal/metal141.jpg', '/content/classifcation/Garbage classification/metal/metal77.jpg', '/content/classifcation/Garbage classification/metal/metal115.jpg', '/content/classifcation/Garbage classification/metal/metal297.jpg', '/content/classifcation/Garbage classification/metal/metal2.jpg', '/content/classifcation/Garbage classification/metal/metal293.jpg', '/content/classifcation/Garbage classification/metal/metal346.jpg', '/content/classifcation/Garbage classification/metal/metal357.jpg', '/content/classifcation/Garbage classification/metal/metal47.jpg', '/content/classifcation/Garbage classification/metal/metal385.jpg', '/content/classifcation/Garbage classification/metal/metal335.jpg', '/content/classifcation/Garbage classification/metal/metal206.jpg', '/content/classifcation/Garbage classification/metal/metal112.jpg', '/content/classifcation/Garbage classification/metal/metal97.jpg', '/content/classifcation/Garbage classification/metal/metal137.jpg', '/content/classifcation/Garbage classification/metal/metal302.jpg', '/content/classifcation/Garbage classification/metal/metal400.jpg', '/content/classifcation/Garbage classification/metal/metal3.jpg', '/content/classifcation/Garbage classification/metal/metal5.jpg', '/content/classifcation/Garbage classification/metal/metal348.jpg', '/content/classifcation/Garbage classification/metal/metal205.jpg', '/content/classifcation/Garbage classification/metal/metal53.jpg', '/content/classifcation/Garbage classification/metal/metal88.jpg', '/content/classifcation/Garbage classification/metal/metal65.jpg', '/content/classifcation/Garbage classification/metal/metal208.jpg', '/content/classifcation/Garbage classification/metal/metal355.jpg', '/content/classifcation/Garbage classification/metal/metal213.jpg', '/content/classifcation/Garbage classification/metal/metal227.jpg', '/content/classifcation/Garbage classification/metal/metal258.jpg', '/content/classifcation/Garbage classification/metal/metal70.jpg', '/content/classifcation/Garbage classification/metal/metal183.jpg', '/content/classifcation/Garbage classification/metal/metal408.jpg', '/content/classifcation/Garbage classification/metal/metal171.jpg', '/content/classifcation/Garbage classification/metal/metal178.jpg', '/content/classifcation/Garbage classification/metal/metal101.jpg', '/content/classifcation/Garbage classification/metal/metal381.jpg', '/content/classifcation/Garbage classification/metal/metal276.jpg', '/content/classifcation/Garbage classification/metal/metal274.jpg', '/content/classifcation/Garbage classification/metal/metal402.jpg', '/content/classifcation/Garbage classification/metal/metal313.jpg', '/content/classifcation/Garbage classification/metal/metal269.jpg', '/content/classifcation/Garbage classification/metal/metal10.jpg', '/content/classifcation/Garbage classification/metal/metal85.jpg', '/content/classifcation/Garbage classification/metal/metal167.jpg', '/content/classifcation/Garbage classification/metal/metal48.jpg', '/content/classifcation/Garbage classification/metal/metal356.jpg', '/content/classifcation/Garbage classification/metal/metal267.jpg', '/content/classifcation/Garbage classification/metal/metal376.jpg', '/content/classifcation/Garbage classification/metal/metal187.jpg', '/content/classifcation/Garbage classification/metal/metal390.jpg', '/content/classifcation/Garbage classification/metal/metal192.jpg', '/content/classifcation/Garbage classification/metal/metal71.jpg', '/content/classifcation/Garbage classification/metal/metal51.jpg', '/content/classifcation/Garbage classification/metal/metal152.jpg', '/content/classifcation/Garbage classification/metal/metal379.jpg', '/content/classifcation/Garbage classification/metal/metal104.jpg', '/content/classifcation/Garbage classification/metal/metal268.jpg', '/content/classifcation/Garbage classification/metal/metal387.jpg', '/content/classifcation/Garbage classification/metal/metal291.jpg', '/content/classifcation/Garbage classification/metal/metal186.jpg', '/content/classifcation/Garbage classification/metal/metal78.jpg', '/content/classifcation/Garbage classification/metal/metal197.jpg', '/content/classifcation/Garbage classification/metal/metal28.jpg', '/content/classifcation/Garbage classification/metal/metal347.jpg', '/content/classifcation/Garbage classification/metal/metal64.jpg', '/content/classifcation/Garbage classification/metal/metal49.jpg', '/content/classifcation/Garbage classification/metal/metal214.jpg', '/content/classifcation/Garbage classification/metal/metal120.jpg', '/content/classifcation/Garbage classification/metal/metal102.jpg', '/content/classifcation/Garbage classification/metal/metal278.jpg', '/content/classifcation/Garbage classification/metal/metal57.jpg', '/content/classifcation/Garbage classification/metal/metal33.jpg', '/content/classifcation/Garbage classification/metal/metal233.jpg', '/content/classifcation/Garbage classification/metal/metal6.jpg', '/content/classifcation/Garbage classification/metal/metal86.jpg', '/content/classifcation/Garbage classification/metal/metal73.jpg', '/content/classifcation/Garbage classification/metal/metal320.jpg', '/content/classifcation/Garbage classification/metal/metal257.jpg', '/content/classifcation/Garbage classification/metal/metal68.jpg', '/content/classifcation/Garbage classification/metal/metal337.jpg', '/content/classifcation/Garbage classification/metal/metal249.jpg', '/content/classifcation/Garbage classification/metal/metal129.jpg', '/content/classifcation/Garbage classification/metal/metal109.jpg', '/content/classifcation/Garbage classification/metal/metal124.jpg', '/content/classifcation/Garbage classification/metal/metal328.jpg', '/content/classifcation/Garbage classification/metal/metal26.jpg', '/content/classifcation/Garbage classification/metal/metal330.jpg', '/content/classifcation/Garbage classification/metal/metal151.jpg', '/content/classifcation/Garbage classification/metal/metal308.jpg', '/content/classifcation/Garbage classification/metal/metal301.jpg', '/content/classifcation/Garbage classification/metal/metal325.jpg', '/content/classifcation/Garbage classification/metal/metal312.jpg', '/content/classifcation/Garbage classification/metal/metal15.jpg', '/content/classifcation/Garbage classification/metal/metal111.jpg', '/content/classifcation/Garbage classification/metal/metal256.jpg', '/content/classifcation/Garbage classification/metal/metal7.jpg', '/content/classifcation/Garbage classification/metal/metal147.jpg', '/content/classifcation/Garbage classification/metal/metal164.jpg', '/content/classifcation/Garbage classification/metal/metal175.jpg', '/content/classifcation/Garbage classification/metal/metal282.jpg', '/content/classifcation/Garbage classification/metal/metal157.jpg', '/content/classifcation/Garbage classification/metal/metal285.jpg', '/content/classifcation/Garbage classification/metal/metal240.jpg', '/content/classifcation/Garbage classification/metal/metal139.jpg', '/content/classifcation/Garbage classification/metal/metal4.jpg', '/content/classifcation/Garbage classification/metal/metal144.jpg', '/content/classifcation/Garbage classification/metal/metal93.jpg', '/content/classifcation/Garbage classification/metal/metal18.jpg', '/content/classifcation/Garbage classification/metal/metal75.jpg', '/content/classifcation/Garbage classification/metal/metal63.jpg', '/content/classifcation/Garbage classification/metal/metal319.jpg', '/content/classifcation/Garbage classification/metal/metal359.jpg', '/content/classifcation/Garbage classification/metal/metal27.jpg', '/content/classifcation/Garbage classification/metal/metal304.jpg', '/content/classifcation/Garbage classification/metal/metal140.jpg', '/content/classifcation/Garbage classification/metal/metal281.jpg', '/content/classifcation/Garbage classification/metal/metal360.jpg', '/content/classifcation/Garbage classification/metal/metal280.jpg', '/content/classifcation/Garbage classification/metal/metal311.jpg', '/content/classifcation/Garbage classification/metal/metal103.jpg', '/content/classifcation/Garbage classification/metal/metal371.jpg', '/content/classifcation/Garbage classification/metal/metal266.jpg', '/content/classifcation/Garbage classification/metal/metal217.jpg', '/content/classifcation/Garbage classification/metal/metal389.jpg', '/content/classifcation/Garbage classification/metal/metal142.jpg', '/content/classifcation/Garbage classification/metal/metal44.jpg', '/content/classifcation/Garbage classification/metal/metal399.jpg', '/content/classifcation/Garbage classification/metal/metal59.jpg', '/content/classifcation/Garbage classification/metal/metal202.jpg', '/content/classifcation/Garbage classification/metal/metal179.jpg', '/content/classifcation/Garbage classification/metal/metal194.jpg', '/content/classifcation/Garbage classification/metal/metal288.jpg', '/content/classifcation/Garbage classification/metal/metal163.jpg', '/content/classifcation/Garbage classification/metal/metal264.jpg', '/content/classifcation/Garbage classification/metal/metal52.jpg', '/content/classifcation/Garbage classification/metal/metal323.jpg', '/content/classifcation/Garbage classification/metal/metal72.jpg', '/content/classifcation/Garbage classification/metal/metal148.jpg', '/content/classifcation/Garbage classification/metal/metal271.jpg', '/content/classifcation/Garbage classification/metal/metal316.jpg', '/content/classifcation/Garbage classification/metal/metal160.jpg', '/content/classifcation/Garbage classification/metal/metal196.jpg', '/content/classifcation/Garbage classification/metal/metal406.jpg', '/content/classifcation/Garbage classification/metal/metal125.jpg', '/content/classifcation/Garbage classification/metal/metal95.jpg', '/content/classifcation/Garbage classification/metal/metal334.jpg', '/content/classifcation/Garbage classification/metal/metal118.jpg', '/content/classifcation/Garbage classification/metal/metal168.jpg', '/content/classifcation/Garbage classification/metal/metal294.jpg', '/content/classifcation/Garbage classification/metal/metal170.jpg']\n",
            "['/content/classifcation/Garbage classification/glass/glass279.jpg', '/content/classifcation/Garbage classification/glass/glass370.jpg', '/content/classifcation/Garbage classification/glass/glass11.jpg', '/content/classifcation/Garbage classification/glass/glass281.jpg', '/content/classifcation/Garbage classification/glass/glass180.jpg', '/content/classifcation/Garbage classification/glass/glass456.jpg', '/content/classifcation/Garbage classification/glass/glass496.jpg', '/content/classifcation/Garbage classification/glass/glass216.jpg', '/content/classifcation/Garbage classification/glass/glass434.jpg', '/content/classifcation/Garbage classification/glass/glass187.jpg', '/content/classifcation/Garbage classification/glass/glass68.jpg', '/content/classifcation/Garbage classification/glass/glass310.jpg', '/content/classifcation/Garbage classification/glass/glass394.jpg', '/content/classifcation/Garbage classification/glass/glass444.jpg', '/content/classifcation/Garbage classification/glass/glass37.jpg', '/content/classifcation/Garbage classification/glass/glass389.jpg', '/content/classifcation/Garbage classification/glass/glass404.jpg', '/content/classifcation/Garbage classification/glass/glass201.jpg', '/content/classifcation/Garbage classification/glass/glass23.jpg', '/content/classifcation/Garbage classification/glass/glass354.jpg', '/content/classifcation/Garbage classification/glass/glass136.jpg', '/content/classifcation/Garbage classification/glass/glass18.jpg', '/content/classifcation/Garbage classification/glass/glass318.jpg', '/content/classifcation/Garbage classification/glass/glass212.jpg', '/content/classifcation/Garbage classification/glass/glass190.jpg', '/content/classifcation/Garbage classification/glass/glass399.jpg', '/content/classifcation/Garbage classification/glass/glass205.jpg', '/content/classifcation/Garbage classification/glass/glass223.jpg', '/content/classifcation/Garbage classification/glass/glass466.jpg', '/content/classifcation/Garbage classification/glass/glass257.jpg', '/content/classifcation/Garbage classification/glass/glass408.jpg', '/content/classifcation/Garbage classification/glass/glass232.jpg', '/content/classifcation/Garbage classification/glass/glass149.jpg', '/content/classifcation/Garbage classification/glass/glass93.jpg', '/content/classifcation/Garbage classification/glass/glass240.jpg', '/content/classifcation/Garbage classification/glass/glass364.jpg', '/content/classifcation/Garbage classification/glass/glass94.jpg', '/content/classifcation/Garbage classification/glass/glass359.jpg', '/content/classifcation/Garbage classification/glass/glass117.jpg', '/content/classifcation/Garbage classification/glass/glass147.jpg', '/content/classifcation/Garbage classification/glass/glass289.jpg', '/content/classifcation/Garbage classification/glass/glass151.jpg', '/content/classifcation/Garbage classification/glass/glass166.jpg', '/content/classifcation/Garbage classification/glass/glass213.jpg', '/content/classifcation/Garbage classification/glass/glass74.jpg', '/content/classifcation/Garbage classification/glass/glass487.jpg', '/content/classifcation/Garbage classification/glass/glass143.jpg', '/content/classifcation/Garbage classification/glass/glass208.jpg', '/content/classifcation/Garbage classification/glass/glass270.jpg', '/content/classifcation/Garbage classification/glass/glass175.jpg', '/content/classifcation/Garbage classification/glass/glass329.jpg', '/content/classifcation/Garbage classification/glass/glass28.jpg', '/content/classifcation/Garbage classification/glass/glass85.jpg', '/content/classifcation/Garbage classification/glass/glass263.jpg', '/content/classifcation/Garbage classification/glass/glass96.jpg', '/content/classifcation/Garbage classification/glass/glass377.jpg', '/content/classifcation/Garbage classification/glass/glass495.jpg', '/content/classifcation/Garbage classification/glass/glass234.jpg', '/content/classifcation/Garbage classification/glass/glass78.jpg', '/content/classifcation/Garbage classification/glass/glass401.jpg', '/content/classifcation/Garbage classification/glass/glass73.jpg', '/content/classifcation/Garbage classification/glass/glass388.jpg', '/content/classifcation/Garbage classification/glass/glass207.jpg', '/content/classifcation/Garbage classification/glass/glass131.jpg', '/content/classifcation/Garbage classification/glass/glass392.jpg', '/content/classifcation/Garbage classification/glass/glass494.jpg', '/content/classifcation/Garbage classification/glass/glass47.jpg', '/content/classifcation/Garbage classification/glass/glass154.jpg', '/content/classifcation/Garbage classification/glass/glass102.jpg', '/content/classifcation/Garbage classification/glass/glass340.jpg', '/content/classifcation/Garbage classification/glass/glass379.jpg', '/content/classifcation/Garbage classification/glass/glass426.jpg', '/content/classifcation/Garbage classification/glass/glass16.jpg', '/content/classifcation/Garbage classification/glass/glass49.jpg', '/content/classifcation/Garbage classification/glass/glass319.jpg', '/content/classifcation/Garbage classification/glass/glass225.jpg', '/content/classifcation/Garbage classification/glass/glass92.jpg', '/content/classifcation/Garbage classification/glass/glass295.jpg', '/content/classifcation/Garbage classification/glass/glass397.jpg', '/content/classifcation/Garbage classification/glass/glass425.jpg', '/content/classifcation/Garbage classification/glass/glass429.jpg', '/content/classifcation/Garbage classification/glass/glass32.jpg', '/content/classifcation/Garbage classification/glass/glass87.jpg', '/content/classifcation/Garbage classification/glass/glass386.jpg', '/content/classifcation/Garbage classification/glass/glass250.jpg', '/content/classifcation/Garbage classification/glass/glass287.jpg', '/content/classifcation/Garbage classification/glass/glass253.jpg', '/content/classifcation/Garbage classification/glass/glass17.jpg', '/content/classifcation/Garbage classification/glass/glass42.jpg', '/content/classifcation/Garbage classification/glass/glass366.jpg', '/content/classifcation/Garbage classification/glass/glass355.jpg', '/content/classifcation/Garbage classification/glass/glass76.jpg', '/content/classifcation/Garbage classification/glass/glass153.jpg', '/content/classifcation/Garbage classification/glass/glass124.jpg', '/content/classifcation/Garbage classification/glass/glass436.jpg', '/content/classifcation/Garbage classification/glass/glass128.jpg', '/content/classifcation/Garbage classification/glass/glass339.jpg', '/content/classifcation/Garbage classification/glass/glass326.jpg', '/content/classifcation/Garbage classification/glass/glass303.jpg', '/content/classifcation/Garbage classification/glass/glass246.jpg', '/content/classifcation/Garbage classification/glass/glass219.jpg', '/content/classifcation/Garbage classification/glass/glass442.jpg', '/content/classifcation/Garbage classification/glass/glass413.jpg', '/content/classifcation/Garbage classification/glass/glass10.jpg', '/content/classifcation/Garbage classification/glass/glass304.jpg', '/content/classifcation/Garbage classification/glass/glass315.jpg', '/content/classifcation/Garbage classification/glass/glass231.jpg', '/content/classifcation/Garbage classification/glass/glass483.jpg', '/content/classifcation/Garbage classification/glass/glass256.jpg', '/content/classifcation/Garbage classification/glass/glass261.jpg', '/content/classifcation/Garbage classification/glass/glass145.jpg', '/content/classifcation/Garbage classification/glass/glass306.jpg', '/content/classifcation/Garbage classification/glass/glass83.jpg', '/content/classifcation/Garbage classification/glass/glass123.jpg', '/content/classifcation/Garbage classification/glass/glass200.jpg', '/content/classifcation/Garbage classification/glass/glass333.jpg', '/content/classifcation/Garbage classification/glass/glass445.jpg', '/content/classifcation/Garbage classification/glass/glass348.jpg', '/content/classifcation/Garbage classification/glass/glass381.jpg', '/content/classifcation/Garbage classification/glass/glass288.jpg', '/content/classifcation/Garbage classification/glass/glass439.jpg', '/content/classifcation/Garbage classification/glass/glass446.jpg', '/content/classifcation/Garbage classification/glass/glass229.jpg', '/content/classifcation/Garbage classification/glass/glass330.jpg', '/content/classifcation/Garbage classification/glass/glass491.jpg', '/content/classifcation/Garbage classification/glass/glass152.jpg', '/content/classifcation/Garbage classification/glass/glass384.jpg', '/content/classifcation/Garbage classification/glass/glass107.jpg', '/content/classifcation/Garbage classification/glass/glass286.jpg', '/content/classifcation/Garbage classification/glass/glass103.jpg', '/content/classifcation/Garbage classification/glass/glass452.jpg', '/content/classifcation/Garbage classification/glass/glass489.jpg', '/content/classifcation/Garbage classification/glass/glass35.jpg', '/content/classifcation/Garbage classification/glass/glass338.jpg', '/content/classifcation/Garbage classification/glass/glass424.jpg', '/content/classifcation/Garbage classification/glass/glass290.jpg', '/content/classifcation/Garbage classification/glass/glass284.jpg', '/content/classifcation/Garbage classification/glass/glass99.jpg', '/content/classifcation/Garbage classification/glass/glass269.jpg', '/content/classifcation/Garbage classification/glass/glass391.jpg', '/content/classifcation/Garbage classification/glass/glass314.jpg', '/content/classifcation/Garbage classification/glass/glass475.jpg', '/content/classifcation/Garbage classification/glass/glass188.jpg', '/content/classifcation/Garbage classification/glass/glass276.jpg', '/content/classifcation/Garbage classification/glass/glass77.jpg', '/content/classifcation/Garbage classification/glass/glass56.jpg', '/content/classifcation/Garbage classification/glass/glass98.jpg', '/content/classifcation/Garbage classification/glass/glass375.jpg', '/content/classifcation/Garbage classification/glass/glass430.jpg', '/content/classifcation/Garbage classification/glass/glass398.jpg', '/content/classifcation/Garbage classification/glass/glass44.jpg', '/content/classifcation/Garbage classification/glass/glass275.jpg', '/content/classifcation/Garbage classification/glass/glass414.jpg', '/content/classifcation/Garbage classification/glass/glass192.jpg', '/content/classifcation/Garbage classification/glass/glass360.jpg', '/content/classifcation/Garbage classification/glass/glass476.jpg', '/content/classifcation/Garbage classification/glass/glass410.jpg', '/content/classifcation/Garbage classification/glass/glass69.jpg', '/content/classifcation/Garbage classification/glass/glass230.jpg', '/content/classifcation/Garbage classification/glass/glass36.jpg', '/content/classifcation/Garbage classification/glass/glass323.jpg', '/content/classifcation/Garbage classification/glass/glass51.jpg', '/content/classifcation/Garbage classification/glass/glass285.jpg', '/content/classifcation/Garbage classification/glass/glass179.jpg', '/content/classifcation/Garbage classification/glass/glass266.jpg', '/content/classifcation/Garbage classification/glass/glass172.jpg', '/content/classifcation/Garbage classification/glass/glass40.jpg', '/content/classifcation/Garbage classification/glass/glass194.jpg', '/content/classifcation/Garbage classification/glass/glass423.jpg', '/content/classifcation/Garbage classification/glass/glass86.jpg', '/content/classifcation/Garbage classification/glass/glass242.jpg', '/content/classifcation/Garbage classification/glass/glass12.jpg', '/content/classifcation/Garbage classification/glass/glass178.jpg', '/content/classifcation/Garbage classification/glass/glass293.jpg', '/content/classifcation/Garbage classification/glass/glass376.jpg', '/content/classifcation/Garbage classification/glass/glass29.jpg', '/content/classifcation/Garbage classification/glass/glass199.jpg', '/content/classifcation/Garbage classification/glass/glass331.jpg', '/content/classifcation/Garbage classification/glass/glass493.jpg', '/content/classifcation/Garbage classification/glass/glass203.jpg', '/content/classifcation/Garbage classification/glass/glass116.jpg', '/content/classifcation/Garbage classification/glass/glass112.jpg', '/content/classifcation/Garbage classification/glass/glass273.jpg', '/content/classifcation/Garbage classification/glass/glass75.jpg', '/content/classifcation/Garbage classification/glass/glass427.jpg', '/content/classifcation/Garbage classification/glass/glass196.jpg', '/content/classifcation/Garbage classification/glass/glass4.jpg', '/content/classifcation/Garbage classification/glass/glass106.jpg', '/content/classifcation/Garbage classification/glass/glass500.jpg', '/content/classifcation/Garbage classification/glass/glass337.jpg', '/content/classifcation/Garbage classification/glass/glass262.jpg', '/content/classifcation/Garbage classification/glass/glass100.jpg', '/content/classifcation/Garbage classification/glass/glass181.jpg', '/content/classifcation/Garbage classification/glass/glass24.jpg', '/content/classifcation/Garbage classification/glass/glass164.jpg', '/content/classifcation/Garbage classification/glass/glass280.jpg', '/content/classifcation/Garbage classification/glass/glass160.jpg', '/content/classifcation/Garbage classification/glass/glass403.jpg', '/content/classifcation/Garbage classification/glass/glass300.jpg', '/content/classifcation/Garbage classification/glass/glass80.jpg', '/content/classifcation/Garbage classification/glass/glass312.jpg', '/content/classifcation/Garbage classification/glass/glass485.jpg', '/content/classifcation/Garbage classification/glass/glass380.jpg', '/content/classifcation/Garbage classification/glass/glass129.jpg', '/content/classifcation/Garbage classification/glass/glass346.jpg', '/content/classifcation/Garbage classification/glass/glass365.jpg', '/content/classifcation/Garbage classification/glass/glass155.jpg', '/content/classifcation/Garbage classification/glass/glass484.jpg', '/content/classifcation/Garbage classification/glass/glass320.jpg', '/content/classifcation/Garbage classification/glass/glass499.jpg', '/content/classifcation/Garbage classification/glass/glass59.jpg', '/content/classifcation/Garbage classification/glass/glass115.jpg', '/content/classifcation/Garbage classification/glass/glass268.jpg', '/content/classifcation/Garbage classification/glass/glass209.jpg', '/content/classifcation/Garbage classification/glass/glass248.jpg', '/content/classifcation/Garbage classification/glass/glass239.jpg', '/content/classifcation/Garbage classification/glass/glass133.jpg', '/content/classifcation/Garbage classification/glass/glass177.jpg', '/content/classifcation/Garbage classification/glass/glass341.jpg', '/content/classifcation/Garbage classification/glass/glass418.jpg', '/content/classifcation/Garbage classification/glass/glass169.jpg', '/content/classifcation/Garbage classification/glass/glass411.jpg', '/content/classifcation/Garbage classification/glass/glass278.jpg', '/content/classifcation/Garbage classification/glass/glass395.jpg', '/content/classifcation/Garbage classification/glass/glass294.jpg', '/content/classifcation/Garbage classification/glass/glass105.jpg', '/content/classifcation/Garbage classification/glass/glass373.jpg', '/content/classifcation/Garbage classification/glass/glass141.jpg', '/content/classifcation/Garbage classification/glass/glass473.jpg', '/content/classifcation/Garbage classification/glass/glass82.jpg', '/content/classifcation/Garbage classification/glass/glass14.jpg', '/content/classifcation/Garbage classification/glass/glass362.jpg', '/content/classifcation/Garbage classification/glass/glass406.jpg', '/content/classifcation/Garbage classification/glass/glass464.jpg', '/content/classifcation/Garbage classification/glass/glass189.jpg', '/content/classifcation/Garbage classification/glass/glass184.jpg', '/content/classifcation/Garbage classification/glass/glass402.jpg', '/content/classifcation/Garbage classification/glass/glass274.jpg', '/content/classifcation/Garbage classification/glass/glass101.jpg', '/content/classifcation/Garbage classification/glass/glass271.jpg', '/content/classifcation/Garbage classification/glass/glass283.jpg', '/content/classifcation/Garbage classification/glass/glass109.jpg', '/content/classifcation/Garbage classification/glass/glass57.jpg', '/content/classifcation/Garbage classification/glass/glass265.jpg', '/content/classifcation/Garbage classification/glass/glass417.jpg', '/content/classifcation/Garbage classification/glass/glass130.jpg', '/content/classifcation/Garbage classification/glass/glass336.jpg', '/content/classifcation/Garbage classification/glass/glass79.jpg', '/content/classifcation/Garbage classification/glass/glass245.jpg', '/content/classifcation/Garbage classification/glass/glass458.jpg', '/content/classifcation/Garbage classification/glass/glass343.jpg', '/content/classifcation/Garbage classification/glass/glass357.jpg', '/content/classifcation/Garbage classification/glass/glass233.jpg', '/content/classifcation/Garbage classification/glass/glass264.jpg', '/content/classifcation/Garbage classification/glass/glass70.jpg', '/content/classifcation/Garbage classification/glass/glass173.jpg', '/content/classifcation/Garbage classification/glass/glass111.jpg', '/content/classifcation/Garbage classification/glass/glass469.jpg', '/content/classifcation/Garbage classification/glass/glass454.jpg', '/content/classifcation/Garbage classification/glass/glass420.jpg', '/content/classifcation/Garbage classification/glass/glass235.jpg', '/content/classifcation/Garbage classification/glass/glass202.jpg', '/content/classifcation/Garbage classification/glass/glass54.jpg', '/content/classifcation/Garbage classification/glass/glass158.jpg', '/content/classifcation/Garbage classification/glass/glass104.jpg', '/content/classifcation/Garbage classification/glass/glass272.jpg', '/content/classifcation/Garbage classification/glass/glass67.jpg', '/content/classifcation/Garbage classification/glass/glass325.jpg', '/content/classifcation/Garbage classification/glass/glass479.jpg', '/content/classifcation/Garbage classification/glass/glass431.jpg', '/content/classifcation/Garbage classification/glass/glass62.jpg', '/content/classifcation/Garbage classification/glass/glass409.jpg', '/content/classifcation/Garbage classification/glass/glass53.jpg', '/content/classifcation/Garbage classification/glass/glass490.jpg', '/content/classifcation/Garbage classification/glass/glass249.jpg', '/content/classifcation/Garbage classification/glass/glass453.jpg', '/content/classifcation/Garbage classification/glass/glass13.jpg', '/content/classifcation/Garbage classification/glass/glass254.jpg', '/content/classifcation/Garbage classification/glass/glass132.jpg', '/content/classifcation/Garbage classification/glass/glass351.jpg', '/content/classifcation/Garbage classification/glass/glass437.jpg', '/content/classifcation/Garbage classification/glass/glass405.jpg', '/content/classifcation/Garbage classification/glass/glass21.jpg', '/content/classifcation/Garbage classification/glass/glass467.jpg', '/content/classifcation/Garbage classification/glass/glass146.jpg', '/content/classifcation/Garbage classification/glass/glass157.jpg', '/content/classifcation/Garbage classification/glass/glass50.jpg', '/content/classifcation/Garbage classification/glass/glass45.jpg', '/content/classifcation/Garbage classification/glass/glass114.jpg', '/content/classifcation/Garbage classification/glass/glass33.jpg', '/content/classifcation/Garbage classification/glass/glass321.jpg', '/content/classifcation/Garbage classification/glass/glass463.jpg', '/content/classifcation/Garbage classification/glass/glass488.jpg', '/content/classifcation/Garbage classification/glass/glass185.jpg', '/content/classifcation/Garbage classification/glass/glass457.jpg', '/content/classifcation/Garbage classification/glass/glass342.jpg', '/content/classifcation/Garbage classification/glass/glass492.jpg', '/content/classifcation/Garbage classification/glass/glass159.jpg', '/content/classifcation/Garbage classification/glass/glass27.jpg', '/content/classifcation/Garbage classification/glass/glass71.jpg', '/content/classifcation/Garbage classification/glass/glass26.jpg', '/content/classifcation/Garbage classification/glass/glass470.jpg', '/content/classifcation/Garbage classification/glass/glass335.jpg', '/content/classifcation/Garbage classification/glass/glass387.jpg', '/content/classifcation/Garbage classification/glass/glass221.jpg', '/content/classifcation/Garbage classification/glass/glass482.jpg', '/content/classifcation/Garbage classification/glass/glass193.jpg', '/content/classifcation/Garbage classification/glass/glass226.jpg', '/content/classifcation/Garbage classification/glass/glass167.jpg', '/content/classifcation/Garbage classification/glass/glass227.jpg', '/content/classifcation/Garbage classification/glass/glass451.jpg', '/content/classifcation/Garbage classification/glass/glass191.jpg', '/content/classifcation/Garbage classification/glass/glass60.jpg', '/content/classifcation/Garbage classification/glass/glass472.jpg', '/content/classifcation/Garbage classification/glass/glass168.jpg', '/content/classifcation/Garbage classification/glass/glass371.jpg', '/content/classifcation/Garbage classification/glass/glass459.jpg', '/content/classifcation/Garbage classification/glass/glass186.jpg', '/content/classifcation/Garbage classification/glass/glass15.jpg', '/content/classifcation/Garbage classification/glass/glass150.jpg', '/content/classifcation/Garbage classification/glass/glass31.jpg', '/content/classifcation/Garbage classification/glass/glass385.jpg', '/content/classifcation/Garbage classification/glass/glass353.jpg', '/content/classifcation/Garbage classification/glass/glass108.jpg', '/content/classifcation/Garbage classification/glass/glass125.jpg', '/content/classifcation/Garbage classification/glass/glass449.jpg', '/content/classifcation/Garbage classification/glass/glass20.jpg', '/content/classifcation/Garbage classification/glass/glass308.jpg', '/content/classifcation/Garbage classification/glass/glass127.jpg', '/content/classifcation/Garbage classification/glass/glass89.jpg', '/content/classifcation/Garbage classification/glass/glass382.jpg', '/content/classifcation/Garbage classification/glass/glass63.jpg', '/content/classifcation/Garbage classification/glass/glass91.jpg', '/content/classifcation/Garbage classification/glass/glass66.jpg', '/content/classifcation/Garbage classification/glass/glass461.jpg', '/content/classifcation/Garbage classification/glass/glass460.jpg', '/content/classifcation/Garbage classification/glass/glass228.jpg', '/content/classifcation/Garbage classification/glass/glass252.jpg', '/content/classifcation/Garbage classification/glass/glass415.jpg', '/content/classifcation/Garbage classification/glass/glass367.jpg', '/content/classifcation/Garbage classification/glass/glass144.jpg', '/content/classifcation/Garbage classification/glass/glass383.jpg', '/content/classifcation/Garbage classification/glass/glass22.jpg', '/content/classifcation/Garbage classification/glass/glass183.jpg', '/content/classifcation/Garbage classification/glass/glass313.jpg', '/content/classifcation/Garbage classification/glass/glass292.jpg', '/content/classifcation/Garbage classification/glass/glass440.jpg', '/content/classifcation/Garbage classification/glass/glass447.jpg', '/content/classifcation/Garbage classification/glass/glass30.jpg', '/content/classifcation/Garbage classification/glass/glass25.jpg', '/content/classifcation/Garbage classification/glass/glass311.jpg', '/content/classifcation/Garbage classification/glass/glass237.jpg', '/content/classifcation/Garbage classification/glass/glass135.jpg', '/content/classifcation/Garbage classification/glass/glass298.jpg', '/content/classifcation/Garbage classification/glass/glass182.jpg', '/content/classifcation/Garbage classification/glass/glass345.jpg', '/content/classifcation/Garbage classification/glass/glass121.jpg', '/content/classifcation/Garbage classification/glass/glass163.jpg', '/content/classifcation/Garbage classification/glass/glass441.jpg', '/content/classifcation/Garbage classification/glass/glass142.jpg', '/content/classifcation/Garbage classification/glass/glass243.jpg', '/content/classifcation/Garbage classification/glass/glass64.jpg', '/content/classifcation/Garbage classification/glass/glass478.jpg', '/content/classifcation/Garbage classification/glass/glass259.jpg', '/content/classifcation/Garbage classification/glass/glass244.jpg', '/content/classifcation/Garbage classification/glass/glass34.jpg', '/content/classifcation/Garbage classification/glass/glass1.jpg', '/content/classifcation/Garbage classification/glass/glass448.jpg', '/content/classifcation/Garbage classification/glass/glass90.jpg', '/content/classifcation/Garbage classification/glass/glass309.jpg', '/content/classifcation/Garbage classification/glass/glass428.jpg', '/content/classifcation/Garbage classification/glass/glass176.jpg', '/content/classifcation/Garbage classification/glass/glass378.jpg', '/content/classifcation/Garbage classification/glass/glass324.jpg', '/content/classifcation/Garbage classification/glass/glass296.jpg', '/content/classifcation/Garbage classification/glass/glass480.jpg', '/content/classifcation/Garbage classification/glass/glass474.jpg', '/content/classifcation/Garbage classification/glass/glass195.jpg', '/content/classifcation/Garbage classification/glass/glass48.jpg', '/content/classifcation/Garbage classification/glass/glass301.jpg', '/content/classifcation/Garbage classification/glass/glass322.jpg', '/content/classifcation/Garbage classification/glass/glass352.jpg', '/content/classifcation/Garbage classification/glass/glass215.jpg', '/content/classifcation/Garbage classification/glass/glass255.jpg', '/content/classifcation/Garbage classification/glass/glass38.jpg', '/content/classifcation/Garbage classification/glass/glass134.jpg', '/content/classifcation/Garbage classification/glass/glass162.jpg', '/content/classifcation/Garbage classification/glass/glass119.jpg', '/content/classifcation/Garbage classification/glass/glass206.jpg', '/content/classifcation/Garbage classification/glass/glass498.jpg', '/content/classifcation/Garbage classification/glass/glass138.jpg', '/content/classifcation/Garbage classification/glass/glass305.jpg', '/content/classifcation/Garbage classification/glass/glass369.jpg', '/content/classifcation/Garbage classification/glass/glass204.jpg', '/content/classifcation/Garbage classification/glass/glass282.jpg', '/content/classifcation/Garbage classification/glass/glass258.jpg', '/content/classifcation/Garbage classification/glass/glass251.jpg', '/content/classifcation/Garbage classification/glass/glass477.jpg', '/content/classifcation/Garbage classification/glass/glass55.jpg', '/content/classifcation/Garbage classification/glass/glass197.jpg', '/content/classifcation/Garbage classification/glass/glass139.jpg', '/content/classifcation/Garbage classification/glass/glass210.jpg', '/content/classifcation/Garbage classification/glass/glass297.jpg', '/content/classifcation/Garbage classification/glass/glass412.jpg', '/content/classifcation/Garbage classification/glass/glass247.jpg', '/content/classifcation/Garbage classification/glass/glass236.jpg', '/content/classifcation/Garbage classification/glass/glass165.jpg', '/content/classifcation/Garbage classification/glass/glass41.jpg', '/content/classifcation/Garbage classification/glass/glass3.jpg', '/content/classifcation/Garbage classification/glass/glass171.jpg', '/content/classifcation/Garbage classification/glass/glass396.jpg', '/content/classifcation/Garbage classification/glass/glass95.jpg', '/content/classifcation/Garbage classification/glass/glass19.jpg', '/content/classifcation/Garbage classification/glass/glass344.jpg', '/content/classifcation/Garbage classification/glass/glass374.jpg', '/content/classifcation/Garbage classification/glass/glass2.jpg', '/content/classifcation/Garbage classification/glass/glass372.jpg', '/content/classifcation/Garbage classification/glass/glass350.jpg', '/content/classifcation/Garbage classification/glass/glass435.jpg', '/content/classifcation/Garbage classification/glass/glass137.jpg', '/content/classifcation/Garbage classification/glass/glass332.jpg', '/content/classifcation/Garbage classification/glass/glass148.jpg', '/content/classifcation/Garbage classification/glass/glass481.jpg', '/content/classifcation/Garbage classification/glass/glass486.jpg', '/content/classifcation/Garbage classification/glass/glass450.jpg', '/content/classifcation/Garbage classification/glass/glass358.jpg', '/content/classifcation/Garbage classification/glass/glass302.jpg', '/content/classifcation/Garbage classification/glass/glass81.jpg', '/content/classifcation/Garbage classification/glass/glass46.jpg', '/content/classifcation/Garbage classification/glass/glass97.jpg', '/content/classifcation/Garbage classification/glass/glass118.jpg', '/content/classifcation/Garbage classification/glass/glass39.jpg', '/content/classifcation/Garbage classification/glass/glass110.jpg', '/content/classifcation/Garbage classification/glass/glass462.jpg', '/content/classifcation/Garbage classification/glass/glass8.jpg', '/content/classifcation/Garbage classification/glass/glass88.jpg', '/content/classifcation/Garbage classification/glass/glass122.jpg', '/content/classifcation/Garbage classification/glass/glass501.jpg', '/content/classifcation/Garbage classification/glass/glass61.jpg', '/content/classifcation/Garbage classification/glass/glass416.jpg', '/content/classifcation/Garbage classification/glass/glass390.jpg', '/content/classifcation/Garbage classification/glass/glass174.jpg', '/content/classifcation/Garbage classification/glass/glass471.jpg', '/content/classifcation/Garbage classification/glass/glass140.jpg', '/content/classifcation/Garbage classification/glass/glass156.jpg', '/content/classifcation/Garbage classification/glass/glass422.jpg', '/content/classifcation/Garbage classification/glass/glass433.jpg', '/content/classifcation/Garbage classification/glass/glass218.jpg', '/content/classifcation/Garbage classification/glass/glass222.jpg', '/content/classifcation/Garbage classification/glass/glass65.jpg', '/content/classifcation/Garbage classification/glass/glass84.jpg', '/content/classifcation/Garbage classification/glass/glass198.jpg', '/content/classifcation/Garbage classification/glass/glass220.jpg', '/content/classifcation/Garbage classification/glass/glass267.jpg', '/content/classifcation/Garbage classification/glass/glass307.jpg', '/content/classifcation/Garbage classification/glass/glass455.jpg', '/content/classifcation/Garbage classification/glass/glass421.jpg', '/content/classifcation/Garbage classification/glass/glass43.jpg', '/content/classifcation/Garbage classification/glass/glass497.jpg', '/content/classifcation/Garbage classification/glass/glass120.jpg', '/content/classifcation/Garbage classification/glass/glass400.jpg', '/content/classifcation/Garbage classification/glass/glass407.jpg', '/content/classifcation/Garbage classification/glass/glass241.jpg', '/content/classifcation/Garbage classification/glass/glass443.jpg', '/content/classifcation/Garbage classification/glass/glass316.jpg', '/content/classifcation/Garbage classification/glass/glass6.jpg', '/content/classifcation/Garbage classification/glass/glass58.jpg', '/content/classifcation/Garbage classification/glass/glass299.jpg', '/content/classifcation/Garbage classification/glass/glass5.jpg', '/content/classifcation/Garbage classification/glass/glass217.jpg', '/content/classifcation/Garbage classification/glass/glass317.jpg', '/content/classifcation/Garbage classification/glass/glass393.jpg', '/content/classifcation/Garbage classification/glass/glass161.jpg', '/content/classifcation/Garbage classification/glass/glass260.jpg', '/content/classifcation/Garbage classification/glass/glass334.jpg', '/content/classifcation/Garbage classification/glass/glass328.jpg', '/content/classifcation/Garbage classification/glass/glass170.jpg', '/content/classifcation/Garbage classification/glass/glass238.jpg', '/content/classifcation/Garbage classification/glass/glass368.jpg', '/content/classifcation/Garbage classification/glass/glass465.jpg', '/content/classifcation/Garbage classification/glass/glass361.jpg', '/content/classifcation/Garbage classification/glass/glass211.jpg', '/content/classifcation/Garbage classification/glass/glass438.jpg', '/content/classifcation/Garbage classification/glass/glass363.jpg', '/content/classifcation/Garbage classification/glass/glass72.jpg', '/content/classifcation/Garbage classification/glass/glass349.jpg', '/content/classifcation/Garbage classification/glass/glass7.jpg', '/content/classifcation/Garbage classification/glass/glass432.jpg', '/content/classifcation/Garbage classification/glass/glass214.jpg', '/content/classifcation/Garbage classification/glass/glass126.jpg', '/content/classifcation/Garbage classification/glass/glass419.jpg', '/content/classifcation/Garbage classification/glass/glass468.jpg', '/content/classifcation/Garbage classification/glass/glass291.jpg', '/content/classifcation/Garbage classification/glass/glass113.jpg', '/content/classifcation/Garbage classification/glass/glass327.jpg', '/content/classifcation/Garbage classification/glass/glass347.jpg', '/content/classifcation/Garbage classification/glass/glass52.jpg', '/content/classifcation/Garbage classification/glass/glass9.jpg', '/content/classifcation/Garbage classification/glass/glass224.jpg', '/content/classifcation/Garbage classification/glass/glass356.jpg', '/content/classifcation/Garbage classification/glass/glass277.jpg']\n",
            "['/content/classifcation/Garbage classification/prediction/trash59.jpg', '/content/classifcation/Garbage classification/prediction/trash91.jpg', '/content/classifcation/Garbage classification/prediction/trash121.jpg', '/content/classifcation/Garbage classification/prediction/trash70.jpg', '/content/classifcation/Garbage classification/prediction/trash61.jpg', '/content/classifcation/Garbage classification/prediction/trash30.jpg', '/content/classifcation/Garbage classification/prediction/trash124.jpg', '/content/classifcation/Garbage classification/prediction/trash50.jpg', '/content/classifcation/Garbage classification/prediction/trash110.jpg', '/content/classifcation/Garbage classification/prediction/trash55.jpg', '/content/classifcation/Garbage classification/prediction/trash63.jpg', '/content/classifcation/Garbage classification/prediction/trash134.jpg', '/content/classifcation/Garbage classification/prediction/trash90.jpg', '/content/classifcation/Garbage classification/prediction/trash17.jpg', '/content/classifcation/Garbage classification/prediction/trash20.jpg', '/content/classifcation/Garbage classification/prediction/trash57.jpg', '/content/classifcation/Garbage classification/prediction/trash64.jpg', '/content/classifcation/Garbage classification/prediction/trash15.jpg', '/content/classifcation/Garbage classification/prediction/trash34.jpg', '/content/classifcation/Garbage classification/prediction/trash11.jpg', '/content/classifcation/Garbage classification/prediction/trash19.jpg', '/content/classifcation/Garbage classification/prediction/trash82.jpg', '/content/classifcation/Garbage classification/prediction/trash53.jpg', '/content/classifcation/Garbage classification/prediction/trash60.jpg', '/content/classifcation/Garbage classification/prediction/trash47.jpg', '/content/classifcation/Garbage classification/prediction/trash69.jpg', '/content/classifcation/Garbage classification/prediction/trash37.jpg', '/content/classifcation/Garbage classification/prediction/trash89.jpg', '/content/classifcation/Garbage classification/prediction/trash56.jpg', '/content/classifcation/Garbage classification/prediction/trash26.jpg', '/content/classifcation/Garbage classification/prediction/trash40.jpg', '/content/classifcation/Garbage classification/prediction/trash8.jpg', '/content/classifcation/Garbage classification/prediction/trash36.jpg', '/content/classifcation/Garbage classification/prediction/trash81.jpg', '/content/classifcation/Garbage classification/prediction/trash73.jpg', '/content/classifcation/Garbage classification/prediction/trash125.jpg', '/content/classifcation/Garbage classification/prediction/trash131.jpg', '/content/classifcation/Garbage classification/prediction/trash109.jpg', '/content/classifcation/Garbage classification/prediction/trash74.jpg', '/content/classifcation/Garbage classification/prediction/trash108.jpg', '/content/classifcation/Garbage classification/prediction/trash76.jpg', '/content/classifcation/Garbage classification/prediction/trash102.jpg', '/content/classifcation/Garbage classification/prediction/trash65.jpg', '/content/classifcation/Garbage classification/prediction/trash24.jpg', '/content/classifcation/Garbage classification/prediction/trash58.jpg', '/content/classifcation/Garbage classification/prediction/trash114.jpg', '/content/classifcation/Garbage classification/prediction/trash16.jpg', '/content/classifcation/Garbage classification/prediction/trash27.jpg', '/content/classifcation/Garbage classification/prediction/trash51.jpg', '/content/classifcation/Garbage classification/prediction/trash46.jpg', '/content/classifcation/Garbage classification/prediction/trash99.jpg', '/content/classifcation/Garbage classification/prediction/trash62.jpg', '/content/classifcation/Garbage classification/prediction/trash21.jpg', '/content/classifcation/Garbage classification/prediction/trash67.jpg', '/content/classifcation/Garbage classification/prediction/trash92.jpg', '/content/classifcation/Garbage classification/prediction/trash43.jpg', '/content/classifcation/Garbage classification/prediction/trash68.jpg', '/content/classifcation/Garbage classification/prediction/trash127.jpg', '/content/classifcation/Garbage classification/prediction/trash29.jpg', '/content/classifcation/Garbage classification/prediction/trash129.jpg', '/content/classifcation/Garbage classification/prediction/trash100.jpg', '/content/classifcation/Garbage classification/prediction/trash106.jpg', '/content/classifcation/Garbage classification/prediction/trash97.jpg', '/content/classifcation/Garbage classification/prediction/trash87.jpg', '/content/classifcation/Garbage classification/prediction/trash32.jpg', '/content/classifcation/Garbage classification/prediction/trash28.jpg', '/content/classifcation/Garbage classification/prediction/trash33.jpg', '/content/classifcation/Garbage classification/prediction/trash126.jpg', '/content/classifcation/Garbage classification/prediction/trash94.jpg', '/content/classifcation/Garbage classification/prediction/trash79.jpg', '/content/classifcation/Garbage classification/prediction/trash137.jpg', '/content/classifcation/Garbage classification/prediction/trash117.jpg', '/content/classifcation/Garbage classification/prediction/trash111.jpg', '/content/classifcation/Garbage classification/prediction/trash48.jpg', '/content/classifcation/Garbage classification/prediction/trash115.jpg', '/content/classifcation/Garbage classification/prediction/trash7.jpg', '/content/classifcation/Garbage classification/prediction/trash96.jpg', '/content/classifcation/Garbage classification/prediction/trash14.jpg', '/content/classifcation/Garbage classification/prediction/trash9.jpg', '/content/classifcation/Garbage classification/prediction/trash136.jpg', '/content/classifcation/Garbage classification/prediction/trash75.jpg', '/content/classifcation/Garbage classification/prediction/trash104.jpg', '/content/classifcation/Garbage classification/prediction/trash3.jpg', '/content/classifcation/Garbage classification/prediction/trash98.jpg', '/content/classifcation/Garbage classification/prediction/trash133.jpg', '/content/classifcation/Garbage classification/prediction/trash113.jpg', '/content/classifcation/Garbage classification/prediction/trash4.jpg', '/content/classifcation/Garbage classification/prediction/trash45.jpg', '/content/classifcation/Garbage classification/prediction/trash123.jpg', '/content/classifcation/Garbage classification/prediction/trash93.jpg', '/content/classifcation/Garbage classification/prediction/trash35.jpg', '/content/classifcation/Garbage classification/prediction/trash105.jpg', '/content/classifcation/Garbage classification/prediction/trash38.jpg', '/content/classifcation/Garbage classification/prediction/trash77.jpg', '/content/classifcation/Garbage classification/prediction/trash128.jpg', '/content/classifcation/Garbage classification/prediction/trash44.jpg', '/content/classifcation/Garbage classification/prediction/trash6.jpg', '/content/classifcation/Garbage classification/prediction/trash25.jpg', '/content/classifcation/Garbage classification/prediction/trash41.jpg', '/content/classifcation/Garbage classification/prediction/trash119.jpg', '/content/classifcation/Garbage classification/prediction/trash130.jpg', '/content/classifcation/Garbage classification/prediction/trash101.jpg', '/content/classifcation/Garbage classification/prediction/trash18.jpg', '/content/classifcation/Garbage classification/prediction/trash54.jpg', '/content/classifcation/Garbage classification/prediction/trash5.jpg', '/content/classifcation/Garbage classification/prediction/trash22.jpg', '/content/classifcation/Garbage classification/prediction/trash72.jpg', '/content/classifcation/Garbage classification/prediction/trash85.jpg', '/content/classifcation/Garbage classification/prediction/trash49.jpg', '/content/classifcation/Garbage classification/prediction/trash12.jpg', '/content/classifcation/Garbage classification/prediction/trash103.jpg', '/content/classifcation/Garbage classification/prediction/trash116.jpg', '/content/classifcation/Garbage classification/prediction/trash78.jpg', '/content/classifcation/Garbage classification/prediction/trash120.jpg', '/content/classifcation/Garbage classification/prediction/trash71.jpg', '/content/classifcation/Garbage classification/prediction/trash118.jpg', '/content/classifcation/Garbage classification/prediction/trash135.jpg', '/content/classifcation/Garbage classification/prediction/trash84.jpg', '/content/classifcation/Garbage classification/prediction/trash52.jpg', '/content/classifcation/Garbage classification/prediction/trash31.jpg', '/content/classifcation/Garbage classification/prediction/trash122.jpg', '/content/classifcation/Garbage classification/prediction/trash42.jpg', '/content/classifcation/Garbage classification/prediction/trash39.jpg', '/content/classifcation/Garbage classification/prediction/trash80.jpg', '/content/classifcation/Garbage classification/prediction/trash88.jpg', '/content/classifcation/Garbage classification/prediction/trash2.jpg', '/content/classifcation/Garbage classification/prediction/trash95.jpg', '/content/classifcation/Garbage classification/prediction/trash132.jpg', '/content/classifcation/Garbage classification/prediction/trash23.jpg', '/content/classifcation/Garbage classification/prediction/trash66.jpg', '/content/classifcation/Garbage classification/prediction/trash83.jpg', '/content/classifcation/Garbage classification/prediction/trash1.jpg', '/content/classifcation/Garbage classification/prediction/trash13.jpg', '/content/classifcation/Garbage classification/prediction/trash86.jpg', '/content/classifcation/Garbage classification/prediction/trash107.jpg', '/content/classifcation/Garbage classification/prediction/trash112.jpg', '/content/classifcation/Garbage classification/prediction/trash10.jpg']\n",
            "['/content/classifcation/Garbage classification/paper/paper116.jpg', '/content/classifcation/Garbage classification/paper/paper201.jpg', '/content/classifcation/Garbage classification/paper/paper4.jpg', '/content/classifcation/Garbage classification/paper/paper184.jpg', '/content/classifcation/Garbage classification/paper/paper149.jpg', '/content/classifcation/Garbage classification/paper/paper303.jpg', '/content/classifcation/Garbage classification/paper/paper387.jpg', '/content/classifcation/Garbage classification/paper/paper479.jpg', '/content/classifcation/Garbage classification/paper/paper467.jpg', '/content/classifcation/Garbage classification/paper/paper232.jpg', '/content/classifcation/Garbage classification/paper/paper422.jpg', '/content/classifcation/Garbage classification/paper/paper470.jpg', '/content/classifcation/Garbage classification/paper/paper584.jpg', '/content/classifcation/Garbage classification/paper/paper62.jpg', '/content/classifcation/Garbage classification/paper/paper516.jpg', '/content/classifcation/Garbage classification/paper/paper280.jpg', '/content/classifcation/Garbage classification/paper/paper252.jpg', '/content/classifcation/Garbage classification/paper/paper200.jpg', '/content/classifcation/Garbage classification/paper/paper575.jpg', '/content/classifcation/Garbage classification/paper/paper84.jpg', '/content/classifcation/Garbage classification/paper/paper207.jpg', '/content/classifcation/Garbage classification/paper/paper318.jpg', '/content/classifcation/Garbage classification/paper/paper144.jpg', '/content/classifcation/Garbage classification/paper/paper95.jpg', '/content/classifcation/Garbage classification/paper/paper504.jpg', '/content/classifcation/Garbage classification/paper/paper577.jpg', '/content/classifcation/Garbage classification/paper/paper186.jpg', '/content/classifcation/Garbage classification/paper/paper526.jpg', '/content/classifcation/Garbage classification/paper/paper397.jpg', '/content/classifcation/Garbage classification/paper/paper90.jpg', '/content/classifcation/Garbage classification/paper/paper458.jpg', '/content/classifcation/Garbage classification/paper/paper323.jpg', '/content/classifcation/Garbage classification/paper/paper32.jpg', '/content/classifcation/Garbage classification/paper/paper135.jpg', '/content/classifcation/Garbage classification/paper/paper385.jpg', '/content/classifcation/Garbage classification/paper/paper98.jpg', '/content/classifcation/Garbage classification/paper/paper30.jpg', '/content/classifcation/Garbage classification/paper/paper42.jpg', '/content/classifcation/Garbage classification/paper/paper292.jpg', '/content/classifcation/Garbage classification/paper/paper464.jpg', '/content/classifcation/Garbage classification/paper/paper39.jpg', '/content/classifcation/Garbage classification/paper/paper22.jpg', '/content/classifcation/Garbage classification/paper/paper235.jpg', '/content/classifcation/Garbage classification/paper/paper169.jpg', '/content/classifcation/Garbage classification/paper/paper472.jpg', '/content/classifcation/Garbage classification/paper/paper359.jpg', '/content/classifcation/Garbage classification/paper/paper148.jpg', '/content/classifcation/Garbage classification/paper/paper217.jpg', '/content/classifcation/Garbage classification/paper/paper246.jpg', '/content/classifcation/Garbage classification/paper/paper363.jpg', '/content/classifcation/Garbage classification/paper/paper557.jpg', '/content/classifcation/Garbage classification/paper/paper44.jpg', '/content/classifcation/Garbage classification/paper/paper241.jpg', '/content/classifcation/Garbage classification/paper/paper130.jpg', '/content/classifcation/Garbage classification/paper/paper474.jpg', '/content/classifcation/Garbage classification/paper/paper404.jpg', '/content/classifcation/Garbage classification/paper/paper305.jpg', '/content/classifcation/Garbage classification/paper/paper111.jpg', '/content/classifcation/Garbage classification/paper/paper425.jpg', '/content/classifcation/Garbage classification/paper/paper119.jpg', '/content/classifcation/Garbage classification/paper/paper224.jpg', '/content/classifcation/Garbage classification/paper/paper275.jpg', '/content/classifcation/Garbage classification/paper/paper423.jpg', '/content/classifcation/Garbage classification/paper/paper579.jpg', '/content/classifcation/Garbage classification/paper/paper503.jpg', '/content/classifcation/Garbage classification/paper/paper43.jpg', '/content/classifcation/Garbage classification/paper/paper418.jpg', '/content/classifcation/Garbage classification/paper/paper571.jpg', '/content/classifcation/Garbage classification/paper/paper499.jpg', '/content/classifcation/Garbage classification/paper/paper507.jpg', '/content/classifcation/Garbage classification/paper/paper113.jpg', '/content/classifcation/Garbage classification/paper/paper21.jpg', '/content/classifcation/Garbage classification/paper/paper156.jpg', '/content/classifcation/Garbage classification/paper/paper1.jpg', '/content/classifcation/Garbage classification/paper/paper417.jpg', '/content/classifcation/Garbage classification/paper/paper65.jpg', '/content/classifcation/Garbage classification/paper/paper317.jpg', '/content/classifcation/Garbage classification/paper/paper223.jpg', '/content/classifcation/Garbage classification/paper/paper123.jpg', '/content/classifcation/Garbage classification/paper/paper570.jpg', '/content/classifcation/Garbage classification/paper/paper345.jpg', '/content/classifcation/Garbage classification/paper/paper271.jpg', '/content/classifcation/Garbage classification/paper/paper212.jpg', '/content/classifcation/Garbage classification/paper/paper343.jpg', '/content/classifcation/Garbage classification/paper/paper399.jpg', '/content/classifcation/Garbage classification/paper/paper372.jpg', '/content/classifcation/Garbage classification/paper/paper282.jpg', '/content/classifcation/Garbage classification/paper/paper589.jpg', '/content/classifcation/Garbage classification/paper/paper438.jpg', '/content/classifcation/Garbage classification/paper/paper436.jpg', '/content/classifcation/Garbage classification/paper/paper53.jpg', '/content/classifcation/Garbage classification/paper/paper163.jpg', '/content/classifcation/Garbage classification/paper/paper162.jpg', '/content/classifcation/Garbage classification/paper/paper266.jpg', '/content/classifcation/Garbage classification/paper/paper58.jpg', '/content/classifcation/Garbage classification/paper/paper283.jpg', '/content/classifcation/Garbage classification/paper/paper97.jpg', '/content/classifcation/Garbage classification/paper/paper432.jpg', '/content/classifcation/Garbage classification/paper/paper34.jpg', '/content/classifcation/Garbage classification/paper/paper492.jpg', '/content/classifcation/Garbage classification/paper/paper259.jpg', '/content/classifcation/Garbage classification/paper/paper120.jpg', '/content/classifcation/Garbage classification/paper/paper219.jpg', '/content/classifcation/Garbage classification/paper/paper166.jpg', '/content/classifcation/Garbage classification/paper/paper157.jpg', '/content/classifcation/Garbage classification/paper/paper578.jpg', '/content/classifcation/Garbage classification/paper/paper490.jpg', '/content/classifcation/Garbage classification/paper/paper532.jpg', '/content/classifcation/Garbage classification/paper/paper286.jpg', '/content/classifcation/Garbage classification/paper/paper308.jpg', '/content/classifcation/Garbage classification/paper/paper81.jpg', '/content/classifcation/Garbage classification/paper/paper463.jpg', '/content/classifcation/Garbage classification/paper/paper325.jpg', '/content/classifcation/Garbage classification/paper/paper296.jpg', '/content/classifcation/Garbage classification/paper/paper302.jpg', '/content/classifcation/Garbage classification/paper/paper225.jpg', '/content/classifcation/Garbage classification/paper/paper215.jpg', '/content/classifcation/Garbage classification/paper/paper164.jpg', '/content/classifcation/Garbage classification/paper/paper489.jpg', '/content/classifcation/Garbage classification/paper/paper313.jpg', '/content/classifcation/Garbage classification/paper/paper171.jpg', '/content/classifcation/Garbage classification/paper/paper529.jpg', '/content/classifcation/Garbage classification/paper/paper371.jpg', '/content/classifcation/Garbage classification/paper/paper284.jpg', '/content/classifcation/Garbage classification/paper/paper338.jpg', '/content/classifcation/Garbage classification/paper/paper105.jpg', '/content/classifcation/Garbage classification/paper/paper314.jpg', '/content/classifcation/Garbage classification/paper/paper501.jpg', '/content/classifcation/Garbage classification/paper/paper114.jpg', '/content/classifcation/Garbage classification/paper/paper421.jpg', '/content/classifcation/Garbage classification/paper/paper69.jpg', '/content/classifcation/Garbage classification/paper/paper415.jpg', '/content/classifcation/Garbage classification/paper/paper20.jpg', '/content/classifcation/Garbage classification/paper/paper558.jpg', '/content/classifcation/Garbage classification/paper/paper552.jpg', '/content/classifcation/Garbage classification/paper/paper550.jpg', '/content/classifcation/Garbage classification/paper/paper498.jpg', '/content/classifcation/Garbage classification/paper/paper240.jpg', '/content/classifcation/Garbage classification/paper/paper140.jpg', '/content/classifcation/Garbage classification/paper/paper86.jpg', '/content/classifcation/Garbage classification/paper/paper222.jpg', '/content/classifcation/Garbage classification/paper/paper234.jpg', '/content/classifcation/Garbage classification/paper/paper76.jpg', '/content/classifcation/Garbage classification/paper/paper174.jpg', '/content/classifcation/Garbage classification/paper/paper395.jpg', '/content/classifcation/Garbage classification/paper/paper298.jpg', '/content/classifcation/Garbage classification/paper/paper513.jpg', '/content/classifcation/Garbage classification/paper/paper96.jpg', '/content/classifcation/Garbage classification/paper/paper352.jpg', '/content/classifcation/Garbage classification/paper/paper182.jpg', '/content/classifcation/Garbage classification/paper/paper147.jpg', '/content/classifcation/Garbage classification/paper/paper199.jpg', '/content/classifcation/Garbage classification/paper/paper276.jpg', '/content/classifcation/Garbage classification/paper/paper360.jpg', '/content/classifcation/Garbage classification/paper/paper194.jpg', '/content/classifcation/Garbage classification/paper/paper391.jpg', '/content/classifcation/Garbage classification/paper/paper221.jpg', '/content/classifcation/Garbage classification/paper/paper448.jpg', '/content/classifcation/Garbage classification/paper/paper139.jpg', '/content/classifcation/Garbage classification/paper/paper568.jpg', '/content/classifcation/Garbage classification/paper/paper364.jpg', '/content/classifcation/Garbage classification/paper/paper178.jpg', '/content/classifcation/Garbage classification/paper/paper473.jpg', '/content/classifcation/Garbage classification/paper/paper242.jpg', '/content/classifcation/Garbage classification/paper/paper290.jpg', '/content/classifcation/Garbage classification/paper/paper556.jpg', '/content/classifcation/Garbage classification/paper/paper239.jpg', '/content/classifcation/Garbage classification/paper/paper582.jpg', '/content/classifcation/Garbage classification/paper/paper356.jpg', '/content/classifcation/Garbage classification/paper/paper453.jpg', '/content/classifcation/Garbage classification/paper/paper64.jpg', '/content/classifcation/Garbage classification/paper/paper450.jpg', '/content/classifcation/Garbage classification/paper/paper481.jpg', '/content/classifcation/Garbage classification/paper/paper545.jpg', '/content/classifcation/Garbage classification/paper/paper439.jpg', '/content/classifcation/Garbage classification/paper/paper180.jpg', '/content/classifcation/Garbage classification/paper/paper26.jpg', '/content/classifcation/Garbage classification/paper/paper269.jpg', '/content/classifcation/Garbage classification/paper/paper14.jpg', '/content/classifcation/Garbage classification/paper/paper477.jpg', '/content/classifcation/Garbage classification/paper/paper285.jpg', '/content/classifcation/Garbage classification/paper/paper381.jpg', '/content/classifcation/Garbage classification/paper/paper106.jpg', '/content/classifcation/Garbage classification/paper/paper435.jpg', '/content/classifcation/Garbage classification/paper/paper176.jpg', '/content/classifcation/Garbage classification/paper/paper496.jpg', '/content/classifcation/Garbage classification/paper/paper367.jpg', '/content/classifcation/Garbage classification/paper/paper3.jpg', '/content/classifcation/Garbage classification/paper/paper382.jpg', '/content/classifcation/Garbage classification/paper/paper334.jpg', '/content/classifcation/Garbage classification/paper/paper316.jpg', '/content/classifcation/Garbage classification/paper/paper419.jpg', '/content/classifcation/Garbage classification/paper/paper524.jpg', '/content/classifcation/Garbage classification/paper/paper565.jpg', '/content/classifcation/Garbage classification/paper/paper79.jpg', '/content/classifcation/Garbage classification/paper/paper41.jpg', '/content/classifcation/Garbage classification/paper/paper520.jpg', '/content/classifcation/Garbage classification/paper/paper428.jpg', '/content/classifcation/Garbage classification/paper/paper398.jpg', '/content/classifcation/Garbage classification/paper/paper88.jpg', '/content/classifcation/Garbage classification/paper/paper341.jpg', '/content/classifcation/Garbage classification/paper/paper78.jpg', '/content/classifcation/Garbage classification/paper/paper331.jpg', '/content/classifcation/Garbage classification/paper/paper388.jpg', '/content/classifcation/Garbage classification/paper/paper165.jpg', '/content/classifcation/Garbage classification/paper/paper300.jpg', '/content/classifcation/Garbage classification/paper/paper228.jpg', '/content/classifcation/Garbage classification/paper/paper218.jpg', '/content/classifcation/Garbage classification/paper/paper537.jpg', '/content/classifcation/Garbage classification/paper/paper559.jpg', '/content/classifcation/Garbage classification/paper/paper261.jpg', '/content/classifcation/Garbage classification/paper/paper175.jpg', '/content/classifcation/Garbage classification/paper/paper293.jpg', '/content/classifcation/Garbage classification/paper/paper365.jpg', '/content/classifcation/Garbage classification/paper/paper8.jpg', '/content/classifcation/Garbage classification/paper/paper151.jpg', '/content/classifcation/Garbage classification/paper/paper320.jpg', '/content/classifcation/Garbage classification/paper/paper17.jpg', '/content/classifcation/Garbage classification/paper/paper527.jpg', '/content/classifcation/Garbage classification/paper/paper509.jpg', '/content/classifcation/Garbage classification/paper/paper410.jpg', '/content/classifcation/Garbage classification/paper/paper366.jpg', '/content/classifcation/Garbage classification/paper/paper158.jpg', '/content/classifcation/Garbage classification/paper/paper437.jpg', '/content/classifcation/Garbage classification/paper/paper45.jpg', '/content/classifcation/Garbage classification/paper/paper457.jpg', '/content/classifcation/Garbage classification/paper/paper209.jpg', '/content/classifcation/Garbage classification/paper/paper204.jpg', '/content/classifcation/Garbage classification/paper/paper585.jpg', '/content/classifcation/Garbage classification/paper/paper444.jpg', '/content/classifcation/Garbage classification/paper/paper29.jpg', '/content/classifcation/Garbage classification/paper/paper153.jpg', '/content/classifcation/Garbage classification/paper/paper289.jpg', '/content/classifcation/Garbage classification/paper/paper452.jpg', '/content/classifcation/Garbage classification/paper/paper534.jpg', '/content/classifcation/Garbage classification/paper/paper210.jpg', '/content/classifcation/Garbage classification/paper/paper374.jpg', '/content/classifcation/Garbage classification/paper/paper466.jpg', '/content/classifcation/Garbage classification/paper/paper392.jpg', '/content/classifcation/Garbage classification/paper/paper441.jpg', '/content/classifcation/Garbage classification/paper/paper591.jpg', '/content/classifcation/Garbage classification/paper/paper67.jpg', '/content/classifcation/Garbage classification/paper/paper152.jpg', '/content/classifcation/Garbage classification/paper/paper137.jpg', '/content/classifcation/Garbage classification/paper/paper183.jpg', '/content/classifcation/Garbage classification/paper/paper567.jpg', '/content/classifcation/Garbage classification/paper/paper535.jpg', '/content/classifcation/Garbage classification/paper/paper9.jpg', '/content/classifcation/Garbage classification/paper/paper377.jpg', '/content/classifcation/Garbage classification/paper/paper378.jpg', '/content/classifcation/Garbage classification/paper/paper214.jpg', '/content/classifcation/Garbage classification/paper/paper92.jpg', '/content/classifcation/Garbage classification/paper/paper112.jpg', '/content/classifcation/Garbage classification/paper/paper304.jpg', '/content/classifcation/Garbage classification/paper/paper588.jpg', '/content/classifcation/Garbage classification/paper/paper358.jpg', '/content/classifcation/Garbage classification/paper/paper134.jpg', '/content/classifcation/Garbage classification/paper/paper468.jpg', '/content/classifcation/Garbage classification/paper/paper580.jpg', '/content/classifcation/Garbage classification/paper/paper237.jpg', '/content/classifcation/Garbage classification/paper/paper536.jpg', '/content/classifcation/Garbage classification/paper/paper127.jpg', '/content/classifcation/Garbage classification/paper/paper83.jpg', '/content/classifcation/Garbage classification/paper/paper103.jpg', '/content/classifcation/Garbage classification/paper/paper216.jpg', '/content/classifcation/Garbage classification/paper/paper512.jpg', '/content/classifcation/Garbage classification/paper/paper192.jpg', '/content/classifcation/Garbage classification/paper/paper263.jpg', '/content/classifcation/Garbage classification/paper/paper354.jpg', '/content/classifcation/Garbage classification/paper/paper243.jpg', '/content/classifcation/Garbage classification/paper/paper465.jpg', '/content/classifcation/Garbage classification/paper/paper168.jpg', '/content/classifcation/Garbage classification/paper/paper273.jpg', '/content/classifcation/Garbage classification/paper/paper206.jpg', '/content/classifcation/Garbage classification/paper/paper142.jpg', '/content/classifcation/Garbage classification/paper/paper462.jpg', '/content/classifcation/Garbage classification/paper/paper185.jpg', '/content/classifcation/Garbage classification/paper/paper274.jpg', '/content/classifcation/Garbage classification/paper/paper213.jpg', '/content/classifcation/Garbage classification/paper/paper547.jpg', '/content/classifcation/Garbage classification/paper/paper517.jpg', '/content/classifcation/Garbage classification/paper/paper46.jpg', '/content/classifcation/Garbage classification/paper/paper177.jpg', '/content/classifcation/Garbage classification/paper/paper429.jpg', '/content/classifcation/Garbage classification/paper/paper426.jpg', '/content/classifcation/Garbage classification/paper/paper68.jpg', '/content/classifcation/Garbage classification/paper/paper373.jpg', '/content/classifcation/Garbage classification/paper/paper49.jpg', '/content/classifcation/Garbage classification/paper/paper514.jpg', '/content/classifcation/Garbage classification/paper/paper523.jpg', '/content/classifcation/Garbage classification/paper/paper416.jpg', '/content/classifcation/Garbage classification/paper/paper487.jpg', '/content/classifcation/Garbage classification/paper/paper27.jpg', '/content/classifcation/Garbage classification/paper/paper245.jpg', '/content/classifcation/Garbage classification/paper/paper51.jpg', '/content/classifcation/Garbage classification/paper/paper24.jpg', '/content/classifcation/Garbage classification/paper/paper50.jpg', '/content/classifcation/Garbage classification/paper/paper346.jpg', '/content/classifcation/Garbage classification/paper/paper551.jpg', '/content/classifcation/Garbage classification/paper/paper307.jpg', '/content/classifcation/Garbage classification/paper/paper132.jpg', '/content/classifcation/Garbage classification/paper/paper332.jpg', '/content/classifcation/Garbage classification/paper/paper530.jpg', '/content/classifcation/Garbage classification/paper/paper348.jpg', '/content/classifcation/Garbage classification/paper/paper238.jpg', '/content/classifcation/Garbage classification/paper/paper566.jpg', '/content/classifcation/Garbage classification/paper/paper11.jpg', '/content/classifcation/Garbage classification/paper/paper291.jpg', '/content/classifcation/Garbage classification/paper/paper522.jpg', '/content/classifcation/Garbage classification/paper/paper528.jpg', '/content/classifcation/Garbage classification/paper/paper445.jpg', '/content/classifcation/Garbage classification/paper/paper554.jpg', '/content/classifcation/Garbage classification/paper/paper124.jpg', '/content/classifcation/Garbage classification/paper/paper253.jpg', '/content/classifcation/Garbage classification/paper/paper251.jpg', '/content/classifcation/Garbage classification/paper/paper471.jpg', '/content/classifcation/Garbage classification/paper/paper511.jpg', '/content/classifcation/Garbage classification/paper/paper143.jpg', '/content/classifcation/Garbage classification/paper/paper542.jpg', '/content/classifcation/Garbage classification/paper/paper265.jpg', '/content/classifcation/Garbage classification/paper/paper150.jpg', '/content/classifcation/Garbage classification/paper/paper451.jpg', '/content/classifcation/Garbage classification/paper/paper407.jpg', '/content/classifcation/Garbage classification/paper/paper7.jpg', '/content/classifcation/Garbage classification/paper/paper344.jpg', '/content/classifcation/Garbage classification/paper/paper281.jpg', '/content/classifcation/Garbage classification/paper/paper167.jpg', '/content/classifcation/Garbage classification/paper/paper494.jpg', '/content/classifcation/Garbage classification/paper/paper87.jpg', '/content/classifcation/Garbage classification/paper/paper446.jpg', '/content/classifcation/Garbage classification/paper/paper361.jpg', '/content/classifcation/Garbage classification/paper/paper402.jpg', '/content/classifcation/Garbage classification/paper/paper254.jpg', '/content/classifcation/Garbage classification/paper/paper66.jpg', '/content/classifcation/Garbage classification/paper/paper131.jpg', '/content/classifcation/Garbage classification/paper/paper433.jpg', '/content/classifcation/Garbage classification/paper/paper592.jpg', '/content/classifcation/Garbage classification/paper/paper456.jpg', '/content/classifcation/Garbage classification/paper/paper349.jpg', '/content/classifcation/Garbage classification/paper/paper129.jpg', '/content/classifcation/Garbage classification/paper/paper424.jpg', '/content/classifcation/Garbage classification/paper/paper384.jpg', '/content/classifcation/Garbage classification/paper/paper299.jpg', '/content/classifcation/Garbage classification/paper/paper488.jpg', '/content/classifcation/Garbage classification/paper/paper108.jpg', '/content/classifcation/Garbage classification/paper/paper301.jpg', '/content/classifcation/Garbage classification/paper/paper229.jpg', '/content/classifcation/Garbage classification/paper/paper57.jpg', '/content/classifcation/Garbage classification/paper/paper342.jpg', '/content/classifcation/Garbage classification/paper/paper431.jpg', '/content/classifcation/Garbage classification/paper/paper576.jpg', '/content/classifcation/Garbage classification/paper/paper37.jpg', '/content/classifcation/Garbage classification/paper/paper518.jpg', '/content/classifcation/Garbage classification/paper/paper403.jpg', '/content/classifcation/Garbage classification/paper/paper236.jpg', '/content/classifcation/Garbage classification/paper/paper115.jpg', '/content/classifcation/Garbage classification/paper/paper586.jpg', '/content/classifcation/Garbage classification/paper/paper267.jpg', '/content/classifcation/Garbage classification/paper/paper508.jpg', '/content/classifcation/Garbage classification/paper/paper393.jpg', '/content/classifcation/Garbage classification/paper/paper277.jpg', '/content/classifcation/Garbage classification/paper/paper122.jpg', '/content/classifcation/Garbage classification/paper/paper337.jpg', '/content/classifcation/Garbage classification/paper/paper321.jpg', '/content/classifcation/Garbage classification/paper/paper155.jpg', '/content/classifcation/Garbage classification/paper/paper525.jpg', '/content/classifcation/Garbage classification/paper/paper52.jpg', '/content/classifcation/Garbage classification/paper/paper379.jpg', '/content/classifcation/Garbage classification/paper/paper279.jpg', '/content/classifcation/Garbage classification/paper/paper396.jpg', '/content/classifcation/Garbage classification/paper/paper262.jpg', '/content/classifcation/Garbage classification/paper/paper561.jpg', '/content/classifcation/Garbage classification/paper/paper519.jpg', '/content/classifcation/Garbage classification/paper/paper48.jpg', '/content/classifcation/Garbage classification/paper/paper594.jpg', '/content/classifcation/Garbage classification/paper/paper188.jpg', '/content/classifcation/Garbage classification/paper/paper380.jpg', '/content/classifcation/Garbage classification/paper/paper478.jpg', '/content/classifcation/Garbage classification/paper/paper475.jpg', '/content/classifcation/Garbage classification/paper/paper181.jpg', '/content/classifcation/Garbage classification/paper/paper375.jpg', '/content/classifcation/Garbage classification/paper/paper138.jpg', '/content/classifcation/Garbage classification/paper/paper362.jpg', '/content/classifcation/Garbage classification/paper/paper198.jpg', '/content/classifcation/Garbage classification/paper/paper159.jpg', '/content/classifcation/Garbage classification/paper/paper339.jpg', '/content/classifcation/Garbage classification/paper/paper491.jpg', '/content/classifcation/Garbage classification/paper/paper564.jpg', '/content/classifcation/Garbage classification/paper/paper312.jpg', '/content/classifcation/Garbage classification/paper/paper60.jpg', '/content/classifcation/Garbage classification/paper/paper389.jpg', '/content/classifcation/Garbage classification/paper/paper250.jpg', '/content/classifcation/Garbage classification/paper/paper99.jpg', '/content/classifcation/Garbage classification/paper/paper28.jpg', '/content/classifcation/Garbage classification/paper/paper340.jpg', '/content/classifcation/Garbage classification/paper/paper311.jpg', '/content/classifcation/Garbage classification/paper/paper368.jpg', '/content/classifcation/Garbage classification/paper/paper420.jpg', '/content/classifcation/Garbage classification/paper/paper249.jpg', '/content/classifcation/Garbage classification/paper/paper145.jpg', '/content/classifcation/Garbage classification/paper/paper255.jpg', '/content/classifcation/Garbage classification/paper/paper107.jpg', '/content/classifcation/Garbage classification/paper/paper256.jpg', '/content/classifcation/Garbage classification/paper/paper33.jpg', '/content/classifcation/Garbage classification/paper/paper459.jpg', '/content/classifcation/Garbage classification/paper/paper485.jpg', '/content/classifcation/Garbage classification/paper/paper248.jpg', '/content/classifcation/Garbage classification/paper/paper109.jpg', '/content/classifcation/Garbage classification/paper/paper170.jpg', '/content/classifcation/Garbage classification/paper/paper10.jpg', '/content/classifcation/Garbage classification/paper/paper118.jpg', '/content/classifcation/Garbage classification/paper/paper390.jpg', '/content/classifcation/Garbage classification/paper/paper75.jpg', '/content/classifcation/Garbage classification/paper/paper483.jpg', '/content/classifcation/Garbage classification/paper/paper270.jpg', '/content/classifcation/Garbage classification/paper/paper161.jpg', '/content/classifcation/Garbage classification/paper/paper484.jpg', '/content/classifcation/Garbage classification/paper/paper91.jpg', '/content/classifcation/Garbage classification/paper/paper141.jpg', '/content/classifcation/Garbage classification/paper/paper230.jpg', '/content/classifcation/Garbage classification/paper/paper61.jpg', '/content/classifcation/Garbage classification/paper/paper294.jpg', '/content/classifcation/Garbage classification/paper/paper327.jpg', '/content/classifcation/Garbage classification/paper/paper555.jpg', '/content/classifcation/Garbage classification/paper/paper85.jpg', '/content/classifcation/Garbage classification/paper/paper6.jpg', '/content/classifcation/Garbage classification/paper/paper258.jpg', '/content/classifcation/Garbage classification/paper/paper35.jpg', '/content/classifcation/Garbage classification/paper/paper63.jpg', '/content/classifcation/Garbage classification/paper/paper587.jpg', '/content/classifcation/Garbage classification/paper/paper560.jpg', '/content/classifcation/Garbage classification/paper/paper405.jpg', '/content/classifcation/Garbage classification/paper/paper572.jpg', '/content/classifcation/Garbage classification/paper/paper80.jpg', '/content/classifcation/Garbage classification/paper/paper202.jpg', '/content/classifcation/Garbage classification/paper/paper173.jpg', '/content/classifcation/Garbage classification/paper/paper74.jpg', '/content/classifcation/Garbage classification/paper/paper497.jpg', '/content/classifcation/Garbage classification/paper/paper189.jpg', '/content/classifcation/Garbage classification/paper/paper411.jpg', '/content/classifcation/Garbage classification/paper/paper442.jpg', '/content/classifcation/Garbage classification/paper/paper538.jpg', '/content/classifcation/Garbage classification/paper/paper70.jpg', '/content/classifcation/Garbage classification/paper/paper154.jpg', '/content/classifcation/Garbage classification/paper/paper125.jpg', '/content/classifcation/Garbage classification/paper/paper449.jpg', '/content/classifcation/Garbage classification/paper/paper593.jpg', '/content/classifcation/Garbage classification/paper/paper268.jpg', '/content/classifcation/Garbage classification/paper/paper324.jpg', '/content/classifcation/Garbage classification/paper/paper460.jpg', '/content/classifcation/Garbage classification/paper/paper350.jpg', '/content/classifcation/Garbage classification/paper/paper573.jpg', '/content/classifcation/Garbage classification/paper/paper543.jpg', '/content/classifcation/Garbage classification/paper/paper369.jpg', '/content/classifcation/Garbage classification/paper/paper493.jpg', '/content/classifcation/Garbage classification/paper/paper394.jpg', '/content/classifcation/Garbage classification/paper/paper401.jpg', '/content/classifcation/Garbage classification/paper/paper515.jpg', '/content/classifcation/Garbage classification/paper/paper260.jpg', '/content/classifcation/Garbage classification/paper/paper400.jpg', '/content/classifcation/Garbage classification/paper/paper31.jpg', '/content/classifcation/Garbage classification/paper/paper322.jpg', '/content/classifcation/Garbage classification/paper/paper461.jpg', '/content/classifcation/Garbage classification/paper/paper191.jpg', '/content/classifcation/Garbage classification/paper/paper469.jpg', '/content/classifcation/Garbage classification/paper/paper355.jpg', '/content/classifcation/Garbage classification/paper/paper531.jpg', '/content/classifcation/Garbage classification/paper/paper172.jpg', '/content/classifcation/Garbage classification/paper/paper72.jpg', '/content/classifcation/Garbage classification/paper/paper406.jpg', '/content/classifcation/Garbage classification/paper/paper347.jpg', '/content/classifcation/Garbage classification/paper/paper196.jpg', '/content/classifcation/Garbage classification/paper/paper427.jpg', '/content/classifcation/Garbage classification/paper/paper357.jpg', '/content/classifcation/Garbage classification/paper/paper409.jpg', '/content/classifcation/Garbage classification/paper/paper25.jpg', '/content/classifcation/Garbage classification/paper/paper574.jpg', '/content/classifcation/Garbage classification/paper/paper353.jpg', '/content/classifcation/Garbage classification/paper/paper533.jpg', '/content/classifcation/Garbage classification/paper/paper56.jpg', '/content/classifcation/Garbage classification/paper/paper82.jpg', '/content/classifcation/Garbage classification/paper/paper500.jpg', '/content/classifcation/Garbage classification/paper/paper136.jpg', '/content/classifcation/Garbage classification/paper/paper179.jpg', '/content/classifcation/Garbage classification/paper/paper197.jpg', '/content/classifcation/Garbage classification/paper/paper40.jpg', '/content/classifcation/Garbage classification/paper/paper440.jpg', '/content/classifcation/Garbage classification/paper/paper47.jpg', '/content/classifcation/Garbage classification/paper/paper386.jpg', '/content/classifcation/Garbage classification/paper/paper297.jpg', '/content/classifcation/Garbage classification/paper/paper486.jpg', '/content/classifcation/Garbage classification/paper/paper36.jpg', '/content/classifcation/Garbage classification/paper/paper434.jpg', '/content/classifcation/Garbage classification/paper/paper370.jpg', '/content/classifcation/Garbage classification/paper/paper272.jpg', '/content/classifcation/Garbage classification/paper/paper104.jpg', '/content/classifcation/Garbage classification/paper/paper226.jpg', '/content/classifcation/Garbage classification/paper/paper244.jpg', '/content/classifcation/Garbage classification/paper/paper195.jpg', '/content/classifcation/Garbage classification/paper/paper287.jpg', '/content/classifcation/Garbage classification/paper/paper54.jpg', '/content/classifcation/Garbage classification/paper/paper89.jpg', '/content/classifcation/Garbage classification/paper/paper583.jpg', '/content/classifcation/Garbage classification/paper/paper94.jpg', '/content/classifcation/Garbage classification/paper/paper476.jpg', '/content/classifcation/Garbage classification/paper/paper328.jpg', '/content/classifcation/Garbage classification/paper/paper101.jpg', '/content/classifcation/Garbage classification/paper/paper93.jpg', '/content/classifcation/Garbage classification/paper/paper540.jpg', '/content/classifcation/Garbage classification/paper/paper581.jpg', '/content/classifcation/Garbage classification/paper/paper383.jpg', '/content/classifcation/Garbage classification/paper/paper205.jpg', '/content/classifcation/Garbage classification/paper/paper430.jpg', '/content/classifcation/Garbage classification/paper/paper408.jpg', '/content/classifcation/Garbage classification/paper/paper541.jpg', '/content/classifcation/Garbage classification/paper/paper73.jpg', '/content/classifcation/Garbage classification/paper/paper336.jpg', '/content/classifcation/Garbage classification/paper/paper413.jpg', '/content/classifcation/Garbage classification/paper/paper187.jpg', '/content/classifcation/Garbage classification/paper/paper59.jpg', '/content/classifcation/Garbage classification/paper/paper257.jpg', '/content/classifcation/Garbage classification/paper/paper295.jpg', '/content/classifcation/Garbage classification/paper/paper13.jpg', '/content/classifcation/Garbage classification/paper/paper233.jpg', '/content/classifcation/Garbage classification/paper/paper102.jpg', '/content/classifcation/Garbage classification/paper/paper546.jpg', '/content/classifcation/Garbage classification/paper/paper548.jpg', '/content/classifcation/Garbage classification/paper/paper71.jpg', '/content/classifcation/Garbage classification/paper/paper549.jpg', '/content/classifcation/Garbage classification/paper/paper208.jpg', '/content/classifcation/Garbage classification/paper/paper5.jpg', '/content/classifcation/Garbage classification/paper/paper220.jpg', '/content/classifcation/Garbage classification/paper/paper12.jpg', '/content/classifcation/Garbage classification/paper/paper315.jpg', '/content/classifcation/Garbage classification/paper/paper100.jpg', '/content/classifcation/Garbage classification/paper/paper16.jpg', '/content/classifcation/Garbage classification/paper/paper203.jpg', '/content/classifcation/Garbage classification/paper/paper38.jpg', '/content/classifcation/Garbage classification/paper/paper412.jpg', '/content/classifcation/Garbage classification/paper/paper482.jpg', '/content/classifcation/Garbage classification/paper/paper15.jpg', '/content/classifcation/Garbage classification/paper/paper278.jpg', '/content/classifcation/Garbage classification/paper/paper227.jpg', '/content/classifcation/Garbage classification/paper/paper2.jpg', '/content/classifcation/Garbage classification/paper/paper447.jpg', '/content/classifcation/Garbage classification/paper/paper19.jpg', '/content/classifcation/Garbage classification/paper/paper309.jpg', '/content/classifcation/Garbage classification/paper/paper133.jpg', '/content/classifcation/Garbage classification/paper/paper110.jpg', '/content/classifcation/Garbage classification/paper/paper330.jpg', '/content/classifcation/Garbage classification/paper/paper77.jpg', '/content/classifcation/Garbage classification/paper/paper326.jpg', '/content/classifcation/Garbage classification/paper/paper160.jpg', '/content/classifcation/Garbage classification/paper/paper333.jpg', '/content/classifcation/Garbage classification/paper/paper443.jpg', '/content/classifcation/Garbage classification/paper/paper563.jpg', '/content/classifcation/Garbage classification/paper/paper454.jpg', '/content/classifcation/Garbage classification/paper/paper376.jpg', '/content/classifcation/Garbage classification/paper/paper480.jpg', '/content/classifcation/Garbage classification/paper/paper264.jpg', '/content/classifcation/Garbage classification/paper/paper335.jpg', '/content/classifcation/Garbage classification/paper/paper562.jpg', '/content/classifcation/Garbage classification/paper/paper146.jpg', '/content/classifcation/Garbage classification/paper/paper505.jpg', '/content/classifcation/Garbage classification/paper/paper506.jpg', '/content/classifcation/Garbage classification/paper/paper190.jpg', '/content/classifcation/Garbage classification/paper/paper414.jpg', '/content/classifcation/Garbage classification/paper/paper231.jpg', '/content/classifcation/Garbage classification/paper/paper495.jpg', '/content/classifcation/Garbage classification/paper/paper121.jpg', '/content/classifcation/Garbage classification/paper/paper310.jpg', '/content/classifcation/Garbage classification/paper/paper351.jpg', '/content/classifcation/Garbage classification/paper/paper211.jpg', '/content/classifcation/Garbage classification/paper/paper18.jpg', '/content/classifcation/Garbage classification/paper/paper539.jpg', '/content/classifcation/Garbage classification/paper/paper193.jpg', '/content/classifcation/Garbage classification/paper/paper126.jpg', '/content/classifcation/Garbage classification/paper/paper128.jpg', '/content/classifcation/Garbage classification/paper/paper510.jpg', '/content/classifcation/Garbage classification/paper/paper247.jpg', '/content/classifcation/Garbage classification/paper/paper329.jpg', '/content/classifcation/Garbage classification/paper/paper590.jpg', '/content/classifcation/Garbage classification/paper/paper306.jpg', '/content/classifcation/Garbage classification/paper/paper521.jpg', '/content/classifcation/Garbage classification/paper/paper319.jpg', '/content/classifcation/Garbage classification/paper/paper553.jpg', '/content/classifcation/Garbage classification/paper/paper55.jpg', '/content/classifcation/Garbage classification/paper/paper288.jpg', '/content/classifcation/Garbage classification/paper/paper455.jpg', '/content/classifcation/Garbage classification/paper/paper544.jpg', '/content/classifcation/Garbage classification/paper/paper23.jpg', '/content/classifcation/Garbage classification/paper/paper117.jpg', '/content/classifcation/Garbage classification/paper/paper569.jpg', '/content/classifcation/Garbage classification/paper/paper502.jpg']\n",
            "['/content/classifcation/Garbage classification/plastic/plastic39.jpg', '/content/classifcation/Garbage classification/plastic/plastic27.jpg', '/content/classifcation/Garbage classification/plastic/plastic190.jpg', '/content/classifcation/Garbage classification/plastic/plastic413.jpg', '/content/classifcation/Garbage classification/plastic/plastic427.jpg', '/content/classifcation/Garbage classification/plastic/plastic448.jpg', '/content/classifcation/Garbage classification/plastic/plastic263.jpg', '/content/classifcation/Garbage classification/plastic/plastic157.jpg', '/content/classifcation/Garbage classification/plastic/plastic450.jpg', '/content/classifcation/Garbage classification/plastic/plastic276.jpg', '/content/classifcation/Garbage classification/plastic/plastic78.jpg', '/content/classifcation/Garbage classification/plastic/plastic165.jpg', '/content/classifcation/Garbage classification/plastic/plastic119.jpg', '/content/classifcation/Garbage classification/plastic/plastic174.jpg', '/content/classifcation/Garbage classification/plastic/plastic164.jpg', '/content/classifcation/Garbage classification/plastic/plastic401.jpg', '/content/classifcation/Garbage classification/plastic/plastic308.jpg', '/content/classifcation/Garbage classification/plastic/plastic469.jpg', '/content/classifcation/Garbage classification/plastic/plastic328.jpg', '/content/classifcation/Garbage classification/plastic/plastic333.jpg', '/content/classifcation/Garbage classification/plastic/plastic250.jpg', '/content/classifcation/Garbage classification/plastic/plastic437.jpg', '/content/classifcation/Garbage classification/plastic/plastic75.jpg', '/content/classifcation/Garbage classification/plastic/plastic442.jpg', '/content/classifcation/Garbage classification/plastic/plastic434.jpg', '/content/classifcation/Garbage classification/plastic/plastic158.jpg', '/content/classifcation/Garbage classification/plastic/plastic239.jpg', '/content/classifcation/Garbage classification/plastic/plastic66.jpg', '/content/classifcation/Garbage classification/plastic/plastic168.jpg', '/content/classifcation/Garbage classification/plastic/plastic166.jpg', '/content/classifcation/Garbage classification/plastic/plastic204.jpg', '/content/classifcation/Garbage classification/plastic/plastic291.jpg', '/content/classifcation/Garbage classification/plastic/plastic299.jpg', '/content/classifcation/Garbage classification/plastic/plastic169.jpg', '/content/classifcation/Garbage classification/plastic/plastic216.jpg', '/content/classifcation/Garbage classification/plastic/plastic74.jpg', '/content/classifcation/Garbage classification/plastic/plastic402.jpg', '/content/classifcation/Garbage classification/plastic/plastic138.jpg', '/content/classifcation/Garbage classification/plastic/plastic55.jpg', '/content/classifcation/Garbage classification/plastic/plastic47.jpg', '/content/classifcation/Garbage classification/plastic/plastic463.jpg', '/content/classifcation/Garbage classification/plastic/plastic242.jpg', '/content/classifcation/Garbage classification/plastic/plastic22.jpg', '/content/classifcation/Garbage classification/plastic/plastic362.jpg', '/content/classifcation/Garbage classification/plastic/plastic99.jpg', '/content/classifcation/Garbage classification/plastic/plastic246.jpg', '/content/classifcation/Garbage classification/plastic/plastic49.jpg', '/content/classifcation/Garbage classification/plastic/plastic187.jpg', '/content/classifcation/Garbage classification/plastic/plastic235.jpg', '/content/classifcation/Garbage classification/plastic/plastic285.jpg', '/content/classifcation/Garbage classification/plastic/plastic326.jpg', '/content/classifcation/Garbage classification/plastic/plastic337.jpg', '/content/classifcation/Garbage classification/plastic/plastic309.jpg', '/content/classifcation/Garbage classification/plastic/plastic287.jpg', '/content/classifcation/Garbage classification/plastic/plastic252.jpg', '/content/classifcation/Garbage classification/plastic/plastic421.jpg', '/content/classifcation/Garbage classification/plastic/plastic380.jpg', '/content/classifcation/Garbage classification/plastic/plastic161.jpg', '/content/classifcation/Garbage classification/plastic/plastic108.jpg', '/content/classifcation/Garbage classification/plastic/plastic191.jpg', '/content/classifcation/Garbage classification/plastic/plastic162.jpg', '/content/classifcation/Garbage classification/plastic/plastic438.jpg', '/content/classifcation/Garbage classification/plastic/plastic441.jpg', '/content/classifcation/Garbage classification/plastic/plastic317.jpg', '/content/classifcation/Garbage classification/plastic/plastic336.jpg', '/content/classifcation/Garbage classification/plastic/plastic210.jpg', '/content/classifcation/Garbage classification/plastic/plastic87.jpg', '/content/classifcation/Garbage classification/plastic/plastic385.jpg', '/content/classifcation/Garbage classification/plastic/plastic233.jpg', '/content/classifcation/Garbage classification/plastic/plastic244.jpg', '/content/classifcation/Garbage classification/plastic/plastic390.jpg', '/content/classifcation/Garbage classification/plastic/plastic349.jpg', '/content/classifcation/Garbage classification/plastic/plastic215.jpg', '/content/classifcation/Garbage classification/plastic/plastic323.jpg', '/content/classifcation/Garbage classification/plastic/plastic461.jpg', '/content/classifcation/Garbage classification/plastic/plastic482.jpg', '/content/classifcation/Garbage classification/plastic/plastic144.jpg', '/content/classifcation/Garbage classification/plastic/plastic196.jpg', '/content/classifcation/Garbage classification/plastic/plastic282.jpg', '/content/classifcation/Garbage classification/plastic/plastic409.jpg', '/content/classifcation/Garbage classification/plastic/plastic353.jpg', '/content/classifcation/Garbage classification/plastic/plastic154.jpg', '/content/classifcation/Garbage classification/plastic/plastic48.jpg', '/content/classifcation/Garbage classification/plastic/plastic382.jpg', '/content/classifcation/Garbage classification/plastic/plastic392.jpg', '/content/classifcation/Garbage classification/plastic/plastic14.jpg', '/content/classifcation/Garbage classification/plastic/plastic458.jpg', '/content/classifcation/Garbage classification/plastic/plastic451.jpg', '/content/classifcation/Garbage classification/plastic/plastic183.jpg', '/content/classifcation/Garbage classification/plastic/plastic60.jpg', '/content/classifcation/Garbage classification/plastic/plastic65.jpg', '/content/classifcation/Garbage classification/plastic/plastic329.jpg', '/content/classifcation/Garbage classification/plastic/plastic176.jpg', '/content/classifcation/Garbage classification/plastic/plastic473.jpg', '/content/classifcation/Garbage classification/plastic/plastic9.jpg', '/content/classifcation/Garbage classification/plastic/plastic354.jpg', '/content/classifcation/Garbage classification/plastic/plastic56.jpg', '/content/classifcation/Garbage classification/plastic/plastic295.jpg', '/content/classifcation/Garbage classification/plastic/plastic301.jpg', '/content/classifcation/Garbage classification/plastic/plastic278.jpg', '/content/classifcation/Garbage classification/plastic/plastic293.jpg', '/content/classifcation/Garbage classification/plastic/plastic115.jpg', '/content/classifcation/Garbage classification/plastic/plastic197.jpg', '/content/classifcation/Garbage classification/plastic/plastic286.jpg', '/content/classifcation/Garbage classification/plastic/plastic77.jpg', '/content/classifcation/Garbage classification/plastic/plastic262.jpg', '/content/classifcation/Garbage classification/plastic/plastic365.jpg', '/content/classifcation/Garbage classification/plastic/plastic112.jpg', '/content/classifcation/Garbage classification/plastic/plastic292.jpg', '/content/classifcation/Garbage classification/plastic/plastic83.jpg', '/content/classifcation/Garbage classification/plastic/plastic70.jpg', '/content/classifcation/Garbage classification/plastic/plastic46.jpg', '/content/classifcation/Garbage classification/plastic/plastic398.jpg', '/content/classifcation/Garbage classification/plastic/plastic71.jpg', '/content/classifcation/Garbage classification/plastic/plastic62.jpg', '/content/classifcation/Garbage classification/plastic/plastic76.jpg', '/content/classifcation/Garbage classification/plastic/plastic57.jpg', '/content/classifcation/Garbage classification/plastic/plastic106.jpg', '/content/classifcation/Garbage classification/plastic/plastic306.jpg', '/content/classifcation/Garbage classification/plastic/plastic316.jpg', '/content/classifcation/Garbage classification/plastic/plastic201.jpg', '/content/classifcation/Garbage classification/plastic/plastic283.jpg', '/content/classifcation/Garbage classification/plastic/plastic182.jpg', '/content/classifcation/Garbage classification/plastic/plastic206.jpg', '/content/classifcation/Garbage classification/plastic/plastic410.jpg', '/content/classifcation/Garbage classification/plastic/plastic205.jpg', '/content/classifcation/Garbage classification/plastic/plastic23.jpg', '/content/classifcation/Garbage classification/plastic/plastic198.jpg', '/content/classifcation/Garbage classification/plastic/plastic418.jpg', '/content/classifcation/Garbage classification/plastic/plastic453.jpg', '/content/classifcation/Garbage classification/plastic/plastic24.jpg', '/content/classifcation/Garbage classification/plastic/plastic42.jpg', '/content/classifcation/Garbage classification/plastic/plastic211.jpg', '/content/classifcation/Garbage classification/plastic/plastic404.jpg', '/content/classifcation/Garbage classification/plastic/plastic375.jpg', '/content/classifcation/Garbage classification/plastic/plastic63.jpg', '/content/classifcation/Garbage classification/plastic/plastic208.jpg', '/content/classifcation/Garbage classification/plastic/plastic403.jpg', '/content/classifcation/Garbage classification/plastic/plastic439.jpg', '/content/classifcation/Garbage classification/plastic/plastic146.jpg', '/content/classifcation/Garbage classification/plastic/plastic142.jpg', '/content/classifcation/Garbage classification/plastic/plastic177.jpg', '/content/classifcation/Garbage classification/plastic/plastic30.jpg', '/content/classifcation/Garbage classification/plastic/plastic464.jpg', '/content/classifcation/Garbage classification/plastic/plastic33.jpg', '/content/classifcation/Garbage classification/plastic/plastic134.jpg', '/content/classifcation/Garbage classification/plastic/plastic352.jpg', '/content/classifcation/Garbage classification/plastic/plastic325.jpg', '/content/classifcation/Garbage classification/plastic/plastic436.jpg', '/content/classifcation/Garbage classification/plastic/plastic247.jpg', '/content/classifcation/Garbage classification/plastic/plastic54.jpg', '/content/classifcation/Garbage classification/plastic/plastic342.jpg', '/content/classifcation/Garbage classification/plastic/plastic10.jpg', '/content/classifcation/Garbage classification/plastic/plastic44.jpg', '/content/classifcation/Garbage classification/plastic/plastic456.jpg', '/content/classifcation/Garbage classification/plastic/plastic123.jpg', '/content/classifcation/Garbage classification/plastic/plastic428.jpg', '/content/classifcation/Garbage classification/plastic/plastic305.jpg', '/content/classifcation/Garbage classification/plastic/plastic125.jpg', '/content/classifcation/Garbage classification/plastic/plastic351.jpg', '/content/classifcation/Garbage classification/plastic/plastic406.jpg', '/content/classifcation/Garbage classification/plastic/plastic229.jpg', '/content/classifcation/Garbage classification/plastic/plastic440.jpg', '/content/classifcation/Garbage classification/plastic/plastic220.jpg', '/content/classifcation/Garbage classification/plastic/plastic423.jpg', '/content/classifcation/Garbage classification/plastic/plastic15.jpg', '/content/classifcation/Garbage classification/plastic/plastic426.jpg', '/content/classifcation/Garbage classification/plastic/plastic260.jpg', '/content/classifcation/Garbage classification/plastic/plastic79.jpg', '/content/classifcation/Garbage classification/plastic/plastic97.jpg', '/content/classifcation/Garbage classification/plastic/plastic45.jpg', '/content/classifcation/Garbage classification/plastic/plastic468.jpg', '/content/classifcation/Garbage classification/plastic/plastic16.jpg', '/content/classifcation/Garbage classification/plastic/plastic372.jpg', '/content/classifcation/Garbage classification/plastic/plastic145.jpg', '/content/classifcation/Garbage classification/plastic/plastic273.jpg', '/content/classifcation/Garbage classification/plastic/plastic462.jpg', '/content/classifcation/Garbage classification/plastic/plastic110.jpg', '/content/classifcation/Garbage classification/plastic/plastic35.jpg', '/content/classifcation/Garbage classification/plastic/plastic381.jpg', '/content/classifcation/Garbage classification/plastic/plastic475.jpg', '/content/classifcation/Garbage classification/plastic/plastic202.jpg', '/content/classifcation/Garbage classification/plastic/plastic476.jpg', '/content/classifcation/Garbage classification/plastic/plastic102.jpg', '/content/classifcation/Garbage classification/plastic/plastic192.jpg', '/content/classifcation/Garbage classification/plastic/plastic180.jpg', '/content/classifcation/Garbage classification/plastic/plastic422.jpg', '/content/classifcation/Garbage classification/plastic/plastic277.jpg', '/content/classifcation/Garbage classification/plastic/plastic356.jpg', '/content/classifcation/Garbage classification/plastic/plastic341.jpg', '/content/classifcation/Garbage classification/plastic/plastic344.jpg', '/content/classifcation/Garbage classification/plastic/plastic332.jpg', '/content/classifcation/Garbage classification/plastic/plastic213.jpg', '/content/classifcation/Garbage classification/plastic/plastic370.jpg', '/content/classifcation/Garbage classification/plastic/plastic167.jpg', '/content/classifcation/Garbage classification/plastic/plastic357.jpg', '/content/classifcation/Garbage classification/plastic/plastic331.jpg', '/content/classifcation/Garbage classification/plastic/plastic383.jpg', '/content/classifcation/Garbage classification/plastic/plastic284.jpg', '/content/classifcation/Garbage classification/plastic/plastic13.jpg', '/content/classifcation/Garbage classification/plastic/plastic143.jpg', '/content/classifcation/Garbage classification/plastic/plastic345.jpg', '/content/classifcation/Garbage classification/plastic/plastic61.jpg', '/content/classifcation/Garbage classification/plastic/plastic6.jpg', '/content/classifcation/Garbage classification/plastic/plastic214.jpg', '/content/classifcation/Garbage classification/plastic/plastic452.jpg', '/content/classifcation/Garbage classification/plastic/plastic170.jpg', '/content/classifcation/Garbage classification/plastic/plastic241.jpg', '/content/classifcation/Garbage classification/plastic/plastic147.jpg', '/content/classifcation/Garbage classification/plastic/plastic8.jpg', '/content/classifcation/Garbage classification/plastic/plastic419.jpg', '/content/classifcation/Garbage classification/plastic/plastic84.jpg', '/content/classifcation/Garbage classification/plastic/plastic117.jpg', '/content/classifcation/Garbage classification/plastic/plastic188.jpg', '/content/classifcation/Garbage classification/plastic/plastic300.jpg', '/content/classifcation/Garbage classification/plastic/plastic90.jpg', '/content/classifcation/Garbage classification/plastic/plastic4.jpg', '/content/classifcation/Garbage classification/plastic/plastic445.jpg', '/content/classifcation/Garbage classification/plastic/plastic471.jpg', '/content/classifcation/Garbage classification/plastic/plastic407.jpg', '/content/classifcation/Garbage classification/plastic/plastic240.jpg', '/content/classifcation/Garbage classification/plastic/plastic257.jpg', '/content/classifcation/Garbage classification/plastic/plastic193.jpg', '/content/classifcation/Garbage classification/plastic/plastic395.jpg', '/content/classifcation/Garbage classification/plastic/plastic443.jpg', '/content/classifcation/Garbage classification/plastic/plastic270.jpg', '/content/classifcation/Garbage classification/plastic/plastic379.jpg', '/content/classifcation/Garbage classification/plastic/plastic364.jpg', '/content/classifcation/Garbage classification/plastic/plastic141.jpg', '/content/classifcation/Garbage classification/plastic/plastic139.jpg', '/content/classifcation/Garbage classification/plastic/plastic194.jpg', '/content/classifcation/Garbage classification/plastic/plastic275.jpg', '/content/classifcation/Garbage classification/plastic/plastic207.jpg', '/content/classifcation/Garbage classification/plastic/plastic111.jpg', '/content/classifcation/Garbage classification/plastic/plastic393.jpg', '/content/classifcation/Garbage classification/plastic/plastic137.jpg', '/content/classifcation/Garbage classification/plastic/plastic195.jpg', '/content/classifcation/Garbage classification/plastic/plastic140.jpg', '/content/classifcation/Garbage classification/plastic/plastic50.jpg', '/content/classifcation/Garbage classification/plastic/plastic346.jpg', '/content/classifcation/Garbage classification/plastic/plastic131.jpg', '/content/classifcation/Garbage classification/plastic/plastic267.jpg', '/content/classifcation/Garbage classification/plastic/plastic289.jpg', '/content/classifcation/Garbage classification/plastic/plastic359.jpg', '/content/classifcation/Garbage classification/plastic/plastic415.jpg', '/content/classifcation/Garbage classification/plastic/plastic93.jpg', '/content/classifcation/Garbage classification/plastic/plastic408.jpg', '/content/classifcation/Garbage classification/plastic/plastic43.jpg', '/content/classifcation/Garbage classification/plastic/plastic80.jpg', '/content/classifcation/Garbage classification/plastic/plastic340.jpg', '/content/classifcation/Garbage classification/plastic/plastic155.jpg', '/content/classifcation/Garbage classification/plastic/plastic64.jpg', '/content/classifcation/Garbage classification/plastic/plastic175.jpg', '/content/classifcation/Garbage classification/plastic/plastic472.jpg', '/content/classifcation/Garbage classification/plastic/plastic265.jpg', '/content/classifcation/Garbage classification/plastic/plastic481.jpg', '/content/classifcation/Garbage classification/plastic/plastic38.jpg', '/content/classifcation/Garbage classification/plastic/plastic248.jpg', '/content/classifcation/Garbage classification/plastic/plastic151.jpg', '/content/classifcation/Garbage classification/plastic/plastic259.jpg', '/content/classifcation/Garbage classification/plastic/plastic429.jpg', '/content/classifcation/Garbage classification/plastic/plastic366.jpg', '/content/classifcation/Garbage classification/plastic/plastic209.jpg', '/content/classifcation/Garbage classification/plastic/plastic96.jpg', '/content/classifcation/Garbage classification/plastic/plastic199.jpg', '/content/classifcation/Garbage classification/plastic/plastic34.jpg', '/content/classifcation/Garbage classification/plastic/plastic255.jpg', '/content/classifcation/Garbage classification/plastic/plastic274.jpg', '/content/classifcation/Garbage classification/plastic/plastic40.jpg', '/content/classifcation/Garbage classification/plastic/plastic320.jpg', '/content/classifcation/Garbage classification/plastic/plastic122.jpg', '/content/classifcation/Garbage classification/plastic/plastic384.jpg', '/content/classifcation/Garbage classification/plastic/plastic69.jpg', '/content/classifcation/Garbage classification/plastic/plastic288.jpg', '/content/classifcation/Garbage classification/plastic/plastic310.jpg', '/content/classifcation/Garbage classification/plastic/plastic88.jpg', '/content/classifcation/Garbage classification/plastic/plastic411.jpg', '/content/classifcation/Garbage classification/plastic/plastic219.jpg', '/content/classifcation/Garbage classification/plastic/plastic314.jpg', '/content/classifcation/Garbage classification/plastic/plastic5.jpg', '/content/classifcation/Garbage classification/plastic/plastic68.jpg', '/content/classifcation/Garbage classification/plastic/plastic470.jpg', '/content/classifcation/Garbage classification/plastic/plastic11.jpg', '/content/classifcation/Garbage classification/plastic/plastic297.jpg', '/content/classifcation/Garbage classification/plastic/plastic81.jpg', '/content/classifcation/Garbage classification/plastic/plastic313.jpg', '/content/classifcation/Garbage classification/plastic/plastic53.jpg', '/content/classifcation/Garbage classification/plastic/plastic126.jpg', '/content/classifcation/Garbage classification/plastic/plastic105.jpg', '/content/classifcation/Garbage classification/plastic/plastic37.jpg', '/content/classifcation/Garbage classification/plastic/plastic120.jpg', '/content/classifcation/Garbage classification/plastic/plastic386.jpg', '/content/classifcation/Garbage classification/plastic/plastic17.jpg', '/content/classifcation/Garbage classification/plastic/plastic130.jpg', '/content/classifcation/Garbage classification/plastic/plastic373.jpg', '/content/classifcation/Garbage classification/plastic/plastic302.jpg', '/content/classifcation/Garbage classification/plastic/plastic399.jpg', '/content/classifcation/Garbage classification/plastic/plastic129.jpg', '/content/classifcation/Garbage classification/plastic/plastic172.jpg', '/content/classifcation/Garbage classification/plastic/plastic303.jpg', '/content/classifcation/Garbage classification/plastic/plastic338.jpg', '/content/classifcation/Garbage classification/plastic/plastic133.jpg', '/content/classifcation/Garbage classification/plastic/plastic272.jpg', '/content/classifcation/Garbage classification/plastic/plastic312.jpg', '/content/classifcation/Garbage classification/plastic/plastic227.jpg', '/content/classifcation/Garbage classification/plastic/plastic467.jpg', '/content/classifcation/Garbage classification/plastic/plastic376.jpg', '/content/classifcation/Garbage classification/plastic/plastic446.jpg', '/content/classifcation/Garbage classification/plastic/plastic231.jpg', '/content/classifcation/Garbage classification/plastic/plastic444.jpg', '/content/classifcation/Garbage classification/plastic/plastic478.jpg', '/content/classifcation/Garbage classification/plastic/plastic189.jpg', '/content/classifcation/Garbage classification/plastic/plastic232.jpg', '/content/classifcation/Garbage classification/plastic/plastic85.jpg', '/content/classifcation/Garbage classification/plastic/plastic256.jpg', '/content/classifcation/Garbage classification/plastic/plastic430.jpg', '/content/classifcation/Garbage classification/plastic/plastic387.jpg', '/content/classifcation/Garbage classification/plastic/plastic321.jpg', '/content/classifcation/Garbage classification/plastic/plastic113.jpg', '/content/classifcation/Garbage classification/plastic/plastic186.jpg', '/content/classifcation/Garbage classification/plastic/plastic477.jpg', '/content/classifcation/Garbage classification/plastic/plastic217.jpg', '/content/classifcation/Garbage classification/plastic/plastic343.jpg', '/content/classifcation/Garbage classification/plastic/plastic318.jpg', '/content/classifcation/Garbage classification/plastic/plastic185.jpg', '/content/classifcation/Garbage classification/plastic/plastic91.jpg', '/content/classifcation/Garbage classification/plastic/plastic425.jpg', '/content/classifcation/Garbage classification/plastic/plastic19.jpg', '/content/classifcation/Garbage classification/plastic/plastic116.jpg', '/content/classifcation/Garbage classification/plastic/plastic400.jpg', '/content/classifcation/Garbage classification/plastic/plastic334.jpg', '/content/classifcation/Garbage classification/plastic/plastic225.jpg', '/content/classifcation/Garbage classification/plastic/plastic480.jpg', '/content/classifcation/Garbage classification/plastic/plastic433.jpg', '/content/classifcation/Garbage classification/plastic/plastic72.jpg', '/content/classifcation/Garbage classification/plastic/plastic394.jpg', '/content/classifcation/Garbage classification/plastic/plastic184.jpg', '/content/classifcation/Garbage classification/plastic/plastic51.jpg', '/content/classifcation/Garbage classification/plastic/plastic28.jpg', '/content/classifcation/Garbage classification/plastic/plastic369.jpg', '/content/classifcation/Garbage classification/plastic/plastic173.jpg', '/content/classifcation/Garbage classification/plastic/plastic223.jpg', '/content/classifcation/Garbage classification/plastic/plastic290.jpg', '/content/classifcation/Garbage classification/plastic/plastic118.jpg', '/content/classifcation/Garbage classification/plastic/plastic41.jpg', '/content/classifcation/Garbage classification/plastic/plastic104.jpg', '/content/classifcation/Garbage classification/plastic/plastic254.jpg', '/content/classifcation/Garbage classification/plastic/plastic243.jpg', '/content/classifcation/Garbage classification/plastic/plastic98.jpg', '/content/classifcation/Garbage classification/plastic/plastic135.jpg', '/content/classifcation/Garbage classification/plastic/plastic465.jpg', '/content/classifcation/Garbage classification/plastic/plastic109.jpg', '/content/classifcation/Garbage classification/plastic/plastic330.jpg', '/content/classifcation/Garbage classification/plastic/plastic294.jpg', '/content/classifcation/Garbage classification/plastic/plastic396.jpg', '/content/classifcation/Garbage classification/plastic/plastic296.jpg', '/content/classifcation/Garbage classification/plastic/plastic103.jpg', '/content/classifcation/Garbage classification/plastic/plastic95.jpg', '/content/classifcation/Garbage classification/plastic/plastic315.jpg', '/content/classifcation/Garbage classification/plastic/plastic416.jpg', '/content/classifcation/Garbage classification/plastic/plastic350.jpg', '/content/classifcation/Garbage classification/plastic/plastic150.jpg', '/content/classifcation/Garbage classification/plastic/plastic281.jpg', '/content/classifcation/Garbage classification/plastic/plastic355.jpg', '/content/classifcation/Garbage classification/plastic/plastic360.jpg', '/content/classifcation/Garbage classification/plastic/plastic86.jpg', '/content/classifcation/Garbage classification/plastic/plastic374.jpg', '/content/classifcation/Garbage classification/plastic/plastic335.jpg', '/content/classifcation/Garbage classification/plastic/plastic94.jpg', '/content/classifcation/Garbage classification/plastic/plastic226.jpg', '/content/classifcation/Garbage classification/plastic/plastic249.jpg', '/content/classifcation/Garbage classification/plastic/plastic271.jpg', '/content/classifcation/Garbage classification/plastic/plastic212.jpg', '/content/classifcation/Garbage classification/plastic/plastic324.jpg', '/content/classifcation/Garbage classification/plastic/plastic367.jpg', '/content/classifcation/Garbage classification/plastic/plastic307.jpg', '/content/classifcation/Garbage classification/plastic/plastic121.jpg', '/content/classifcation/Garbage classification/plastic/plastic67.jpg', '/content/classifcation/Garbage classification/plastic/plastic136.jpg', '/content/classifcation/Garbage classification/plastic/plastic397.jpg', '/content/classifcation/Garbage classification/plastic/plastic363.jpg', '/content/classifcation/Garbage classification/plastic/plastic253.jpg', '/content/classifcation/Garbage classification/plastic/plastic234.jpg', '/content/classifcation/Garbage classification/plastic/plastic101.jpg', '/content/classifcation/Garbage classification/plastic/plastic378.jpg', '/content/classifcation/Garbage classification/plastic/plastic20.jpg', '/content/classifcation/Garbage classification/plastic/plastic171.jpg', '/content/classifcation/Garbage classification/plastic/plastic92.jpg', '/content/classifcation/Garbage classification/plastic/plastic1.jpg', '/content/classifcation/Garbage classification/plastic/plastic159.jpg', '/content/classifcation/Garbage classification/plastic/plastic298.jpg', '/content/classifcation/Garbage classification/plastic/plastic12.jpg', '/content/classifcation/Garbage classification/plastic/plastic258.jpg', '/content/classifcation/Garbage classification/plastic/plastic466.jpg', '/content/classifcation/Garbage classification/plastic/plastic25.jpg', '/content/classifcation/Garbage classification/plastic/plastic268.jpg', '/content/classifcation/Garbage classification/plastic/plastic455.jpg', '/content/classifcation/Garbage classification/plastic/plastic58.jpg', '/content/classifcation/Garbage classification/plastic/plastic261.jpg', '/content/classifcation/Garbage classification/plastic/plastic132.jpg', '/content/classifcation/Garbage classification/plastic/plastic222.jpg', '/content/classifcation/Garbage classification/plastic/plastic479.jpg', '/content/classifcation/Garbage classification/plastic/plastic127.jpg', '/content/classifcation/Garbage classification/plastic/plastic420.jpg', '/content/classifcation/Garbage classification/plastic/plastic269.jpg', '/content/classifcation/Garbage classification/plastic/plastic31.jpg', '/content/classifcation/Garbage classification/plastic/plastic417.jpg', '/content/classifcation/Garbage classification/plastic/plastic18.jpg', '/content/classifcation/Garbage classification/plastic/plastic218.jpg', '/content/classifcation/Garbage classification/plastic/plastic460.jpg', '/content/classifcation/Garbage classification/plastic/plastic279.jpg', '/content/classifcation/Garbage classification/plastic/plastic114.jpg', '/content/classifcation/Garbage classification/plastic/plastic454.jpg', '/content/classifcation/Garbage classification/plastic/plastic368.jpg', '/content/classifcation/Garbage classification/plastic/plastic424.jpg', '/content/classifcation/Garbage classification/plastic/plastic358.jpg', '/content/classifcation/Garbage classification/plastic/plastic107.jpg', '/content/classifcation/Garbage classification/plastic/plastic264.jpg', '/content/classifcation/Garbage classification/plastic/plastic203.jpg', '/content/classifcation/Garbage classification/plastic/plastic266.jpg', '/content/classifcation/Garbage classification/plastic/plastic280.jpg', '/content/classifcation/Garbage classification/plastic/plastic377.jpg', '/content/classifcation/Garbage classification/plastic/plastic322.jpg', '/content/classifcation/Garbage classification/plastic/plastic431.jpg', '/content/classifcation/Garbage classification/plastic/plastic245.jpg', '/content/classifcation/Garbage classification/plastic/plastic361.jpg', '/content/classifcation/Garbage classification/plastic/plastic36.jpg', '/content/classifcation/Garbage classification/plastic/plastic163.jpg', '/content/classifcation/Garbage classification/plastic/plastic237.jpg', '/content/classifcation/Garbage classification/plastic/plastic181.jpg', '/content/classifcation/Garbage classification/plastic/plastic26.jpg', '/content/classifcation/Garbage classification/plastic/plastic435.jpg', '/content/classifcation/Garbage classification/plastic/plastic59.jpg', '/content/classifcation/Garbage classification/plastic/plastic148.jpg', '/content/classifcation/Garbage classification/plastic/plastic21.jpg', '/content/classifcation/Garbage classification/plastic/plastic414.jpg', '/content/classifcation/Garbage classification/plastic/plastic3.jpg', '/content/classifcation/Garbage classification/plastic/plastic388.jpg', '/content/classifcation/Garbage classification/plastic/plastic224.jpg', '/content/classifcation/Garbage classification/plastic/plastic160.jpg', '/content/classifcation/Garbage classification/plastic/plastic128.jpg', '/content/classifcation/Garbage classification/plastic/plastic52.jpg', '/content/classifcation/Garbage classification/plastic/plastic405.jpg', '/content/classifcation/Garbage classification/plastic/plastic391.jpg', '/content/classifcation/Garbage classification/plastic/plastic311.jpg', '/content/classifcation/Garbage classification/plastic/plastic200.jpg', '/content/classifcation/Garbage classification/plastic/plastic230.jpg', '/content/classifcation/Garbage classification/plastic/plastic178.jpg', '/content/classifcation/Garbage classification/plastic/plastic156.jpg', '/content/classifcation/Garbage classification/plastic/plastic152.jpg', '/content/classifcation/Garbage classification/plastic/plastic389.jpg', '/content/classifcation/Garbage classification/plastic/plastic179.jpg', '/content/classifcation/Garbage classification/plastic/plastic221.jpg', '/content/classifcation/Garbage classification/plastic/plastic89.jpg', '/content/classifcation/Garbage classification/plastic/plastic327.jpg', '/content/classifcation/Garbage classification/plastic/plastic319.jpg', '/content/classifcation/Garbage classification/plastic/plastic347.jpg', '/content/classifcation/Garbage classification/plastic/plastic29.jpg', '/content/classifcation/Garbage classification/plastic/plastic251.jpg', '/content/classifcation/Garbage classification/plastic/plastic228.jpg', '/content/classifcation/Garbage classification/plastic/plastic236.jpg', '/content/classifcation/Garbage classification/plastic/plastic238.jpg', '/content/classifcation/Garbage classification/plastic/plastic348.jpg', '/content/classifcation/Garbage classification/plastic/plastic82.jpg', '/content/classifcation/Garbage classification/plastic/plastic371.jpg', '/content/classifcation/Garbage classification/plastic/plastic153.jpg', '/content/classifcation/Garbage classification/plastic/plastic412.jpg', '/content/classifcation/Garbage classification/plastic/plastic7.jpg', '/content/classifcation/Garbage classification/plastic/plastic432.jpg', '/content/classifcation/Garbage classification/plastic/plastic2.jpg', '/content/classifcation/Garbage classification/plastic/plastic457.jpg', '/content/classifcation/Garbage classification/plastic/plastic459.jpg', '/content/classifcation/Garbage classification/plastic/plastic124.jpg', '/content/classifcation/Garbage classification/plastic/plastic32.jpg', '/content/classifcation/Garbage classification/plastic/plastic339.jpg', '/content/classifcation/Garbage classification/plastic/plastic474.jpg', '/content/classifcation/Garbage classification/plastic/plastic447.jpg', '/content/classifcation/Garbage classification/plastic/plastic100.jpg', '/content/classifcation/Garbage classification/plastic/plastic449.jpg', '/content/classifcation/Garbage classification/plastic/plastic73.jpg', '/content/classifcation/Garbage classification/plastic/plastic149.jpg', '/content/classifcation/Garbage classification/plastic/plastic304.jpg']\n",
            "['/content/classifcation/Garbage classification/cardboard/cardboard238.jpg', '/content/classifcation/Garbage classification/cardboard/cardboard201.jpg', '/content/classifcation/Garbage classification/cardboard/cardboard323.jpg', '/content/classifcation/Garbage classification/cardboard/cardboard360.jpg', '/content/classifcation/Garbage classification/cardboard/cardboard274.jpg', '/content/classifcation/Garbage classification/cardboard/cardboard381.jpg', '/content/classifcation/Garbage classification/cardboard/cardboard368.jpg', '/content/classifcation/Garbage classification/cardboard/cardboard37.jpg', '/content/classifcation/Garbage classification/cardboard/cardboard205.jpg', '/content/classifcation/Garbage classification/cardboard/cardboard140.jpg', '/content/classifcation/Garbage classification/cardboard/cardboard299.jpg', '/content/classifcation/Garbage classification/cardboard/cardboard317.jpg', '/content/classifcation/Garbage classification/cardboard/cardboard1.jpg', '/content/classifcation/Garbage classification/cardboard/cardboard255.jpg', '/content/classifcation/Garbage classification/cardboard/cardboard118.jpg', '/content/classifcation/Garbage classification/cardboard/cardboard382.jpg', '/content/classifcation/Garbage classification/cardboard/cardboard77.jpg', '/content/classifcation/Garbage classification/cardboard/cardboard9.jpg', '/content/classifcation/Garbage classification/cardboard/cardboard31.jpg', '/content/classifcation/Garbage classification/cardboard/cardboard71.jpg', '/content/classifcation/Garbage classification/cardboard/cardboard167.jpg', '/content/classifcation/Garbage classification/cardboard/cardboard120.jpg', '/content/classifcation/Garbage classification/cardboard/cardboard60.jpg', '/content/classifcation/Garbage classification/cardboard/cardboard172.jpg', '/content/classifcation/Garbage classification/cardboard/cardboard114.jpg', '/content/classifcation/Garbage classification/cardboard/cardboard149.jpg', '/content/classifcation/Garbage classification/cardboard/cardboard182.jpg', '/content/classifcation/Garbage classification/cardboard/cardboard154.jpg', '/content/classifcation/Garbage classification/cardboard/cardboard349.jpg', '/content/classifcation/Garbage classification/cardboard/cardboard55.jpg', '/content/classifcation/Garbage classification/cardboard/cardboard378.jpg', '/content/classifcation/Garbage classification/cardboard/cardboard23.jpg', '/content/classifcation/Garbage classification/cardboard/cardboard121.jpg', '/content/classifcation/Garbage classification/cardboard/cardboard50.jpg', '/content/classifcation/Garbage classification/cardboard/cardboard313.jpg', '/content/classifcation/Garbage classification/cardboard/cardboard353.jpg', '/content/classifcation/Garbage classification/cardboard/cardboard86.jpg', '/content/classifcation/Garbage classification/cardboard/cardboard207.jpg', '/content/classifcation/Garbage classification/cardboard/cardboard232.jpg', '/content/classifcation/Garbage classification/cardboard/cardboard19.jpg', '/content/classifcation/Garbage classification/cardboard/cardboard270.jpg', '/content/classifcation/Garbage classification/cardboard/cardboard396.jpg', '/content/classifcation/Garbage classification/cardboard/cardboard107.jpg', '/content/classifcation/Garbage classification/cardboard/cardboard300.jpg', '/content/classifcation/Garbage classification/cardboard/cardboard185.jpg', '/content/classifcation/Garbage classification/cardboard/cardboard363.jpg', '/content/classifcation/Garbage classification/cardboard/cardboard162.jpg', '/content/classifcation/Garbage classification/cardboard/cardboard251.jpg', '/content/classifcation/Garbage classification/cardboard/cardboard84.jpg', '/content/classifcation/Garbage classification/cardboard/cardboard279.jpg', '/content/classifcation/Garbage classification/cardboard/cardboard179.jpg', '/content/classifcation/Garbage classification/cardboard/cardboard186.jpg', '/content/classifcation/Garbage classification/cardboard/cardboard301.jpg', '/content/classifcation/Garbage classification/cardboard/cardboard45.jpg', '/content/classifcation/Garbage classification/cardboard/cardboard105.jpg', '/content/classifcation/Garbage classification/cardboard/cardboard198.jpg', '/content/classifcation/Garbage classification/cardboard/cardboard391.jpg', '/content/classifcation/Garbage classification/cardboard/cardboard389.jpg', '/content/classifcation/Garbage classification/cardboard/cardboard203.jpg', '/content/classifcation/Garbage classification/cardboard/cardboard260.jpg', '/content/classifcation/Garbage classification/cardboard/cardboard81.jpg', '/content/classifcation/Garbage classification/cardboard/cardboard289.jpg', '/content/classifcation/Garbage classification/cardboard/cardboard82.jpg', '/content/classifcation/Garbage classification/cardboard/cardboard113.jpg', '/content/classifcation/Garbage classification/cardboard/cardboard316.jpg', '/content/classifcation/Garbage classification/cardboard/cardboard303.jpg', '/content/classifcation/Garbage classification/cardboard/cardboard160.jpg', '/content/classifcation/Garbage classification/cardboard/cardboard63.jpg', '/content/classifcation/Garbage classification/cardboard/cardboard72.jpg', '/content/classifcation/Garbage classification/cardboard/cardboard11.jpg', '/content/classifcation/Garbage classification/cardboard/cardboard339.jpg', '/content/classifcation/Garbage classification/cardboard/cardboard271.jpg', '/content/classifcation/Garbage classification/cardboard/cardboard216.jpg', '/content/classifcation/Garbage classification/cardboard/cardboard155.jpg', '/content/classifcation/Garbage classification/cardboard/cardboard321.jpg', '/content/classifcation/Garbage classification/cardboard/cardboard250.jpg', '/content/classifcation/Garbage classification/cardboard/cardboard362.jpg', '/content/classifcation/Garbage classification/cardboard/cardboard387.jpg', '/content/classifcation/Garbage classification/cardboard/cardboard94.jpg', '/content/classifcation/Garbage classification/cardboard/cardboard54.jpg', '/content/classifcation/Garbage classification/cardboard/cardboard315.jpg', '/content/classifcation/Garbage classification/cardboard/cardboard254.jpg', '/content/classifcation/Garbage classification/cardboard/cardboard28.jpg', '/content/classifcation/Garbage classification/cardboard/cardboard330.jpg', '/content/classifcation/Garbage classification/cardboard/cardboard267.jpg', '/content/classifcation/Garbage classification/cardboard/cardboard7.jpg', '/content/classifcation/Garbage classification/cardboard/cardboard208.jpg', '/content/classifcation/Garbage classification/cardboard/cardboard183.jpg', '/content/classifcation/Garbage classification/cardboard/cardboard347.jpg', '/content/classifcation/Garbage classification/cardboard/cardboard357.jpg', '/content/classifcation/Garbage classification/cardboard/cardboard334.jpg', '/content/classifcation/Garbage classification/cardboard/cardboard345.jpg', '/content/classifcation/Garbage classification/cardboard/cardboard2.jpg', '/content/classifcation/Garbage classification/cardboard/cardboard123.jpg', '/content/classifcation/Garbage classification/cardboard/cardboard269.jpg', '/content/classifcation/Garbage classification/cardboard/cardboard264.jpg', '/content/classifcation/Garbage classification/cardboard/cardboard348.jpg', '/content/classifcation/Garbage classification/cardboard/cardboard324.jpg', '/content/classifcation/Garbage classification/cardboard/cardboard141.jpg', '/content/classifcation/Garbage classification/cardboard/cardboard90.jpg', '/content/classifcation/Garbage classification/cardboard/cardboard395.jpg', '/content/classifcation/Garbage classification/cardboard/cardboard322.jpg', '/content/classifcation/Garbage classification/cardboard/cardboard359.jpg', '/content/classifcation/Garbage classification/cardboard/cardboard40.jpg', '/content/classifcation/Garbage classification/cardboard/cardboard220.jpg', '/content/classifcation/Garbage classification/cardboard/cardboard319.jpg', '/content/classifcation/Garbage classification/cardboard/cardboard366.jpg', '/content/classifcation/Garbage classification/cardboard/cardboard244.jpg', '/content/classifcation/Garbage classification/cardboard/cardboard276.jpg', '/content/classifcation/Garbage classification/cardboard/cardboard83.jpg', '/content/classifcation/Garbage classification/cardboard/cardboard204.jpg', '/content/classifcation/Garbage classification/cardboard/cardboard148.jpg', '/content/classifcation/Garbage classification/cardboard/cardboard376.jpg', '/content/classifcation/Garbage classification/cardboard/cardboard6.jpg', '/content/classifcation/Garbage classification/cardboard/cardboard281.jpg', '/content/classifcation/Garbage classification/cardboard/cardboard385.jpg', '/content/classifcation/Garbage classification/cardboard/cardboard392.jpg', '/content/classifcation/Garbage classification/cardboard/cardboard355.jpg', '/content/classifcation/Garbage classification/cardboard/cardboard49.jpg', '/content/classifcation/Garbage classification/cardboard/cardboard29.jpg', '/content/classifcation/Garbage classification/cardboard/cardboard206.jpg', '/content/classifcation/Garbage classification/cardboard/cardboard181.jpg', '/content/classifcation/Garbage classification/cardboard/cardboard66.jpg', '/content/classifcation/Garbage classification/cardboard/cardboard76.jpg', '/content/classifcation/Garbage classification/cardboard/cardboard16.jpg', '/content/classifcation/Garbage classification/cardboard/cardboard296.jpg', '/content/classifcation/Garbage classification/cardboard/cardboard4.jpg', '/content/classifcation/Garbage classification/cardboard/cardboard342.jpg', '/content/classifcation/Garbage classification/cardboard/cardboard73.jpg', '/content/classifcation/Garbage classification/cardboard/cardboard249.jpg', '/content/classifcation/Garbage classification/cardboard/cardboard302.jpg', '/content/classifcation/Garbage classification/cardboard/cardboard112.jpg', '/content/classifcation/Garbage classification/cardboard/cardboard245.jpg', '/content/classifcation/Garbage classification/cardboard/cardboard70.jpg', '/content/classifcation/Garbage classification/cardboard/cardboard117.jpg', '/content/classifcation/Garbage classification/cardboard/cardboard100.jpg', '/content/classifcation/Garbage classification/cardboard/cardboard102.jpg', '/content/classifcation/Garbage classification/cardboard/cardboard125.jpg', '/content/classifcation/Garbage classification/cardboard/cardboard197.jpg', '/content/classifcation/Garbage classification/cardboard/cardboard374.jpg', '/content/classifcation/Garbage classification/cardboard/cardboard89.jpg', '/content/classifcation/Garbage classification/cardboard/cardboard5.jpg', '/content/classifcation/Garbage classification/cardboard/cardboard24.jpg', '/content/classifcation/Garbage classification/cardboard/cardboard364.jpg', '/content/classifcation/Garbage classification/cardboard/cardboard96.jpg', '/content/classifcation/Garbage classification/cardboard/cardboard115.jpg', '/content/classifcation/Garbage classification/cardboard/cardboard298.jpg', '/content/classifcation/Garbage classification/cardboard/cardboard168.jpg', '/content/classifcation/Garbage classification/cardboard/cardboard41.jpg', '/content/classifcation/Garbage classification/cardboard/cardboard130.jpg', '/content/classifcation/Garbage classification/cardboard/cardboard312.jpg', '/content/classifcation/Garbage classification/cardboard/cardboard243.jpg', '/content/classifcation/Garbage classification/cardboard/cardboard110.jpg', '/content/classifcation/Garbage classification/cardboard/cardboard131.jpg', '/content/classifcation/Garbage classification/cardboard/cardboard341.jpg', '/content/classifcation/Garbage classification/cardboard/cardboard211.jpg', '/content/classifcation/Garbage classification/cardboard/cardboard190.jpg', '/content/classifcation/Garbage classification/cardboard/cardboard278.jpg', '/content/classifcation/Garbage classification/cardboard/cardboard343.jpg', '/content/classifcation/Garbage classification/cardboard/cardboard214.jpg', '/content/classifcation/Garbage classification/cardboard/cardboard221.jpg', '/content/classifcation/Garbage classification/cardboard/cardboard371.jpg', '/content/classifcation/Garbage classification/cardboard/cardboard48.jpg', '/content/classifcation/Garbage classification/cardboard/cardboard240.jpg', '/content/classifcation/Garbage classification/cardboard/cardboard165.jpg', '/content/classifcation/Garbage classification/cardboard/cardboard275.jpg', '/content/classifcation/Garbage classification/cardboard/cardboard127.jpg', '/content/classifcation/Garbage classification/cardboard/cardboard361.jpg', '/content/classifcation/Garbage classification/cardboard/cardboard228.jpg', '/content/classifcation/Garbage classification/cardboard/cardboard192.jpg', '/content/classifcation/Garbage classification/cardboard/cardboard350.jpg', '/content/classifcation/Garbage classification/cardboard/cardboard34.jpg', '/content/classifcation/Garbage classification/cardboard/cardboard252.jpg', '/content/classifcation/Garbage classification/cardboard/cardboard152.jpg', '/content/classifcation/Garbage classification/cardboard/cardboard282.jpg', '/content/classifcation/Garbage classification/cardboard/cardboard65.jpg', '/content/classifcation/Garbage classification/cardboard/cardboard268.jpg', '/content/classifcation/Garbage classification/cardboard/cardboard210.jpg', '/content/classifcation/Garbage classification/cardboard/cardboard233.jpg', '/content/classifcation/Garbage classification/cardboard/cardboard173.jpg', '/content/classifcation/Garbage classification/cardboard/cardboard99.jpg', '/content/classifcation/Garbage classification/cardboard/cardboard383.jpg', '/content/classifcation/Garbage classification/cardboard/cardboard375.jpg', '/content/classifcation/Garbage classification/cardboard/cardboard56.jpg', '/content/classifcation/Garbage classification/cardboard/cardboard75.jpg', '/content/classifcation/Garbage classification/cardboard/cardboard304.jpg', '/content/classifcation/Garbage classification/cardboard/cardboard42.jpg', '/content/classifcation/Garbage classification/cardboard/cardboard133.jpg', '/content/classifcation/Garbage classification/cardboard/cardboard156.jpg', '/content/classifcation/Garbage classification/cardboard/cardboard108.jpg', '/content/classifcation/Garbage classification/cardboard/cardboard134.jpg', '/content/classifcation/Garbage classification/cardboard/cardboard180.jpg', '/content/classifcation/Garbage classification/cardboard/cardboard159.jpg', '/content/classifcation/Garbage classification/cardboard/cardboard61.jpg', '/content/classifcation/Garbage classification/cardboard/cardboard329.jpg', '/content/classifcation/Garbage classification/cardboard/cardboard17.jpg', '/content/classifcation/Garbage classification/cardboard/cardboard174.jpg', '/content/classifcation/Garbage classification/cardboard/cardboard266.jpg', '/content/classifcation/Garbage classification/cardboard/cardboard224.jpg', '/content/classifcation/Garbage classification/cardboard/cardboard256.jpg', '/content/classifcation/Garbage classification/cardboard/cardboard394.jpg', '/content/classifcation/Garbage classification/cardboard/cardboard158.jpg', '/content/classifcation/Garbage classification/cardboard/cardboard235.jpg', '/content/classifcation/Garbage classification/cardboard/cardboard388.jpg', '/content/classifcation/Garbage classification/cardboard/cardboard333.jpg', '/content/classifcation/Garbage classification/cardboard/cardboard288.jpg', '/content/classifcation/Garbage classification/cardboard/cardboard52.jpg', '/content/classifcation/Garbage classification/cardboard/cardboard64.jpg', '/content/classifcation/Garbage classification/cardboard/cardboard166.jpg', '/content/classifcation/Garbage classification/cardboard/cardboard369.jpg', '/content/classifcation/Garbage classification/cardboard/cardboard227.jpg', '/content/classifcation/Garbage classification/cardboard/cardboard138.jpg', '/content/classifcation/Garbage classification/cardboard/cardboard53.jpg', '/content/classifcation/Garbage classification/cardboard/cardboard95.jpg', '/content/classifcation/Garbage classification/cardboard/cardboard93.jpg', '/content/classifcation/Garbage classification/cardboard/cardboard67.jpg', '/content/classifcation/Garbage classification/cardboard/cardboard126.jpg', '/content/classifcation/Garbage classification/cardboard/cardboard213.jpg', '/content/classifcation/Garbage classification/cardboard/cardboard277.jpg', '/content/classifcation/Garbage classification/cardboard/cardboard390.jpg', '/content/classifcation/Garbage classification/cardboard/cardboard188.jpg', '/content/classifcation/Garbage classification/cardboard/cardboard399.jpg', '/content/classifcation/Garbage classification/cardboard/cardboard25.jpg', '/content/classifcation/Garbage classification/cardboard/cardboard111.jpg', '/content/classifcation/Garbage classification/cardboard/cardboard26.jpg', '/content/classifcation/Garbage classification/cardboard/cardboard143.jpg', '/content/classifcation/Garbage classification/cardboard/cardboard151.jpg', '/content/classifcation/Garbage classification/cardboard/cardboard85.jpg', '/content/classifcation/Garbage classification/cardboard/cardboard175.jpg', '/content/classifcation/Garbage classification/cardboard/cardboard219.jpg', '/content/classifcation/Garbage classification/cardboard/cardboard62.jpg', '/content/classifcation/Garbage classification/cardboard/cardboard403.jpg', '/content/classifcation/Garbage classification/cardboard/cardboard370.jpg', '/content/classifcation/Garbage classification/cardboard/cardboard320.jpg', '/content/classifcation/Garbage classification/cardboard/cardboard170.jpg', '/content/classifcation/Garbage classification/cardboard/cardboard217.jpg', '/content/classifcation/Garbage classification/cardboard/cardboard397.jpg', '/content/classifcation/Garbage classification/cardboard/cardboard91.jpg', '/content/classifcation/Garbage classification/cardboard/cardboard272.jpg', '/content/classifcation/Garbage classification/cardboard/cardboard402.jpg', '/content/classifcation/Garbage classification/cardboard/cardboard88.jpg', '/content/classifcation/Garbage classification/cardboard/cardboard310.jpg', '/content/classifcation/Garbage classification/cardboard/cardboard215.jpg', '/content/classifcation/Garbage classification/cardboard/cardboard79.jpg', '/content/classifcation/Garbage classification/cardboard/cardboard8.jpg', '/content/classifcation/Garbage classification/cardboard/cardboard51.jpg', '/content/classifcation/Garbage classification/cardboard/cardboard153.jpg', '/content/classifcation/Garbage classification/cardboard/cardboard142.jpg', '/content/classifcation/Garbage classification/cardboard/cardboard109.jpg', '/content/classifcation/Garbage classification/cardboard/cardboard184.jpg', '/content/classifcation/Garbage classification/cardboard/cardboard284.jpg', '/content/classifcation/Garbage classification/cardboard/cardboard157.jpg', '/content/classifcation/Garbage classification/cardboard/cardboard307.jpg', '/content/classifcation/Garbage classification/cardboard/cardboard280.jpg', '/content/classifcation/Garbage classification/cardboard/cardboard283.jpg', '/content/classifcation/Garbage classification/cardboard/cardboard169.jpg', '/content/classifcation/Garbage classification/cardboard/cardboard273.jpg', '/content/classifcation/Garbage classification/cardboard/cardboard30.jpg', '/content/classifcation/Garbage classification/cardboard/cardboard326.jpg', '/content/classifcation/Garbage classification/cardboard/cardboard59.jpg', '/content/classifcation/Garbage classification/cardboard/cardboard104.jpg', '/content/classifcation/Garbage classification/cardboard/cardboard46.jpg', '/content/classifcation/Garbage classification/cardboard/cardboard98.jpg', '/content/classifcation/Garbage classification/cardboard/cardboard358.jpg', '/content/classifcation/Garbage classification/cardboard/cardboard13.jpg', '/content/classifcation/Garbage classification/cardboard/cardboard292.jpg', '/content/classifcation/Garbage classification/cardboard/cardboard124.jpg', '/content/classifcation/Garbage classification/cardboard/cardboard241.jpg', '/content/classifcation/Garbage classification/cardboard/cardboard234.jpg', '/content/classifcation/Garbage classification/cardboard/cardboard377.jpg', '/content/classifcation/Garbage classification/cardboard/cardboard373.jpg', '/content/classifcation/Garbage classification/cardboard/cardboard257.jpg', '/content/classifcation/Garbage classification/cardboard/cardboard161.jpg', '/content/classifcation/Garbage classification/cardboard/cardboard337.jpg', '/content/classifcation/Garbage classification/cardboard/cardboard287.jpg', '/content/classifcation/Garbage classification/cardboard/cardboard226.jpg', '/content/classifcation/Garbage classification/cardboard/cardboard336.jpg', '/content/classifcation/Garbage classification/cardboard/cardboard335.jpg', '/content/classifcation/Garbage classification/cardboard/cardboard367.jpg', '/content/classifcation/Garbage classification/cardboard/cardboard293.jpg', '/content/classifcation/Garbage classification/cardboard/cardboard196.jpg', '/content/classifcation/Garbage classification/cardboard/cardboard38.jpg', '/content/classifcation/Garbage classification/cardboard/cardboard262.jpg', '/content/classifcation/Garbage classification/cardboard/cardboard136.jpg', '/content/classifcation/Garbage classification/cardboard/cardboard401.jpg', '/content/classifcation/Garbage classification/cardboard/cardboard344.jpg', '/content/classifcation/Garbage classification/cardboard/cardboard15.jpg', '/content/classifcation/Garbage classification/cardboard/cardboard199.jpg', '/content/classifcation/Garbage classification/cardboard/cardboard128.jpg', '/content/classifcation/Garbage classification/cardboard/cardboard3.jpg', '/content/classifcation/Garbage classification/cardboard/cardboard230.jpg', '/content/classifcation/Garbage classification/cardboard/cardboard386.jpg', '/content/classifcation/Garbage classification/cardboard/cardboard137.jpg', '/content/classifcation/Garbage classification/cardboard/cardboard295.jpg', '/content/classifcation/Garbage classification/cardboard/cardboard202.jpg', '/content/classifcation/Garbage classification/cardboard/cardboard332.jpg', '/content/classifcation/Garbage classification/cardboard/cardboard22.jpg', '/content/classifcation/Garbage classification/cardboard/cardboard331.jpg', '/content/classifcation/Garbage classification/cardboard/cardboard44.jpg', '/content/classifcation/Garbage classification/cardboard/cardboard306.jpg', '/content/classifcation/Garbage classification/cardboard/cardboard393.jpg', '/content/classifcation/Garbage classification/cardboard/cardboard351.jpg', '/content/classifcation/Garbage classification/cardboard/cardboard14.jpg', '/content/classifcation/Garbage classification/cardboard/cardboard259.jpg', '/content/classifcation/Garbage classification/cardboard/cardboard92.jpg', '/content/classifcation/Garbage classification/cardboard/cardboard39.jpg', '/content/classifcation/Garbage classification/cardboard/cardboard171.jpg', '/content/classifcation/Garbage classification/cardboard/cardboard222.jpg', '/content/classifcation/Garbage classification/cardboard/cardboard12.jpg', '/content/classifcation/Garbage classification/cardboard/cardboard58.jpg', '/content/classifcation/Garbage classification/cardboard/cardboard139.jpg', '/content/classifcation/Garbage classification/cardboard/cardboard400.jpg', '/content/classifcation/Garbage classification/cardboard/cardboard78.jpg', '/content/classifcation/Garbage classification/cardboard/cardboard132.jpg', '/content/classifcation/Garbage classification/cardboard/cardboard285.jpg', '/content/classifcation/Garbage classification/cardboard/cardboard294.jpg', '/content/classifcation/Garbage classification/cardboard/cardboard305.jpg', '/content/classifcation/Garbage classification/cardboard/cardboard223.jpg', '/content/classifcation/Garbage classification/cardboard/cardboard10.jpg', '/content/classifcation/Garbage classification/cardboard/cardboard74.jpg', '/content/classifcation/Garbage classification/cardboard/cardboard150.jpg', '/content/classifcation/Garbage classification/cardboard/cardboard239.jpg', '/content/classifcation/Garbage classification/cardboard/cardboard328.jpg', '/content/classifcation/Garbage classification/cardboard/cardboard248.jpg', '/content/classifcation/Garbage classification/cardboard/cardboard69.jpg', '/content/classifcation/Garbage classification/cardboard/cardboard209.jpg', '/content/classifcation/Garbage classification/cardboard/cardboard122.jpg', '/content/classifcation/Garbage classification/cardboard/cardboard32.jpg', '/content/classifcation/Garbage classification/cardboard/cardboard43.jpg', '/content/classifcation/Garbage classification/cardboard/cardboard103.jpg', '/content/classifcation/Garbage classification/cardboard/cardboard291.jpg', '/content/classifcation/Garbage classification/cardboard/cardboard236.jpg', '/content/classifcation/Garbage classification/cardboard/cardboard36.jpg', '/content/classifcation/Garbage classification/cardboard/cardboard309.jpg', '/content/classifcation/Garbage classification/cardboard/cardboard372.jpg', '/content/classifcation/Garbage classification/cardboard/cardboard290.jpg', '/content/classifcation/Garbage classification/cardboard/cardboard247.jpg', '/content/classifcation/Garbage classification/cardboard/cardboard189.jpg', '/content/classifcation/Garbage classification/cardboard/cardboard177.jpg', '/content/classifcation/Garbage classification/cardboard/cardboard237.jpg', '/content/classifcation/Garbage classification/cardboard/cardboard263.jpg', '/content/classifcation/Garbage classification/cardboard/cardboard297.jpg', '/content/classifcation/Garbage classification/cardboard/cardboard144.jpg', '/content/classifcation/Garbage classification/cardboard/cardboard218.jpg', '/content/classifcation/Garbage classification/cardboard/cardboard87.jpg', '/content/classifcation/Garbage classification/cardboard/cardboard146.jpg', '/content/classifcation/Garbage classification/cardboard/cardboard286.jpg', '/content/classifcation/Garbage classification/cardboard/cardboard147.jpg', '/content/classifcation/Garbage classification/cardboard/cardboard116.jpg', '/content/classifcation/Garbage classification/cardboard/cardboard340.jpg', '/content/classifcation/Garbage classification/cardboard/cardboard314.jpg', '/content/classifcation/Garbage classification/cardboard/cardboard354.jpg', '/content/classifcation/Garbage classification/cardboard/cardboard164.jpg', '/content/classifcation/Garbage classification/cardboard/cardboard352.jpg', '/content/classifcation/Garbage classification/cardboard/cardboard231.jpg', '/content/classifcation/Garbage classification/cardboard/cardboard68.jpg', '/content/classifcation/Garbage classification/cardboard/cardboard47.jpg', '/content/classifcation/Garbage classification/cardboard/cardboard80.jpg', '/content/classifcation/Garbage classification/cardboard/cardboard253.jpg', '/content/classifcation/Garbage classification/cardboard/cardboard265.jpg', '/content/classifcation/Garbage classification/cardboard/cardboard145.jpg', '/content/classifcation/Garbage classification/cardboard/cardboard246.jpg', '/content/classifcation/Garbage classification/cardboard/cardboard176.jpg', '/content/classifcation/Garbage classification/cardboard/cardboard178.jpg', '/content/classifcation/Garbage classification/cardboard/cardboard325.jpg', '/content/classifcation/Garbage classification/cardboard/cardboard193.jpg', '/content/classifcation/Garbage classification/cardboard/cardboard384.jpg', '/content/classifcation/Garbage classification/cardboard/cardboard20.jpg', '/content/classifcation/Garbage classification/cardboard/cardboard380.jpg', '/content/classifcation/Garbage classification/cardboard/cardboard356.jpg', '/content/classifcation/Garbage classification/cardboard/cardboard101.jpg', '/content/classifcation/Garbage classification/cardboard/cardboard106.jpg', '/content/classifcation/Garbage classification/cardboard/cardboard119.jpg', '/content/classifcation/Garbage classification/cardboard/cardboard261.jpg', '/content/classifcation/Garbage classification/cardboard/cardboard57.jpg', '/content/classifcation/Garbage classification/cardboard/cardboard365.jpg', '/content/classifcation/Garbage classification/cardboard/cardboard258.jpg', '/content/classifcation/Garbage classification/cardboard/cardboard21.jpg', '/content/classifcation/Garbage classification/cardboard/cardboard346.jpg', '/content/classifcation/Garbage classification/cardboard/cardboard311.jpg', '/content/classifcation/Garbage classification/cardboard/cardboard398.jpg', '/content/classifcation/Garbage classification/cardboard/cardboard129.jpg', '/content/classifcation/Garbage classification/cardboard/cardboard212.jpg', '/content/classifcation/Garbage classification/cardboard/cardboard308.jpg', '/content/classifcation/Garbage classification/cardboard/cardboard242.jpg', '/content/classifcation/Garbage classification/cardboard/cardboard135.jpg', '/content/classifcation/Garbage classification/cardboard/cardboard327.jpg', '/content/classifcation/Garbage classification/cardboard/cardboard35.jpg', '/content/classifcation/Garbage classification/cardboard/cardboard18.jpg', '/content/classifcation/Garbage classification/cardboard/cardboard194.jpg', '/content/classifcation/Garbage classification/cardboard/cardboard187.jpg', '/content/classifcation/Garbage classification/cardboard/cardboard195.jpg', '/content/classifcation/Garbage classification/cardboard/cardboard318.jpg', '/content/classifcation/Garbage classification/cardboard/cardboard97.jpg', '/content/classifcation/Garbage classification/cardboard/cardboard33.jpg', '/content/classifcation/Garbage classification/cardboard/cardboard27.jpg', '/content/classifcation/Garbage classification/cardboard/cardboard379.jpg', '/content/classifcation/Garbage classification/cardboard/cardboard229.jpg', '/content/classifcation/Garbage classification/cardboard/cardboard200.jpg', '/content/classifcation/Garbage classification/cardboard/cardboard225.jpg', '/content/classifcation/Garbage classification/cardboard/cardboard191.jpg', '/content/classifcation/Garbage classification/cardboard/cardboard163.jpg', '/content/classifcation/Garbage classification/cardboard/cardboard338.jpg']\n"
          ]
        }
      ]
    },
    {
      "cell_type": "code",
      "metadata": {
        "id": "9f93ac34",
        "colab": {
          "base_uri": "https://localhost:8080/",
          "height": 136
        },
        "outputId": "120f0f8c-fa9c-469c-c6e6-bd63c7bb9291"
      },
      "source": [
        "start = datetime.datetime.now()\n",
        "for dirs in glob.glob(\"./pokemanpicture/*\"):\n",
        "  paths = glob.glob(dirs + \"/*\")\n",
        "  \n",
        "  for path in :\n",
        "      img = tf.keras.preprocessing.image.load_img(path)\n",
        "      img = np.array(img) # 转化为 ndarray的形式\n",
        "      img = tf.image.adjust_brightness(img,0.3)\n",
        "      temp = os.path.dirname(path) + \"/\" + str(time.time()) + \".png\"\n",
        "      tf.keras.preprocessing.image.save_img(temp,img)\n",
        "  for path in :\n",
        "      img = tf.keras.preprocessing.image.load_img(path)\n",
        "      img = np.array(img) # 转化为 ndarray的形式\n",
        "      img = tf.image.flip_left_right(img)\n",
        "      temp = os.path.dirname(path) + \"/\" + str(time.time()) + \".png\"\n",
        "      tf.keras.preprocessing.image.save_img(temp,img)\n",
        "end = datetime.datetime.now()\n",
        "print(end-start)"
      ],
      "id": "9f93ac34",
      "execution_count": 25,
      "outputs": [
        {
          "output_type": "error",
          "ename": "SyntaxError",
          "evalue": "ignored",
          "traceback": [
            "\u001b[0;36m  File \u001b[0;32m\"<ipython-input-25-2c2b16b3242f>\"\u001b[0;36m, line \u001b[0;32m5\u001b[0m\n\u001b[0;31m    for path in :\u001b[0m\n\u001b[0m                ^\u001b[0m\n\u001b[0;31mSyntaxError\u001b[0m\u001b[0;31m:\u001b[0m invalid syntax\n"
          ]
        }
      ]
    },
    {
      "cell_type": "code",
      "metadata": {
        "id": "10fc2b0b",
        "outputId": "b91b60ff-01cd-43a5-ac81-f16afe706e89"
      },
      "source": [
        "start = datetime.datetime.now()\n",
        "for dirs in glob.glob(\"./pokemanpicture/*\"):\n",
        "    flag = 1\n",
        "    for path in glob.glob(dirs + \"/*\"):\n",
        "        img = tf.keras.preprocessing.image.load_img(path)\n",
        "        img = np.array(img) # 转化为 ndarray的形式\n",
        "        img = tf.image.adjust_brightness(img,0.3)\n",
        "        temp = os.path.dirname(path) + \"/\" + str(time.time()) + \".png\"\n",
        "        tf.keras.preprocessing.image.save_img(temp,img)\n",
        "        if flag:\n",
        "            print(temp)\n",
        "            flag = 0\n",
        "end = datetime.datetime.now()\n",
        "print(end-start)"
      ],
      "id": "10fc2b0b",
      "execution_count": null,
      "outputs": [
        {
          "name": "stdout",
          "output_type": "stream",
          "text": [
            "./pokemanpicture/mewtwo/1634297470.5968313.png\n"
          ]
        },
        {
          "name": "stderr",
          "output_type": "stream",
          "text": [
            "/home/long/.conda/envs/long/lib/python3.7/site-packages/PIL/Image.py:974: UserWarning: Palette images with Transparency expressed in bytes should be converted to RGBA images\n",
            "  \"Palette images with Transparency expressed in bytes should be \"\n"
          ]
        },
        {
          "name": "stdout",
          "output_type": "stream",
          "text": [
            "./pokemanpicture/charmander/1634297539.8135343.png\n",
            "./pokemanpicture/squirtle/1634297615.9221616.png\n",
            "./pokemanpicture/bulbasaur/1634297672.387268.png\n",
            "./pokemanpicture/pikachu/1634297737.1577804.png\n",
            "0:05:30.447628\n"
          ]
        }
      ]
    },
    {
      "cell_type": "markdown",
      "metadata": {
        "id": "0d069db7"
      },
      "source": [
        "# 划分数据集"
      ],
      "id": "0d069db7"
    },
    {
      "cell_type": "code",
      "metadata": {
        "scrolled": false,
        "id": "c9a80939",
        "outputId": "d27ceeed-892c-4557-c530-98b77ff247a6"
      },
      "source": [
        "images = []\n",
        "labels = []\n",
        "name2label = dict()\n",
        "\n",
        "t = 0\n",
        "for dirs in glob.glob(\"./pokemanpicture/*\"):\n",
        "    name = dirs.split(\"/\")[2]\n",
        "    name2label[name] = t\n",
        "    t += 1\n",
        "    for path in glob.glob(dirs + \"/*\"):\n",
        "        images.append(path)\n",
        "random.shuffle(images)\n",
        "for path in images:\n",
        "    name = path.split(\"/\")[2]\n",
        "    labels.append(name2label[name])\n",
        "\n",
        "df = pd.DataFrame({\"images\":images,\"labels\":labels})\n",
        "df.to_csv(\"./image.csv\",index=False)\n",
        "print(name2label)\n",
        "df.head()"
      ],
      "id": "c9a80939",
      "execution_count": null,
      "outputs": [
        {
          "name": "stdout",
          "output_type": "stream",
          "text": [
            "{'mewtwo': 0, 'charmander': 1, 'squirtle': 2, 'bulbasaur': 3, 'pikachu': 4}\n"
          ]
        },
        {
          "data": {
            "text/html": [
              "<div>\n",
              "<style scoped>\n",
              "    .dataframe tbody tr th:only-of-type {\n",
              "        vertical-align: middle;\n",
              "    }\n",
              "\n",
              "    .dataframe tbody tr th {\n",
              "        vertical-align: top;\n",
              "    }\n",
              "\n",
              "    .dataframe thead th {\n",
              "        text-align: right;\n",
              "    }\n",
              "</style>\n",
              "<table border=\"1\" class=\"dataframe\">\n",
              "  <thead>\n",
              "    <tr style=\"text-align: right;\">\n",
              "      <th></th>\n",
              "      <th>images</th>\n",
              "      <th>labels</th>\n",
              "    </tr>\n",
              "  </thead>\n",
              "  <tbody>\n",
              "    <tr>\n",
              "      <th>0</th>\n",
              "      <td>./pokemanpicture/mewtwo/1634297486.2058926.png</td>\n",
              "      <td>0</td>\n",
              "    </tr>\n",
              "    <tr>\n",
              "      <th>1</th>\n",
              "      <td>./pokemanpicture/squirtle/1634297617.1559815.png</td>\n",
              "      <td>2</td>\n",
              "    </tr>\n",
              "    <tr>\n",
              "      <th>2</th>\n",
              "      <td>./pokemanpicture/pikachu/00000129.jpg</td>\n",
              "      <td>4</td>\n",
              "    </tr>\n",
              "    <tr>\n",
              "      <th>3</th>\n",
              "      <td>./pokemanpicture/mewtwo/1634297521.554187.png</td>\n",
              "      <td>0</td>\n",
              "    </tr>\n",
              "    <tr>\n",
              "      <th>4</th>\n",
              "      <td>./pokemanpicture/pikachu/00000057.png</td>\n",
              "      <td>4</td>\n",
              "    </tr>\n",
              "  </tbody>\n",
              "</table>\n",
              "</div>"
            ],
            "text/plain": [
              "                                             images  labels\n",
              "0    ./pokemanpicture/mewtwo/1634297486.2058926.png       0\n",
              "1  ./pokemanpicture/squirtle/1634297617.1559815.png       2\n",
              "2             ./pokemanpicture/pikachu/00000129.jpg       4\n",
              "3     ./pokemanpicture/mewtwo/1634297521.554187.png       0\n",
              "4             ./pokemanpicture/pikachu/00000057.png       4"
            ]
          },
          "execution_count": 107,
          "metadata": {},
          "output_type": "execute_result"
        }
      ]
    },
    {
      "cell_type": "code",
      "metadata": {
        "id": "4b4ebfe1"
      },
      "source": [
        "def load_data(model):\n",
        "    df = pd.read_csv(\"./image.csv\")\n",
        "    images = df[\"images\"]\n",
        "    labels = df[\"labels\"]\n",
        "    if model == \"train\":\n",
        "        print(\"训练集：\" + str(len(labels[:int(0.7*len(labels))])))\n",
        "        return images[:int(0.7*len(images))], labels[:int(0.7*len(labels))]\n",
        "    elif model == \"val\":\n",
        "        print(\"验证集：\" + str(len(labels[int(0.7*len(labels)):])))\n",
        "        return images[int(0.7*len(images)):], labels[int(0.7*len(labels)):]"
      ],
      "id": "4b4ebfe1",
      "execution_count": null,
      "outputs": []
    },
    {
      "cell_type": "markdown",
      "metadata": {
        "id": "a6f1173a"
      },
      "source": [
        "# 数据预处理并放入tf.data中"
      ],
      "id": "a6f1173a"
    },
    {
      "cell_type": "code",
      "metadata": {
        "id": "bf66693f",
        "outputId": "f08d9ffb-dbd9-4881-eeb1-216b11afd75e"
      },
      "source": [
        "x = tf.io.read_file(\"./pokemanpicture/bulbasaur/00000000.png\")\n",
        "x = tf.io.decode_jpeg(x,channels=3)\n",
        "print(x.shape,x.dtype)\n",
        "x = tf.image.resize(x,(244,244))\n",
        "x = tf.cast(x,dtype=tf.float32) / 255."
      ],
      "id": "bf66693f",
      "execution_count": null,
      "outputs": [
        {
          "name": "stdout",
          "output_type": "stream",
          "text": [
            "(900, 900, 3) <dtype: 'uint8'>\n"
          ]
        }
      ]
    },
    {
      "cell_type": "code",
      "metadata": {
        "id": "5e8f2287"
      },
      "source": [
        "def preprocess(x,y):\n",
        "    x = tf.io.read_file(x)\n",
        "    x = tf.io.decode_jpeg(x,channels=3)\n",
        "    x = tf.image.resize(x,(224,224))\n",
        "    x = tf.cast(x,dtype=tf.float32) / 255.\n",
        "    \n",
        "    y = tf.convert_to_tensor(y)\n",
        "    y = tf.one_hot(y,depth=5)\n",
        "    return x,y"
      ],
      "id": "5e8f2287",
      "execution_count": null,
      "outputs": []
    },
    {
      "cell_type": "code",
      "metadata": {
        "id": "9aa46fa3",
        "outputId": "0c5bbae4-193b-4d18-f02c-1cad71962c47"
      },
      "source": [
        "batch_size = 8\n",
        "train_data = tf.data.Dataset.from_tensor_slices(load_data(\"train\"))\n",
        "train_data = train_data.shuffle(1000).map(preprocess).batch(batch_size)\n",
        "\n",
        "val_data = tf.data.Dataset.from_tensor_slices(load_data(\"val\"))\n",
        "val_data = val_data.map(preprocess).batch(batch_size)  # 不能shuffle 不然后面混淆矩阵找不到真是标签\n",
        "\n",
        "print(train_data)\n",
        "print(val_data)"
      ],
      "id": "9aa46fa3",
      "execution_count": null,
      "outputs": [
        {
          "name": "stdout",
          "output_type": "stream",
          "text": [
            "训练集：1615\n",
            "验证集：693\n",
            "<BatchDataset shapes: ((None, 224, 224, 3), (None, 5)), types: (tf.float32, tf.float32)>\n",
            "<BatchDataset shapes: ((None, 224, 224, 3), (None, 5)), types: (tf.float32, tf.float32)>\n"
          ]
        }
      ]
    },
    {
      "cell_type": "markdown",
      "metadata": {
        "id": "cfc1a0b9"
      },
      "source": [
        "# 构建模型"
      ],
      "id": "cfc1a0b9"
    },
    {
      "cell_type": "code",
      "metadata": {
        "id": "9e53a510",
        "outputId": "c3503987-8831-4f04-8ac7-9c41eaa3a00a"
      },
      "source": [
        "base_model = tf.keras.applications.vgg16.VGG16(weights=\"./vgg16_weights_tf_dim_ordering_tf_kernels_notop.h5\",include_top=False)\n",
        "\n",
        "for layer in base_model.layers[:-4]:\n",
        "    layer.trainable = False\n",
        "# base_model.summary()\n",
        "  \n",
        "model = tf.keras.Sequential()\n",
        "model.add(base_model)\n",
        "model.add(tf.keras.layers.GlobalAveragePooling2D())\n",
        "model.add(tf.keras.layers.Dense(256,activation=\"relu\"))\n",
        "model.add(tf.keras.layers.Dropout(0.2))\n",
        "model.add(tf.keras.layers.Dense(5,activation=\"softmax\"))\n",
        "model.summary()"
      ],
      "id": "9e53a510",
      "execution_count": null,
      "outputs": [
        {
          "name": "stdout",
          "output_type": "stream",
          "text": [
            "Model: \"sequential_8\"\n",
            "_________________________________________________________________\n",
            "Layer (type)                 Output Shape              Param #   \n",
            "=================================================================\n",
            "vgg16 (Model)                (None, None, None, 512)   14714688  \n",
            "_________________________________________________________________\n",
            "global_average_pooling2d_4 ( (None, 512)               0         \n",
            "_________________________________________________________________\n",
            "dense_16 (Dense)             (None, 256)               131328    \n",
            "_________________________________________________________________\n",
            "dropout_4 (Dropout)          (None, 256)               0         \n",
            "_________________________________________________________________\n",
            "dense_17 (Dense)             (None, 5)                 1285      \n",
            "=================================================================\n",
            "Total params: 14,847,301\n",
            "Trainable params: 7,212,037\n",
            "Non-trainable params: 7,635,264\n",
            "_________________________________________________________________\n"
          ]
        }
      ]
    },
    {
      "cell_type": "markdown",
      "metadata": {
        "id": "b971daa1"
      },
      "source": [
        "# 模型编译和训练"
      ],
      "id": "b971daa1"
    },
    {
      "cell_type": "code",
      "metadata": {
        "id": "942ce388",
        "outputId": "c8d27170-0a6a-4289-8567-b7a5ce528f70"
      },
      "source": [
        "easystop = tf.keras.callbacks.EarlyStopping(patience=3,min_delta=0.01)\n",
        "\n",
        "model.compile(\n",
        "    optimizer=tf.keras.optimizers.Adam(1e-4),\n",
        "    loss=tf.keras.losses.CategoricalCrossentropy(from_logits=True),\n",
        "    metrics=[\"accuracy\"]\n",
        ")\n",
        "start = datetime.datetime.now()\n",
        "history = model.fit(train_data,validation_data=val_data,callbacks=[easystop],epochs=200)\n",
        "end = datetime.datetime.now()\n",
        "print(\"*\"*100)\n",
        "print(end - start)"
      ],
      "id": "942ce388",
      "execution_count": null,
      "outputs": [
        {
          "name": "stdout",
          "output_type": "stream",
          "text": [
            "Epoch 1/200\n",
            "     16/Unknown - 11s 701ms/step - loss: 1.6051 - accuracy: 0.2188"
          ]
        },
        {
          "name": "stderr",
          "output_type": "stream",
          "text": [
            "2021-10-15 21:07:17.258550: W tensorflow/core/lib/png/png_io.cc:88] PNG warning: iCCP: known incorrect sRGB profile\n"
          ]
        },
        {
          "name": "stdout",
          "output_type": "stream",
          "text": [
            "     34/Unknown - 23s 667ms/step - loss: 1.5498 - accuracy: 0.3272"
          ]
        },
        {
          "name": "stderr",
          "output_type": "stream",
          "text": [
            "2021-10-15 21:07:28.634847: W tensorflow/core/lib/png/png_io.cc:88] PNG warning: iCCP: known incorrect sRGB profile\n"
          ]
        },
        {
          "name": "stdout",
          "output_type": "stream",
          "text": [
            "     37/Unknown - 25s 664ms/step - loss: 1.5397 - accuracy: 0.3378"
          ]
        },
        {
          "name": "stderr",
          "output_type": "stream",
          "text": [
            "2021-10-15 21:07:30.611033: W tensorflow/core/lib/png/png_io.cc:88] PNG warning: bKGD: invalid\n",
            "2021-10-15 21:07:30.620771: W tensorflow/core/lib/png/png_io.cc:88] PNG warning: iCCP: known incorrect sRGB profile\n"
          ]
        },
        {
          "name": "stdout",
          "output_type": "stream",
          "text": [
            "     55/Unknown - 36s 663ms/step - loss: 1.4615 - accuracy: 0.4364"
          ]
        },
        {
          "name": "stderr",
          "output_type": "stream",
          "text": [
            "2021-10-15 21:07:42.416330: W tensorflow/core/lib/png/png_io.cc:88] PNG warning: iCCP: known incorrect sRGB profile\n"
          ]
        },
        {
          "name": "stdout",
          "output_type": "stream",
          "text": [
            "     64/Unknown - 43s 668ms/step - loss: 1.4299 - accuracy: 0.4648"
          ]
        },
        {
          "name": "stderr",
          "output_type": "stream",
          "text": [
            "2021-10-15 21:07:48.716662: W tensorflow/core/lib/png/png_io.cc:88] PNG warning: iCCP: known incorrect sRGB profile\n"
          ]
        },
        {
          "name": "stdout",
          "output_type": "stream",
          "text": [
            "     75/Unknown - 49s 660ms/step - loss: 1.4001 - accuracy: 0.5000"
          ]
        },
        {
          "name": "stderr",
          "output_type": "stream",
          "text": [
            "2021-10-15 21:07:55.505294: W tensorflow/core/lib/png/png_io.cc:88] PNG warning: iCCP: known incorrect sRGB profile\n"
          ]
        },
        {
          "name": "stdout",
          "output_type": "stream",
          "text": [
            "     77/Unknown - 51s 661ms/step - loss: 1.3984 - accuracy: 0.5016"
          ]
        },
        {
          "name": "stderr",
          "output_type": "stream",
          "text": [
            "2021-10-15 21:07:57.150567: W tensorflow/core/lib/png/png_io.cc:88] PNG warning: iCCP: known incorrect sRGB profile\n"
          ]
        },
        {
          "name": "stdout",
          "output_type": "stream",
          "text": [
            "     84/Unknown - 55s 658ms/step - loss: 1.3868 - accuracy: 0.5119"
          ]
        },
        {
          "name": "stderr",
          "output_type": "stream",
          "text": [
            "2021-10-15 21:08:01.289641: W tensorflow/core/lib/png/png_io.cc:88] PNG warning: iCCP: known incorrect sRGB profile\n"
          ]
        },
        {
          "name": "stdout",
          "output_type": "stream",
          "text": [
            "     87/Unknown - 57s 656ms/step - loss: 1.3808 - accuracy: 0.5187"
          ]
        },
        {
          "name": "stderr",
          "output_type": "stream",
          "text": [
            "2021-10-15 21:08:03.020282: W tensorflow/core/lib/png/png_io.cc:88] PNG warning: iCCP: known incorrect sRGB profile\n",
            "2021-10-15 21:08:03.020340: W tensorflow/core/lib/png/png_io.cc:88] PNG warning: iCCP: cHRM chunk does not match sRGB\n"
          ]
        },
        {
          "name": "stdout",
          "output_type": "stream",
          "text": [
            "     91/Unknown - 60s 654ms/step - loss: 1.3655 - accuracy: 0.5357"
          ]
        },
        {
          "name": "stderr",
          "output_type": "stream",
          "text": [
            "2021-10-15 21:08:05.496545: W tensorflow/core/lib/png/png_io.cc:88] PNG warning: iCCP: known incorrect sRGB profile\n"
          ]
        },
        {
          "name": "stdout",
          "output_type": "stream",
          "text": [
            "     95/Unknown - 62s 652ms/step - loss: 1.3541 - accuracy: 0.5500"
          ]
        },
        {
          "name": "stderr",
          "output_type": "stream",
          "text": [
            "2021-10-15 21:08:08.038494: W tensorflow/core/lib/png/png_io.cc:88] PNG warning: iCCP: known incorrect sRGB profile\n"
          ]
        },
        {
          "name": "stdout",
          "output_type": "stream",
          "text": [
            "    109/Unknown - 71s 648ms/step - loss: 1.3204 - accuracy: 0.5849"
          ]
        },
        {
          "name": "stderr",
          "output_type": "stream",
          "text": [
            "2021-10-15 21:08:16.717571: W tensorflow/core/lib/png/png_io.cc:88] PNG warning: iCCP: known incorrect sRGB profile\n"
          ]
        },
        {
          "name": "stdout",
          "output_type": "stream",
          "text": [
            "    111/Unknown - 72s 648ms/step - loss: 1.3175 - accuracy: 0.5878"
          ]
        },
        {
          "name": "stderr",
          "output_type": "stream",
          "text": [
            "2021-10-15 21:08:17.845769: W tensorflow/core/lib/png/png_io.cc:88] PNG warning: iCCP: known incorrect sRGB profile\n"
          ]
        },
        {
          "name": "stdout",
          "output_type": "stream",
          "text": [
            "\b\b\b\b\b\b\b\b\b\b\b\b\b\b\b\b\b\b\b\b\b\b\b\b\b\b\b\b\b\b\b\b\b\b\b\b\b\b\b\b\b\b\b\b\b\b\b\b\b\b\b\b\b\b\b\b\b\b\b\b\b\b\b\b\b\b\r",
            "    112/Unknown - 73s 647ms/step - loss: 1.3156 - accuracy: 0.5893"
          ]
        },
        {
          "name": "stderr",
          "output_type": "stream",
          "text": [
            "2021-10-15 21:08:18.511939: W tensorflow/core/lib/png/png_io.cc:88] PNG warning: iCCP: known incorrect sRGB profile\n"
          ]
        },
        {
          "name": "stdout",
          "output_type": "stream",
          "text": [
            "    119/Unknown - 77s 647ms/step - loss: 1.3030 - accuracy: 0.6029"
          ]
        },
        {
          "name": "stderr",
          "output_type": "stream",
          "text": [
            "2021-10-15 21:08:22.988905: W tensorflow/core/lib/png/png_io.cc:88] PNG warning: iCCP: known incorrect sRGB profile\n"
          ]
        },
        {
          "name": "stdout",
          "output_type": "stream",
          "text": [
            "\b\b\b\b\b\b\b\b\b\b\b\b\b\b\b\b\b\b\b\b\b\b\b\b\b\b\b\b\b\b\b\b\b\b\b\b\b\b\b\b\b\b\b\b\b\b\b\b\b\b\b\b\b\b\b\b\b\b\b\b\b\b\b\b\b\b\r",
            "    120/Unknown - 78s 647ms/step - loss: 1.3026 - accuracy: 0.6031"
          ]
        },
        {
          "name": "stderr",
          "output_type": "stream",
          "text": [
            "2021-10-15 21:08:23.646694: W tensorflow/core/lib/png/png_io.cc:88] PNG warning: iCCP: known incorrect sRGB profile\n"
          ]
        },
        {
          "name": "stdout",
          "output_type": "stream",
          "text": [
            "    122/Unknown - 79s 646ms/step - loss: 1.2991 - accuracy: 0.6055"
          ]
        },
        {
          "name": "stderr",
          "output_type": "stream",
          "text": [
            "2021-10-15 21:08:24.801256: W tensorflow/core/lib/png/png_io.cc:88] PNG warning: iCCP: known incorrect sRGB profile\n",
            "2021-10-15 21:08:24.801444: W tensorflow/core/lib/png/png_io.cc:88] PNG warning: iCCP: cHRM chunk does not match sRGB\n"
          ]
        },
        {
          "name": "stdout",
          "output_type": "stream",
          "text": [
            "    133/Unknown - 86s 643ms/step - loss: 1.2828 - accuracy: 0.6212"
          ]
        },
        {
          "name": "stderr",
          "output_type": "stream",
          "text": [
            "2021-10-15 21:08:31.626517: W tensorflow/core/lib/png/png_io.cc:88] PNG warning: iCCP: known incorrect sRGB profile\n"
          ]
        },
        {
          "name": "stdout",
          "output_type": "stream",
          "text": [
            "    146/Unknown - 93s 640ms/step - loss: 1.2648 - accuracy: 0.6421"
          ]
        },
        {
          "name": "stderr",
          "output_type": "stream",
          "text": [
            "2021-10-15 21:08:39.458275: W tensorflow/core/lib/png/png_io.cc:88] PNG warning: iCCP: known incorrect sRGB profile\n",
            "2021-10-15 21:08:39.458319: W tensorflow/core/lib/png/png_io.cc:88] PNG warning: iCCP: cHRM chunk does not match sRGB\n"
          ]
        },
        {
          "name": "stdout",
          "output_type": "stream",
          "text": [
            "    149/Unknown - 95s 639ms/step - loss: 1.2602 - accuracy: 0.6460"
          ]
        },
        {
          "name": "stderr",
          "output_type": "stream",
          "text": [
            "2021-10-15 21:08:41.169443: W tensorflow/core/lib/png/png_io.cc:88] PNG warning: iCCP: known incorrect sRGB profile\n"
          ]
        },
        {
          "name": "stdout",
          "output_type": "stream",
          "text": [
            "    151/Unknown - 96s 639ms/step - loss: 1.2589 - accuracy: 0.6474"
          ]
        },
        {
          "name": "stderr",
          "output_type": "stream",
          "text": [
            "2021-10-15 21:08:42.470836: W tensorflow/core/lib/png/png_io.cc:88] PNG warning: iCCP: known incorrect sRGB profile\n"
          ]
        },
        {
          "name": "stdout",
          "output_type": "stream",
          "text": [
            "    167/Unknown - 106s 635ms/step - loss: 1.2332 - accuracy: 0.6737"
          ]
        },
        {
          "name": "stderr",
          "output_type": "stream",
          "text": [
            "2021-10-15 21:08:52.027149: W tensorflow/core/lib/png/png_io.cc:88] PNG warning: iCCP: known incorrect sRGB profile\n"
          ]
        },
        {
          "name": "stdout",
          "output_type": "stream",
          "text": [
            "    169/Unknown - 107s 635ms/step - loss: 1.2301 - accuracy: 0.6768"
          ]
        },
        {
          "name": "stderr",
          "output_type": "stream",
          "text": [
            "2021-10-15 21:08:53.249674: W tensorflow/core/lib/png/png_io.cc:88] PNG warning: iCCP: known incorrect sRGB profile\n"
          ]
        },
        {
          "name": "stdout",
          "output_type": "stream",
          "text": [
            "    179/Unknown - 113s 633ms/step - loss: 1.2156 - accuracy: 0.6934"
          ]
        },
        {
          "name": "stderr",
          "output_type": "stream",
          "text": [
            "2021-10-15 21:08:59.449839: W tensorflow/core/lib/png/png_io.cc:88] PNG warning: iCCP: known incorrect sRGB profile\n"
          ]
        },
        {
          "name": "stdout",
          "output_type": "stream",
          "text": [
            "    202/Unknown - 127s 629ms/step - loss: 1.1983 - accuracy: 0.7084"
          ]
        },
        {
          "name": "stderr",
          "output_type": "stream",
          "text": [
            "2021-10-15 21:09:12.963770: W tensorflow/core/common_runtime/base_collective_executor.cc:216] BaseCollectiveExecutor::StartAbort Out of range: End of sequence\n",
            "\t [[{{node IteratorGetNext}}]]\n",
            "2021-10-15 21:09:13.712142: W tensorflow/core/lib/png/png_io.cc:88] PNG warning: iCCP: known incorrect sRGB profile\n",
            "2021-10-15 21:09:16.486865: W tensorflow/core/lib/png/png_io.cc:88] PNG warning: iCCP: known incorrect sRGB profile\n",
            "2021-10-15 21:09:17.939556: W tensorflow/core/lib/png/png_io.cc:88] PNG warning: iCCP: known incorrect sRGB profile\n",
            "2021-10-15 21:09:22.198364: W tensorflow/core/lib/png/png_io.cc:88] PNG warning: iCCP: known incorrect sRGB profile\n",
            "2021-10-15 21:09:27.218198: W tensorflow/core/lib/png/png_io.cc:88] PNG warning: iCCP: known incorrect sRGB profile\n",
            "2021-10-15 21:09:27.393570: W tensorflow/core/lib/png/png_io.cc:88] PNG warning: iCCP: known incorrect sRGB profile\n",
            "2021-10-15 21:09:33.469320: W tensorflow/core/lib/png/png_io.cc:88] PNG warning: iCCP: known incorrect sRGB profile\n",
            "2021-10-15 21:09:33.585942: W tensorflow/core/lib/png/png_io.cc:88] PNG warning: iCCP: known incorrect sRGB profile\n",
            "2021-10-15 21:09:34.857826: W tensorflow/core/lib/png/png_io.cc:88] PNG warning: iCCP: known incorrect sRGB profile\n",
            "2021-10-15 21:09:43.917732: W tensorflow/core/lib/png/png_io.cc:88] PNG warning: iCCP: too many profiles\n",
            "2021-10-15 21:09:48.560420: W tensorflow/core/lib/png/png_io.cc:88] PNG warning: iCCP: known incorrect sRGB profile\n"
          ]
        },
        {
          "name": "stdout",
          "output_type": "stream",
          "text": [
            "202/202 [==============================] - 169s 838ms/step - loss: 1.1983 - accuracy: 0.7084 - val_loss: 0.0000e+00 - val_accuracy: 0.0000e+00\n",
            "Epoch 2/200\n"
          ]
        },
        {
          "name": "stderr",
          "output_type": "stream",
          "text": [
            "2021-10-15 21:09:55.356419: W tensorflow/core/lib/png/png_io.cc:88] PNG warning: iCCP: known incorrect sRGB profile\n",
            "2021-10-15 21:09:55.356455: W tensorflow/core/lib/png/png_io.cc:88] PNG warning: iCCP: cHRM chunk does not match sRGB\n"
          ]
        },
        {
          "name": "stdout",
          "output_type": "stream",
          "text": [
            " 10/202 [>.............................] - ETA: 1:59 - loss: 0.9676 - accuracy: 0.9375"
          ]
        },
        {
          "name": "stderr",
          "output_type": "stream",
          "text": [
            "2021-10-15 21:10:01.662680: W tensorflow/core/lib/png/png_io.cc:88] PNG warning: iCCP: known incorrect sRGB profile\n"
          ]
        },
        {
          "name": "stdout",
          "output_type": "stream",
          "text": [
            " 16/202 [=>............................] - ETA: 1:55 - loss: 0.9792 - accuracy: 0.9297"
          ]
        },
        {
          "name": "stderr",
          "output_type": "stream",
          "text": [
            "2021-10-15 21:10:05.160673: W tensorflow/core/lib/png/png_io.cc:88] PNG warning: iCCP: known incorrect sRGB profile\n"
          ]
        },
        {
          "name": "stdout",
          "output_type": "stream",
          "text": [
            " 27/202 [===>..........................] - ETA: 1:47 - loss: 0.9678 - accuracy: 0.9444"
          ]
        },
        {
          "name": "stderr",
          "output_type": "stream",
          "text": [
            "2021-10-15 21:10:11.932550: W tensorflow/core/lib/png/png_io.cc:88] PNG warning: iCCP: known incorrect sRGB profile\n"
          ]
        },
        {
          "name": "stdout",
          "output_type": "stream",
          "text": [
            " 32/202 [===>..........................] - ETA: 1:44 - loss: 0.9748 - accuracy: 0.9375"
          ]
        },
        {
          "name": "stderr",
          "output_type": "stream",
          "text": [
            "2021-10-15 21:10:14.992161: W tensorflow/core/lib/png/png_io.cc:88] PNG warning: iCCP: known incorrect sRGB profile\n",
            "2021-10-15 21:10:14.992234: W tensorflow/core/lib/png/png_io.cc:88] PNG warning: iCCP: cHRM chunk does not match sRGB\n"
          ]
        },
        {
          "name": "stdout",
          "output_type": "stream",
          "text": [
            " 35/202 [====>.........................] - ETA: 1:42 - loss: 0.9790 - accuracy: 0.9321"
          ]
        },
        {
          "name": "stderr",
          "output_type": "stream",
          "text": [
            "2021-10-15 21:10:16.797060: W tensorflow/core/lib/png/png_io.cc:88] PNG warning: iCCP: known incorrect sRGB profile\n"
          ]
        },
        {
          "name": "stdout",
          "output_type": "stream",
          "text": [
            " 41/202 [=====>........................] - ETA: 1:38 - loss: 0.9765 - accuracy: 0.9329"
          ]
        },
        {
          "name": "stderr",
          "output_type": "stream",
          "text": [
            "2021-10-15 21:10:20.448186: W tensorflow/core/lib/png/png_io.cc:88] PNG warning: iCCP: known incorrect sRGB profile\n"
          ]
        },
        {
          "name": "stdout",
          "output_type": "stream",
          "text": [
            " 52/202 [======>.......................] - ETA: 1:32 - loss: 0.9708 - accuracy: 0.9423"
          ]
        },
        {
          "name": "stderr",
          "output_type": "stream",
          "text": [
            "2021-10-15 21:10:27.268415: W tensorflow/core/lib/png/png_io.cc:88] PNG warning: iCCP: known incorrect sRGB profile\n"
          ]
        },
        {
          "name": "stdout",
          "output_type": "stream",
          "text": [
            "\b\b\b\b\b\b\b\b\b\b\b\b\b\b\b\b\b\b\b\b\b\b\b\b\b\b\b\b\b\b\b\b\b\b\b\b\b\b\b\b\b\b\b\b\b\b\b\b\b\b\b\b\b\b\b\b\b\b\b\b\b\b\b\b\b\b\b\b\b\b\b\b\b\b\b\b\b\b\b\b\b\b\b\b\b\b\r",
            " 53/202 [======>.......................] - ETA: 1:31 - loss: 0.9704 - accuracy: 0.9434"
          ]
        },
        {
          "name": "stderr",
          "output_type": "stream",
          "text": [
            "2021-10-15 21:10:27.979944: W tensorflow/core/lib/png/png_io.cc:88] PNG warning: iCCP: known incorrect sRGB profile\n"
          ]
        },
        {
          "name": "stdout",
          "output_type": "stream",
          "text": [
            " 56/202 [=======>......................] - ETA: 1:29 - loss: 0.9684 - accuracy: 0.9442"
          ]
        },
        {
          "name": "stderr",
          "output_type": "stream",
          "text": [
            "2021-10-15 21:10:29.796555: W tensorflow/core/lib/png/png_io.cc:88] PNG warning: iCCP: known incorrect sRGB profile\n",
            "2021-10-15 21:10:29.807728: W tensorflow/core/lib/png/png_io.cc:88] PNG warning: bKGD: invalid\n"
          ]
        },
        {
          "name": "stdout",
          "output_type": "stream",
          "text": [
            " 68/202 [=========>....................] - ETA: 1:22 - loss: 0.9624 - accuracy: 0.9504"
          ]
        },
        {
          "name": "stderr",
          "output_type": "stream",
          "text": [
            "2021-10-15 21:10:37.261416: W tensorflow/core/lib/png/png_io.cc:88] PNG warning: iCCP: known incorrect sRGB profile\n"
          ]
        },
        {
          "name": "stdout",
          "output_type": "stream",
          "text": [
            "114/202 [===============>..............] - ETA: 54s - loss: 0.9619 - accuracy: 0.9496"
          ]
        },
        {
          "name": "stderr",
          "output_type": "stream",
          "text": [
            "2021-10-15 21:11:05.693299: W tensorflow/core/lib/png/png_io.cc:88] PNG warning: iCCP: known incorrect sRGB profile\n"
          ]
        },
        {
          "name": "stdout",
          "output_type": "stream",
          "text": [
            "117/202 [================>.............] - ETA: 52s - loss: 0.9670 - accuracy: 0.9444"
          ]
        },
        {
          "name": "stderr",
          "output_type": "stream",
          "text": [
            "2021-10-15 21:11:07.660125: W tensorflow/core/lib/png/png_io.cc:88] PNG warning: iCCP: known incorrect sRGB profile\n"
          ]
        },
        {
          "name": "stdout",
          "output_type": "stream",
          "text": [
            "\b\b\b\b\b\b\b\b\b\b\b\b\b\b\b\b\b\b\b\b\b\b\b\b\b\b\b\b\b\b\b\b\b\b\b\b\b\b\b\b\b\b\b\b\b\b\b\b\b\b\b\b\b\b\b\b\b\b\b\b\b\b\b\b\b\b\b\b\b\b\b\b\b\b\b\b\b\b\b\b\b\b\b\b\b\r",
            "118/202 [================>.............] - ETA: 51s - loss: 0.9679 - accuracy: 0.9439"
          ]
        },
        {
          "name": "stderr",
          "output_type": "stream",
          "text": [
            "2021-10-15 21:11:08.134717: W tensorflow/core/lib/png/png_io.cc:88] PNG warning: iCCP: known incorrect sRGB profile\n"
          ]
        },
        {
          "name": "stdout",
          "output_type": "stream",
          "text": [
            "125/202 [=================>............] - ETA: 47s - loss: 0.9728 - accuracy: 0.9390"
          ]
        },
        {
          "name": "stderr",
          "output_type": "stream",
          "text": [
            "2021-10-15 21:11:12.435563: W tensorflow/core/lib/png/png_io.cc:88] PNG warning: iCCP: known incorrect sRGB profile\n"
          ]
        },
        {
          "name": "stdout",
          "output_type": "stream",
          "text": [
            "128/202 [==================>...........] - ETA: 45s - loss: 0.9718 - accuracy: 0.9404"
          ]
        },
        {
          "name": "stderr",
          "output_type": "stream",
          "text": [
            "2021-10-15 21:11:14.295214: W tensorflow/core/lib/png/png_io.cc:88] PNG warning: iCCP: known incorrect sRGB profile\n",
            "2021-10-15 21:11:14.331718: W tensorflow/core/lib/png/png_io.cc:88] PNG warning: iCCP: known incorrect sRGB profile\n"
          ]
        },
        {
          "name": "stdout",
          "output_type": "stream",
          "text": [
            "145/202 [====================>.........] - ETA: 35s - loss: 0.9694 - accuracy: 0.9431"
          ]
        },
        {
          "name": "stderr",
          "output_type": "stream",
          "text": [
            "2021-10-15 21:11:24.657958: W tensorflow/core/lib/png/png_io.cc:88] PNG warning: iCCP: known incorrect sRGB profile\n"
          ]
        },
        {
          "name": "stdout",
          "output_type": "stream",
          "text": [
            "154/202 [=====================>........] - ETA: 29s - loss: 0.9689 - accuracy: 0.9432"
          ]
        },
        {
          "name": "stderr",
          "output_type": "stream",
          "text": [
            "2021-10-15 21:11:30.532863: W tensorflow/core/lib/png/png_io.cc:88] PNG warning: iCCP: known incorrect sRGB profile\n"
          ]
        },
        {
          "name": "stdout",
          "output_type": "stream",
          "text": [
            "\b\b\b\b\b\b\b\b\b\b\b\b\b\b\b\b\b\b\b\b\b\b\b\b\b\b\b\b\b\b\b\b\b\b\b\b\b\b\b\b\b\b\b\b\b\b\b\b\b\b\b\b\b\b\b\b\b\b\b\b\b\b\b\b\b\b\b\b\b\b\b\b\b\b\b\b\b\b\b\b\b\b\b\b\b\r",
            "155/202 [======================>.......] - ETA: 29s - loss: 0.9686 - accuracy: 0.9435"
          ]
        },
        {
          "name": "stderr",
          "output_type": "stream",
          "text": [
            "2021-10-15 21:11:31.002716: W tensorflow/core/lib/png/png_io.cc:88] PNG warning: iCCP: known incorrect sRGB profile\n"
          ]
        },
        {
          "name": "stdout",
          "output_type": "stream",
          "text": [
            "162/202 [=======================>......] - ETA: 24s - loss: 0.9696 - accuracy: 0.9421"
          ]
        },
        {
          "name": "stderr",
          "output_type": "stream",
          "text": [
            "2021-10-15 21:11:35.460172: W tensorflow/core/lib/png/png_io.cc:88] PNG warning: iCCP: known incorrect sRGB profile\n"
          ]
        },
        {
          "name": "stdout",
          "output_type": "stream",
          "text": [
            "171/202 [========================>.....] - ETA: 19s - loss: 0.9692 - accuracy: 0.9423"
          ]
        },
        {
          "name": "stderr",
          "output_type": "stream",
          "text": [
            "2021-10-15 21:11:41.478722: W tensorflow/core/lib/png/png_io.cc:88] PNG warning: iCCP: known incorrect sRGB profile\n"
          ]
        },
        {
          "name": "stdout",
          "output_type": "stream",
          "text": [
            "181/202 [=========================>....] - ETA: 13s - loss: 0.9712 - accuracy: 0.9406"
          ]
        },
        {
          "name": "stderr",
          "output_type": "stream",
          "text": [
            "2021-10-15 21:11:48.038703: W tensorflow/core/lib/png/png_io.cc:88] PNG warning: iCCP: known incorrect sRGB profile\n",
            "2021-10-15 21:11:48.038756: W tensorflow/core/lib/png/png_io.cc:88] PNG warning: iCCP: cHRM chunk does not match sRGB\n"
          ]
        },
        {
          "name": "stdout",
          "output_type": "stream",
          "text": [
            "196/202 [============================>.] - ETA: 3s - loss: 0.9752 - accuracy: 0.9349"
          ]
        },
        {
          "name": "stderr",
          "output_type": "stream",
          "text": [
            "2021-10-15 21:11:57.204170: W tensorflow/core/lib/png/png_io.cc:88] PNG warning: iCCP: known incorrect sRGB profile\n"
          ]
        },
        {
          "name": "stdout",
          "output_type": "stream",
          "text": [
            "201/202 [============================>.] - ETA: 0s - loss: 0.9795 - accuracy: 0.9303"
          ]
        },
        {
          "name": "stderr",
          "output_type": "stream",
          "text": [
            "2021-10-15 21:12:00.831749: W tensorflow/core/common_runtime/base_collective_executor.cc:216] BaseCollectiveExecutor::StartAbort Out of range: End of sequence\n",
            "\t [[{{node IteratorGetNext}}]]\n",
            "2021-10-15 21:12:01.452620: W tensorflow/core/lib/png/png_io.cc:88] PNG warning: iCCP: known incorrect sRGB profile\n",
            "2021-10-15 21:12:04.421013: W tensorflow/core/lib/png/png_io.cc:88] PNG warning: iCCP: known incorrect sRGB profile\n",
            "2021-10-15 21:12:05.977166: W tensorflow/core/lib/png/png_io.cc:88] PNG warning: iCCP: known incorrect sRGB profile\n",
            "2021-10-15 21:12:10.307845: W tensorflow/core/lib/png/png_io.cc:88] PNG warning: iCCP: known incorrect sRGB profile\n",
            "2021-10-15 21:12:15.484183: W tensorflow/core/lib/png/png_io.cc:88] PNG warning: iCCP: known incorrect sRGB profile\n",
            "2021-10-15 21:12:15.689180: W tensorflow/core/lib/png/png_io.cc:88] PNG warning: iCCP: known incorrect sRGB profile\n",
            "2021-10-15 21:12:22.303456: W tensorflow/core/lib/png/png_io.cc:88] PNG warning: iCCP: known incorrect sRGB profile\n",
            "2021-10-15 21:12:22.401678: W tensorflow/core/lib/png/png_io.cc:88] PNG warning: iCCP: known incorrect sRGB profile\n",
            "2021-10-15 21:12:23.625607: W tensorflow/core/lib/png/png_io.cc:88] PNG warning: iCCP: known incorrect sRGB profile\n",
            "2021-10-15 21:12:32.447929: W tensorflow/core/lib/png/png_io.cc:88] PNG warning: iCCP: too many profiles\n",
            "2021-10-15 21:12:36.610948: W tensorflow/core/lib/png/png_io.cc:88] PNG warning: iCCP: known incorrect sRGB profile\n"
          ]
        },
        {
          "name": "stdout",
          "output_type": "stream",
          "text": [
            "202/202 [==============================] - 167s 828ms/step - loss: 0.9795 - accuracy: 0.9300 - val_loss: 1.0239 - val_accuracy: 0.8788\n",
            "Epoch 3/200\n"
          ]
        },
        {
          "name": "stderr",
          "output_type": "stream",
          "text": [
            "2021-10-15 21:12:42.639351: W tensorflow/core/lib/png/png_io.cc:88] PNG warning: iCCP: known incorrect sRGB profile\n",
            "2021-10-15 21:12:42.715125: W tensorflow/core/lib/png/png_io.cc:88] PNG warning: iCCP: known incorrect sRGB profile\n"
          ]
        },
        {
          "name": "stdout",
          "output_type": "stream",
          "text": [
            "\r",
            "  1/202 [..............................] - ETA: 2:32 - loss: 0.9509 - accuracy: 1.0000"
          ]
        },
        {
          "name": "stderr",
          "output_type": "stream",
          "text": [
            "2021-10-15 21:12:43.389342: W tensorflow/core/lib/png/png_io.cc:88] PNG warning: iCCP: known incorrect sRGB profile\n"
          ]
        },
        {
          "name": "stdout",
          "output_type": "stream",
          "text": [
            " 11/202 [>.............................] - ETA: 2:01 - loss: 0.9633 - accuracy: 0.9432"
          ]
        },
        {
          "name": "stderr",
          "output_type": "stream",
          "text": [
            "2021-10-15 21:12:49.654752: W tensorflow/core/lib/png/png_io.cc:88] PNG warning: iCCP: known incorrect sRGB profile\n"
          ]
        },
        {
          "name": "stdout",
          "output_type": "stream",
          "text": [
            " 23/202 [==>...........................] - ETA: 1:51 - loss: 0.9533 - accuracy: 0.9620"
          ]
        },
        {
          "name": "stderr",
          "output_type": "stream",
          "text": [
            "2021-10-15 21:12:57.141159: W tensorflow/core/lib/png/png_io.cc:88] PNG warning: iCCP: known incorrect sRGB profile\n"
          ]
        },
        {
          "name": "stdout",
          "output_type": "stream",
          "text": [
            " 25/202 [==>...........................] - ETA: 1:50 - loss: 0.9565 - accuracy: 0.9600"
          ]
        },
        {
          "name": "stderr",
          "output_type": "stream",
          "text": [
            "2021-10-15 21:12:58.311509: W tensorflow/core/lib/png/png_io.cc:88] PNG warning: iCCP: known incorrect sRGB profile\n",
            "2021-10-15 21:12:58.311570: W tensorflow/core/lib/png/png_io.cc:88] PNG warning: iCCP: cHRM chunk does not match sRGB\n"
          ]
        },
        {
          "name": "stdout",
          "output_type": "stream",
          "text": [
            " 35/202 [====>.........................] - ETA: 1:43 - loss: 0.9484 - accuracy: 0.9679"
          ]
        },
        {
          "name": "stderr",
          "output_type": "stream",
          "text": [
            "2021-10-15 21:13:04.433400: W tensorflow/core/lib/png/png_io.cc:88] PNG warning: iCCP: known incorrect sRGB profile\n"
          ]
        },
        {
          "name": "stdout",
          "output_type": "stream",
          "text": [
            "\b\b\b\b\b\b\b\b\b\b\b\b\b\b\b\b\b\b\b\b\b\b\b\b\b\b\b\b\b\b\b\b\b\b\b\b\b\b\b\b\b\b\b\b\b\b\b\b\b\b\b\b\b\b\b\b\b\b\b\b\b\b\b\b\b\b\b\b\b\b\b\b\b\b\b\b\b\b\b\b\b\b\b\b\b\b\r",
            " 36/202 [====>.........................] - ETA: 1:43 - loss: 0.9473 - accuracy: 0.9688"
          ]
        },
        {
          "name": "stderr",
          "output_type": "stream",
          "text": [
            "2021-10-15 21:13:05.130263: W tensorflow/core/lib/png/png_io.cc:88] PNG warning: bKGD: invalid\n"
          ]
        },
        {
          "name": "stdout",
          "output_type": "stream",
          "text": [
            " 55/202 [=======>......................] - ETA: 1:31 - loss: 0.9539 - accuracy: 0.9568"
          ]
        },
        {
          "name": "stderr",
          "output_type": "stream",
          "text": [
            "2021-10-15 21:13:16.706765: W tensorflow/core/lib/png/png_io.cc:88] PNG warning: iCCP: known incorrect sRGB profile\n"
          ]
        },
        {
          "name": "stdout",
          "output_type": "stream",
          "text": [
            "\b\b\b\b\b\b\b\b\b\b\b\b\b\b\b\b\b\b\b\b\b\b\b\b\b\b\b\b\b\b\b\b\b\b\b\b\b\b\b\b\b\b\b\b\b\b\b\b\b\b\b\b\b\b\b\b\b\b\b\b\b\b\b\b\b\b\b\b\b\b\b\b\b\b\b\b\b\b\b\b\b\b\b\b\b\b\r",
            " 56/202 [=======>......................] - ETA: 1:30 - loss: 0.9564 - accuracy: 0.9554"
          ]
        },
        {
          "name": "stderr",
          "output_type": "stream",
          "text": [
            "2021-10-15 21:13:17.474822: W tensorflow/core/lib/png/png_io.cc:88] PNG warning: iCCP: known incorrect sRGB profile\n",
            "2021-10-15 21:13:17.475119: W tensorflow/core/lib/png/png_io.cc:88] PNG warning: iCCP: cHRM chunk does not match sRGB\n"
          ]
        },
        {
          "name": "stdout",
          "output_type": "stream",
          "text": [
            "102/202 [==============>...............] - ETA: 1:01 - loss: 0.9538 - accuracy: 0.9547"
          ]
        },
        {
          "name": "stderr",
          "output_type": "stream",
          "text": [
            "2021-10-15 21:13:45.483368: W tensorflow/core/lib/png/png_io.cc:88] PNG warning: iCCP: known incorrect sRGB profile\n"
          ]
        },
        {
          "name": "stdout",
          "output_type": "stream",
          "text": [
            "105/202 [==============>...............] - ETA: 59s - loss: 0.9538 - accuracy: 0.9548 "
          ]
        },
        {
          "name": "stderr",
          "output_type": "stream",
          "text": [
            "2021-10-15 21:13:47.268666: W tensorflow/core/lib/png/png_io.cc:88] PNG warning: iCCP: known incorrect sRGB profile\n"
          ]
        },
        {
          "name": "stdout",
          "output_type": "stream",
          "text": [
            "115/202 [================>.............] - ETA: 53s - loss: 0.9525 - accuracy: 0.9565"
          ]
        },
        {
          "name": "stderr",
          "output_type": "stream",
          "text": [
            "2021-10-15 21:13:53.704440: W tensorflow/core/lib/png/png_io.cc:88] PNG warning: iCCP: known incorrect sRGB profile\n"
          ]
        },
        {
          "name": "stdout",
          "output_type": "stream",
          "text": [
            "120/202 [================>.............] - ETA: 50s - loss: 0.9539 - accuracy: 0.9552"
          ]
        },
        {
          "name": "stderr",
          "output_type": "stream",
          "text": [
            "2021-10-15 21:13:56.779549: W tensorflow/core/lib/png/png_io.cc:88] PNG warning: iCCP: known incorrect sRGB profile\n"
          ]
        },
        {
          "name": "stdout",
          "output_type": "stream",
          "text": [
            "125/202 [=================>............] - ETA: 47s - loss: 0.9533 - accuracy: 0.9560"
          ]
        },
        {
          "name": "stderr",
          "output_type": "stream",
          "text": [
            "2021-10-15 21:13:59.746170: W tensorflow/core/lib/png/png_io.cc:88] PNG warning: iCCP: known incorrect sRGB profile\n"
          ]
        },
        {
          "name": "stdout",
          "output_type": "stream",
          "text": [
            "127/202 [=================>............] - ETA: 46s - loss: 0.9526 - accuracy: 0.9567"
          ]
        },
        {
          "name": "stderr",
          "output_type": "stream",
          "text": [
            "2021-10-15 21:14:00.957244: W tensorflow/core/lib/png/png_io.cc:88] PNG warning: iCCP: known incorrect sRGB profile\n",
            "2021-10-15 21:14:00.957311: W tensorflow/core/lib/png/png_io.cc:88] PNG warning: iCCP: cHRM chunk does not match sRGB\n"
          ]
        },
        {
          "name": "stdout",
          "output_type": "stream",
          "text": [
            "137/202 [===================>..........] - ETA: 40s - loss: 0.9506 - accuracy: 0.9580"
          ]
        },
        {
          "name": "stderr",
          "output_type": "stream",
          "text": [
            "2021-10-15 21:14:07.264609: W tensorflow/core/lib/png/png_io.cc:88] PNG warning: iCCP: known incorrect sRGB profile\n"
          ]
        },
        {
          "name": "stdout",
          "output_type": "stream",
          "text": [
            "139/202 [===================>..........] - ETA: 38s - loss: 0.9499 - accuracy: 0.9586"
          ]
        },
        {
          "name": "stderr",
          "output_type": "stream",
          "text": [
            "2021-10-15 21:14:08.497143: W tensorflow/core/lib/png/png_io.cc:88] PNG warning: iCCP: known incorrect sRGB profile\n"
          ]
        },
        {
          "name": "stdout",
          "output_type": "stream",
          "text": [
            "147/202 [====================>.........] - ETA: 33s - loss: 0.9555 - accuracy: 0.9524"
          ]
        },
        {
          "name": "stderr",
          "output_type": "stream",
          "text": [
            "2021-10-15 21:14:13.261445: W tensorflow/core/lib/png/png_io.cc:88] PNG warning: iCCP: known incorrect sRGB profile\n"
          ]
        },
        {
          "name": "stdout",
          "output_type": "stream",
          "text": [
            "149/202 [=====================>........] - ETA: 32s - loss: 0.9565 - accuracy: 0.9513"
          ]
        },
        {
          "name": "stderr",
          "output_type": "stream",
          "text": [
            "2021-10-15 21:14:14.640389: W tensorflow/core/lib/png/png_io.cc:88] PNG warning: iCCP: known incorrect sRGB profile\n"
          ]
        },
        {
          "name": "stdout",
          "output_type": "stream",
          "text": [
            "156/202 [======================>.......] - ETA: 28s - loss: 0.9568 - accuracy: 0.9511"
          ]
        },
        {
          "name": "stderr",
          "output_type": "stream",
          "text": [
            "2021-10-15 21:14:18.924485: W tensorflow/core/lib/png/png_io.cc:88] PNG warning: iCCP: known incorrect sRGB profile\n"
          ]
        },
        {
          "name": "stdout",
          "output_type": "stream",
          "text": [
            "160/202 [======================>.......] - ETA: 25s - loss: 0.9575 - accuracy: 0.9508"
          ]
        },
        {
          "name": "stderr",
          "output_type": "stream",
          "text": [
            "2021-10-15 21:14:21.424912: W tensorflow/core/lib/png/png_io.cc:88] PNG warning: iCCP: known incorrect sRGB profile\n"
          ]
        },
        {
          "name": "stdout",
          "output_type": "stream",
          "text": [
            "164/202 [=======================>......] - ETA: 23s - loss: 0.9576 - accuracy: 0.9505"
          ]
        },
        {
          "name": "stderr",
          "output_type": "stream",
          "text": [
            "2021-10-15 21:14:23.809581: W tensorflow/core/lib/png/png_io.cc:88] PNG warning: iCCP: known incorrect sRGB profile\n"
          ]
        },
        {
          "name": "stdout",
          "output_type": "stream",
          "text": [
            "166/202 [=======================>......] - ETA: 22s - loss: 0.9577 - accuracy: 0.9503"
          ]
        },
        {
          "name": "stderr",
          "output_type": "stream",
          "text": [
            "2021-10-15 21:14:25.079788: W tensorflow/core/lib/png/png_io.cc:88] PNG warning: iCCP: known incorrect sRGB profile\n"
          ]
        },
        {
          "name": "stdout",
          "output_type": "stream",
          "text": [
            "189/202 [===========================>..] - ETA: 8s - loss: 0.9586 - accuracy: 0.9497"
          ]
        },
        {
          "name": "stderr",
          "output_type": "stream",
          "text": [
            "2021-10-15 21:14:39.337590: W tensorflow/core/lib/png/png_io.cc:88] PNG warning: iCCP: known incorrect sRGB profile\n"
          ]
        },
        {
          "name": "stdout",
          "output_type": "stream",
          "text": [
            "201/202 [============================>.] - ETA: 0s - loss: 0.9599 - accuracy: 0.9478"
          ]
        },
        {
          "name": "stderr",
          "output_type": "stream",
          "text": [
            "2021-10-15 21:14:47.370806: W tensorflow/core/common_runtime/base_collective_executor.cc:216] BaseCollectiveExecutor::StartAbort Out of range: End of sequence\n",
            "\t [[{{node IteratorGetNext}}]]\n",
            "2021-10-15 21:14:47.980439: W tensorflow/core/lib/png/png_io.cc:88] PNG warning: iCCP: known incorrect sRGB profile\n",
            "2021-10-15 21:14:50.892362: W tensorflow/core/lib/png/png_io.cc:88] PNG warning: iCCP: known incorrect sRGB profile\n",
            "2021-10-15 21:14:52.416908: W tensorflow/core/lib/png/png_io.cc:88] PNG warning: iCCP: known incorrect sRGB profile\n",
            "2021-10-15 21:14:56.907556: W tensorflow/core/lib/png/png_io.cc:88] PNG warning: iCCP: known incorrect sRGB profile\n",
            "2021-10-15 21:15:02.149394: W tensorflow/core/lib/png/png_io.cc:88] PNG warning: iCCP: known incorrect sRGB profile\n",
            "2021-10-15 21:15:02.356116: W tensorflow/core/lib/png/png_io.cc:88] PNG warning: iCCP: known incorrect sRGB profile\n",
            "2021-10-15 21:15:09.076312: W tensorflow/core/lib/png/png_io.cc:88] PNG warning: iCCP: known incorrect sRGB profile\n",
            "2021-10-15 21:15:09.178879: W tensorflow/core/lib/png/png_io.cc:88] PNG warning: iCCP: known incorrect sRGB profile\n",
            "2021-10-15 21:15:10.346371: W tensorflow/core/lib/png/png_io.cc:88] PNG warning: iCCP: known incorrect sRGB profile\n",
            "2021-10-15 21:15:19.194554: W tensorflow/core/lib/png/png_io.cc:88] PNG warning: iCCP: too many profiles\n",
            "2021-10-15 21:15:24.024854: W tensorflow/core/lib/png/png_io.cc:88] PNG warning: iCCP: known incorrect sRGB profile\n"
          ]
        },
        {
          "name": "stdout",
          "output_type": "stream",
          "text": [
            "202/202 [==============================] - 167s 827ms/step - loss: 0.9599 - accuracy: 0.9480 - val_loss: 1.0064 - val_accuracy: 0.8975\n",
            "Epoch 4/200\n",
            "  9/202 [>.............................] - ETA: 2:06 - loss: 1.0890 - accuracy: 0.8194"
          ]
        },
        {
          "name": "stderr",
          "output_type": "stream",
          "text": [
            "2021-10-15 21:15:35.588117: W tensorflow/core/lib/png/png_io.cc:88] PNG warning: iCCP: known incorrect sRGB profile\n"
          ]
        },
        {
          "name": "stdout",
          "output_type": "stream",
          "text": [
            " 27/202 [===>..........................] - ETA: 1:54 - loss: 1.0070 - accuracy: 0.8935"
          ]
        },
        {
          "name": "stderr",
          "output_type": "stream",
          "text": [
            "2021-10-15 21:15:47.392890: W tensorflow/core/lib/png/png_io.cc:88] PNG warning: bKGD: invalid\n"
          ]
        },
        {
          "name": "stdout",
          "output_type": "stream",
          "text": [
            " 32/202 [===>..........................] - ETA: 1:50 - loss: 0.9945 - accuracy: 0.9062"
          ]
        },
        {
          "name": "stderr",
          "output_type": "stream",
          "text": [
            "2021-10-15 21:15:50.478437: W tensorflow/core/lib/png/png_io.cc:88] PNG warning: iCCP: known incorrect sRGB profile\n"
          ]
        },
        {
          "name": "stdout",
          "output_type": "stream",
          "text": [
            " 40/202 [====>.........................] - ETA: 1:47 - loss: 0.9812 - accuracy: 0.9219"
          ]
        },
        {
          "name": "stderr",
          "output_type": "stream",
          "text": [
            "2021-10-15 21:15:56.540604: W tensorflow/core/lib/png/png_io.cc:88] PNG warning: iCCP: known incorrect sRGB profile\n"
          ]
        },
        {
          "name": "stdout",
          "output_type": "stream",
          "text": [
            " 50/202 [======>.......................] - ETA: 1:40 - loss: 0.9719 - accuracy: 0.9325"
          ]
        },
        {
          "name": "stderr",
          "output_type": "stream",
          "text": [
            "2021-10-15 21:16:02.634725: W tensorflow/core/lib/png/png_io.cc:88] PNG warning: iCCP: known incorrect sRGB profile\n"
          ]
        },
        {
          "name": "stdout",
          "output_type": "stream",
          "text": [
            " 53/202 [======>.......................] - ETA: 1:37 - loss: 0.9682 - accuracy: 0.9363"
          ]
        },
        {
          "name": "stderr",
          "output_type": "stream",
          "text": [
            "2021-10-15 21:16:04.606516: W tensorflow/core/lib/png/png_io.cc:88] PNG warning: iCCP: known incorrect sRGB profile\n"
          ]
        },
        {
          "name": "stdout",
          "output_type": "stream",
          "text": [
            " 59/202 [=======>......................] - ETA: 1:34 - loss: 0.9632 - accuracy: 0.9428"
          ]
        },
        {
          "name": "stderr",
          "output_type": "stream",
          "text": [
            "2021-10-15 21:16:08.444855: W tensorflow/core/lib/png/png_io.cc:88] PNG warning: iCCP: known incorrect sRGB profile\n"
          ]
        },
        {
          "name": "stdout",
          "output_type": "stream",
          "text": [
            " 71/202 [=========>....................] - ETA: 1:26 - loss: 0.9604 - accuracy: 0.9437"
          ]
        },
        {
          "name": "stderr",
          "output_type": "stream",
          "text": [
            "2021-10-15 21:16:16.299399: W tensorflow/core/lib/png/png_io.cc:88] PNG warning: iCCP: known incorrect sRGB profile\n",
            "2021-10-15 21:16:16.299452: W tensorflow/core/lib/png/png_io.cc:88] PNG warning: iCCP: cHRM chunk does not match sRGB\n"
          ]
        },
        {
          "name": "stdout",
          "output_type": "stream",
          "text": [
            "\b\b\b\b\b\b\b\b\b\b\b\b\b\b\b\b\b\b\b\b\b\b\b\b\b\b\b\b\b\b\b\b\b\b\b\b\b\b\b\b\b\b\b\b\b\b\b\b\b\b\b\b\b\b\b\b\b\b\b\b\b\b\b\b\b\b\b\b\b\b\b\b\b\b\b\b\b\b\b\b\b\b\b\b\b\b\r",
            " 72/202 [=========>....................] - ETA: 1:25 - loss: 0.9604 - accuracy: 0.9427"
          ]
        },
        {
          "name": "stderr",
          "output_type": "stream",
          "text": [
            "2021-10-15 21:16:16.973119: W tensorflow/core/lib/png/png_io.cc:88] PNG warning: iCCP: known incorrect sRGB profile\n"
          ]
        },
        {
          "name": "stdout",
          "output_type": "stream",
          "text": [
            " 83/202 [===========>..................] - ETA: 1:17 - loss: 0.9603 - accuracy: 0.9443"
          ]
        },
        {
          "name": "stderr",
          "output_type": "stream",
          "text": [
            "2021-10-15 21:16:23.902851: W tensorflow/core/lib/png/png_io.cc:88] PNG warning: iCCP: known incorrect sRGB profile\n"
          ]
        },
        {
          "name": "stdout",
          "output_type": "stream",
          "text": [
            " 85/202 [===========>..................] - ETA: 1:16 - loss: 0.9612 - accuracy: 0.9441"
          ]
        },
        {
          "name": "stderr",
          "output_type": "stream",
          "text": [
            "2021-10-15 21:16:25.160420: W tensorflow/core/lib/png/png_io.cc:88] PNG warning: iCCP: known incorrect sRGB profile\n"
          ]
        },
        {
          "name": "stdout",
          "output_type": "stream",
          "text": [
            " 87/202 [===========>..................] - ETA: 1:15 - loss: 0.9602 - accuracy: 0.9454"
          ]
        },
        {
          "name": "stderr",
          "output_type": "stream",
          "text": [
            "2021-10-15 21:16:26.429054: W tensorflow/core/lib/png/png_io.cc:88] PNG warning: iCCP: known incorrect sRGB profile\n"
          ]
        },
        {
          "name": "stdout",
          "output_type": "stream",
          "text": [
            " 92/202 [============>.................] - ETA: 1:11 - loss: 0.9580 - accuracy: 0.9484"
          ]
        },
        {
          "name": "stderr",
          "output_type": "stream",
          "text": [
            "2021-10-15 21:16:29.557445: W tensorflow/core/lib/png/png_io.cc:88] PNG warning: iCCP: known incorrect sRGB profile\n"
          ]
        },
        {
          "name": "stdout",
          "output_type": "stream",
          "text": [
            " 95/202 [=============>................] - ETA: 1:09 - loss: 0.9568 - accuracy: 0.9500"
          ]
        },
        {
          "name": "stderr",
          "output_type": "stream",
          "text": [
            "2021-10-15 21:16:31.410578: W tensorflow/core/lib/png/png_io.cc:88] PNG warning: iCCP: known incorrect sRGB profile\n"
          ]
        },
        {
          "name": "stdout",
          "output_type": "stream",
          "text": [
            "106/202 [==============>...............] - ETA: 1:02 - loss: 0.9557 - accuracy: 0.9493"
          ]
        },
        {
          "name": "stderr",
          "output_type": "stream",
          "text": [
            "2021-10-15 21:16:38.406156: W tensorflow/core/lib/png/png_io.cc:88] PNG warning: iCCP: known incorrect sRGB profile\n"
          ]
        },
        {
          "name": "stdout",
          "output_type": "stream",
          "text": [
            "108/202 [===============>..............] - ETA: 1:00 - loss: 0.9562 - accuracy: 0.9491"
          ]
        },
        {
          "name": "stderr",
          "output_type": "stream",
          "text": [
            "2021-10-15 21:16:39.623678: W tensorflow/core/lib/png/png_io.cc:88] PNG warning: iCCP: known incorrect sRGB profile\n"
          ]
        },
        {
          "name": "stdout",
          "output_type": "stream",
          "text": [
            "\b\b\b\b\b\b\b\b\b\b\b\b\b\b\b\b\b\b\b\b\b\b\b\b\b\b\b\b\b\b\b\b\b\b\b\b\b\b\b\b\b\b\b\b\b\b\b\b\b\b\b\b\b\b\b\b\b\b\b\b\b\b\b\b\b\b\b\b\b\b\b\b\b\b\b\b\b\b\b\b\b\b\b\b\b\b\r",
            "109/202 [===============>..............] - ETA: 1:00 - loss: 0.9562 - accuracy: 0.9495"
          ]
        },
        {
          "name": "stderr",
          "output_type": "stream",
          "text": [
            "2021-10-15 21:16:40.428748: W tensorflow/core/lib/png/png_io.cc:88] PNG warning: iCCP: known incorrect sRGB profile\n"
          ]
        },
        {
          "name": "stdout",
          "output_type": "stream",
          "text": [
            "119/202 [================>.............] - ETA: 53s - loss: 0.9551 - accuracy: 0.9506"
          ]
        },
        {
          "name": "stderr",
          "output_type": "stream",
          "text": [
            "2021-10-15 21:16:46.593839: W tensorflow/core/lib/png/png_io.cc:88] PNG warning: iCCP: known incorrect sRGB profile\n",
            "2021-10-15 21:16:46.593929: W tensorflow/core/lib/png/png_io.cc:88] PNG warning: iCCP: cHRM chunk does not match sRGB\n"
          ]
        },
        {
          "name": "stdout",
          "output_type": "stream",
          "text": [
            "126/202 [=================>............] - ETA: 49s - loss: 0.9535 - accuracy: 0.9524"
          ]
        },
        {
          "name": "stderr",
          "output_type": "stream",
          "text": [
            "2021-10-15 21:16:50.942928: W tensorflow/core/lib/png/png_io.cc:88] PNG warning: iCCP: known incorrect sRGB profile\n"
          ]
        },
        {
          "name": "stdout",
          "output_type": "stream",
          "text": [
            "134/202 [==================>...........] - ETA: 43s - loss: 0.9554 - accuracy: 0.9506"
          ]
        },
        {
          "name": "stderr",
          "output_type": "stream",
          "text": [
            "2021-10-15 21:16:56.059993: W tensorflow/core/lib/png/png_io.cc:88] PNG warning: iCCP: known incorrect sRGB profile\n"
          ]
        },
        {
          "name": "stdout",
          "output_type": "stream",
          "text": [
            "145/202 [====================>.........] - ETA: 36s - loss: 0.9538 - accuracy: 0.9526"
          ]
        },
        {
          "name": "stderr",
          "output_type": "stream",
          "text": [
            "2021-10-15 21:17:02.837220: W tensorflow/core/lib/png/png_io.cc:88] PNG warning: iCCP: known incorrect sRGB profile\n"
          ]
        },
        {
          "name": "stdout",
          "output_type": "stream",
          "text": [
            "162/202 [=======================>......] - ETA: 25s - loss: 0.9505 - accuracy: 0.9560"
          ]
        },
        {
          "name": "stderr",
          "output_type": "stream",
          "text": [
            "2021-10-15 21:17:13.258550: W tensorflow/core/lib/png/png_io.cc:88] PNG warning: iCCP: known incorrect sRGB profile\n",
            "2021-10-15 21:17:13.258608: W tensorflow/core/lib/png/png_io.cc:88] PNG warning: iCCP: cHRM chunk does not match sRGB\n"
          ]
        },
        {
          "name": "stdout",
          "output_type": "stream",
          "text": [
            "167/202 [=======================>......] - ETA: 22s - loss: 0.9492 - accuracy: 0.9573"
          ]
        },
        {
          "name": "stderr",
          "output_type": "stream",
          "text": [
            "2021-10-15 21:17:16.327174: W tensorflow/core/lib/png/png_io.cc:88] PNG warning: iCCP: known incorrect sRGB profile\n"
          ]
        },
        {
          "name": "stdout",
          "output_type": "stream",
          "text": [
            "184/202 [==========================>...] - ETA: 11s - loss: 0.9473 - accuracy: 0.9592"
          ]
        },
        {
          "name": "stderr",
          "output_type": "stream",
          "text": [
            "2021-10-15 21:17:27.026710: W tensorflow/core/lib/png/png_io.cc:88] PNG warning: iCCP: known incorrect sRGB profile\n"
          ]
        },
        {
          "name": "stdout",
          "output_type": "stream",
          "text": [
            "199/202 [============================>.] - ETA: 1s - loss: 0.9473 - accuracy: 0.9598"
          ]
        },
        {
          "name": "stderr",
          "output_type": "stream",
          "text": [
            "2021-10-15 21:17:36.204583: W tensorflow/core/lib/png/png_io.cc:88] PNG warning: iCCP: known incorrect sRGB profile\n"
          ]
        },
        {
          "name": "stdout",
          "output_type": "stream",
          "text": [
            "201/202 [============================>.] - ETA: 0s - loss: 0.9468 - accuracy: 0.9602"
          ]
        },
        {
          "name": "stderr",
          "output_type": "stream",
          "text": [
            "2021-10-15 21:17:37.871102: W tensorflow/core/common_runtime/base_collective_executor.cc:216] BaseCollectiveExecutor::StartAbort Out of range: End of sequence\n",
            "\t [[{{node IteratorGetNext}}]]\n",
            "2021-10-15 21:17:38.509838: W tensorflow/core/lib/png/png_io.cc:88] PNG warning: iCCP: known incorrect sRGB profile\n",
            "2021-10-15 21:17:41.414517: W tensorflow/core/lib/png/png_io.cc:88] PNG warning: iCCP: known incorrect sRGB profile\n",
            "2021-10-15 21:17:42.904717: W tensorflow/core/lib/png/png_io.cc:88] PNG warning: iCCP: known incorrect sRGB profile\n",
            "2021-10-15 21:17:47.300513: W tensorflow/core/lib/png/png_io.cc:88] PNG warning: iCCP: known incorrect sRGB profile\n",
            "2021-10-15 21:17:52.663411: W tensorflow/core/lib/png/png_io.cc:88] PNG warning: iCCP: known incorrect sRGB profile\n",
            "2021-10-15 21:17:52.858772: W tensorflow/core/lib/png/png_io.cc:88] PNG warning: iCCP: known incorrect sRGB profile\n",
            "2021-10-15 21:17:59.592752: W tensorflow/core/lib/png/png_io.cc:88] PNG warning: iCCP: known incorrect sRGB profile\n",
            "2021-10-15 21:17:59.695085: W tensorflow/core/lib/png/png_io.cc:88] PNG warning: iCCP: known incorrect sRGB profile\n",
            "2021-10-15 21:18:00.892673: W tensorflow/core/lib/png/png_io.cc:88] PNG warning: iCCP: known incorrect sRGB profile\n",
            "2021-10-15 21:18:09.731190: W tensorflow/core/lib/png/png_io.cc:88] PNG warning: iCCP: too many profiles\n",
            "2021-10-15 21:18:14.191097: W tensorflow/core/lib/png/png_io.cc:88] PNG warning: iCCP: known incorrect sRGB profile\n"
          ]
        },
        {
          "name": "stdout",
          "output_type": "stream",
          "text": [
            "202/202 [==============================] - 171s 849ms/step - loss: 0.9468 - accuracy: 0.9604 - val_loss: 0.9294 - val_accuracy: 0.9740\n",
            "Epoch 5/200\n",
            " 38/202 [====>.........................] - ETA: 1:44 - loss: 0.9291 - accuracy: 0.9770"
          ]
        },
        {
          "name": "stderr",
          "output_type": "stream",
          "text": [
            "2021-10-15 21:18:45.193704: W tensorflow/core/lib/png/png_io.cc:88] PNG warning: iCCP: known incorrect sRGB profile\n"
          ]
        },
        {
          "name": "stdout",
          "output_type": "stream",
          "text": [
            " 42/202 [=====>........................] - ETA: 1:41 - loss: 0.9268 - accuracy: 0.9792"
          ]
        },
        {
          "name": "stderr",
          "output_type": "stream",
          "text": [
            "2021-10-15 21:18:47.849702: W tensorflow/core/lib/png/png_io.cc:88] PNG warning: iCCP: known incorrect sRGB profile\n"
          ]
        },
        {
          "name": "stdout",
          "output_type": "stream",
          "text": [
            " 61/202 [========>.....................] - ETA: 1:29 - loss: 0.9284 - accuracy: 0.9775"
          ]
        },
        {
          "name": "stderr",
          "output_type": "stream",
          "text": [
            "2021-10-15 21:18:59.667992: W tensorflow/core/lib/png/png_io.cc:88] PNG warning: iCCP: known incorrect sRGB profile\n"
          ]
        },
        {
          "name": "stdout",
          "output_type": "stream",
          "text": [
            " 63/202 [========>.....................] - ETA: 1:28 - loss: 0.9277 - accuracy: 0.9782"
          ]
        },
        {
          "name": "stderr",
          "output_type": "stream",
          "text": [
            "2021-10-15 21:19:01.054736: W tensorflow/core/lib/png/png_io.cc:88] PNG warning: iCCP: known incorrect sRGB profile\n"
          ]
        },
        {
          "name": "stdout",
          "output_type": "stream",
          "text": [
            " 68/202 [=========>....................] - ETA: 1:24 - loss: 0.9292 - accuracy: 0.9761"
          ]
        },
        {
          "name": "stderr",
          "output_type": "stream",
          "text": [
            "2021-10-15 21:19:04.182448: W tensorflow/core/lib/png/png_io.cc:88] PNG warning: bKGD: invalid\n"
          ]
        },
        {
          "name": "stdout",
          "output_type": "stream",
          "text": [
            " 82/202 [===========>..................] - ETA: 1:15 - loss: 0.9319 - accuracy: 0.9726"
          ]
        },
        {
          "name": "stderr",
          "output_type": "stream",
          "text": [
            "2021-10-15 21:19:12.786520: W tensorflow/core/lib/png/png_io.cc:88] PNG warning: iCCP: known incorrect sRGB profile\n"
          ]
        },
        {
          "name": "stdout",
          "output_type": "stream",
          "text": [
            " 85/202 [===========>..................] - ETA: 1:13 - loss: 0.9332 - accuracy: 0.9721"
          ]
        },
        {
          "name": "stderr",
          "output_type": "stream",
          "text": [
            "2021-10-15 21:19:14.584407: W tensorflow/core/lib/png/png_io.cc:88] PNG warning: iCCP: known incorrect sRGB profile\n"
          ]
        },
        {
          "name": "stdout",
          "output_type": "stream",
          "text": [
            " 95/202 [=============>................] - ETA: 1:07 - loss: 0.9334 - accuracy: 0.9711"
          ]
        },
        {
          "name": "stderr",
          "output_type": "stream",
          "text": [
            "2021-10-15 21:19:20.910642: W tensorflow/core/lib/png/png_io.cc:88] PNG warning: iCCP: known incorrect sRGB profile\n",
            "2021-10-15 21:19:20.910674: W tensorflow/core/lib/png/png_io.cc:88] PNG warning: iCCP: cHRM chunk does not match sRGB\n"
          ]
        },
        {
          "name": "stdout",
          "output_type": "stream",
          "text": [
            " 97/202 [=============>................] - ETA: 1:05 - loss: 0.9341 - accuracy: 0.9704"
          ]
        },
        {
          "name": "stderr",
          "output_type": "stream",
          "text": [
            "2021-10-15 21:19:22.066992: W tensorflow/core/lib/png/png_io.cc:88] PNG warning: iCCP: known incorrect sRGB profile\n"
          ]
        },
        {
          "name": "stdout",
          "output_type": "stream",
          "text": [
            " 99/202 [=============>................] - ETA: 1:04 - loss: 0.9337 - accuracy: 0.9710"
          ]
        },
        {
          "name": "stderr",
          "output_type": "stream",
          "text": [
            "2021-10-15 21:19:23.403853: W tensorflow/core/lib/png/png_io.cc:88] PNG warning: iCCP: known incorrect sRGB profile\n"
          ]
        },
        {
          "name": "stdout",
          "output_type": "stream",
          "text": [
            "102/202 [==============>...............] - ETA: 1:02 - loss: 0.9339 - accuracy: 0.9706"
          ]
        },
        {
          "name": "stderr",
          "output_type": "stream",
          "text": [
            "2021-10-15 21:19:25.196744: W tensorflow/core/lib/png/png_io.cc:88] PNG warning: iCCP: known incorrect sRGB profile\n"
          ]
        },
        {
          "name": "stdout",
          "output_type": "stream",
          "text": [
            "119/202 [================>.............] - ETA: 51s - loss: 0.9337 - accuracy: 0.9706"
          ]
        },
        {
          "name": "stderr",
          "output_type": "stream",
          "text": [
            "2021-10-15 21:19:35.777800: W tensorflow/core/lib/png/png_io.cc:88] PNG warning: iCCP: known incorrect sRGB profile\n"
          ]
        },
        {
          "name": "stdout",
          "output_type": "stream",
          "text": [
            "125/202 [=================>............] - ETA: 48s - loss: 0.9352 - accuracy: 0.9690"
          ]
        },
        {
          "name": "stderr",
          "output_type": "stream",
          "text": [
            "2021-10-15 21:19:39.426698: W tensorflow/core/lib/png/png_io.cc:88] PNG warning: iCCP: known incorrect sRGB profile\n"
          ]
        },
        {
          "name": "stdout",
          "output_type": "stream",
          "text": [
            "130/202 [==================>...........] - ETA: 45s - loss: 0.9351 - accuracy: 0.9692"
          ]
        },
        {
          "name": "stderr",
          "output_type": "stream",
          "text": [
            "2021-10-15 21:19:42.518899: W tensorflow/core/lib/png/png_io.cc:88] PNG warning: iCCP: known incorrect sRGB profile\n",
            "2021-10-15 21:19:42.678448: W tensorflow/core/lib/png/png_io.cc:88] PNG warning: iCCP: known incorrect sRGB profile\n"
          ]
        },
        {
          "name": "stdout",
          "output_type": "stream",
          "text": [
            "133/202 [==================>...........] - ETA: 43s - loss: 0.9354 - accuracy: 0.9690"
          ]
        },
        {
          "name": "stderr",
          "output_type": "stream",
          "text": [
            "2021-10-15 21:19:44.359091: W tensorflow/core/lib/png/png_io.cc:88] PNG warning: iCCP: known incorrect sRGB profile\n",
            "2021-10-15 21:19:44.359155: W tensorflow/core/lib/png/png_io.cc:88] PNG warning: iCCP: cHRM chunk does not match sRGB\n"
          ]
        },
        {
          "name": "stdout",
          "output_type": "stream",
          "text": [
            "147/202 [====================>.........] - ETA: 34s - loss: 0.9336 - accuracy: 0.9711"
          ]
        },
        {
          "name": "stderr",
          "output_type": "stream",
          "text": [
            "2021-10-15 21:19:53.551190: W tensorflow/core/lib/png/png_io.cc:88] PNG warning: iCCP: known incorrect sRGB profile\n"
          ]
        },
        {
          "name": "stdout",
          "output_type": "stream",
          "text": [
            "162/202 [=======================>......] - ETA: 25s - loss: 0.9341 - accuracy: 0.9707"
          ]
        },
        {
          "name": "stderr",
          "output_type": "stream",
          "text": [
            "2021-10-15 21:20:02.793790: W tensorflow/core/lib/png/png_io.cc:88] PNG warning: iCCP: known incorrect sRGB profile\n"
          ]
        },
        {
          "name": "stdout",
          "output_type": "stream",
          "text": [
            "177/202 [=========================>....] - ETA: 15s - loss: 0.9347 - accuracy: 0.9703"
          ]
        },
        {
          "name": "stderr",
          "output_type": "stream",
          "text": [
            "2021-10-15 21:20:12.350847: W tensorflow/core/lib/png/png_io.cc:88] PNG warning: iCCP: known incorrect sRGB profile\n",
            "2021-10-15 21:20:12.350885: W tensorflow/core/lib/png/png_io.cc:88] PNG warning: iCCP: cHRM chunk does not match sRGB\n"
          ]
        },
        {
          "name": "stdout",
          "output_type": "stream",
          "text": [
            "187/202 [==========================>...] - ETA: 9s - loss: 0.9358 - accuracy: 0.9699 "
          ]
        },
        {
          "name": "stderr",
          "output_type": "stream",
          "text": [
            "2021-10-15 21:20:18.421782: W tensorflow/core/lib/png/png_io.cc:88] PNG warning: iCCP: known incorrect sRGB profile\n",
            "2021-10-15 21:20:18.458835: W tensorflow/core/lib/png/png_io.cc:88] PNG warning: iCCP: known incorrect sRGB profile\n"
          ]
        },
        {
          "name": "stdout",
          "output_type": "stream",
          "text": [
            "193/202 [===========================>..] - ETA: 5s - loss: 0.9350 - accuracy: 0.9709"
          ]
        },
        {
          "name": "stderr",
          "output_type": "stream",
          "text": [
            "2021-10-15 21:20:22.254794: W tensorflow/core/lib/png/png_io.cc:88] PNG warning: iCCP: known incorrect sRGB profile\n"
          ]
        },
        {
          "name": "stdout",
          "output_type": "stream",
          "text": [
            "\b\b\b\b\b\b\b\b\b\b\b\b\b\b\b\b\b\b\b\b\b\b\b\b\b\b\b\b\b\b\b\b\b\b\b\b\b\b\b\b\b\b\b\b\b\b\b\b\b\b\b\b\b\b\b\b\b\b\b\b\b\b\b\b\b\b\b\b\b\b\b\b\b\b\b\b\b\b\b\b\b\b\b\b\r",
            "194/202 [===========================>..] - ETA: 5s - loss: 0.9349 - accuracy: 0.9710"
          ]
        },
        {
          "name": "stderr",
          "output_type": "stream",
          "text": [
            "2021-10-15 21:20:22.846312: W tensorflow/core/lib/png/png_io.cc:88] PNG warning: iCCP: known incorrect sRGB profile\n"
          ]
        },
        {
          "name": "stdout",
          "output_type": "stream",
          "text": [
            "196/202 [============================>.] - ETA: 3s - loss: 0.9346 - accuracy: 0.9713"
          ]
        },
        {
          "name": "stderr",
          "output_type": "stream",
          "text": [
            "2021-10-15 21:20:24.160758: W tensorflow/core/lib/png/png_io.cc:88] PNG warning: iCCP: known incorrect sRGB profile\n"
          ]
        },
        {
          "name": "stdout",
          "output_type": "stream",
          "text": [
            "\b\b\b\b\b\b\b\b\b\b\b\b\b\b\b\b\b\b\b\b\b\b\b\b\b\b\b\b\b\b\b\b\b\b\b\b\b\b\b\b\b\b\b\b\b\b\b\b\b\b\b\b\b\b\b\b\b\b\b\b\b\b\b\b\b\b\b\b\b\b\b\b\b\b\b\b\b\b\b\b\b\b\b\b\r",
            "197/202 [============================>.] - ETA: 3s - loss: 0.9344 - accuracy: 0.9714"
          ]
        },
        {
          "name": "stderr",
          "output_type": "stream",
          "text": [
            "2021-10-15 21:20:24.669341: W tensorflow/core/lib/png/png_io.cc:88] PNG warning: iCCP: known incorrect sRGB profile\n"
          ]
        },
        {
          "name": "stdout",
          "output_type": "stream",
          "text": [
            "201/202 [============================>.] - ETA: 0s - loss: 0.9353 - accuracy: 0.9708"
          ]
        },
        {
          "name": "stderr",
          "output_type": "stream",
          "text": [
            "2021-10-15 21:20:27.631654: W tensorflow/core/common_runtime/base_collective_executor.cc:216] BaseCollectiveExecutor::StartAbort Out of range: End of sequence\n",
            "\t [[{{node IteratorGetNext}}]]\n",
            "2021-10-15 21:20:28.245582: W tensorflow/core/lib/png/png_io.cc:88] PNG warning: iCCP: known incorrect sRGB profile\n",
            "2021-10-15 21:20:31.184660: W tensorflow/core/lib/png/png_io.cc:88] PNG warning: iCCP: known incorrect sRGB profile\n",
            "2021-10-15 21:20:32.720240: W tensorflow/core/lib/png/png_io.cc:88] PNG warning: iCCP: known incorrect sRGB profile\n",
            "2021-10-15 21:20:37.144260: W tensorflow/core/lib/png/png_io.cc:88] PNG warning: iCCP: known incorrect sRGB profile\n",
            "2021-10-15 21:20:42.575754: W tensorflow/core/lib/png/png_io.cc:88] PNG warning: iCCP: known incorrect sRGB profile\n",
            "2021-10-15 21:20:42.788970: W tensorflow/core/lib/png/png_io.cc:88] PNG warning: iCCP: known incorrect sRGB profile\n",
            "2021-10-15 21:20:49.740410: W tensorflow/core/lib/png/png_io.cc:88] PNG warning: iCCP: known incorrect sRGB profile\n",
            "2021-10-15 21:20:49.841974: W tensorflow/core/lib/png/png_io.cc:88] PNG warning: iCCP: known incorrect sRGB profile\n",
            "2021-10-15 21:20:51.024651: W tensorflow/core/lib/png/png_io.cc:88] PNG warning: iCCP: known incorrect sRGB profile\n",
            "2021-10-15 21:21:00.069272: W tensorflow/core/lib/png/png_io.cc:88] PNG warning: iCCP: too many profiles\n",
            "2021-10-15 21:21:05.110963: W tensorflow/core/lib/png/png_io.cc:88] PNG warning: iCCP: known incorrect sRGB profile\n"
          ]
        },
        {
          "name": "stdout",
          "output_type": "stream",
          "text": [
            "202/202 [==============================] - 170s 841ms/step - loss: 0.9353 - accuracy: 0.9709 - val_loss: 0.9368 - val_accuracy: 0.9668\n",
            "Epoch 6/200\n",
            "  7/202 [>.............................] - ETA: 2:10 - loss: 0.9361 - accuracy: 0.9821"
          ]
        },
        {
          "name": "stderr",
          "output_type": "stream",
          "text": [
            "2021-10-15 21:21:15.694076: W tensorflow/core/lib/png/png_io.cc:88] PNG warning: iCCP: known incorrect sRGB profile\n"
          ]
        },
        {
          "name": "stdout",
          "output_type": "stream",
          "text": [
            " 21/202 [==>...........................] - ETA: 1:56 - loss: 0.9407 - accuracy: 0.9643"
          ]
        },
        {
          "name": "stderr",
          "output_type": "stream",
          "text": [
            "2021-10-15 21:21:24.512856: W tensorflow/core/lib/png/png_io.cc:88] PNG warning: iCCP: known incorrect sRGB profile\n",
            "2021-10-15 21:21:24.512903: W tensorflow/core/lib/png/png_io.cc:88] PNG warning: iCCP: cHRM chunk does not match sRGB\n"
          ]
        },
        {
          "name": "stdout",
          "output_type": "stream",
          "text": [
            " 23/202 [==>...........................] - ETA: 1:55 - loss: 0.9416 - accuracy: 0.9620"
          ]
        },
        {
          "name": "stderr",
          "output_type": "stream",
          "text": [
            "2021-10-15 21:21:25.856430: W tensorflow/core/lib/png/png_io.cc:88] PNG warning: iCCP: known incorrect sRGB profile\n"
          ]
        },
        {
          "name": "stdout",
          "output_type": "stream",
          "text": [
            " 25/202 [==>...........................] - ETA: 1:53 - loss: 0.9387 - accuracy: 0.9650"
          ]
        },
        {
          "name": "stderr",
          "output_type": "stream",
          "text": [
            "2021-10-15 21:21:27.008860: W tensorflow/core/lib/png/png_io.cc:88] PNG warning: iCCP: known incorrect sRGB profile\n"
          ]
        },
        {
          "name": "stdout",
          "output_type": "stream",
          "text": [
            " 28/202 [===>..........................] - ETA: 1:51 - loss: 0.9351 - accuracy: 0.9688"
          ]
        },
        {
          "name": "stderr",
          "output_type": "stream",
          "text": [
            "2021-10-15 21:21:28.902500: W tensorflow/core/lib/png/png_io.cc:88] PNG warning: iCCP: known incorrect sRGB profile\n",
            "2021-10-15 21:21:28.979881: W tensorflow/core/lib/png/png_io.cc:88] PNG warning: iCCP: known incorrect sRGB profile\n"
          ]
        },
        {
          "name": "stdout",
          "output_type": "stream",
          "text": [
            " 31/202 [===>..........................] - ETA: 1:49 - loss: 0.9322 - accuracy: 0.9718"
          ]
        },
        {
          "name": "stderr",
          "output_type": "stream",
          "text": [
            "2021-10-15 21:21:30.744930: W tensorflow/core/lib/png/png_io.cc:88] PNG warning: iCCP: known incorrect sRGB profile\n"
          ]
        },
        {
          "name": "stdout",
          "output_type": "stream",
          "text": [
            " 36/202 [====>.........................] - ETA: 1:46 - loss: 0.9338 - accuracy: 0.9688"
          ]
        },
        {
          "name": "stderr",
          "output_type": "stream",
          "text": [
            "2021-10-15 21:21:34.042949: W tensorflow/core/lib/png/png_io.cc:88] PNG warning: iCCP: known incorrect sRGB profile\n",
            "2021-10-15 21:21:34.092933: W tensorflow/core/lib/png/png_io.cc:88] PNG warning: iCCP: known incorrect sRGB profile\n"
          ]
        },
        {
          "name": "stdout",
          "output_type": "stream",
          "text": [
            " 55/202 [=======>......................] - ETA: 1:33 - loss: 0.9321 - accuracy: 0.9705"
          ]
        },
        {
          "name": "stderr",
          "output_type": "stream",
          "text": [
            "2021-10-15 21:21:46.055725: W tensorflow/core/lib/png/png_io.cc:88] PNG warning: iCCP: known incorrect sRGB profile\n"
          ]
        },
        {
          "name": "stdout",
          "output_type": "stream",
          "text": [
            " 61/202 [========>.....................] - ETA: 1:29 - loss: 0.9294 - accuracy: 0.9734"
          ]
        },
        {
          "name": "stderr",
          "output_type": "stream",
          "text": [
            "2021-10-15 21:21:49.906687: W tensorflow/core/lib/png/png_io.cc:88] PNG warning: iCCP: known incorrect sRGB profile\n"
          ]
        },
        {
          "name": "stdout",
          "output_type": "stream",
          "text": [
            "\b\b\b\b\b\b\b\b\b\b\b\b\b\b\b\b\b\b\b\b\b\b\b\b\b\b\b\b\b\b\b\b\b\b\b\b\b\b\b\b\b\b\b\b\b\b\b\b\b\b\b\b\b\b\b\b\b\b\b\b\b\b\b\b\b\b\b\b\b\b\b\b\b\b\b\b\b\b\b\b\b\b\b\b\b\b\r",
            " 62/202 [========>.....................] - ETA: 1:28 - loss: 0.9290 - accuracy: 0.9738"
          ]
        },
        {
          "name": "stderr",
          "output_type": "stream",
          "text": [
            "2021-10-15 21:21:50.430763: W tensorflow/core/lib/png/png_io.cc:88] PNG warning: iCCP: known incorrect sRGB profile\n"
          ]
        },
        {
          "name": "stdout",
          "output_type": "stream",
          "text": [
            " 70/202 [=========>....................] - ETA: 1:23 - loss: 0.9288 - accuracy: 0.9732"
          ]
        },
        {
          "name": "stderr",
          "output_type": "stream",
          "text": [
            "2021-10-15 21:21:55.320364: W tensorflow/core/lib/png/png_io.cc:88] PNG warning: bKGD: invalid\n"
          ]
        },
        {
          "name": "stdout",
          "output_type": "stream",
          "text": [
            " 78/202 [==========>...................] - ETA: 1:18 - loss: 0.9272 - accuracy: 0.9760"
          ]
        },
        {
          "name": "stderr",
          "output_type": "stream",
          "text": [
            "2021-10-15 21:22:00.417690: W tensorflow/core/lib/png/png_io.cc:88] PNG warning: iCCP: known incorrect sRGB profile\n"
          ]
        },
        {
          "name": "stdout",
          "output_type": "stream",
          "text": [
            " 95/202 [=============>................] - ETA: 1:07 - loss: 0.9274 - accuracy: 0.9763"
          ]
        },
        {
          "name": "stderr",
          "output_type": "stream",
          "text": [
            "2021-10-15 21:22:10.964557: W tensorflow/core/lib/png/png_io.cc:88] PNG warning: iCCP: known incorrect sRGB profile\n"
          ]
        },
        {
          "name": "stdout",
          "output_type": "stream",
          "text": [
            "116/202 [================>.............] - ETA: 54s - loss: 0.9271 - accuracy: 0.9774"
          ]
        },
        {
          "name": "stderr",
          "output_type": "stream",
          "text": [
            "2021-10-15 21:22:23.989706: W tensorflow/core/lib/png/png_io.cc:88] PNG warning: iCCP: known incorrect sRGB profile\n"
          ]
        },
        {
          "name": "stdout",
          "output_type": "stream",
          "text": [
            "148/202 [====================>.........] - ETA: 33s - loss: 0.9274 - accuracy: 0.9772"
          ]
        },
        {
          "name": "stderr",
          "output_type": "stream",
          "text": [
            "2021-10-15 21:22:43.630485: W tensorflow/core/lib/png/png_io.cc:88] PNG warning: iCCP: known incorrect sRGB profile\n"
          ]
        },
        {
          "name": "stdout",
          "output_type": "stream",
          "text": [
            "155/202 [======================>.......] - ETA: 29s - loss: 0.9278 - accuracy: 0.9774"
          ]
        },
        {
          "name": "stderr",
          "output_type": "stream",
          "text": [
            "2021-10-15 21:22:47.942736: W tensorflow/core/lib/png/png_io.cc:88] PNG warning: iCCP: known incorrect sRGB profile\n"
          ]
        },
        {
          "name": "stdout",
          "output_type": "stream",
          "text": [
            "159/202 [======================>.......] - ETA: 26s - loss: 0.9285 - accuracy: 0.9764"
          ]
        },
        {
          "name": "stderr",
          "output_type": "stream",
          "text": [
            "2021-10-15 21:22:50.358701: W tensorflow/core/lib/png/png_io.cc:88] PNG warning: iCCP: known incorrect sRGB profile\n",
            "2021-10-15 21:22:50.358765: W tensorflow/core/lib/png/png_io.cc:88] PNG warning: iCCP: cHRM chunk does not match sRGB\n"
          ]
        },
        {
          "name": "stdout",
          "output_type": "stream",
          "text": [
            "167/202 [=======================>......] - ETA: 21s - loss: 0.9277 - accuracy: 0.9775"
          ]
        },
        {
          "name": "stderr",
          "output_type": "stream",
          "text": [
            "2021-10-15 21:22:55.323232: W tensorflow/core/lib/png/png_io.cc:88] PNG warning: iCCP: known incorrect sRGB profile\n"
          ]
        },
        {
          "name": "stdout",
          "output_type": "stream",
          "text": [
            "171/202 [========================>.....] - ETA: 19s - loss: 0.9274 - accuracy: 0.9781"
          ]
        },
        {
          "name": "stderr",
          "output_type": "stream",
          "text": [
            "2021-10-15 21:22:57.734906: W tensorflow/core/lib/png/png_io.cc:88] PNG warning: iCCP: known incorrect sRGB profile\n"
          ]
        },
        {
          "name": "stdout",
          "output_type": "stream",
          "text": [
            "173/202 [========================>.....] - ETA: 18s - loss: 0.9272 - accuracy: 0.9783"
          ]
        },
        {
          "name": "stderr",
          "output_type": "stream",
          "text": [
            "2021-10-15 21:22:58.975133: W tensorflow/core/lib/png/png_io.cc:88] PNG warning: iCCP: known incorrect sRGB profile\n",
            "2021-10-15 21:22:58.975198: W tensorflow/core/lib/png/png_io.cc:88] PNG warning: iCCP: cHRM chunk does not match sRGB\n"
          ]
        },
        {
          "name": "stdout",
          "output_type": "stream",
          "text": [
            "183/202 [==========================>...] - ETA: 11s - loss: 0.9284 - accuracy: 0.9768"
          ]
        },
        {
          "name": "stderr",
          "output_type": "stream",
          "text": [
            "2021-10-15 21:23:05.252626: W tensorflow/core/lib/png/png_io.cc:88] PNG warning: iCCP: known incorrect sRGB profile\n"
          ]
        },
        {
          "name": "stdout",
          "output_type": "stream",
          "text": [
            "197/202 [============================>.] - ETA: 3s - loss: 0.9280 - accuracy: 0.9778"
          ]
        },
        {
          "name": "stderr",
          "output_type": "stream",
          "text": [
            "2021-10-15 21:23:14.106008: W tensorflow/core/lib/png/png_io.cc:88] PNG warning: iCCP: known incorrect sRGB profile\n"
          ]
        },
        {
          "name": "stdout",
          "output_type": "stream",
          "text": [
            "\b\b\b\b\b\b\b\b\b\b\b\b\b\b\b\b\b\b\b\b\b\b\b\b\b\b\b\b\b\b\b\b\b\b\b\b\b\b\b\b\b\b\b\b\b\b\b\b\b\b\b\b\b\b\b\b\b\b\b\b\b\b\b\b\b\b\b\b\b\b\b\b\b\b\b\b\b\b\b\b\b\b\b\b\r",
            "198/202 [============================>.] - ETA: 2s - loss: 0.9278 - accuracy: 0.9779"
          ]
        },
        {
          "name": "stderr",
          "output_type": "stream",
          "text": [
            "2021-10-15 21:23:14.702257: W tensorflow/core/lib/png/png_io.cc:88] PNG warning: iCCP: known incorrect sRGB profile\n"
          ]
        },
        {
          "name": "stdout",
          "output_type": "stream",
          "text": [
            "201/202 [============================>.] - ETA: 0s - loss: 0.9283 - accuracy: 0.9776"
          ]
        },
        {
          "name": "stderr",
          "output_type": "stream",
          "text": [
            "2021-10-15 21:23:16.795796: W tensorflow/core/common_runtime/base_collective_executor.cc:216] BaseCollectiveExecutor::StartAbort Out of range: End of sequence\n",
            "\t [[{{node IteratorGetNext}}]]\n",
            "2021-10-15 21:23:17.428999: W tensorflow/core/lib/png/png_io.cc:88] PNG warning: iCCP: known incorrect sRGB profile\n",
            "2021-10-15 21:23:20.323689: W tensorflow/core/lib/png/png_io.cc:88] PNG warning: iCCP: known incorrect sRGB profile\n",
            "2021-10-15 21:23:21.848278: W tensorflow/core/lib/png/png_io.cc:88] PNG warning: iCCP: known incorrect sRGB profile\n",
            "2021-10-15 21:23:26.222802: W tensorflow/core/lib/png/png_io.cc:88] PNG warning: iCCP: known incorrect sRGB profile\n",
            "2021-10-15 21:23:31.505543: W tensorflow/core/lib/png/png_io.cc:88] PNG warning: iCCP: known incorrect sRGB profile\n",
            "2021-10-15 21:23:31.734076: W tensorflow/core/lib/png/png_io.cc:88] PNG warning: iCCP: known incorrect sRGB profile\n",
            "2021-10-15 21:23:38.616448: W tensorflow/core/lib/png/png_io.cc:88] PNG warning: iCCP: known incorrect sRGB profile\n",
            "2021-10-15 21:23:38.719900: W tensorflow/core/lib/png/png_io.cc:88] PNG warning: iCCP: known incorrect sRGB profile\n",
            "2021-10-15 21:23:39.932633: W tensorflow/core/lib/png/png_io.cc:88] PNG warning: iCCP: known incorrect sRGB profile\n",
            "2021-10-15 21:23:48.768901: W tensorflow/core/lib/png/png_io.cc:88] PNG warning: iCCP: too many profiles\n",
            "2021-10-15 21:23:53.690945: W tensorflow/core/lib/png/png_io.cc:88] PNG warning: iCCP: known incorrect sRGB profile\n"
          ]
        },
        {
          "name": "stdout",
          "output_type": "stream",
          "text": [
            "202/202 [==============================] - 168s 834ms/step - loss: 0.9283 - accuracy: 0.9777 - val_loss: 0.9344 - val_accuracy: 0.9740\n",
            "Epoch 7/200\n",
            " 15/202 [=>............................] - ETA: 2:03 - loss: 0.9063 - accuracy: 1.0000"
          ]
        },
        {
          "name": "stderr",
          "output_type": "stream",
          "text": [
            "2021-10-15 21:24:09.431047: W tensorflow/core/lib/png/png_io.cc:88] PNG warning: iCCP: known incorrect sRGB profile\n"
          ]
        },
        {
          "name": "stdout",
          "output_type": "stream",
          "text": [
            " 17/202 [=>............................] - ETA: 2:01 - loss: 0.9074 - accuracy: 1.0000"
          ]
        },
        {
          "name": "stderr",
          "output_type": "stream",
          "text": [
            "2021-10-15 21:24:10.668038: W tensorflow/core/lib/png/png_io.cc:88] PNG warning: iCCP: known incorrect sRGB profile\n"
          ]
        },
        {
          "name": "stdout",
          "output_type": "stream",
          "text": [
            " 19/202 [=>............................] - ETA: 1:59 - loss: 0.9072 - accuracy: 1.0000"
          ]
        },
        {
          "name": "stderr",
          "output_type": "stream",
          "text": [
            "2021-10-15 21:24:12.050389: W tensorflow/core/lib/png/png_io.cc:88] PNG warning: iCCP: known incorrect sRGB profile\n"
          ]
        },
        {
          "name": "stdout",
          "output_type": "stream",
          "text": [
            " 24/202 [==>...........................] - ETA: 1:55 - loss: 0.9116 - accuracy: 0.9948"
          ]
        },
        {
          "name": "stderr",
          "output_type": "stream",
          "text": [
            "2021-10-15 21:24:15.161721: W tensorflow/core/lib/png/png_io.cc:88] PNG warning: iCCP: known incorrect sRGB profile\n"
          ]
        },
        {
          "name": "stdout",
          "output_type": "stream",
          "text": [
            " 44/202 [=====>........................] - ETA: 1:41 - loss: 0.9220 - accuracy: 0.9801"
          ]
        },
        {
          "name": "stderr",
          "output_type": "stream",
          "text": [
            "2021-10-15 21:24:27.994522: W tensorflow/core/lib/png/png_io.cc:88] PNG warning: iCCP: known incorrect sRGB profile\n",
            "2021-10-15 21:24:27.994589: W tensorflow/core/lib/png/png_io.cc:88] PNG warning: iCCP: cHRM chunk does not match sRGB\n"
          ]
        },
        {
          "name": "stdout",
          "output_type": "stream",
          "text": [
            " 46/202 [=====>........................] - ETA: 1:40 - loss: 0.9213 - accuracy: 0.9810"
          ]
        },
        {
          "name": "stderr",
          "output_type": "stream",
          "text": [
            "2021-10-15 21:24:29.087026: W tensorflow/core/lib/png/png_io.cc:88] PNG warning: iCCP: known incorrect sRGB profile\n"
          ]
        },
        {
          "name": "stdout",
          "output_type": "stream",
          "text": [
            "\b\b\b\b\b\b\b\b\b\b\b\b\b\b\b\b\b\b\b\b\b\b\b\b\b\b\b\b\b\b\b\b\b\b\b\b\b\b\b\b\b\b\b\b\b\b\b\b\b\b\b\b\b\b\b\b\b\b\b\b\b\b\b\b\b\b\b\b\b\b\b\b\b\b\b\b\b\b\b\b\b\b\b\b\b\b\r",
            " 47/202 [=====>........................] - ETA: 1:39 - loss: 0.9209 - accuracy: 0.9814"
          ]
        },
        {
          "name": "stderr",
          "output_type": "stream",
          "text": [
            "2021-10-15 21:24:29.698438: W tensorflow/core/lib/png/png_io.cc:88] PNG warning: iCCP: known incorrect sRGB profile\n"
          ]
        },
        {
          "name": "stdout",
          "output_type": "stream",
          "text": [
            " 55/202 [=======>......................] - ETA: 1:34 - loss: 0.9220 - accuracy: 0.9818"
          ]
        },
        {
          "name": "stderr",
          "output_type": "stream",
          "text": [
            "2021-10-15 21:24:34.690096: W tensorflow/core/lib/png/png_io.cc:88] PNG warning: iCCP: known incorrect sRGB profile\n"
          ]
        },
        {
          "name": "stdout",
          "output_type": "stream",
          "text": [
            " 58/202 [=======>......................] - ETA: 1:31 - loss: 0.9224 - accuracy: 0.9828"
          ]
        },
        {
          "name": "stderr",
          "output_type": "stream",
          "text": [
            "2021-10-15 21:24:36.452187: W tensorflow/core/lib/png/png_io.cc:88] PNG warning: iCCP: known incorrect sRGB profile\n"
          ]
        },
        {
          "name": "stdout",
          "output_type": "stream",
          "text": [
            " 61/202 [========>.....................] - ETA: 1:29 - loss: 0.9216 - accuracy: 0.9836"
          ]
        },
        {
          "name": "stderr",
          "output_type": "stream",
          "text": [
            "2021-10-15 21:24:38.345851: W tensorflow/core/lib/png/png_io.cc:88] PNG warning: iCCP: known incorrect sRGB profile\n",
            "2021-10-15 21:24:38.345951: W tensorflow/core/lib/png/png_io.cc:88] PNG warning: iCCP: cHRM chunk does not match sRGB\n"
          ]
        },
        {
          "name": "stdout",
          "output_type": "stream",
          "text": [
            " 77/202 [==========>...................] - ETA: 1:18 - loss: 0.9198 - accuracy: 0.9854"
          ]
        },
        {
          "name": "stderr",
          "output_type": "stream",
          "text": [
            "2021-10-15 21:24:48.113660: W tensorflow/core/lib/png/png_io.cc:88] PNG warning: iCCP: known incorrect sRGB profile\n"
          ]
        },
        {
          "name": "stdout",
          "output_type": "stream",
          "text": [
            " 84/202 [===========>..................] - ETA: 1:14 - loss: 0.9216 - accuracy: 0.9836"
          ]
        },
        {
          "name": "stderr",
          "output_type": "stream",
          "text": [
            "2021-10-15 21:24:52.327901: W tensorflow/core/lib/png/png_io.cc:88] PNG warning: iCCP: known incorrect sRGB profile\n"
          ]
        },
        {
          "name": "stdout",
          "output_type": "stream",
          "text": [
            "132/202 [==================>...........] - ETA: 43s - loss: 0.9192 - accuracy: 0.9858"
          ]
        },
        {
          "name": "stderr",
          "output_type": "stream",
          "text": [
            "2021-10-15 21:25:22.427650: W tensorflow/core/lib/png/png_io.cc:88] PNG warning: iCCP: known incorrect sRGB profile\n"
          ]
        },
        {
          "name": "stdout",
          "output_type": "stream",
          "text": [
            "151/202 [=====================>........] - ETA: 32s - loss: 0.9202 - accuracy: 0.9843"
          ]
        },
        {
          "name": "stderr",
          "output_type": "stream",
          "text": [
            "2021-10-15 21:25:34.536176: W tensorflow/core/lib/png/png_io.cc:88] PNG warning: iCCP: known incorrect sRGB profile\n"
          ]
        },
        {
          "name": "stdout",
          "output_type": "stream",
          "text": [
            "153/202 [=====================>........] - ETA: 30s - loss: 0.9209 - accuracy: 0.9837"
          ]
        },
        {
          "name": "stderr",
          "output_type": "stream",
          "text": [
            "2021-10-15 21:25:35.824987: W tensorflow/core/lib/png/png_io.cc:88] PNG warning: iCCP: known incorrect sRGB profile\n",
            "2021-10-15 21:25:35.825046: W tensorflow/core/lib/png/png_io.cc:88] PNG warning: iCCP: cHRM chunk does not match sRGB\n",
            "2021-10-15 21:25:35.924947: W tensorflow/core/lib/png/png_io.cc:88] PNG warning: iCCP: known incorrect sRGB profile\n"
          ]
        },
        {
          "name": "stdout",
          "output_type": "stream",
          "text": [
            "160/202 [======================>.......] - ETA: 26s - loss: 0.9221 - accuracy: 0.9828"
          ]
        },
        {
          "name": "stderr",
          "output_type": "stream",
          "text": [
            "2021-10-15 21:25:40.236904: W tensorflow/core/lib/png/png_io.cc:88] PNG warning: iCCP: known incorrect sRGB profile\n"
          ]
        },
        {
          "name": "stdout",
          "output_type": "stream",
          "text": [
            "167/202 [=======================>......] - ETA: 22s - loss: 0.9214 - accuracy: 0.9835"
          ]
        },
        {
          "name": "stderr",
          "output_type": "stream",
          "text": [
            "2021-10-15 21:25:44.576731: W tensorflow/core/lib/png/png_io.cc:88] PNG warning: bKGD: invalid\n"
          ]
        },
        {
          "name": "stdout",
          "output_type": "stream",
          "text": [
            "173/202 [========================>.....] - ETA: 18s - loss: 0.9222 - accuracy: 0.9827"
          ]
        },
        {
          "name": "stderr",
          "output_type": "stream",
          "text": [
            "2021-10-15 21:25:48.241853: W tensorflow/core/lib/png/png_io.cc:88] PNG warning: iCCP: known incorrect sRGB profile\n"
          ]
        },
        {
          "name": "stdout",
          "output_type": "stream",
          "text": [
            "\b\b\b\b\b\b\b\b\b\b\b\b\b\b\b\b\b\b\b\b\b\b\b\b\b\b\b\b\b\b\b\b\b\b\b\b\b\b\b\b\b\b\b\b\b\b\b\b\b\b\b\b\b\b\b\b\b\b\b\b\b\b\b\b\b\b\b\b\b\b\b\b\b\b\b\b\b\b\b\b\b\b\b\b\b\r",
            "174/202 [========================>.....] - ETA: 17s - loss: 0.9221 - accuracy: 0.9828"
          ]
        },
        {
          "name": "stderr",
          "output_type": "stream",
          "text": [
            "2021-10-15 21:25:48.878153: W tensorflow/core/lib/png/png_io.cc:88] PNG warning: iCCP: known incorrect sRGB profile\n",
            "2021-10-15 21:25:49.034758: W tensorflow/core/lib/png/png_io.cc:88] PNG warning: iCCP: known incorrect sRGB profile\n"
          ]
        },
        {
          "name": "stdout",
          "output_type": "stream",
          "text": [
            "177/202 [=========================>....] - ETA: 15s - loss: 0.9226 - accuracy: 0.9823"
          ]
        },
        {
          "name": "stderr",
          "output_type": "stream",
          "text": [
            "2021-10-15 21:25:50.787946: W tensorflow/core/lib/png/png_io.cc:88] PNG warning: iCCP: known incorrect sRGB profile\n"
          ]
        },
        {
          "name": "stdout",
          "output_type": "stream",
          "text": [
            "185/202 [==========================>...] - ETA: 10s - loss: 0.9227 - accuracy: 0.9824"
          ]
        },
        {
          "name": "stderr",
          "output_type": "stream",
          "text": [
            "2021-10-15 21:25:55.900482: W tensorflow/core/lib/png/png_io.cc:88] PNG warning: iCCP: known incorrect sRGB profile\n",
            "2021-10-15 21:25:56.031710: W tensorflow/core/lib/png/png_io.cc:88] PNG warning: iCCP: known incorrect sRGB profile\n"
          ]
        },
        {
          "name": "stdout",
          "output_type": "stream",
          "text": [
            "\b\b\b\b\b\b\b\b\b\b\b\b\b\b\b\b\b\b\b\b\b\b\b\b\b\b\b\b\b\b\b\b\b\b\b\b\b\b\b\b\b\b\b\b\b\b\b\b\b\b\b\b\b\b\b\b\b\b\b\b\b\b\b\b\b\b\b\b\b\b\b\b\b\b\b\b\b\b\b\b\b\b\b\b\b\r",
            "186/202 [==========================>...] - ETA: 10s - loss: 0.9226 - accuracy: 0.9825"
          ]
        },
        {
          "name": "stderr",
          "output_type": "stream",
          "text": [
            "2021-10-15 21:25:56.586849: W tensorflow/core/lib/png/png_io.cc:88] PNG warning: iCCP: known incorrect sRGB profile\n"
          ]
        },
        {
          "name": "stdout",
          "output_type": "stream",
          "text": [
            "201/202 [============================>.] - ETA: 0s - loss: 0.9226 - accuracy: 0.9826"
          ]
        },
        {
          "name": "stderr",
          "output_type": "stream",
          "text": [
            "2021-10-15 21:26:06.206842: W tensorflow/core/common_runtime/base_collective_executor.cc:216] BaseCollectiveExecutor::StartAbort Out of range: End of sequence\n",
            "\t [[{{node IteratorGetNext}}]]\n",
            "2021-10-15 21:26:06.853736: W tensorflow/core/lib/png/png_io.cc:88] PNG warning: iCCP: known incorrect sRGB profile\n",
            "2021-10-15 21:26:09.784878: W tensorflow/core/lib/png/png_io.cc:88] PNG warning: iCCP: known incorrect sRGB profile\n",
            "2021-10-15 21:26:11.379782: W tensorflow/core/lib/png/png_io.cc:88] PNG warning: iCCP: known incorrect sRGB profile\n",
            "2021-10-15 21:26:15.758193: W tensorflow/core/lib/png/png_io.cc:88] PNG warning: iCCP: known incorrect sRGB profile\n",
            "2021-10-15 21:26:21.018359: W tensorflow/core/lib/png/png_io.cc:88] PNG warning: iCCP: known incorrect sRGB profile\n",
            "2021-10-15 21:26:21.239168: W tensorflow/core/lib/png/png_io.cc:88] PNG warning: iCCP: known incorrect sRGB profile\n",
            "2021-10-15 21:26:27.963113: W tensorflow/core/lib/png/png_io.cc:88] PNG warning: iCCP: known incorrect sRGB profile\n",
            "2021-10-15 21:26:28.064929: W tensorflow/core/lib/png/png_io.cc:88] PNG warning: iCCP: known incorrect sRGB profile\n",
            "2021-10-15 21:26:29.231287: W tensorflow/core/lib/png/png_io.cc:88] PNG warning: iCCP: known incorrect sRGB profile\n",
            "2021-10-15 21:26:38.314930: W tensorflow/core/lib/png/png_io.cc:88] PNG warning: iCCP: too many profiles\n",
            "2021-10-15 21:26:43.243004: W tensorflow/core/lib/png/png_io.cc:88] PNG warning: iCCP: known incorrect sRGB profile\n"
          ]
        },
        {
          "name": "stdout",
          "output_type": "stream",
          "text": [
            "202/202 [==============================] - 169s 838ms/step - loss: 0.9226 - accuracy: 0.9827 - val_loss: 0.9264 - val_accuracy: 0.9784\n",
            "****************************************************************************************************\n",
            "0:19:42.930277\n"
          ]
        }
      ]
    },
    {
      "cell_type": "markdown",
      "metadata": {
        "id": "0e40b8a4"
      },
      "source": [
        "# 绘制训练集和验证集上损失值、准确率"
      ],
      "id": "0e40b8a4"
    },
    {
      "cell_type": "code",
      "metadata": {
        "scrolled": false,
        "id": "f660334a",
        "outputId": "07daf4c7-1179-45ac-f3fd-bd8784a9a6fa"
      },
      "source": [
        "train_loss = history.history[\"loss\"]\n",
        "train_accuracy = history.history[\"accuracy\"]\n",
        "val_loss = history.history[\"val_loss\"]\n",
        "val_accuray = history.history[\"val_accuracy\"]\n",
        "\n",
        "plt.plot(train_loss,label=\"train_loss\")\n",
        "plt.plot(val_loss,label=\"val_loss\")\n",
        "plt.legend()\n",
        "plt.xlabel(\"epochs\")\n",
        "plt.ylabel(\"loss\")\n",
        "plt.savefig(\"loss3.png\")\n",
        "plt.show()\n",
        "\n",
        "\n",
        "plt.plot(train_accuracy,label=\"train_accuracy\")\n",
        "plt.plot(val_accuray,label=\"val_accuray\")\n",
        "plt.legend()\n",
        "plt.xlabel(\"epochs\")\n",
        "plt.ylabel(\"accuracy\")\n",
        "plt.savefig(\"accuracy3.png\")\n",
        "plt.show()"
      ],
      "id": "f660334a",
      "execution_count": null,
      "outputs": [
        {
          "data": {
            "image/png": "[encoded data removed]",
            "text/plain": [
              "<Figure size 432x288 with 1 Axes>"
            ]
          },
          "metadata": {
            "needs_background": "light"
          },
          "output_type": "display_data"
        },
        {
          "data": {
            "image/png": "[encoded data removed]",
            "text/plain": [
              "<Figure size 432x288 with 1 Axes>"
            ]
          },
          "metadata": {
            "needs_background": "light"
          },
          "output_type": "display_data"
        }
      ]
    },
    {
      "cell_type": "markdown",
      "metadata": {
        "id": "bc061ca2"
      },
      "source": [
        "# 绘制验证集混淆矩阵"
      ],
      "id": "bc061ca2"
    },
    {
      "cell_type": "code",
      "metadata": {
        "scrolled": false,
        "id": "71093bc2",
        "outputId": "dbdbc336-98b0-4a88-9f33-ff99ee49bde0"
      },
      "source": [
        "y_pred = model.predict_generator(val_data)\n",
        "y_pred_classes = np.argmax(y_pred,axis=1)\n",
        "y_true = list(load_data(\"val\")[1])\n",
        "matrix = sklearn.metrics.confusion_matrix(load_data(\"val\")[1],y_pred_classes)\n",
        "print(matrix)"
      ],
      "id": "71093bc2",
      "execution_count": null,
      "outputs": [
        {
          "name": "stderr",
          "output_type": "stream",
          "text": [
            "2021-10-15 21:27:54.385675: W tensorflow/core/lib/png/png_io.cc:88] PNG warning: iCCP: known incorrect sRGB profile\n",
            "2021-10-15 21:27:58.138822: W tensorflow/core/lib/png/png_io.cc:88] PNG warning: iCCP: known incorrect sRGB profile\n",
            "2021-10-15 21:27:59.928378: W tensorflow/core/lib/png/png_io.cc:88] PNG warning: iCCP: known incorrect sRGB profile\n",
            "2021-10-15 21:28:05.348266: W tensorflow/core/lib/png/png_io.cc:88] PNG warning: iCCP: known incorrect sRGB profile\n",
            "2021-10-15 21:28:11.841132: W tensorflow/core/lib/png/png_io.cc:88] PNG warning: iCCP: known incorrect sRGB profile\n",
            "2021-10-15 21:28:12.068534: W tensorflow/core/lib/png/png_io.cc:88] PNG warning: iCCP: known incorrect sRGB profile\n",
            "2021-10-15 21:28:20.530268: W tensorflow/core/lib/png/png_io.cc:88] PNG warning: iCCP: known incorrect sRGB profile\n",
            "2021-10-15 21:28:20.639594: W tensorflow/core/lib/png/png_io.cc:88] PNG warning: iCCP: known incorrect sRGB profile\n",
            "2021-10-15 21:28:22.277815: W tensorflow/core/lib/png/png_io.cc:88] PNG warning: iCCP: known incorrect sRGB profile\n",
            "2021-10-15 21:28:33.356924: W tensorflow/core/lib/png/png_io.cc:88] PNG warning: iCCP: too many profiles\n",
            "2021-10-15 21:28:39.588397: W tensorflow/core/lib/png/png_io.cc:88] PNG warning: iCCP: known incorrect sRGB profile\n"
          ]
        },
        {
          "name": "stdout",
          "output_type": "stream",
          "text": [
            "验证集：693\n",
            "验证集：693\n",
            "[[132   2   2   2   0]\n",
            " [  0 135   1   0   1]\n",
            " [  0   2 134   0   0]\n",
            " [  0   2   2 127   0]\n",
            " [  0   0   0   1 150]]\n"
          ]
        }
      ]
    },
    {
      "cell_type": "markdown",
      "metadata": {
        "id": "8e2bb54f"
      },
      "source": [
        "# 预测并保存到csv"
      ],
      "id": "8e2bb54f"
    },
    {
      "cell_type": "code",
      "metadata": {
        "id": "198bc35d"
      },
      "source": [
        "def preprocess_x(x):\n",
        "    x = tf.io.read_file(x)\n",
        "    x = tf.io.decode_jpeg(x,channels=3)\n",
        "    x = tf.image.resize(x,(224,224))\n",
        "    x = tf.cast(x,dtype=tf.float32) / 255.\n",
        "    x = np.expand_dims(x,axis=0)\n",
        "    return x"
      ],
      "id": "198bc35d",
      "execution_count": null,
      "outputs": []
    },
    {
      "cell_type": "code",
      "metadata": {
        "id": "97e096f6",
        "outputId": "5a7dba5d-3e65-4a34-ad66-636c7c1c41b2"
      },
      "source": [
        "label2name = list(name2label.keys())\n",
        "print(label2name)\n",
        "pre_images = []\n",
        "pre_label = []\n",
        "for path in glob.glob(\"./predict/*\"):\n",
        "    pre_images.append(path)\n",
        "    pre_label.append(label2name[model.predict_classes(preprocess_x(path))[0]])\n",
        "df = pd.DataFrame({\"images\":pre_images,\"pre_label\":pre_label})\n",
        "df.to_csv(\"predict.csv\",index=False)\n",
        "df"
      ],
      "id": "97e096f6",
      "execution_count": null,
      "outputs": [
        {
          "name": "stdout",
          "output_type": "stream",
          "text": [
            "['mewtwo', 'charmander', 'squirtle', 'bulbasaur', 'pikachu']\n"
          ]
        },
        {
          "name": "stderr",
          "output_type": "stream",
          "text": [
            "2021-10-15 21:29:09.554384: W tensorflow/core/lib/png/png_io.cc:88] PNG warning: iCCP: known incorrect sRGB profile\n"
          ]
        },
        {
          "data": {
            "text/html": [
              "<div>\n",
              "<style scoped>\n",
              "    .dataframe tbody tr th:only-of-type {\n",
              "        vertical-align: middle;\n",
              "    }\n",
              "\n",
              "    .dataframe tbody tr th {\n",
              "        vertical-align: top;\n",
              "    }\n",
              "\n",
              "    .dataframe thead th {\n",
              "        text-align: right;\n",
              "    }\n",
              "</style>\n",
              "<table border=\"1\" class=\"dataframe\">\n",
              "  <thead>\n",
              "    <tr style=\"text-align: right;\">\n",
              "      <th></th>\n",
              "      <th>images</th>\n",
              "      <th>pre_label</th>\n",
              "    </tr>\n",
              "  </thead>\n",
              "  <tbody>\n",
              "    <tr>\n",
              "      <th>0</th>\n",
              "      <td>./predict/squirtle.png</td>\n",
              "      <td>squirtle</td>\n",
              "    </tr>\n",
              "    <tr>\n",
              "      <th>1</th>\n",
              "      <td>./predict/bulbasaur.png</td>\n",
              "      <td>bulbasaur</td>\n",
              "    </tr>\n",
              "    <tr>\n",
              "      <th>2</th>\n",
              "      <td>./predict/mewtwo2.png</td>\n",
              "      <td>mewtwo</td>\n",
              "    </tr>\n",
              "    <tr>\n",
              "      <th>3</th>\n",
              "      <td>./predict/mewtwo.png</td>\n",
              "      <td>mewtwo</td>\n",
              "    </tr>\n",
              "    <tr>\n",
              "      <th>4</th>\n",
              "      <td>./predict/charmander.png</td>\n",
              "      <td>charmander</td>\n",
              "    </tr>\n",
              "    <tr>\n",
              "      <th>5</th>\n",
              "      <td>./predict/squirtle1.jpg</td>\n",
              "      <td>squirtle</td>\n",
              "    </tr>\n",
              "    <tr>\n",
              "      <th>6</th>\n",
              "      <td>./predict/pikachu1.png</td>\n",
              "      <td>pikachu</td>\n",
              "    </tr>\n",
              "    <tr>\n",
              "      <th>7</th>\n",
              "      <td>./predict/charmander1.png</td>\n",
              "      <td>charmander</td>\n",
              "    </tr>\n",
              "    <tr>\n",
              "      <th>8</th>\n",
              "      <td>./predict/pikachu.png</td>\n",
              "      <td>pikachu</td>\n",
              "    </tr>\n",
              "  </tbody>\n",
              "</table>\n",
              "</div>"
            ],
            "text/plain": [
              "                      images   pre_label\n",
              "0     ./predict/squirtle.png    squirtle\n",
              "1    ./predict/bulbasaur.png   bulbasaur\n",
              "2      ./predict/mewtwo2.png      mewtwo\n",
              "3       ./predict/mewtwo.png      mewtwo\n",
              "4   ./predict/charmander.png  charmander\n",
              "5    ./predict/squirtle1.jpg    squirtle\n",
              "6     ./predict/pikachu1.png     pikachu\n",
              "7  ./predict/charmander1.png  charmander\n",
              "8      ./predict/pikachu.png     pikachu"
            ]
          },
          "execution_count": 128,
          "metadata": {},
          "output_type": "execute_result"
        }
      ]
    },
    {
      "cell_type": "markdown",
      "metadata": {
        "id": "d17b0624"
      },
      "source": [
        "# 可视化预测结果"
      ],
      "id": "d17b0624"
    },
    {
      "cell_type": "code",
      "metadata": {
        "id": "d30158e2",
        "outputId": "03db2378-fbb5-44ff-e45a-597028bdddea"
      },
      "source": [
        "for i in range(9):\n",
        "    plt.subplot(3,3,i+1)\n",
        "    plt.imshow(tf.keras.preprocessing.image.load_img(pre_images[i]))\n",
        "    plt.xlabel(\"predict:\" + str(pre_label[i]))\n",
        "plt.tight_layout()  "
      ],
      "id": "d30158e2",
      "execution_count": null,
      "outputs": [
        {
          "data": {
            "image/png": "[encoded data removed]",
            "text/plain": [
              "<Figure size 432x288 with 9 Axes>"
            ]
          },
          "metadata": {
            "needs_background": "light"
          },
          "output_type": "display_data"
        }
      ]
    },
    {
      "cell_type": "code",
      "metadata": {
        "id": "c31831d8"
      },
      "source": [
        ""
      ],
      "id": "c31831d8",
      "execution_count": null,
      "outputs": []
    }
  ]
}