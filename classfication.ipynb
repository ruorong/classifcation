{
  "nbformat": 4,
  "nbformat_minor": 5,
  "metadata": {
    "accelerator": "GPU",
    "colab": {
      "name": "classfication.ipynb",
      "provenance": [],
      "collapsed_sections": [],
      "include_colab_link": true
    },
    "kernelspec": {
      "display_name": "Python 3 (ipykernel)",
      "language": "python",
      "name": "python3"
    },
    "language_info": {
      "codemirror_mode": {
        "name": "ipython",
        "version": 3
      },
      "file_extension": ".py",
      "mimetype": "text/x-python",
      "name": "python",
      "nbconvert_exporter": "python",
      "pygments_lexer": "ipython3",
      "version": "3.7.11"
    }
  },
  "cells": [
    {
      "cell_type": "markdown",
      "metadata": {
        "id": "view-in-github",
        "colab_type": "text"
      },
      "source": [
        "<a href=\"https://colab.research.google.com/github/ruorong/classifcation/blob/main/classfication.ipynb\" target=\"_parent\"><img src=\"https://colab.research.google.com/assets/colab-badge.svg\" alt=\"Open In Colab\"/></a>"
      ]
    },
    {
      "cell_type": "code",
      "metadata": {
        "id": "a38a3536"
      },
      "source": [
        "import tensorflow as tf\n",
        "import numpy as np\n",
        "import pandas as pd\n",
        "import glob\n",
        "import matplotlib.pyplot as plt\n",
        "import os\n",
        "import time\n",
        "import random\n",
        "import datetime\n",
        "import sklearn"
      ],
      "id": "a38a3536",
      "execution_count": null,
      "outputs": []
    },
    {
      "cell_type": "code",
      "metadata": {
        "colab": {
          "base_uri": "https://localhost:8080/",
          "height": 35
        },
        "id": "XgY0_lJR7iKq",
        "outputId": "e1dae188-4708-4115-e6a3-5fc98d052683"
      },
      "source": [
        "tf.__version__"
      ],
      "id": "XgY0_lJR7iKq",
      "execution_count": null,
      "outputs": [
        {
          "data": {
            "application/vnd.google.colaboratory.intrinsic+json": {
              "type": "string"
            },
            "text/plain": [
              "'2.6.0'"
            ]
          },
          "execution_count": 11,
          "metadata": {},
          "output_type": "execute_result"
        }
      ]
    },
    {
      "cell_type": "code",
      "metadata": {
        "colab": {
          "base_uri": "https://localhost:8080/"
        },
        "id": "zzYpJjmK-b0S",
        "outputId": "2cb1fbc3-19cf-4e08-e45f-7731652aa27d"
      },
      "source": [
        "!git clone https://github.com/ruorong/classifcation.git"
      ],
      "id": "zzYpJjmK-b0S",
      "execution_count": null,
      "outputs": [
        {
          "name": "stdout",
          "output_type": "stream",
          "text": [
            "Cloning into 'classifcation'...\n",
            "remote: Enumerating objects: 2563, done.\u001b[K\n",
            "remote: Counting objects: 100% (2563/2563), done.\u001b[K\n",
            "remote: Compressing objects: 100% (2561/2561), done.\u001b[K\n",
            "remote: Total 2563 (delta 17), reused 2537 (delta 1), pack-reused 0\u001b[K\n",
            "Receiving objects: 100% (2563/2563), 92.79 MiB | 8.98 MiB/s, done.\n",
            "Resolving deltas: 100% (17/17), done.\n"
          ]
        }
      ]
    },
    {
      "cell_type": "markdown",
      "metadata": {
        "id": "b38db548"
      },
      "source": [
        "# 数据增强"
      ],
      "id": "b38db548"
    },
    {
      "cell_type": "code",
      "metadata": {
        "colab": {
          "base_uri": "https://localhost:8080/"
        },
        "id": "NajZfubWEEhq",
        "outputId": "cad8410b-8bf6-477f-ddeb-f1e7e6bc047b"
      },
      "source": [
        "# for dirs in glob.glob(\"/content/classifcation/Garbagepicture/*\"):\n",
        "#   print(dirs)\n"
      ],
      "id": "NajZfubWEEhq",
      "execution_count": null,
      "outputs": [
        {
          "name": "stdout",
          "output_type": "stream",
          "text": [
            "/content/classifcation/Garbagepicture/paper\n",
            "/content/classifcation/Garbagepicture/plastic\n",
            "/content/classifcation/Garbagepicture/glass\n",
            "/content/classifcation/Garbagepicture/cardboard\n",
            "/content/classifcation/Garbagepicture/metal\n"
          ]
        }
      ]
    },
    {
      "cell_type": "code",
      "metadata": {
        "colab": {
          "base_uri": "https://localhost:8080/"
        },
        "id": "xnwZhA6dEdK7",
        "outputId": "7e422214-92b8-4c6a-c27c-4dcbaeed0780"
      },
      "source": [
        "# for dirs in glob.glob(\"/content/classifcation/Garbagepicture/*\"): \n",
        "#   # print(dirs)\n",
        "#   paths = glob.glob(dirs + \"/*\")\n",
        "#   # print(paths)\n",
        "# print(paths)"
      ],
      "id": "xnwZhA6dEdK7",
      "execution_count": null,
      "outputs": [
        {
          "name": "stdout",
          "output_type": "stream",
          "text": [
            "['/content/classifcation/Garbagepicture/metal/metal90.jpg', '/content/classifcation/Garbagepicture/metal/metal409.jpg', '/content/classifcation/Garbagepicture/metal/metal220.jpg', '/content/classifcation/Garbagepicture/metal/metal111.jpg', '/content/classifcation/Garbagepicture/metal/metal362.jpg', '/content/classifcation/Garbagepicture/metal/metal18.jpg', '/content/classifcation/Garbagepicture/metal/metal25.jpg', '/content/classifcation/Garbagepicture/metal/metal75.jpg', '/content/classifcation/Garbagepicture/metal/metal202.jpg', '/content/classifcation/Garbagepicture/metal/metal373.jpg', '/content/classifcation/Garbagepicture/metal/metal294.jpg', '/content/classifcation/Garbagepicture/metal/metal351.jpg', '/content/classifcation/Garbagepicture/metal/metal115.jpg', '/content/classifcation/Garbagepicture/metal/metal149.jpg', '/content/classifcation/Garbagepicture/metal/metal280.jpg', '/content/classifcation/Garbagepicture/metal/metal274.jpg', '/content/classifcation/Garbagepicture/metal/metal374.jpg', '/content/classifcation/Garbagepicture/metal/metal273.jpg', '/content/classifcation/Garbagepicture/metal/metal316.jpg', '/content/classifcation/Garbagepicture/metal/metal179.jpg', '/content/classifcation/Garbagepicture/metal/metal367.jpg', '/content/classifcation/Garbagepicture/metal/metal387.jpg', '/content/classifcation/Garbagepicture/metal/metal37.jpg', '/content/classifcation/Garbagepicture/metal/metal360.jpg', '/content/classifcation/Garbagepicture/metal/metal1.jpg', '/content/classifcation/Garbagepicture/metal/metal24.jpg', '/content/classifcation/Garbagepicture/metal/metal410.jpg', '/content/classifcation/Garbagepicture/metal/metal58.jpg', '/content/classifcation/Garbagepicture/metal/metal201.jpg', '/content/classifcation/Garbagepicture/metal/metal107.jpg', '/content/classifcation/Garbagepicture/metal/metal132.jpg', '/content/classifcation/Garbagepicture/metal/metal165.jpg', '/content/classifcation/Garbagepicture/metal/metal330.jpg', '/content/classifcation/Garbagepicture/metal/metal99.jpg', '/content/classifcation/Garbagepicture/metal/metal70.jpg', '/content/classifcation/Garbagepicture/metal/metal368.jpg', '/content/classifcation/Garbagepicture/metal/metal138.jpg', '/content/classifcation/Garbagepicture/metal/metal38.jpg', '/content/classifcation/Garbagepicture/metal/metal71.jpg', '/content/classifcation/Garbagepicture/metal/metal310.jpg', '/content/classifcation/Garbagepicture/metal/metal261.jpg', '/content/classifcation/Garbagepicture/metal/metal366.jpg', '/content/classifcation/Garbagepicture/metal/metal49.jpg', '/content/classifcation/Garbagepicture/metal/metal130.jpg', '/content/classifcation/Garbagepicture/metal/metal328.jpg', '/content/classifcation/Garbagepicture/metal/metal390.jpg', '/content/classifcation/Garbagepicture/metal/metal234.jpg', '/content/classifcation/Garbagepicture/metal/metal308.jpg', '/content/classifcation/Garbagepicture/metal/metal383.jpg', '/content/classifcation/Garbagepicture/metal/metal322.jpg', '/content/classifcation/Garbagepicture/metal/metal241.jpg', '/content/classifcation/Garbagepicture/metal/metal135.jpg', '/content/classifcation/Garbagepicture/metal/metal211.jpg', '/content/classifcation/Garbagepicture/metal/metal214.jpg', '/content/classifcation/Garbagepicture/metal/metal296.jpg', '/content/classifcation/Garbagepicture/metal/metal104.jpg', '/content/classifcation/Garbagepicture/metal/metal203.jpg', '/content/classifcation/Garbagepicture/metal/metal195.jpg', '/content/classifcation/Garbagepicture/metal/metal81.jpg', '/content/classifcation/Garbagepicture/metal/metal30.jpg', '/content/classifcation/Garbagepicture/metal/metal297.jpg', '/content/classifcation/Garbagepicture/metal/metal66.jpg', '/content/classifcation/Garbagepicture/metal/metal329.jpg', '/content/classifcation/Garbagepicture/metal/metal64.jpg', '/content/classifcation/Garbagepicture/metal/metal67.jpg', '/content/classifcation/Garbagepicture/metal/metal95.jpg', '/content/classifcation/Garbagepicture/metal/metal238.jpg', '/content/classifcation/Garbagepicture/metal/metal269.jpg', '/content/classifcation/Garbagepicture/metal/metal180.jpg', '/content/classifcation/Garbagepicture/metal/metal53.jpg', '/content/classifcation/Garbagepicture/metal/metal102.jpg', '/content/classifcation/Garbagepicture/metal/metal405.jpg', '/content/classifcation/Garbagepicture/metal/metal172.jpg', '/content/classifcation/Garbagepicture/metal/metal183.jpg', '/content/classifcation/Garbagepicture/metal/metal76.jpg', '/content/classifcation/Garbagepicture/metal/metal251.jpg', '/content/classifcation/Garbagepicture/metal/metal178.jpg', '/content/classifcation/Garbagepicture/metal/metal142.jpg', '/content/classifcation/Garbagepicture/metal/metal394.jpg', '/content/classifcation/Garbagepicture/metal/metal243.jpg', '/content/classifcation/Garbagepicture/metal/metal305.jpg', '/content/classifcation/Garbagepicture/metal/metal185.jpg', '/content/classifcation/Garbagepicture/metal/metal167.jpg', '/content/classifcation/Garbagepicture/metal/metal65.jpg', '/content/classifcation/Garbagepicture/metal/metal136.jpg', '/content/classifcation/Garbagepicture/metal/metal212.jpg', '/content/classifcation/Garbagepicture/metal/metal392.jpg', '/content/classifcation/Garbagepicture/metal/metal298.jpg', '/content/classifcation/Garbagepicture/metal/metal84.jpg', '/content/classifcation/Garbagepicture/metal/metal103.jpg', '/content/classifcation/Garbagepicture/metal/metal239.jpg', '/content/classifcation/Garbagepicture/metal/metal78.jpg', '/content/classifcation/Garbagepicture/metal/metal398.jpg', '/content/classifcation/Garbagepicture/metal/metal404.jpg', '/content/classifcation/Garbagepicture/metal/metal334.jpg', '/content/classifcation/Garbagepicture/metal/metal378.jpg', '/content/classifcation/Garbagepicture/metal/metal250.jpg', '/content/classifcation/Garbagepicture/metal/metal113.jpg', '/content/classifcation/Garbagepicture/metal/metal120.jpg', '/content/classifcation/Garbagepicture/metal/metal15.jpg', '/content/classifcation/Garbagepicture/metal/metal371.jpg', '/content/classifcation/Garbagepicture/metal/metal388.jpg', '/content/classifcation/Garbagepicture/metal/metal227.jpg', '/content/classifcation/Garbagepicture/metal/metal400.jpg', '/content/classifcation/Garbagepicture/metal/metal199.jpg', '/content/classifcation/Garbagepicture/metal/metal22.jpg', '/content/classifcation/Garbagepicture/metal/metal369.jpg', '/content/classifcation/Garbagepicture/metal/metal289.jpg', '/content/classifcation/Garbagepicture/metal/metal315.jpg', '/content/classifcation/Garbagepicture/metal/metal184.jpg', '/content/classifcation/Garbagepicture/metal/metal331.jpg', '/content/classifcation/Garbagepicture/metal/metal69.jpg', '/content/classifcation/Garbagepicture/metal/metal191.jpg', '/content/classifcation/Garbagepicture/metal/metal41.jpg', '/content/classifcation/Garbagepicture/metal/metal129.jpg', '/content/classifcation/Garbagepicture/metal/metal314.jpg', '/content/classifcation/Garbagepicture/metal/metal287.jpg', '/content/classifcation/Garbagepicture/metal/metal127.jpg', '/content/classifcation/Garbagepicture/metal/metal395.jpg', '/content/classifcation/Garbagepicture/metal/metal332.jpg', '/content/classifcation/Garbagepicture/metal/metal372.jpg', '/content/classifcation/Garbagepicture/metal/metal29.jpg', '/content/classifcation/Garbagepicture/metal/metal389.jpg', '/content/classifcation/Garbagepicture/metal/metal302.jpg', '/content/classifcation/Garbagepicture/metal/metal100.jpg', '/content/classifcation/Garbagepicture/metal/metal358.jpg', '/content/classifcation/Garbagepicture/metal/metal186.jpg', '/content/classifcation/Garbagepicture/metal/metal162.jpg', '/content/classifcation/Garbagepicture/metal/metal27.jpg', '/content/classifcation/Garbagepicture/metal/metal335.jpg', '/content/classifcation/Garbagepicture/metal/metal188.jpg', '/content/classifcation/Garbagepicture/metal/metal160.jpg', '/content/classifcation/Garbagepicture/metal/metal219.jpg', '/content/classifcation/Garbagepicture/metal/metal346.jpg', '/content/classifcation/Garbagepicture/metal/metal7.jpg', '/content/classifcation/Garbagepicture/metal/metal233.jpg', '/content/classifcation/Garbagepicture/metal/metal376.jpg', '/content/classifcation/Garbagepicture/metal/metal208.jpg', '/content/classifcation/Garbagepicture/metal/metal31.jpg', '/content/classifcation/Garbagepicture/metal/metal105.jpg', '/content/classifcation/Garbagepicture/metal/metal359.jpg', '/content/classifcation/Garbagepicture/metal/metal228.jpg', '/content/classifcation/Garbagepicture/metal/metal133.jpg', '/content/classifcation/Garbagepicture/metal/metal93.jpg', '/content/classifcation/Garbagepicture/metal/metal209.jpg', '/content/classifcation/Garbagepicture/metal/metal171.jpg', '/content/classifcation/Garbagepicture/metal/metal344.jpg', '/content/classifcation/Garbagepicture/metal/metal240.jpg', '/content/classifcation/Garbagepicture/metal/metal218.jpg', '/content/classifcation/Garbagepicture/metal/metal397.jpg', '/content/classifcation/Garbagepicture/metal/metal170.jpg', '/content/classifcation/Garbagepicture/metal/metal60.jpg', '/content/classifcation/Garbagepicture/metal/metal194.jpg', '/content/classifcation/Garbagepicture/metal/metal200.jpg', '/content/classifcation/Garbagepicture/metal/metal96.jpg', '/content/classifcation/Garbagepicture/metal/metal230.jpg', '/content/classifcation/Garbagepicture/metal/metal86.jpg', '/content/classifcation/Garbagepicture/metal/metal292.jpg', '/content/classifcation/Garbagepicture/metal/metal12.jpg', '/content/classifcation/Garbagepicture/metal/metal407.jpg', '/content/classifcation/Garbagepicture/metal/metal386.jpg', '/content/classifcation/Garbagepicture/metal/metal318.jpg', '/content/classifcation/Garbagepicture/metal/metal245.jpg', '/content/classifcation/Garbagepicture/metal/metal10.jpg', '/content/classifcation/Garbagepicture/metal/metal295.jpg', '/content/classifcation/Garbagepicture/metal/metal181.jpg', '/content/classifcation/Garbagepicture/metal/metal164.jpg', '/content/classifcation/Garbagepicture/metal/metal101.jpg', '/content/classifcation/Garbagepicture/metal/metal57.jpg', '/content/classifcation/Garbagepicture/metal/metal112.jpg', '/content/classifcation/Garbagepicture/metal/metal134.jpg', '/content/classifcation/Garbagepicture/metal/metal117.jpg', '/content/classifcation/Garbagepicture/metal/metal396.jpg', '/content/classifcation/Garbagepicture/metal/metal23.jpg', '/content/classifcation/Garbagepicture/metal/metal83.jpg', '/content/classifcation/Garbagepicture/metal/metal263.jpg', '/content/classifcation/Garbagepicture/metal/metal345.jpg', '/content/classifcation/Garbagepicture/metal/metal260.jpg', '/content/classifcation/Garbagepicture/metal/metal168.jpg', '/content/classifcation/Garbagepicture/metal/metal341.jpg', '/content/classifcation/Garbagepicture/metal/metal337.jpg', '/content/classifcation/Garbagepicture/metal/metal343.jpg', '/content/classifcation/Garbagepicture/metal/metal265.jpg', '/content/classifcation/Garbagepicture/metal/metal370.jpg', '/content/classifcation/Garbagepicture/metal/metal121.jpg', '/content/classifcation/Garbagepicture/metal/metal19.jpg', '/content/classifcation/Garbagepicture/metal/metal166.jpg', '/content/classifcation/Garbagepicture/metal/metal144.jpg', '/content/classifcation/Garbagepicture/metal/metal4.jpg', '/content/classifcation/Garbagepicture/metal/metal300.jpg', '/content/classifcation/Garbagepicture/metal/metal206.jpg', '/content/classifcation/Garbagepicture/metal/metal349.jpg', '/content/classifcation/Garbagepicture/metal/metal56.jpg', '/content/classifcation/Garbagepicture/metal/metal278.jpg', '/content/classifcation/Garbagepicture/metal/metal14.jpg', '/content/classifcation/Garbagepicture/metal/metal210.jpg', '/content/classifcation/Garbagepicture/metal/metal34.jpg', '/content/classifcation/Garbagepicture/metal/metal354.jpg', '/content/classifcation/Garbagepicture/metal/metal68.jpg', '/content/classifcation/Garbagepicture/metal/metal270.jpg', '/content/classifcation/Garbagepicture/metal/metal402.jpg', '/content/classifcation/Garbagepicture/metal/metal176.jpg', '/content/classifcation/Garbagepicture/metal/metal43.jpg', '/content/classifcation/Garbagepicture/metal/metal313.jpg', '/content/classifcation/Garbagepicture/metal/metal32.jpg', '/content/classifcation/Garbagepicture/metal/metal204.jpg', '/content/classifcation/Garbagepicture/metal/metal119.jpg', '/content/classifcation/Garbagepicture/metal/metal39.jpg', '/content/classifcation/Garbagepicture/metal/metal256.jpg', '/content/classifcation/Garbagepicture/metal/metal303.jpg', '/content/classifcation/Garbagepicture/metal/metal393.jpg', '/content/classifcation/Garbagepicture/metal/metal259.jpg', '/content/classifcation/Garbagepicture/metal/metal291.jpg', '/content/classifcation/Garbagepicture/metal/metal82.jpg', '/content/classifcation/Garbagepicture/metal/metal46.jpg', '/content/classifcation/Garbagepicture/metal/metal384.jpg', '/content/classifcation/Garbagepicture/metal/metal126.jpg', '/content/classifcation/Garbagepicture/metal/metal158.jpg', '/content/classifcation/Garbagepicture/metal/metal361.jpg', '/content/classifcation/Garbagepicture/metal/metal324.jpg', '/content/classifcation/Garbagepicture/metal/metal231.jpg', '/content/classifcation/Garbagepicture/metal/metal11.jpg', '/content/classifcation/Garbagepicture/metal/metal8.jpg', '/content/classifcation/Garbagepicture/metal/metal47.jpg', '/content/classifcation/Garbagepicture/metal/metal283.jpg', '/content/classifcation/Garbagepicture/metal/metal189.jpg', '/content/classifcation/Garbagepicture/metal/metal356.jpg', '/content/classifcation/Garbagepicture/metal/metal91.jpg', '/content/classifcation/Garbagepicture/metal/metal155.jpg', '/content/classifcation/Garbagepicture/metal/metal242.jpg', '/content/classifcation/Garbagepicture/metal/metal128.jpg', '/content/classifcation/Garbagepicture/metal/metal311.jpg', '/content/classifcation/Garbagepicture/metal/metal114.jpg', '/content/classifcation/Garbagepicture/metal/metal77.jpg', '/content/classifcation/Garbagepicture/metal/metal192.jpg', '/content/classifcation/Garbagepicture/metal/metal17.jpg', '/content/classifcation/Garbagepicture/metal/metal408.jpg', '/content/classifcation/Garbagepicture/metal/metal108.jpg', '/content/classifcation/Garbagepicture/metal/metal225.jpg', '/content/classifcation/Garbagepicture/metal/metal268.jpg', '/content/classifcation/Garbagepicture/metal/metal338.jpg', '/content/classifcation/Garbagepicture/metal/metal399.jpg', '/content/classifcation/Garbagepicture/metal/metal54.jpg', '/content/classifcation/Garbagepicture/metal/metal152.jpg', '/content/classifcation/Garbagepicture/metal/metal205.jpg', '/content/classifcation/Garbagepicture/metal/metal355.jpg', '/content/classifcation/Garbagepicture/metal/metal254.jpg', '/content/classifcation/Garbagepicture/metal/metal174.jpg', '/content/classifcation/Garbagepicture/metal/metal13.jpg', '/content/classifcation/Garbagepicture/metal/metal40.jpg', '/content/classifcation/Garbagepicture/metal/metal45.jpg', '/content/classifcation/Garbagepicture/metal/metal312.jpg', '/content/classifcation/Garbagepicture/metal/metal159.jpg', '/content/classifcation/Garbagepicture/metal/metal377.jpg', '/content/classifcation/Garbagepicture/metal/metal198.jpg', '/content/classifcation/Garbagepicture/metal/metal62.jpg', '/content/classifcation/Garbagepicture/metal/metal36.jpg', '/content/classifcation/Garbagepicture/metal/metal145.jpg', '/content/classifcation/Garbagepicture/metal/metal72.jpg', '/content/classifcation/Garbagepicture/metal/metal196.jpg', '/content/classifcation/Garbagepicture/metal/metal336.jpg', '/content/classifcation/Garbagepicture/metal/metal277.jpg', '/content/classifcation/Garbagepicture/metal/metal255.jpg', '/content/classifcation/Garbagepicture/metal/metal173.jpg', '/content/classifcation/Garbagepicture/metal/metal163.jpg', '/content/classifcation/Garbagepicture/metal/metal247.jpg', '/content/classifcation/Garbagepicture/metal/metal401.jpg', '/content/classifcation/Garbagepicture/metal/metal252.jpg', '/content/classifcation/Garbagepicture/metal/metal364.jpg', '/content/classifcation/Garbagepicture/metal/metal353.jpg', '/content/classifcation/Garbagepicture/metal/metal307.jpg', '/content/classifcation/Garbagepicture/metal/metal272.jpg', '/content/classifcation/Garbagepicture/metal/metal21.jpg', '/content/classifcation/Garbagepicture/metal/metal279.jpg', '/content/classifcation/Garbagepicture/metal/metal197.jpg', '/content/classifcation/Garbagepicture/metal/metal286.jpg', '/content/classifcation/Garbagepicture/metal/metal309.jpg', '/content/classifcation/Garbagepicture/metal/metal217.jpg', '/content/classifcation/Garbagepicture/metal/metal59.jpg', '/content/classifcation/Garbagepicture/metal/metal154.jpg', '/content/classifcation/Garbagepicture/metal/metal6.jpg', '/content/classifcation/Garbagepicture/metal/metal257.jpg', '/content/classifcation/Garbagepicture/metal/metal299.jpg', '/content/classifcation/Garbagepicture/metal/metal285.jpg', '/content/classifcation/Garbagepicture/metal/metal326.jpg', '/content/classifcation/Garbagepicture/metal/metal320.jpg', '/content/classifcation/Garbagepicture/metal/metal317.jpg', '/content/classifcation/Garbagepicture/metal/metal267.jpg', '/content/classifcation/Garbagepicture/metal/metal63.jpg', '/content/classifcation/Garbagepicture/metal/metal50.jpg', '/content/classifcation/Garbagepicture/metal/metal148.jpg', '/content/classifcation/Garbagepicture/metal/metal236.jpg', '/content/classifcation/Garbagepicture/metal/metal9.jpg', '/content/classifcation/Garbagepicture/metal/metal327.jpg', '/content/classifcation/Garbagepicture/metal/metal379.jpg', '/content/classifcation/Garbagepicture/metal/metal306.jpg', '/content/classifcation/Garbagepicture/metal/metal5.jpg', '/content/classifcation/Garbagepicture/metal/metal190.jpg', '/content/classifcation/Garbagepicture/metal/metal304.jpg', '/content/classifcation/Garbagepicture/metal/metal226.jpg', '/content/classifcation/Garbagepicture/metal/metal131.jpg', '/content/classifcation/Garbagepicture/metal/metal232.jpg', '/content/classifcation/Garbagepicture/metal/metal28.jpg', '/content/classifcation/Garbagepicture/metal/metal281.jpg', '/content/classifcation/Garbagepicture/metal/metal182.jpg', '/content/classifcation/Garbagepicture/metal/metal42.jpg', '/content/classifcation/Garbagepicture/metal/metal156.jpg', '/content/classifcation/Garbagepicture/metal/metal229.jpg', '/content/classifcation/Garbagepicture/metal/metal143.jpg', '/content/classifcation/Garbagepicture/metal/metal333.jpg', '/content/classifcation/Garbagepicture/metal/metal271.jpg', '/content/classifcation/Garbagepicture/metal/metal406.jpg', '/content/classifcation/Garbagepicture/metal/metal363.jpg', '/content/classifcation/Garbagepicture/metal/metal380.jpg', '/content/classifcation/Garbagepicture/metal/metal365.jpg', '/content/classifcation/Garbagepicture/metal/metal244.jpg', '/content/classifcation/Garbagepicture/metal/metal109.jpg', '/content/classifcation/Garbagepicture/metal/metal141.jpg', '/content/classifcation/Garbagepicture/metal/metal235.jpg', '/content/classifcation/Garbagepicture/metal/metal110.jpg', '/content/classifcation/Garbagepicture/metal/metal106.jpg', '/content/classifcation/Garbagepicture/metal/metal150.jpg', '/content/classifcation/Garbagepicture/metal/metal26.jpg', '/content/classifcation/Garbagepicture/metal/metal347.jpg', '/content/classifcation/Garbagepicture/metal/metal215.jpg', '/content/classifcation/Garbagepicture/metal/metal153.jpg', '/content/classifcation/Garbagepicture/metal/metal342.jpg', '/content/classifcation/Garbagepicture/metal/metal375.jpg', '/content/classifcation/Garbagepicture/metal/metal161.jpg', '/content/classifcation/Garbagepicture/metal/metal3.jpg', '/content/classifcation/Garbagepicture/metal/metal193.jpg', '/content/classifcation/Garbagepicture/metal/metal288.jpg', '/content/classifcation/Garbagepicture/metal/metal385.jpg', '/content/classifcation/Garbagepicture/metal/metal403.jpg', '/content/classifcation/Garbagepicture/metal/metal139.jpg', '/content/classifcation/Garbagepicture/metal/metal248.jpg', '/content/classifcation/Garbagepicture/metal/metal357.jpg', '/content/classifcation/Garbagepicture/metal/metal157.jpg', '/content/classifcation/Garbagepicture/metal/metal284.jpg', '/content/classifcation/Garbagepicture/metal/metal118.jpg', '/content/classifcation/Garbagepicture/metal/metal123.jpg', '/content/classifcation/Garbagepicture/metal/metal339.jpg', '/content/classifcation/Garbagepicture/metal/metal223.jpg', '/content/classifcation/Garbagepicture/metal/metal276.jpg', '/content/classifcation/Garbagepicture/metal/metal137.jpg', '/content/classifcation/Garbagepicture/metal/metal97.jpg', '/content/classifcation/Garbagepicture/metal/metal89.jpg', '/content/classifcation/Garbagepicture/metal/metal282.jpg', '/content/classifcation/Garbagepicture/metal/metal224.jpg', '/content/classifcation/Garbagepicture/metal/metal147.jpg', '/content/classifcation/Garbagepicture/metal/metal2.jpg', '/content/classifcation/Garbagepicture/metal/metal325.jpg', '/content/classifcation/Garbagepicture/metal/metal340.jpg', '/content/classifcation/Garbagepicture/metal/metal290.jpg', '/content/classifcation/Garbagepicture/metal/metal85.jpg', '/content/classifcation/Garbagepicture/metal/metal94.jpg', '/content/classifcation/Garbagepicture/metal/metal44.jpg', '/content/classifcation/Garbagepicture/metal/metal348.jpg', '/content/classifcation/Garbagepicture/metal/metal381.jpg', '/content/classifcation/Garbagepicture/metal/metal52.jpg', '/content/classifcation/Garbagepicture/metal/metal213.jpg', '/content/classifcation/Garbagepicture/metal/metal80.jpg', '/content/classifcation/Garbagepicture/metal/metal92.jpg', '/content/classifcation/Garbagepicture/metal/metal275.jpg', '/content/classifcation/Garbagepicture/metal/metal352.jpg', '/content/classifcation/Garbagepicture/metal/metal253.jpg', '/content/classifcation/Garbagepicture/metal/metal61.jpg', '/content/classifcation/Garbagepicture/metal/metal391.jpg', '/content/classifcation/Garbagepicture/metal/metal264.jpg', '/content/classifcation/Garbagepicture/metal/metal319.jpg', '/content/classifcation/Garbagepicture/metal/metal87.jpg', '/content/classifcation/Garbagepicture/metal/metal177.jpg', '/content/classifcation/Garbagepicture/metal/metal146.jpg', '/content/classifcation/Garbagepicture/metal/metal16.jpg', '/content/classifcation/Garbagepicture/metal/metal321.jpg', '/content/classifcation/Garbagepicture/metal/metal258.jpg', '/content/classifcation/Garbagepicture/metal/metal222.jpg', '/content/classifcation/Garbagepicture/metal/metal237.jpg', '/content/classifcation/Garbagepicture/metal/metal350.jpg', '/content/classifcation/Garbagepicture/metal/metal140.jpg', '/content/classifcation/Garbagepicture/metal/metal73.jpg', '/content/classifcation/Garbagepicture/metal/metal20.jpg', '/content/classifcation/Garbagepicture/metal/metal51.jpg', '/content/classifcation/Garbagepicture/metal/metal79.jpg', '/content/classifcation/Garbagepicture/metal/metal266.jpg', '/content/classifcation/Garbagepicture/metal/metal187.jpg', '/content/classifcation/Garbagepicture/metal/metal169.jpg', '/content/classifcation/Garbagepicture/metal/metal124.jpg', '/content/classifcation/Garbagepicture/metal/metal122.jpg', '/content/classifcation/Garbagepicture/metal/metal151.jpg', '/content/classifcation/Garbagepicture/metal/metal207.jpg', '/content/classifcation/Garbagepicture/metal/metal48.jpg', '/content/classifcation/Garbagepicture/metal/metal249.jpg', '/content/classifcation/Garbagepicture/metal/metal125.jpg', '/content/classifcation/Garbagepicture/metal/metal55.jpg', '/content/classifcation/Garbagepicture/metal/metal221.jpg', '/content/classifcation/Garbagepicture/metal/metal88.jpg', '/content/classifcation/Garbagepicture/metal/metal246.jpg', '/content/classifcation/Garbagepicture/metal/metal33.jpg', '/content/classifcation/Garbagepicture/metal/metal382.jpg', '/content/classifcation/Garbagepicture/metal/metal301.jpg', '/content/classifcation/Garbagepicture/metal/metal74.jpg', '/content/classifcation/Garbagepicture/metal/metal116.jpg', '/content/classifcation/Garbagepicture/metal/metal216.jpg', '/content/classifcation/Garbagepicture/metal/metal293.jpg', '/content/classifcation/Garbagepicture/metal/metal35.jpg', '/content/classifcation/Garbagepicture/metal/metal98.jpg', '/content/classifcation/Garbagepicture/metal/metal323.jpg', '/content/classifcation/Garbagepicture/metal/metal262.jpg', '/content/classifcation/Garbagepicture/metal/metal175.jpg']\n"
          ]
        }
      ]
    },
    {
      "cell_type": "code",
      "metadata": {
        "colab": {
          "base_uri": "https://localhost:8080/"
        },
        "id": "8MZe4DPLGKaw",
        "outputId": "6501b973-70aa-494a-ea91-4ddcd61e9de0"
      },
      "source": [
        "# print(time.time())"
      ],
      "id": "8MZe4DPLGKaw",
      "execution_count": null,
      "outputs": [
        {
          "name": "stdout",
          "output_type": "stream",
          "text": [
            "1635056641.81943\n"
          ]
        }
      ]
    },
    {
      "cell_type": "code",
      "metadata": {
        "id": "utTce1ZDDzXp"
      },
      "source": [
        "# for dirs in glob.glob(\"/content/classifcation/Garbagepicture/*\"): \n",
        "#   # print(dirs)\n",
        "#   paths = glob.glob(dirs + \"/*\")\n",
        "#   # print(paths)\n",
        "#   for path in paths:\n",
        "#     temp = os.path.dirname(path) + \"/\" + str(time.time()) + \".png\"\n",
        "#     # temp = os.path.dirname(path)  # 去掉文件名，返回目录  \n",
        "#     print(temp)"
      ],
      "id": "utTce1ZDDzXp",
      "execution_count": null,
      "outputs": []
    },
    {
      "cell_type": "code",
      "metadata": {
        "id": "-QYELKLSRxHa"
      },
      "source": [
        "# # start = datetime.datetime.now()\n",
        "# for dirs in glob.glob(\"/content/classifcation/Garbage classification/*\"): # glob返回list。返回classfication下目录\n",
        "#   paths = glob.glob(dirs + \"/*\") # 以列表返回\n",
        "  \n",
        "#   for path in paths[:2]:\n",
        "#     img = tf.keras.preprocessing.image.load_img(path)\n",
        "#     img = np.array(img) # 转化为 ndarray的形式\n",
        "#     img = tf.image.adjust_brightness(img,0.3) # 调整 RGB 或灰度图像的亮度\n",
        "#     temp = os.path.dirname(path) + \"/\" + str(time.time()) + \".png\"\n",
        "#     # tf.keras.preprocessing.image.save_img(temp,img)"
      ],
      "id": "-QYELKLSRxHa",
      "execution_count": null,
      "outputs": []
    },
    {
      "cell_type": "code",
      "metadata": {
        "colab": {
          "base_uri": "https://localhost:8080/"
        },
        "id": "9f93ac34",
        "outputId": "6d8e957d-8873-4512-f8de-05c89d49b500"
      },
      "source": [
        "# 数据增强，加强亮度\n",
        "start = datetime.datetime.now()\n",
        "for dirs in glob.glob(\"/content/classifcation/Garbagepicture/*\"): # glob返回list。返回classfication下目录\n",
        "  paths = glob.glob(dirs + \"/*\") # 以列表返回\n",
        "  \n",
        "  for path in paths:\n",
        "    img = tf.keras.preprocessing.image.load_img(path)\n",
        "    img = np.array(img) # 转化为 ndarray的形式\n",
        "    img = tf.image.adjust_brightness(img,0.3) # 调整 RGB 或灰度图像的亮度\n",
        "    temp = os.path.dirname(path) + \"/\" + str(time.time()) + \".png\"\n",
        "    tf.keras.preprocessing.image.save_img(temp,img)\n",
        "  for path in paths:\n",
        "    img = tf.keras.preprocessing.image.load_img(path)\n",
        "    img = np.array(img) # 转化为 ndarray的形式\n",
        "    img = tf.image.flip_left_right(img) #水平翻转图像(从左到右)\n",
        "    temp = os.path.dirname(path) + \"/\" + str(time.time()) + \".png\"\n",
        "    tf.keras.preprocessing.image.save_img(temp,img)\n",
        "end = datetime.datetime.now()\n",
        "print(end-start)"
      ],
      "id": "9f93ac34",
      "execution_count": null,
      "outputs": [
        {
          "name": "stdout",
          "output_type": "stream",
          "text": [
            "0:03:25.718557\n"
          ]
        }
      ]
    },
    {
      "cell_type": "code",
      "metadata": {
        "colab": {
          "base_uri": "https://localhost:8080/"
        },
        "id": "qQMkJf1DKZxA",
        "outputId": "427ec908-8efd-407d-a580-606f0a0e1b04"
      },
      "source": [
        "!pwd\n",
        "# !mv /content/classifcation/ /content/yes\n",
        "# !mv /content/old2/ /content/classifcation\n",
        "# !rm /content/classifcation/ -rf\n",
        "# !rm /content/image.csv\n"
      ],
      "id": "qQMkJf1DKZxA",
      "execution_count": null,
      "outputs": [
        {
          "name": "stdout",
          "output_type": "stream",
          "text": [
            "/content\n"
          ]
        }
      ]
    },
    {
      "cell_type": "code",
      "metadata": {
        "id": "_QmUIQ4OLSr3"
      },
      "source": [
        "# # 数据增强，加强亮度\n",
        "# start = datetime.datetime.now()\n",
        "# for dirs in glob.glob(\"./pokemanpicture/*\"): # glob返回list。返回classfication下目录\n",
        "#   paths = glob.glob(dirs + \"/*\") # 以一个列表形式返回\n",
        "  \n",
        "#   for path in paths:\n",
        "#     img = tf.keras.preprocessing.image.load_img(path)\n",
        "#     img = np.array(img) # 转化为 ndarray的形式\n",
        "#     img = tf.image.adjust_brightness(img,0.3) # 调整 RGB 或灰度图像的亮度\n",
        "#     temp = os.path.dirname(path) + \"/\" + str(time.time()) + \".png\"\n",
        "#     tf.keras.preprocessing.image.save_img(temp,img)\n",
        "#   for path in paths:\n",
        "#     img = tf.keras.preprocessing.image.load_img(path)\n",
        "#     img = np.array(img) # 转化为 ndarray的形式\n",
        "#     img = tf.image.flip_left_right(img) #水平翻转图像(从左到右)\n",
        "#     temp = os.path.dirname(path) + \"/\" + str(time.time()) + \".png\"\n",
        "#     tf.keras.preprocessing.image.save_img(temp,img)\n",
        "# end = datetime.datetime.now()\n",
        "# print(end-start)"
      ],
      "id": "_QmUIQ4OLSr3",
      "execution_count": null,
      "outputs": []
    },
    {
      "cell_type": "code",
      "metadata": {
        "id": "10fc2b0b",
        "outputId": "b91b60ff-01cd-43a5-ac81-f16afe706e89"
      },
      "source": [
        "# start = datetime.datetime.now()\n",
        "# for dirs in glob.glob(\"./pokemanpicture/*\"):\n",
        "#   flag = 1\n",
        "#   for path in glob.glob(dirs + \"/*\"):\n",
        "#     img = tf.keras.preprocessing.image.load_img(path)\n",
        "#     img = np.array(img) # 转化为 ndarray的形式\n",
        "#     img = tf.image.adjust_brightness(img,0.3)\n",
        "#     temp = os.path.dirname(path) + \"/\" + str(time.time()) + \".png\"\n",
        "#     tf.keras.preprocessing.image.save_img(temp,img)\n",
        "#     if flag: # 打印一组值\n",
        "#       print(temp)\n",
        "#       flag = 0\n",
        "# end = datetime.datetime.now()\n",
        "# print(end-start)"
      ],
      "id": "10fc2b0b",
      "execution_count": null,
      "outputs": [
        {
          "name": "stdout",
          "output_type": "stream",
          "text": [
            "./pokemanpicture/mewtwo/1634297470.5968313.png\n"
          ]
        },
        {
          "name": "stderr",
          "output_type": "stream",
          "text": [
            "/home/long/.conda/envs/long/lib/python3.7/site-packages/PIL/Image.py:974: UserWarning: Palette images with Transparency expressed in bytes should be converted to RGBA images\n",
            "  \"Palette images with Transparency expressed in bytes should be \"\n"
          ]
        },
        {
          "name": "stdout",
          "output_type": "stream",
          "text": [
            "./pokemanpicture/charmander/1634297539.8135343.png\n",
            "./pokemanpicture/squirtle/1634297615.9221616.png\n",
            "./pokemanpicture/bulbasaur/1634297672.387268.png\n",
            "./pokemanpicture/pikachu/1634297737.1577804.png\n",
            "0:05:30.447628\n"
          ]
        }
      ]
    },
    {
      "cell_type": "markdown",
      "metadata": {
        "id": "0d069db7"
      },
      "source": [
        "# 划分数据集"
      ],
      "id": "0d069db7"
    },
    {
      "cell_type": "code",
      "metadata": {
        "colab": {
          "base_uri": "https://localhost:8080/"
        },
        "id": "QJAPKAV9SMNQ",
        "outputId": "7d98bcd4-d7c6-4c54-bc3b-600ecf6f33ac"
      },
      "source": [
        "# for dirs in glob.glob(\"/content/classifcation/Garbagepicture/*\"):\n",
        "#   name = dirs.split(\"/\")\n",
        "#   print(name)"
      ],
      "id": "QJAPKAV9SMNQ",
      "execution_count": null,
      "outputs": [
        {
          "name": "stdout",
          "output_type": "stream",
          "text": [
            "['', 'content', 'classifcation', 'Garbagepicture', 'paper']\n",
            "['', 'content', 'classifcation', 'Garbagepicture', 'plastic']\n",
            "['', 'content', 'classifcation', 'Garbagepicture', 'glass']\n",
            "['', 'content', 'classifcation', 'Garbagepicture', 'cardboard']\n",
            "['', 'content', 'classifcation', 'Garbagepicture', 'metal']\n"
          ]
        }
      ]
    },
    {
      "cell_type": "code",
      "metadata": {
        "id": "LL74gy1VV7YA"
      },
      "source": [
        "# images = []\n",
        "# labels = []\n",
        "# name2label = dict()\n",
        "\n",
        "# t = 0\n",
        "# for dirs in glob.glob(\"/content/classifcation/Garbagepicture/*\"):\n",
        "#   name = dirs.split(\"/\")[4]\n",
        "#   name2label[name] = t\n",
        "#   t += 1\n",
        "#   for path in glob.glob(dirs + \"/*\"):\n",
        "#     images.append(path)\n",
        "# random.shuffle(images)\n",
        "# for path in images:\n",
        "#   name = path.split(\"/\")[4]\n",
        "#   print(name)  "
      ],
      "id": "LL74gy1VV7YA",
      "execution_count": null,
      "outputs": []
    },
    {
      "cell_type": "code",
      "metadata": {
        "colab": {
          "base_uri": "https://localhost:8080/",
          "height": 223
        },
        "id": "MKHO-J31a6T5",
        "outputId": "8c013c08-cbec-48a7-fbf2-3400dc88072f"
      },
      "source": [
        "images = []\n",
        "labels = []\n",
        "name2label = dict()\n",
        "\n",
        "t = 0\n",
        "for dirs in glob.glob(\"/content/classifcation/Garbagepicture/*\"):\n",
        "  name = dirs.split(\"/\")[4]\n",
        "  name2label[name] = t\n",
        "  t += 1\n",
        "  for path in glob.glob(dirs + \"/*\"):\n",
        "    images.append(path)\n",
        "random.shuffle(images)\n",
        "for path in images:\n",
        "  name = path.split(\"/\")[4]\n",
        "  labels.append(name2label[name]) # 打乱后的标签值列表\n",
        "\n",
        "df = pd.DataFrame({\"images\":images,\"labels\":labels})\n",
        "df.to_csv(\"./image.csv\",index=False)\n",
        "print(name2label)\n",
        "df.head()"
      ],
      "id": "MKHO-J31a6T5",
      "execution_count": null,
      "outputs": [
        {
          "name": "stdout",
          "output_type": "stream",
          "text": [
            "{'paper': 0, 'plastic': 1, 'glass': 2, 'cardboard': 3, 'metal': 4}\n"
          ]
        },
        {
          "data": {
            "text/html": [
              "<div>\n",
              "<style scoped>\n",
              "    .dataframe tbody tr th:only-of-type {\n",
              "        vertical-align: middle;\n",
              "    }\n",
              "\n",
              "    .dataframe tbody tr th {\n",
              "        vertical-align: top;\n",
              "    }\n",
              "\n",
              "    .dataframe thead th {\n",
              "        text-align: right;\n",
              "    }\n",
              "</style>\n",
              "<table border=\"1\" class=\"dataframe\">\n",
              "  <thead>\n",
              "    <tr style=\"text-align: right;\">\n",
              "      <th></th>\n",
              "      <th>images</th>\n",
              "      <th>labels</th>\n",
              "    </tr>\n",
              "  </thead>\n",
              "  <tbody>\n",
              "    <tr>\n",
              "      <th>0</th>\n",
              "      <td>/content/classifcation/Garbagepicture/paper/16...</td>\n",
              "      <td>0</td>\n",
              "    </tr>\n",
              "    <tr>\n",
              "      <th>1</th>\n",
              "      <td>/content/classifcation/Garbagepicture/cardboar...</td>\n",
              "      <td>3</td>\n",
              "    </tr>\n",
              "    <tr>\n",
              "      <th>2</th>\n",
              "      <td>/content/classifcation/Garbagepicture/paper/pa...</td>\n",
              "      <td>0</td>\n",
              "    </tr>\n",
              "    <tr>\n",
              "      <th>3</th>\n",
              "      <td>/content/classifcation/Garbagepicture/paper/16...</td>\n",
              "      <td>0</td>\n",
              "    </tr>\n",
              "    <tr>\n",
              "      <th>4</th>\n",
              "      <td>/content/classifcation/Garbagepicture/metal/16...</td>\n",
              "      <td>4</td>\n",
              "    </tr>\n",
              "  </tbody>\n",
              "</table>\n",
              "</div>"
            ],
            "text/plain": [
              "                                              images  labels\n",
              "0  /content/classifcation/Garbagepicture/paper/16...       0\n",
              "1  /content/classifcation/Garbagepicture/cardboar...       3\n",
              "2  /content/classifcation/Garbagepicture/paper/pa...       0\n",
              "3  /content/classifcation/Garbagepicture/paper/16...       0\n",
              "4  /content/classifcation/Garbagepicture/metal/16...       4"
            ]
          },
          "execution_count": 17,
          "metadata": {},
          "output_type": "execute_result"
        }
      ]
    },
    {
      "cell_type": "code",
      "metadata": {
        "id": "c9a80939",
        "scrolled": false,
        "outputId": "d27ceeed-892c-4557-c530-98b77ff247a6"
      },
      "source": [
        "# images = [] # 存入图像的路径\n",
        "# labels = [] # 存入打乱后图像路径，对应的标签\n",
        "# name2label = dict()\n",
        "\n",
        "# t = 0\n",
        "# for dirs in glob.glob(\"./pokemanpicture/*\"):\n",
        "#   name = dirs.split(\"/\")[4]\n",
        "#   name2label[name] = t\n",
        "#   t += 1\n",
        "#   for path in glob.glob(dirs + \"/*\"):\n",
        "#     images.append(path) # 存入照片地址\n",
        "# random.shuffle(images) # 打乱图像路径\n",
        "\n",
        "# for iamge in images:\n",
        "#   name = iamge.split(\"/\")[4]\n",
        "#   labels.append(name2label[name]) # 打乱后的标签值列表\n",
        "\n",
        "# df = pd.DataFrame({\"images\":images,\"labels\":labels})\n",
        "# df.to_csv(\"./image.csv\",index=False)\n",
        "# print(name2label)\n",
        "# df.head()"
      ],
      "id": "c9a80939",
      "execution_count": null,
      "outputs": [
        {
          "name": "stdout",
          "output_type": "stream",
          "text": [
            "{'mewtwo': 0, 'charmander': 1, 'squirtle': 2, 'bulbasaur': 3, 'pikachu': 4}\n"
          ]
        },
        {
          "data": {
            "text/html": [
              "<div>\n",
              "<style scoped>\n",
              "    .dataframe tbody tr th:only-of-type {\n",
              "        vertical-align: middle;\n",
              "    }\n",
              "\n",
              "    .dataframe tbody tr th {\n",
              "        vertical-align: top;\n",
              "    }\n",
              "\n",
              "    .dataframe thead th {\n",
              "        text-align: right;\n",
              "    }\n",
              "</style>\n",
              "<table border=\"1\" class=\"dataframe\">\n",
              "  <thead>\n",
              "    <tr style=\"text-align: right;\">\n",
              "      <th></th>\n",
              "      <th>images</th>\n",
              "      <th>labels</th>\n",
              "    </tr>\n",
              "  </thead>\n",
              "  <tbody>\n",
              "    <tr>\n",
              "      <th>0</th>\n",
              "      <td>./pokemanpicture/mewtwo/1634297486.2058926.png</td>\n",
              "      <td>0</td>\n",
              "    </tr>\n",
              "    <tr>\n",
              "      <th>1</th>\n",
              "      <td>./pokemanpicture/squirtle/1634297617.1559815.png</td>\n",
              "      <td>2</td>\n",
              "    </tr>\n",
              "    <tr>\n",
              "      <th>2</th>\n",
              "      <td>./pokemanpicture/pikachu/00000129.jpg</td>\n",
              "      <td>4</td>\n",
              "    </tr>\n",
              "    <tr>\n",
              "      <th>3</th>\n",
              "      <td>./pokemanpicture/mewtwo/1634297521.554187.png</td>\n",
              "      <td>0</td>\n",
              "    </tr>\n",
              "    <tr>\n",
              "      <th>4</th>\n",
              "      <td>./pokemanpicture/pikachu/00000057.png</td>\n",
              "      <td>4</td>\n",
              "    </tr>\n",
              "  </tbody>\n",
              "</table>\n",
              "</div>"
            ],
            "text/plain": [
              "                                             images  labels\n",
              "0    ./pokemanpicture/mewtwo/1634297486.2058926.png       0\n",
              "1  ./pokemanpicture/squirtle/1634297617.1559815.png       2\n",
              "2             ./pokemanpicture/pikachu/00000129.jpg       4\n",
              "3     ./pokemanpicture/mewtwo/1634297521.554187.png       0\n",
              "4             ./pokemanpicture/pikachu/00000057.png       4"
            ]
          },
          "execution_count": 107,
          "metadata": {},
          "output_type": "execute_result"
        }
      ]
    },
    {
      "cell_type": "code",
      "metadata": {
        "id": "4b4ebfe1"
      },
      "source": [
        "def load_data(model):\n",
        "    df = pd.read_csv(\"./image.csv\")\n",
        "    images = df[\"images\"]\n",
        "    labels = df[\"labels\"]\n",
        "    if model == \"train\":\n",
        "        print(\"训练集：\" + str(len(labels[:int(0.7*len(labels))])))\n",
        "        return images[:int(0.7*len(images))], labels[:int(0.7*len(labels))]\n",
        "    elif model == \"val\":\n",
        "        print(\"验证集：\" + str(len(labels[int(0.7*len(labels)):])))\n",
        "        return images[int(0.7*len(images)):], labels[int(0.7*len(labels)):]"
      ],
      "id": "4b4ebfe1",
      "execution_count": null,
      "outputs": []
    },
    {
      "cell_type": "markdown",
      "metadata": {
        "id": "a6f1173a"
      },
      "source": [
        "# 数据预处理并放入tf.data中"
      ],
      "id": "a6f1173a"
    },
    {
      "cell_type": "code",
      "metadata": {
        "colab": {
          "base_uri": "https://localhost:8080/"
        },
        "id": "NRBPlgfKcipB",
        "outputId": "df1ebb28-ae5d-4634-ac9b-e68da7726213"
      },
      "source": [
        "!pwd"
      ],
      "id": "NRBPlgfKcipB",
      "execution_count": null,
      "outputs": [
        {
          "name": "stdout",
          "output_type": "stream",
          "text": [
            "/content\n"
          ]
        }
      ]
    },
    {
      "cell_type": "code",
      "metadata": {
        "colab": {
          "base_uri": "https://localhost:8080/"
        },
        "id": "8XzcKHmaccIB",
        "outputId": "8c153ae3-9512-4075-b427-440437ae5da1"
      },
      "source": [
        "x = tf.io.read_file(\"/content/classifcation/Garbagepicture/cardboard/1635058243.1515467.png\")\n",
        "x = tf.io.decode_jpeg(x,channels=3) #将JPEG编码的图像解码为uint8张量\n",
        "print(x.shape,x.dtype)\n",
        "x = tf.image.resize(x,(244,244))\n",
        "x = tf.cast(x,dtype=tf.float32) / 255."
      ],
      "id": "8XzcKHmaccIB",
      "execution_count": null,
      "outputs": [
        {
          "name": "stdout",
          "output_type": "stream",
          "text": [
            "(384, 512, 3) <dtype: 'uint8'>\n"
          ]
        }
      ]
    },
    {
      "cell_type": "code",
      "metadata": {
        "id": "bf66693f",
        "outputId": "f08d9ffb-dbd9-4881-eeb1-216b11afd75e"
      },
      "source": [
        "# x = tf.io.read_file(\"./pokemanpicture/bulbasaur/00000000.png\")\n",
        "# x = tf.io.decode_jpeg(x,channels=3) #将JPEG编码的图像解码为uint8张量\n",
        "# print(x.shape,x.dtype)\n",
        "# x = tf.image.resize(x,(244,244))\n",
        "# x = tf.cast(x,dtype=tf.float32) / 255."
      ],
      "id": "bf66693f",
      "execution_count": null,
      "outputs": [
        {
          "name": "stdout",
          "output_type": "stream",
          "text": [
            "(900, 900, 3) <dtype: 'uint8'>\n"
          ]
        }
      ]
    },
    {
      "cell_type": "code",
      "metadata": {
        "id": "5e8f2287"
      },
      "source": [
        "def preprocess(x,y):\n",
        "    x = tf.io.read_file(x)\n",
        "    x = tf.io.decode_jpeg(x,channels=3)\n",
        "    x = tf.image.resize(x,(224,224))\n",
        "    x = tf.cast(x,dtype=tf.float32) / 255.\n",
        "    \n",
        "    y = tf.convert_to_tensor(y)\n",
        "    y = tf.one_hot(y,depth=5)# onehot五分类\n",
        "    return x,y"
      ],
      "id": "5e8f2287",
      "execution_count": null,
      "outputs": []
    },
    {
      "cell_type": "code",
      "metadata": {
        "colab": {
          "base_uri": "https://localhost:8080/"
        },
        "id": "9aa46fa3",
        "outputId": "032f49b7-8cbb-4944-b87a-284a75d2ba15"
      },
      "source": [
        "batch_size = 8\n",
        "train_data = tf.data.Dataset.from_tensor_slices(load_data(\"train\")) #函数基于images和labels构建Dataset,函数会对tensor和numpy array的处理一视同仁\n",
        "train_data = train_data.shuffle(1000).map(preprocess).batch(batch_size)\n",
        "\n",
        "val_data = tf.data.Dataset.from_tensor_slices(load_data(\"val\"))\n",
        "val_data = val_data.map(preprocess).batch(batch_size)  # 不能shuffle 不然后面混淆矩阵找不到真是标签\n",
        "\n",
        "print(train_data)\n",
        "print(val_data)"
      ],
      "id": "9aa46fa3",
      "execution_count": null,
      "outputs": [
        {
          "name": "stdout",
          "output_type": "stream",
          "text": [
            "训练集：5019\n",
            "验证集：2151\n",
            "<BatchDataset shapes: ((None, 224, 224, 3), (None, 5)), types: (tf.float32, tf.float32)>\n",
            "<BatchDataset shapes: ((None, 224, 224, 3), (None, 5)), types: (tf.float32, tf.float32)>\n"
          ]
        }
      ]
    },
    {
      "cell_type": "markdown",
      "metadata": {
        "id": "cfc1a0b9"
      },
      "source": [
        "# 构建模型"
      ],
      "id": "cfc1a0b9"
    },
    {
      "cell_type": "code",
      "metadata": {
        "colab": {
          "base_uri": "https://localhost:8080/"
        },
        "id": "9e53a510",
        "outputId": "821d7eba-4625-4f92-874d-71858a7791a2"
      },
      "source": [
        "base_model = tf.keras.applications.vgg16.VGG16(weights=\"/content/classifcation/vgg16_weights_tf_dim_ordering_tf_kernels_notop.h5\",include_top=False)\n",
        "\n",
        "for layer in base_model.layers[:-4]:\n",
        "    layer.trainable = False\n",
        "# base_model.summary()\n",
        "  \n",
        "model = tf.keras.Sequential()\n",
        "model.add(base_model)\n",
        "model.add(tf.keras.layers.GlobalAveragePooling2D())\n",
        "model.add(tf.keras.layers.Dense(256,activation=\"relu\"))\n",
        "model.add(tf.keras.layers.Dropout(0.2))\n",
        "model.add(tf.keras.layers.Dense(5,activation=\"softmax\"))\n",
        "model.summary()"
      ],
      "id": "9e53a510",
      "execution_count": null,
      "outputs": [
        {
          "name": "stdout",
          "output_type": "stream",
          "text": [
            "Model: \"sequential_1\"\n",
            "_________________________________________________________________\n",
            "Layer (type)                 Output Shape              Param #   \n",
            "=================================================================\n",
            "vgg16 (Functional)           (None, None, None, 512)   14714688  \n",
            "_________________________________________________________________\n",
            "global_average_pooling2d_1 ( (None, 512)               0         \n",
            "_________________________________________________________________\n",
            "dense_2 (Dense)              (None, 256)               131328    \n",
            "_________________________________________________________________\n",
            "dropout_1 (Dropout)          (None, 256)               0         \n",
            "_________________________________________________________________\n",
            "dense_3 (Dense)              (None, 5)                 1285      \n",
            "=================================================================\n",
            "Total params: 14,847,301\n",
            "Trainable params: 7,212,037\n",
            "Non-trainable params: 7,635,264\n",
            "_________________________________________________________________\n"
          ]
        }
      ]
    },
    {
      "cell_type": "markdown",
      "metadata": {
        "id": "b971daa1"
      },
      "source": [
        "# 模型编译和训练"
      ],
      "id": "b971daa1"
    },
    {
      "cell_type": "code",
      "metadata": {
        "colab": {
          "base_uri": "https://localhost:8080/"
        },
        "id": "942ce388",
        "outputId": "48dcb802-2af4-4297-cecd-4feec2ad1995"
      },
      "source": [
        "easystop = tf.keras.callbacks.EarlyStopping(patience=6,min_delta=0.01)\n",
        "\n",
        "model.compile(\n",
        "    optimizer=tf.keras.optimizers.Adam(1e-4),\n",
        "    loss=tf.keras.losses.CategoricalCrossentropy(from_logits=True),\n",
        "    metrics=[\"accuracy\"]\n",
        ")\n",
        "start = datetime.datetime.now()\n",
        "history = model.fit(train_data,validation_data=val_data,callbacks=[easystop],epochs=200)\n",
        "end = datetime.datetime.now()\n",
        "print(\"*\"*100)\n",
        "print(end - start)"
      ],
      "id": "942ce388",
      "execution_count": null,
      "outputs": [
        {
          "name": "stdout",
          "output_type": "stream",
          "text": [
            "Epoch 1/200\n"
          ]
        },
        {
          "name": "stderr",
          "output_type": "stream",
          "text": [
            "/usr/local/lib/python3.7/dist-packages/keras/backend.py:4847: UserWarning: \"`categorical_crossentropy` received `from_logits=True`, but the `output` argument was produced by a sigmoid or softmax activation and thus does not represent logits. Was this intended?\"\n",
            "  '\"`categorical_crossentropy` received `from_logits=True`, but '\n"
          ]
        },
        {
          "name": "stdout",
          "output_type": "stream",
          "text": [
            "628/628 [==============================] - 124s 196ms/step - loss: 0.6705 - accuracy: 0.7366 - val_loss: 0.3710 - val_accuracy: 0.8680\n",
            "Epoch 2/200\n",
            "628/628 [==============================] - 117s 187ms/step - loss: 0.3295 - accuracy: 0.8809 - val_loss: 0.2944 - val_accuracy: 0.9033\n",
            "Epoch 3/200\n",
            "628/628 [==============================] - 117s 186ms/step - loss: 0.1720 - accuracy: 0.9434 - val_loss: 0.3466 - val_accuracy: 0.8768\n",
            "Epoch 4/200\n",
            "628/628 [==============================] - 117s 186ms/step - loss: 0.1121 - accuracy: 0.9645 - val_loss: 0.2527 - val_accuracy: 0.9145\n",
            "Epoch 5/200\n",
            "628/628 [==============================] - 118s 188ms/step - loss: 0.0856 - accuracy: 0.9737 - val_loss: 0.2545 - val_accuracy: 0.9275\n",
            "Epoch 6/200\n",
            "628/628 [==============================] - 118s 188ms/step - loss: 0.0562 - accuracy: 0.9807 - val_loss: 0.2451 - val_accuracy: 0.9284\n",
            "Epoch 7/200\n",
            "628/628 [==============================] - 118s 187ms/step - loss: 0.0489 - accuracy: 0.9839 - val_loss: 0.1532 - val_accuracy: 0.9484\n",
            "Epoch 8/200\n",
            "628/628 [==============================] - 116s 185ms/step - loss: 0.0608 - accuracy: 0.9791 - val_loss: 0.1661 - val_accuracy: 0.9447\n",
            "Epoch 9/200\n",
            "628/628 [==============================] - 116s 185ms/step - loss: 0.0604 - accuracy: 0.9795 - val_loss: 0.2083 - val_accuracy: 0.9489\n",
            "Epoch 10/200\n",
            "628/628 [==============================] - 117s 187ms/step - loss: 0.0221 - accuracy: 0.9928 - val_loss: 0.1350 - val_accuracy: 0.9577\n",
            "Epoch 11/200\n",
            "628/628 [==============================] - 118s 187ms/step - loss: 0.0371 - accuracy: 0.9880 - val_loss: 0.2324 - val_accuracy: 0.9335\n",
            "Epoch 12/200\n",
            "628/628 [==============================] - 118s 187ms/step - loss: 0.0357 - accuracy: 0.9865 - val_loss: 0.2298 - val_accuracy: 0.9344\n",
            "Epoch 13/200\n",
            "628/628 [==============================] - 118s 188ms/step - loss: 0.0325 - accuracy: 0.9898 - val_loss: 0.2139 - val_accuracy: 0.9391\n",
            "Epoch 14/200\n",
            "628/628 [==============================] - 118s 188ms/step - loss: 0.0412 - accuracy: 0.9868 - val_loss: 0.2497 - val_accuracy: 0.9238\n",
            "Epoch 15/200\n",
            "628/628 [==============================] - 117s 187ms/step - loss: 0.0177 - accuracy: 0.9940 - val_loss: 0.2840 - val_accuracy: 0.9303\n",
            "Epoch 16/200\n",
            "628/628 [==============================] - 118s 187ms/step - loss: 0.0500 - accuracy: 0.9855 - val_loss: 0.1620 - val_accuracy: 0.9544\n",
            "****************************************************************************************************\n",
            "0:36:37.893089\n"
          ]
        }
      ]
    },
    {
      "cell_type": "markdown",
      "metadata": {
        "id": "0e40b8a4"
      },
      "source": [
        "# 绘制训练集和验证集上损失值、准确率"
      ],
      "id": "0e40b8a4"
    },
    {
      "cell_type": "code",
      "metadata": {
        "colab": {
          "base_uri": "https://localhost:8080/",
          "height": 544
        },
        "id": "f660334a",
        "scrolled": false,
        "outputId": "179f0eea-4a70-4c2c-a3cd-d0b9c7d8e20b"
      },
      "source": [
        "train_loss = history.history[\"loss\"]\n",
        "train_accuracy = history.history[\"accuracy\"]\n",
        "val_loss = history.history[\"val_loss\"]\n",
        "val_accuray = history.history[\"val_accuracy\"]\n",
        "\n",
        "plt.plot(train_loss,label=\"train_loss\")\n",
        "plt.plot(val_loss,label=\"val_loss\")\n",
        "plt.legend()\n",
        "plt.xlabel(\"epochs\")\n",
        "plt.ylabel(\"loss\")\n",
        "plt.savefig(\"loss3.png\")\n",
        "plt.show()\n",
        "\n",
        "\n",
        "plt.plot(train_accuracy,label=\"train_accuracy\")\n",
        "plt.plot(val_accuray,label=\"val_accuray\")\n",
        "plt.legend()\n",
        "plt.xlabel(\"epochs\")\n",
        "plt.ylabel(\"accuracy\")\n",
        "plt.savefig(\"accuracy3.png\")\n",
        "plt.show()"
      ],
      "id": "f660334a",
      "execution_count": null,
      "outputs": [
        {
          "data": {
            "image/png": "[encoded data removed]",
            "text/plain": [
              "<Figure size 432x288 with 1 Axes>"
            ]
          },
          "metadata": {},
          "output_type": "display_data"
        },
        {
          "data": {
            "image/png": "[encoded data removed]",
            "text/plain": [
              "<Figure size 432x288 with 1 Axes>"
            ]
          },
          "metadata": {},
          "output_type": "display_data"
        }
      ]
    },
    {
      "cell_type": "markdown",
      "metadata": {
        "id": "bc061ca2"
      },
      "source": [
        "# 绘制验证集混淆矩阵"
      ],
      "id": "bc061ca2"
    },
    {
      "cell_type": "code",
      "metadata": {
        "colab": {
          "base_uri": "https://localhost:8080/"
        },
        "id": "71093bc2",
        "scrolled": false,
        "outputId": "d7542421-e132-42ca-88d3-ba8dbe810321"
      },
      "source": [
        "from sklearn.metrics import confusion_matrix\n",
        "y_pred = model.predict_generator(val_data)\n",
        "y_pred_classes = np.argmax(y_pred,axis=1)\n",
        "y_true = list(load_data(\"val\")[1])\n",
        "matrix = confusion_matrix(load_data(\"val\")[1],y_pred_classes)\n",
        "print(matrix)"
      ],
      "id": "71093bc2",
      "execution_count": 38,
      "outputs": [
        {
          "output_type": "stream",
          "name": "stderr",
          "text": [
            "/usr/local/lib/python3.7/dist-packages/keras/engine/training.py:2035: UserWarning: `Model.predict_generator` is deprecated and will be removed in a future version. Please use `Model.predict`, which supports generators.\n",
            "  warnings.warn('`Model.predict_generator` is deprecated and '\n"
          ]
        },
        {
          "output_type": "stream",
          "name": "stdout",
          "text": [
            "验证集：2151\n",
            "验证集：2151\n",
            "[[532   4   3   1   1]\n",
            " [ 12 420   7   0   5]\n",
            " [  1  12 415   0   7]\n",
            " [ 18   4   0 326   3]\n",
            " [  9   5   5   1 360]]\n"
          ]
        }
      ]
    },
    {
      "cell_type": "markdown",
      "metadata": {
        "id": "8e2bb54f"
      },
      "source": [
        "# 预测并保存到csv"
      ],
      "id": "8e2bb54f"
    },
    {
      "cell_type": "code",
      "metadata": {
        "id": "198bc35d"
      },
      "source": [
        "def preprocess_x(x):\n",
        "    x = tf.io.read_file(x)\n",
        "    x = tf.io.decode_jpeg(x,channels=3)\n",
        "    x = tf.image.resize(x,(224,224))\n",
        "    x = tf.cast(x,dtype=tf.float32) / 255.\n",
        "    x = np.expand_dims(x,axis=0)\n",
        "    return x"
      ],
      "id": "198bc35d",
      "execution_count": 39,
      "outputs": []
    },
    {
      "cell_type": "code",
      "metadata": {
        "colab": {
          "base_uri": "https://localhost:8080/",
          "height": 440
        },
        "id": "5HKNFMGqTeZB",
        "outputId": "5470764b-6b59-4394-a359-a1b8dad95951"
      },
      "source": [
        "label2name = list(name2label.keys())\n",
        "print(label2name)\n",
        "pre_images = []\n",
        "pre_label = []\n",
        "for path in glob.glob(\"/content/classifcation/prediction/*\"):\n",
        "    pre_images.append(path)\n",
        "    pre_label.append(label2name[np.argmax(model.predict(preprocess_x(path)),axis=1)[0]]) # 这里的predict_classes不能用\n",
        "df = pd.DataFrame({\"images\":pre_images,\"pre_label\":pre_label})\n",
        "df.to_csv(\"predict.csv\",index=False)\n",
        "df"
      ],
      "id": "5HKNFMGqTeZB",
      "execution_count": 44,
      "outputs": [
        {
          "output_type": "stream",
          "name": "stdout",
          "text": [
            "['paper', 'plastic', 'glass', 'cardboard', 'metal']\n"
          ]
        },
        {
          "output_type": "execute_result",
          "data": {
            "text/html": [
              "<div>\n",
              "<style scoped>\n",
              "    .dataframe tbody tr th:only-of-type {\n",
              "        vertical-align: middle;\n",
              "    }\n",
              "\n",
              "    .dataframe tbody tr th {\n",
              "        vertical-align: top;\n",
              "    }\n",
              "\n",
              "    .dataframe thead th {\n",
              "        text-align: right;\n",
              "    }\n",
              "</style>\n",
              "<table border=\"1\" class=\"dataframe\">\n",
              "  <thead>\n",
              "    <tr style=\"text-align: right;\">\n",
              "      <th></th>\n",
              "      <th>images</th>\n",
              "      <th>pre_label</th>\n",
              "    </tr>\n",
              "  </thead>\n",
              "  <tbody>\n",
              "    <tr>\n",
              "      <th>0</th>\n",
              "      <td>/content/classifcation/prediction/trash88.jpg</td>\n",
              "      <td>plastic</td>\n",
              "    </tr>\n",
              "    <tr>\n",
              "      <th>1</th>\n",
              "      <td>/content/classifcation/prediction/trash71.jpg</td>\n",
              "      <td>plastic</td>\n",
              "    </tr>\n",
              "    <tr>\n",
              "      <th>2</th>\n",
              "      <td>/content/classifcation/prediction/trash36.jpg</td>\n",
              "      <td>paper</td>\n",
              "    </tr>\n",
              "    <tr>\n",
              "      <th>3</th>\n",
              "      <td>/content/classifcation/prediction/trash112.jpg</td>\n",
              "      <td>metal</td>\n",
              "    </tr>\n",
              "    <tr>\n",
              "      <th>4</th>\n",
              "      <td>/content/classifcation/prediction/trash52.jpg</td>\n",
              "      <td>paper</td>\n",
              "    </tr>\n",
              "    <tr>\n",
              "      <th>...</th>\n",
              "      <td>...</td>\n",
              "      <td>...</td>\n",
              "    </tr>\n",
              "    <tr>\n",
              "      <th>132</th>\n",
              "      <td>/content/classifcation/prediction/trash56.jpg</td>\n",
              "      <td>plastic</td>\n",
              "    </tr>\n",
              "    <tr>\n",
              "      <th>133</th>\n",
              "      <td>/content/classifcation/prediction/trash99.jpg</td>\n",
              "      <td>plastic</td>\n",
              "    </tr>\n",
              "    <tr>\n",
              "      <th>134</th>\n",
              "      <td>/content/classifcation/prediction/trash104.jpg</td>\n",
              "      <td>paper</td>\n",
              "    </tr>\n",
              "    <tr>\n",
              "      <th>135</th>\n",
              "      <td>/content/classifcation/prediction/trash35.jpg</td>\n",
              "      <td>glass</td>\n",
              "    </tr>\n",
              "    <tr>\n",
              "      <th>136</th>\n",
              "      <td>/content/classifcation/prediction/trash107.jpg</td>\n",
              "      <td>plastic</td>\n",
              "    </tr>\n",
              "  </tbody>\n",
              "</table>\n",
              "<p>137 rows × 2 columns</p>\n",
              "</div>"
            ],
            "text/plain": [
              "                                             images pre_label\n",
              "0     /content/classifcation/prediction/trash88.jpg   plastic\n",
              "1     /content/classifcation/prediction/trash71.jpg   plastic\n",
              "2     /content/classifcation/prediction/trash36.jpg     paper\n",
              "3    /content/classifcation/prediction/trash112.jpg     metal\n",
              "4     /content/classifcation/prediction/trash52.jpg     paper\n",
              "..                                              ...       ...\n",
              "132   /content/classifcation/prediction/trash56.jpg   plastic\n",
              "133   /content/classifcation/prediction/trash99.jpg   plastic\n",
              "134  /content/classifcation/prediction/trash104.jpg     paper\n",
              "135   /content/classifcation/prediction/trash35.jpg     glass\n",
              "136  /content/classifcation/prediction/trash107.jpg   plastic\n",
              "\n",
              "[137 rows x 2 columns]"
            ]
          },
          "metadata": {},
          "execution_count": 44
        }
      ]
    },
    {
      "cell_type": "code",
      "metadata": {
        "colab": {
          "base_uri": "https://localhost:8080/",
          "height": 17
        },
        "id": "mwDdcTycUlhB",
        "outputId": "3cc7ef37-6e40-4840-84e0-008ccb87f331"
      },
      "source": [
        "from google.colab import files\n",
        "files.download('/content/predict.csv')"
      ],
      "id": "mwDdcTycUlhB",
      "execution_count": 45,
      "outputs": [
        {
          "output_type": "display_data",
          "data": {
            "application/javascript": [
              "\n",
              "    async function download(id, filename, size) {\n",
              "      if (!google.colab.kernel.accessAllowed) {\n",
              "        return;\n",
              "      }\n",
              "      const div = document.createElement('div');\n",
              "      const label = document.createElement('label');\n",
              "      label.textContent = `Downloading \"${filename}\": `;\n",
              "      div.appendChild(label);\n",
              "      const progress = document.createElement('progress');\n",
              "      progress.max = size;\n",
              "      div.appendChild(progress);\n",
              "      document.body.appendChild(div);\n",
              "\n",
              "      const buffers = [];\n",
              "      let downloaded = 0;\n",
              "\n",
              "      const channel = await google.colab.kernel.comms.open(id);\n",
              "      // Send a message to notify the kernel that we're ready.\n",
              "      channel.send({})\n",
              "\n",
              "      for await (const message of channel.messages) {\n",
              "        // Send a message to notify the kernel that we're ready.\n",
              "        channel.send({})\n",
              "        if (message.buffers) {\n",
              "          for (const buffer of message.buffers) {\n",
              "            buffers.push(buffer);\n",
              "            downloaded += buffer.byteLength;\n",
              "            progress.value = downloaded;\n",
              "          }\n",
              "        }\n",
              "      }\n",
              "      const blob = new Blob(buffers, {type: 'application/binary'});\n",
              "      const a = document.createElement('a');\n",
              "      a.href = window.URL.createObjectURL(blob);\n",
              "      a.download = filename;\n",
              "      div.appendChild(a);\n",
              "      a.click();\n",
              "      div.remove();\n",
              "    }\n",
              "  "
            ],
            "text/plain": [
              "<IPython.core.display.Javascript object>"
            ]
          },
          "metadata": {}
        },
        {
          "output_type": "display_data",
          "data": {
            "application/javascript": [
              "download(\"download_f5ed4764-ce98-4f30-90e2-e5a66a40ef47\", \"predict.csv\", 7286)"
            ],
            "text/plain": [
              "<IPython.core.display.Javascript object>"
            ]
          },
          "metadata": {}
        }
      ]
    },
    {
      "cell_type": "code",
      "metadata": {
        "id": "97e096f6"
      },
      "source": [
        "# label2name = list(name2label.keys())\n",
        "# print(label2name)\n",
        "# pre_images = []\n",
        "# pre_label = []\n",
        "# for path in glob.glob(\"/content/classifcation/prediction/*\"):\n",
        "#     pre_images.append(path)\n",
        "#     pre_label.append(label2name[model.predict_classes(preprocess_x(path))[0]])\n",
        "# df = pd.DataFrame({\"images\":pre_images,\"pre_label\":pre_label})\n",
        "# df.to_csv(\"predict.csv\",index=False)\n",
        "# df"
      ],
      "id": "97e096f6",
      "execution_count": null,
      "outputs": []
    },
    {
      "cell_type": "markdown",
      "metadata": {
        "id": "d17b0624"
      },
      "source": [
        "# 可视化预测结果"
      ],
      "id": "d17b0624"
    },
    {
      "cell_type": "code",
      "metadata": {
        "id": "QqWI9u_jjJNB"
      },
      "source": [
        "model.save('classfication.h5')"
      ],
      "id": "QqWI9u_jjJNB",
      "execution_count": null,
      "outputs": []
    },
    {
      "cell_type": "code",
      "metadata": {
        "id": "BkNj0EVwjW7T",
        "colab": {
          "base_uri": "https://localhost:8080/"
        },
        "outputId": "fb6a5b81-212a-4557-c04b-2b9c7799d80b"
      },
      "source": [
        "!pwd\n",
        "print(len(pre_images))\n",
        "print(len(pre_label))"
      ],
      "id": "BkNj0EVwjW7T",
      "execution_count": 63,
      "outputs": [
        {
          "output_type": "stream",
          "name": "stdout",
          "text": [
            "/content\n",
            "137\n",
            "137\n"
          ]
        }
      ]
    },
    {
      "cell_type": "code",
      "metadata": {
        "id": "msbW04fhW8QC"
      },
      "source": [
        "##这样应该是可以的，但是这里显示不出来\n",
        "# f=0\n",
        "# for t in range(9):\n",
        "#   for i in range(16):\n",
        "#       plt.subplot(4,4,i+1)\n",
        "#       plt.imshow(tf.keras.preprocessing.image.load_img(pre_images[f]))\n",
        "#       plt.xlabel(\"predict:\" + str(pre_label[f]))\n",
        "#       f=f+1\n",
        "# plt.tight_layout()  "
      ],
      "id": "msbW04fhW8QC",
      "execution_count": null,
      "outputs": []
    },
    {
      "cell_type": "code",
      "metadata": {
        "colab": {
          "base_uri": "https://localhost:8080/",
          "height": 297
        },
        "id": "d30158e2",
        "outputId": "bd9170b6-b03d-47ad-9a92-6855ff257d27"
      },
      "source": [
        "for i in range(9):\n",
        "    plt.subplot(3,3,i+1)\n",
        "    plt.imshow(tf.keras.preprocessing.image.load_img(pre_images[i]))\n",
        "    plt.xlabel(\"predict:\" + str(pre_label[i]))\n",
        "plt.tight_layout()  "
      ],
      "id": "d30158e2",
      "execution_count": 69,
      "outputs": [
        {
          "output_type": "display_data",
          "data": {
            "image/png": "[encoded data removed]",
            "text/plain": [
              "<Figure size 432x288 with 9 Axes>"
            ]
          },
          "metadata": {
            "needs_background": "light"
          }
        }
      ]
    },
    {
      "cell_type": "code",
      "metadata": {
        "id": "c31831d8"
      },
      "source": [
        ""
      ],
      "id": "c31831d8",
      "execution_count": null,
      "outputs": []
    }
  ]
}