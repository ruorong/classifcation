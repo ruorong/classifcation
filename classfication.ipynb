{
  "nbformat": 4,
  "nbformat_minor": 5,
  "metadata": {
    "kernelspec": {
      "display_name": "Python 3 (ipykernel)",
      "language": "python",
      "name": "python3"
    },
    "language_info": {
      "codemirror_mode": {
        "name": "ipython",
        "version": 3
      },
      "file_extension": ".py",
      "mimetype": "text/x-python",
      "name": "python",
      "nbconvert_exporter": "python",
      "pygments_lexer": "ipython3",
      "version": "3.7.11"
    },
    "colab": {
      "name": "classfication.ipynb",
      "provenance": [],
      "collapsed_sections": [],
      "include_colab_link": true
    }
  },
  "cells": [
    {
      "cell_type": "markdown",
      "metadata": {
        "id": "view-in-github",
        "colab_type": "text"
      },
      "source": [
        "<a href=\"https://colab.research.google.com/github/ruorong/classifcation/blob/main/classfication.ipynb\" target=\"_parent\"><img src=\"https://colab.research.google.com/assets/colab-badge.svg\" alt=\"Open In Colab\"/></a>"
      ]
    },
    {
      "cell_type": "code",
      "metadata": {
        "id": "a38a3536"
      },
      "source": [
        "import tensorflow as tf\n",
        "import numpy as np\n",
        "import pandas as pd\n",
        "import glob\n",
        "import matplotlib.pyplot as plt\n",
        "import os\n",
        "import time\n",
        "import random\n",
        "import datetime\n",
        "import sklearn"
      ],
      "id": "a38a3536",
      "execution_count": null,
      "outputs": []
    },
    {
      "cell_type": "code",
      "metadata": {
        "id": "XgY0_lJR7iKq",
        "colab": {
          "base_uri": "https://localhost:8080/",
          "height": 35
        },
        "outputId": "87f952ba-647d-420a-febb-9dc458fab656"
      },
      "source": [
        "tf.__version__"
      ],
      "id": "XgY0_lJR7iKq",
      "execution_count": null,
      "outputs": [
        {
          "output_type": "execute_result",
          "data": {
            "application/vnd.google.colaboratory.intrinsic+json": {
              "type": "string"
            },
            "text/plain": [
              "'2.6.0'"
            ]
          },
          "metadata": {},
          "execution_count": 2
        }
      ]
    },
    {
      "cell_type": "code",
      "metadata": {
        "colab": {
          "base_uri": "https://localhost:8080/"
        },
        "id": "zzYpJjmK-b0S",
        "outputId": "7532c243-2d33-4c87-c3c7-53502eb828f3"
      },
      "source": [
        "!git clone https://github.com/ruorong/classifcation.git"
      ],
      "id": "zzYpJjmK-b0S",
      "execution_count": 5,
      "outputs": [
        {
          "output_type": "stream",
          "name": "stdout",
          "text": [
            "Cloning into 'classifcation'...\n",
            "remote: Enumerating objects: 2541, done.\u001b[K\n",
            "remote: Counting objects: 100% (2541/2541), done.\u001b[K\n",
            "remote: Compressing objects: 100% (2540/2540), done.\u001b[K\n",
            "remote: Total 2541 (delta 2), reused 2534 (delta 0), pack-reused 0\u001b[K\n",
            "Receiving objects: 100% (2541/2541), 92.71 MiB | 32.19 MiB/s, done.\n",
            "Resolving deltas: 100% (2/2), done.\n"
          ]
        }
      ]
    },
    {
      "cell_type": "markdown",
      "metadata": {
        "id": "b38db548"
      },
      "source": [
        "# 数据增强"
      ],
      "id": "b38db548"
    },
    {
      "cell_type": "code",
      "metadata": {
        "id": "9f93ac34"
      },
      "source": [
        "start = datetime.datetime.now()\n",
        "for dirs in glob.glob(\"./pokemanpicture/*\"):\n",
        "    paths = glob.glob(dirs + \"/*\")\n",
        "    \n",
        "    for path in :\n",
        "        img = tf.keras.preprocessing.image.load_img(path)\n",
        "        img = np.array(img) # 转化为 ndarray的形式\n",
        "        img = tf.image.adjust_brightness(img,0.3)\n",
        "        temp = os.path.dirname(path) + \"/\" + str(time.time()) + \".png\"\n",
        "        tf.keras.preprocessing.image.save_img(temp,img)\n",
        "    for path in :\n",
        "        img = tf.keras.preprocessing.image.load_img(path)\n",
        "        img = np.array(img) # 转化为 ndarray的形式\n",
        "        img = tf.image.flip_left_right(img)\n",
        "        temp = os.path.dirname(path) + \"/\" + str(time.time()) + \".png\"\n",
        "        tf.keras.preprocessing.image.save_img(temp,img)\n",
        "end = datetime.datetime.now()\n",
        "print(end-start)"
      ],
      "id": "9f93ac34",
      "execution_count": null,
      "outputs": []
    },
    {
      "cell_type": "code",
      "metadata": {
        "id": "10fc2b0b",
        "outputId": "b91b60ff-01cd-43a5-ac81-f16afe706e89"
      },
      "source": [
        "start = datetime.datetime.now()\n",
        "for dirs in glob.glob(\"./pokemanpicture/*\"):\n",
        "    flag = 1\n",
        "    for path in glob.glob(dirs + \"/*\"):\n",
        "        img = tf.keras.preprocessing.image.load_img(path)\n",
        "        img = np.array(img) # 转化为 ndarray的形式\n",
        "        img = tf.image.adjust_brightness(img,0.3)\n",
        "        temp = os.path.dirname(path) + \"/\" + str(time.time()) + \".png\"\n",
        "        tf.keras.preprocessing.image.save_img(temp,img)\n",
        "        if flag:\n",
        "            print(temp)\n",
        "            flag = 0\n",
        "end = datetime.datetime.now()\n",
        "print(end-start)"
      ],
      "id": "10fc2b0b",
      "execution_count": null,
      "outputs": [
        {
          "name": "stdout",
          "output_type": "stream",
          "text": [
            "./pokemanpicture/mewtwo/1634297470.5968313.png\n"
          ]
        },
        {
          "name": "stderr",
          "output_type": "stream",
          "text": [
            "/home/long/.conda/envs/long/lib/python3.7/site-packages/PIL/Image.py:974: UserWarning: Palette images with Transparency expressed in bytes should be converted to RGBA images\n",
            "  \"Palette images with Transparency expressed in bytes should be \"\n"
          ]
        },
        {
          "name": "stdout",
          "output_type": "stream",
          "text": [
            "./pokemanpicture/charmander/1634297539.8135343.png\n",
            "./pokemanpicture/squirtle/1634297615.9221616.png\n",
            "./pokemanpicture/bulbasaur/1634297672.387268.png\n",
            "./pokemanpicture/pikachu/1634297737.1577804.png\n",
            "0:05:30.447628\n"
          ]
        }
      ]
    },
    {
      "cell_type": "markdown",
      "metadata": {
        "id": "0d069db7"
      },
      "source": [
        "# 划分数据集"
      ],
      "id": "0d069db7"
    },
    {
      "cell_type": "code",
      "metadata": {
        "scrolled": false,
        "id": "c9a80939",
        "outputId": "d27ceeed-892c-4557-c530-98b77ff247a6"
      },
      "source": [
        "images = []\n",
        "labels = []\n",
        "name2label = dict()\n",
        "\n",
        "t = 0\n",
        "for dirs in glob.glob(\"./pokemanpicture/*\"):\n",
        "    name = dirs.split(\"/\")[2]\n",
        "    name2label[name] = t\n",
        "    t += 1\n",
        "    for path in glob.glob(dirs + \"/*\"):\n",
        "        images.append(path)\n",
        "random.shuffle(images)\n",
        "for path in images:\n",
        "    name = path.split(\"/\")[2]\n",
        "    labels.append(name2label[name])\n",
        "\n",
        "df = pd.DataFrame({\"images\":images,\"labels\":labels})\n",
        "df.to_csv(\"./image.csv\",index=False)\n",
        "print(name2label)\n",
        "df.head()"
      ],
      "id": "c9a80939",
      "execution_count": null,
      "outputs": [
        {
          "name": "stdout",
          "output_type": "stream",
          "text": [
            "{'mewtwo': 0, 'charmander': 1, 'squirtle': 2, 'bulbasaur': 3, 'pikachu': 4}\n"
          ]
        },
        {
          "data": {
            "text/html": [
              "<div>\n",
              "<style scoped>\n",
              "    .dataframe tbody tr th:only-of-type {\n",
              "        vertical-align: middle;\n",
              "    }\n",
              "\n",
              "    .dataframe tbody tr th {\n",
              "        vertical-align: top;\n",
              "    }\n",
              "\n",
              "    .dataframe thead th {\n",
              "        text-align: right;\n",
              "    }\n",
              "</style>\n",
              "<table border=\"1\" class=\"dataframe\">\n",
              "  <thead>\n",
              "    <tr style=\"text-align: right;\">\n",
              "      <th></th>\n",
              "      <th>images</th>\n",
              "      <th>labels</th>\n",
              "    </tr>\n",
              "  </thead>\n",
              "  <tbody>\n",
              "    <tr>\n",
              "      <th>0</th>\n",
              "      <td>./pokemanpicture/mewtwo/1634297486.2058926.png</td>\n",
              "      <td>0</td>\n",
              "    </tr>\n",
              "    <tr>\n",
              "      <th>1</th>\n",
              "      <td>./pokemanpicture/squirtle/1634297617.1559815.png</td>\n",
              "      <td>2</td>\n",
              "    </tr>\n",
              "    <tr>\n",
              "      <th>2</th>\n",
              "      <td>./pokemanpicture/pikachu/00000129.jpg</td>\n",
              "      <td>4</td>\n",
              "    </tr>\n",
              "    <tr>\n",
              "      <th>3</th>\n",
              "      <td>./pokemanpicture/mewtwo/1634297521.554187.png</td>\n",
              "      <td>0</td>\n",
              "    </tr>\n",
              "    <tr>\n",
              "      <th>4</th>\n",
              "      <td>./pokemanpicture/pikachu/00000057.png</td>\n",
              "      <td>4</td>\n",
              "    </tr>\n",
              "  </tbody>\n",
              "</table>\n",
              "</div>"
            ],
            "text/plain": [
              "                                             images  labels\n",
              "0    ./pokemanpicture/mewtwo/1634297486.2058926.png       0\n",
              "1  ./pokemanpicture/squirtle/1634297617.1559815.png       2\n",
              "2             ./pokemanpicture/pikachu/00000129.jpg       4\n",
              "3     ./pokemanpicture/mewtwo/1634297521.554187.png       0\n",
              "4             ./pokemanpicture/pikachu/00000057.png       4"
            ]
          },
          "execution_count": 107,
          "metadata": {},
          "output_type": "execute_result"
        }
      ]
    },
    {
      "cell_type": "code",
      "metadata": {
        "id": "4b4ebfe1"
      },
      "source": [
        "def load_data(model):\n",
        "    df = pd.read_csv(\"./image.csv\")\n",
        "    images = df[\"images\"]\n",
        "    labels = df[\"labels\"]\n",
        "    if model == \"train\":\n",
        "        print(\"训练集：\" + str(len(labels[:int(0.7*len(labels))])))\n",
        "        return images[:int(0.7*len(images))], labels[:int(0.7*len(labels))]\n",
        "    elif model == \"val\":\n",
        "        print(\"验证集：\" + str(len(labels[int(0.7*len(labels)):])))\n",
        "        return images[int(0.7*len(images)):], labels[int(0.7*len(labels)):]"
      ],
      "id": "4b4ebfe1",
      "execution_count": null,
      "outputs": []
    },
    {
      "cell_type": "markdown",
      "metadata": {
        "id": "a6f1173a"
      },
      "source": [
        "# 数据预处理并放入tf.data中"
      ],
      "id": "a6f1173a"
    },
    {
      "cell_type": "code",
      "metadata": {
        "id": "bf66693f",
        "outputId": "f08d9ffb-dbd9-4881-eeb1-216b11afd75e"
      },
      "source": [
        "x = tf.io.read_file(\"./pokemanpicture/bulbasaur/00000000.png\")\n",
        "x = tf.io.decode_jpeg(x,channels=3)\n",
        "print(x.shape,x.dtype)\n",
        "x = tf.image.resize(x,(244,244))\n",
        "x = tf.cast(x,dtype=tf.float32) / 255."
      ],
      "id": "bf66693f",
      "execution_count": null,
      "outputs": [
        {
          "name": "stdout",
          "output_type": "stream",
          "text": [
            "(900, 900, 3) <dtype: 'uint8'>\n"
          ]
        }
      ]
    },
    {
      "cell_type": "code",
      "metadata": {
        "id": "5e8f2287"
      },
      "source": [
        "def preprocess(x,y):\n",
        "    x = tf.io.read_file(x)\n",
        "    x = tf.io.decode_jpeg(x,channels=3)\n",
        "    x = tf.image.resize(x,(224,224))\n",
        "    x = tf.cast(x,dtype=tf.float32) / 255.\n",
        "    \n",
        "    y = tf.convert_to_tensor(y)\n",
        "    y = tf.one_hot(y,depth=5)\n",
        "    return x,y"
      ],
      "id": "5e8f2287",
      "execution_count": null,
      "outputs": []
    },
    {
      "cell_type": "code",
      "metadata": {
        "id": "9aa46fa3",
        "outputId": "0c5bbae4-193b-4d18-f02c-1cad71962c47"
      },
      "source": [
        "batch_size = 8\n",
        "train_data = tf.data.Dataset.from_tensor_slices(load_data(\"train\"))\n",
        "train_data = train_data.shuffle(1000).map(preprocess).batch(batch_size)\n",
        "\n",
        "val_data = tf.data.Dataset.from_tensor_slices(load_data(\"val\"))\n",
        "val_data = val_data.map(preprocess).batch(batch_size)  # 不能shuffle 不然后面混淆矩阵找不到真是标签\n",
        "\n",
        "print(train_data)\n",
        "print(val_data)"
      ],
      "id": "9aa46fa3",
      "execution_count": null,
      "outputs": [
        {
          "name": "stdout",
          "output_type": "stream",
          "text": [
            "训练集：1615\n",
            "验证集：693\n",
            "<BatchDataset shapes: ((None, 224, 224, 3), (None, 5)), types: (tf.float32, tf.float32)>\n",
            "<BatchDataset shapes: ((None, 224, 224, 3), (None, 5)), types: (tf.float32, tf.float32)>\n"
          ]
        }
      ]
    },
    {
      "cell_type": "markdown",
      "metadata": {
        "id": "cfc1a0b9"
      },
      "source": [
        "# 构建模型"
      ],
      "id": "cfc1a0b9"
    },
    {
      "cell_type": "code",
      "metadata": {
        "id": "9e53a510",
        "outputId": "c3503987-8831-4f04-8ac7-9c41eaa3a00a"
      },
      "source": [
        "base_model = tf.keras.applications.vgg16.VGG16(weights=\"./vgg16_weights_tf_dim_ordering_tf_kernels_notop.h5\",include_top=False)\n",
        "\n",
        "for layer in base_model.layers[:-4]:\n",
        "    layer.trainable = False\n",
        "# base_model.summary()\n",
        "  \n",
        "model = tf.keras.Sequential()\n",
        "model.add(base_model)\n",
        "model.add(tf.keras.layers.GlobalAveragePooling2D())\n",
        "model.add(tf.keras.layers.Dense(256,activation=\"relu\"))\n",
        "model.add(tf.keras.layers.Dropout(0.2))\n",
        "model.add(tf.keras.layers.Dense(5,activation=\"softmax\"))\n",
        "model.summary()"
      ],
      "id": "9e53a510",
      "execution_count": null,
      "outputs": [
        {
          "name": "stdout",
          "output_type": "stream",
          "text": [
            "Model: \"sequential_8\"\n",
            "_________________________________________________________________\n",
            "Layer (type)                 Output Shape              Param #   \n",
            "=================================================================\n",
            "vgg16 (Model)                (None, None, None, 512)   14714688  \n",
            "_________________________________________________________________\n",
            "global_average_pooling2d_4 ( (None, 512)               0         \n",
            "_________________________________________________________________\n",
            "dense_16 (Dense)             (None, 256)               131328    \n",
            "_________________________________________________________________\n",
            "dropout_4 (Dropout)          (None, 256)               0         \n",
            "_________________________________________________________________\n",
            "dense_17 (Dense)             (None, 5)                 1285      \n",
            "=================================================================\n",
            "Total params: 14,847,301\n",
            "Trainable params: 7,212,037\n",
            "Non-trainable params: 7,635,264\n",
            "_________________________________________________________________\n"
          ]
        }
      ]
    },
    {
      "cell_type": "markdown",
      "metadata": {
        "id": "b971daa1"
      },
      "source": [
        "# 模型编译和训练"
      ],
      "id": "b971daa1"
    },
    {
      "cell_type": "code",
      "metadata": {
        "id": "942ce388",
        "outputId": "c8d27170-0a6a-4289-8567-b7a5ce528f70"
      },
      "source": [
        "easystop = tf.keras.callbacks.EarlyStopping(patience=3,min_delta=0.01)\n",
        "\n",
        "model.compile(\n",
        "    optimizer=tf.keras.optimizers.Adam(1e-4),\n",
        "    loss=tf.keras.losses.CategoricalCrossentropy(from_logits=True),\n",
        "    metrics=[\"accuracy\"]\n",
        ")\n",
        "start = datetime.datetime.now()\n",
        "history = model.fit(train_data,validation_data=val_data,callbacks=[easystop],epochs=200)\n",
        "end = datetime.datetime.now()\n",
        "print(\"*\"*100)\n",
        "print(end - start)"
      ],
      "id": "942ce388",
      "execution_count": null,
      "outputs": [
        {
          "name": "stdout",
          "output_type": "stream",
          "text": [
            "Epoch 1/200\n",
            "     16/Unknown - 11s 701ms/step - loss: 1.6051 - accuracy: 0.2188"
          ]
        },
        {
          "name": "stderr",
          "output_type": "stream",
          "text": [
            "2021-10-15 21:07:17.258550: W tensorflow/core/lib/png/png_io.cc:88] PNG warning: iCCP: known incorrect sRGB profile\n"
          ]
        },
        {
          "name": "stdout",
          "output_type": "stream",
          "text": [
            "     34/Unknown - 23s 667ms/step - loss: 1.5498 - accuracy: 0.3272"
          ]
        },
        {
          "name": "stderr",
          "output_type": "stream",
          "text": [
            "2021-10-15 21:07:28.634847: W tensorflow/core/lib/png/png_io.cc:88] PNG warning: iCCP: known incorrect sRGB profile\n"
          ]
        },
        {
          "name": "stdout",
          "output_type": "stream",
          "text": [
            "     37/Unknown - 25s 664ms/step - loss: 1.5397 - accuracy: 0.3378"
          ]
        },
        {
          "name": "stderr",
          "output_type": "stream",
          "text": [
            "2021-10-15 21:07:30.611033: W tensorflow/core/lib/png/png_io.cc:88] PNG warning: bKGD: invalid\n",
            "2021-10-15 21:07:30.620771: W tensorflow/core/lib/png/png_io.cc:88] PNG warning: iCCP: known incorrect sRGB profile\n"
          ]
        },
        {
          "name": "stdout",
          "output_type": "stream",
          "text": [
            "     55/Unknown - 36s 663ms/step - loss: 1.4615 - accuracy: 0.4364"
          ]
        },
        {
          "name": "stderr",
          "output_type": "stream",
          "text": [
            "2021-10-15 21:07:42.416330: W tensorflow/core/lib/png/png_io.cc:88] PNG warning: iCCP: known incorrect sRGB profile\n"
          ]
        },
        {
          "name": "stdout",
          "output_type": "stream",
          "text": [
            "     64/Unknown - 43s 668ms/step - loss: 1.4299 - accuracy: 0.4648"
          ]
        },
        {
          "name": "stderr",
          "output_type": "stream",
          "text": [
            "2021-10-15 21:07:48.716662: W tensorflow/core/lib/png/png_io.cc:88] PNG warning: iCCP: known incorrect sRGB profile\n"
          ]
        },
        {
          "name": "stdout",
          "output_type": "stream",
          "text": [
            "     75/Unknown - 49s 660ms/step - loss: 1.4001 - accuracy: 0.5000"
          ]
        },
        {
          "name": "stderr",
          "output_type": "stream",
          "text": [
            "2021-10-15 21:07:55.505294: W tensorflow/core/lib/png/png_io.cc:88] PNG warning: iCCP: known incorrect sRGB profile\n"
          ]
        },
        {
          "name": "stdout",
          "output_type": "stream",
          "text": [
            "     77/Unknown - 51s 661ms/step - loss: 1.3984 - accuracy: 0.5016"
          ]
        },
        {
          "name": "stderr",
          "output_type": "stream",
          "text": [
            "2021-10-15 21:07:57.150567: W tensorflow/core/lib/png/png_io.cc:88] PNG warning: iCCP: known incorrect sRGB profile\n"
          ]
        },
        {
          "name": "stdout",
          "output_type": "stream",
          "text": [
            "     84/Unknown - 55s 658ms/step - loss: 1.3868 - accuracy: 0.5119"
          ]
        },
        {
          "name": "stderr",
          "output_type": "stream",
          "text": [
            "2021-10-15 21:08:01.289641: W tensorflow/core/lib/png/png_io.cc:88] PNG warning: iCCP: known incorrect sRGB profile\n"
          ]
        },
        {
          "name": "stdout",
          "output_type": "stream",
          "text": [
            "     87/Unknown - 57s 656ms/step - loss: 1.3808 - accuracy: 0.5187"
          ]
        },
        {
          "name": "stderr",
          "output_type": "stream",
          "text": [
            "2021-10-15 21:08:03.020282: W tensorflow/core/lib/png/png_io.cc:88] PNG warning: iCCP: known incorrect sRGB profile\n",
            "2021-10-15 21:08:03.020340: W tensorflow/core/lib/png/png_io.cc:88] PNG warning: iCCP: cHRM chunk does not match sRGB\n"
          ]
        },
        {
          "name": "stdout",
          "output_type": "stream",
          "text": [
            "     91/Unknown - 60s 654ms/step - loss: 1.3655 - accuracy: 0.5357"
          ]
        },
        {
          "name": "stderr",
          "output_type": "stream",
          "text": [
            "2021-10-15 21:08:05.496545: W tensorflow/core/lib/png/png_io.cc:88] PNG warning: iCCP: known incorrect sRGB profile\n"
          ]
        },
        {
          "name": "stdout",
          "output_type": "stream",
          "text": [
            "     95/Unknown - 62s 652ms/step - loss: 1.3541 - accuracy: 0.5500"
          ]
        },
        {
          "name": "stderr",
          "output_type": "stream",
          "text": [
            "2021-10-15 21:08:08.038494: W tensorflow/core/lib/png/png_io.cc:88] PNG warning: iCCP: known incorrect sRGB profile\n"
          ]
        },
        {
          "name": "stdout",
          "output_type": "stream",
          "text": [
            "    109/Unknown - 71s 648ms/step - loss: 1.3204 - accuracy: 0.5849"
          ]
        },
        {
          "name": "stderr",
          "output_type": "stream",
          "text": [
            "2021-10-15 21:08:16.717571: W tensorflow/core/lib/png/png_io.cc:88] PNG warning: iCCP: known incorrect sRGB profile\n"
          ]
        },
        {
          "name": "stdout",
          "output_type": "stream",
          "text": [
            "    111/Unknown - 72s 648ms/step - loss: 1.3175 - accuracy: 0.5878"
          ]
        },
        {
          "name": "stderr",
          "output_type": "stream",
          "text": [
            "2021-10-15 21:08:17.845769: W tensorflow/core/lib/png/png_io.cc:88] PNG warning: iCCP: known incorrect sRGB profile\n"
          ]
        },
        {
          "name": "stdout",
          "output_type": "stream",
          "text": [
            "\b\b\b\b\b\b\b\b\b\b\b\b\b\b\b\b\b\b\b\b\b\b\b\b\b\b\b\b\b\b\b\b\b\b\b\b\b\b\b\b\b\b\b\b\b\b\b\b\b\b\b\b\b\b\b\b\b\b\b\b\b\b\b\b\b\b\r",
            "    112/Unknown - 73s 647ms/step - loss: 1.3156 - accuracy: 0.5893"
          ]
        },
        {
          "name": "stderr",
          "output_type": "stream",
          "text": [
            "2021-10-15 21:08:18.511939: W tensorflow/core/lib/png/png_io.cc:88] PNG warning: iCCP: known incorrect sRGB profile\n"
          ]
        },
        {
          "name": "stdout",
          "output_type": "stream",
          "text": [
            "    119/Unknown - 77s 647ms/step - loss: 1.3030 - accuracy: 0.6029"
          ]
        },
        {
          "name": "stderr",
          "output_type": "stream",
          "text": [
            "2021-10-15 21:08:22.988905: W tensorflow/core/lib/png/png_io.cc:88] PNG warning: iCCP: known incorrect sRGB profile\n"
          ]
        },
        {
          "name": "stdout",
          "output_type": "stream",
          "text": [
            "\b\b\b\b\b\b\b\b\b\b\b\b\b\b\b\b\b\b\b\b\b\b\b\b\b\b\b\b\b\b\b\b\b\b\b\b\b\b\b\b\b\b\b\b\b\b\b\b\b\b\b\b\b\b\b\b\b\b\b\b\b\b\b\b\b\b\r",
            "    120/Unknown - 78s 647ms/step - loss: 1.3026 - accuracy: 0.6031"
          ]
        },
        {
          "name": "stderr",
          "output_type": "stream",
          "text": [
            "2021-10-15 21:08:23.646694: W tensorflow/core/lib/png/png_io.cc:88] PNG warning: iCCP: known incorrect sRGB profile\n"
          ]
        },
        {
          "name": "stdout",
          "output_type": "stream",
          "text": [
            "    122/Unknown - 79s 646ms/step - loss: 1.2991 - accuracy: 0.6055"
          ]
        },
        {
          "name": "stderr",
          "output_type": "stream",
          "text": [
            "2021-10-15 21:08:24.801256: W tensorflow/core/lib/png/png_io.cc:88] PNG warning: iCCP: known incorrect sRGB profile\n",
            "2021-10-15 21:08:24.801444: W tensorflow/core/lib/png/png_io.cc:88] PNG warning: iCCP: cHRM chunk does not match sRGB\n"
          ]
        },
        {
          "name": "stdout",
          "output_type": "stream",
          "text": [
            "    133/Unknown - 86s 643ms/step - loss: 1.2828 - accuracy: 0.6212"
          ]
        },
        {
          "name": "stderr",
          "output_type": "stream",
          "text": [
            "2021-10-15 21:08:31.626517: W tensorflow/core/lib/png/png_io.cc:88] PNG warning: iCCP: known incorrect sRGB profile\n"
          ]
        },
        {
          "name": "stdout",
          "output_type": "stream",
          "text": [
            "    146/Unknown - 93s 640ms/step - loss: 1.2648 - accuracy: 0.6421"
          ]
        },
        {
          "name": "stderr",
          "output_type": "stream",
          "text": [
            "2021-10-15 21:08:39.458275: W tensorflow/core/lib/png/png_io.cc:88] PNG warning: iCCP: known incorrect sRGB profile\n",
            "2021-10-15 21:08:39.458319: W tensorflow/core/lib/png/png_io.cc:88] PNG warning: iCCP: cHRM chunk does not match sRGB\n"
          ]
        },
        {
          "name": "stdout",
          "output_type": "stream",
          "text": [
            "    149/Unknown - 95s 639ms/step - loss: 1.2602 - accuracy: 0.6460"
          ]
        },
        {
          "name": "stderr",
          "output_type": "stream",
          "text": [
            "2021-10-15 21:08:41.169443: W tensorflow/core/lib/png/png_io.cc:88] PNG warning: iCCP: known incorrect sRGB profile\n"
          ]
        },
        {
          "name": "stdout",
          "output_type": "stream",
          "text": [
            "    151/Unknown - 96s 639ms/step - loss: 1.2589 - accuracy: 0.6474"
          ]
        },
        {
          "name": "stderr",
          "output_type": "stream",
          "text": [
            "2021-10-15 21:08:42.470836: W tensorflow/core/lib/png/png_io.cc:88] PNG warning: iCCP: known incorrect sRGB profile\n"
          ]
        },
        {
          "name": "stdout",
          "output_type": "stream",
          "text": [
            "    167/Unknown - 106s 635ms/step - loss: 1.2332 - accuracy: 0.6737"
          ]
        },
        {
          "name": "stderr",
          "output_type": "stream",
          "text": [
            "2021-10-15 21:08:52.027149: W tensorflow/core/lib/png/png_io.cc:88] PNG warning: iCCP: known incorrect sRGB profile\n"
          ]
        },
        {
          "name": "stdout",
          "output_type": "stream",
          "text": [
            "    169/Unknown - 107s 635ms/step - loss: 1.2301 - accuracy: 0.6768"
          ]
        },
        {
          "name": "stderr",
          "output_type": "stream",
          "text": [
            "2021-10-15 21:08:53.249674: W tensorflow/core/lib/png/png_io.cc:88] PNG warning: iCCP: known incorrect sRGB profile\n"
          ]
        },
        {
          "name": "stdout",
          "output_type": "stream",
          "text": [
            "    179/Unknown - 113s 633ms/step - loss: 1.2156 - accuracy: 0.6934"
          ]
        },
        {
          "name": "stderr",
          "output_type": "stream",
          "text": [
            "2021-10-15 21:08:59.449839: W tensorflow/core/lib/png/png_io.cc:88] PNG warning: iCCP: known incorrect sRGB profile\n"
          ]
        },
        {
          "name": "stdout",
          "output_type": "stream",
          "text": [
            "    202/Unknown - 127s 629ms/step - loss: 1.1983 - accuracy: 0.7084"
          ]
        },
        {
          "name": "stderr",
          "output_type": "stream",
          "text": [
            "2021-10-15 21:09:12.963770: W tensorflow/core/common_runtime/base_collective_executor.cc:216] BaseCollectiveExecutor::StartAbort Out of range: End of sequence\n",
            "\t [[{{node IteratorGetNext}}]]\n",
            "2021-10-15 21:09:13.712142: W tensorflow/core/lib/png/png_io.cc:88] PNG warning: iCCP: known incorrect sRGB profile\n",
            "2021-10-15 21:09:16.486865: W tensorflow/core/lib/png/png_io.cc:88] PNG warning: iCCP: known incorrect sRGB profile\n",
            "2021-10-15 21:09:17.939556: W tensorflow/core/lib/png/png_io.cc:88] PNG warning: iCCP: known incorrect sRGB profile\n",
            "2021-10-15 21:09:22.198364: W tensorflow/core/lib/png/png_io.cc:88] PNG warning: iCCP: known incorrect sRGB profile\n",
            "2021-10-15 21:09:27.218198: W tensorflow/core/lib/png/png_io.cc:88] PNG warning: iCCP: known incorrect sRGB profile\n",
            "2021-10-15 21:09:27.393570: W tensorflow/core/lib/png/png_io.cc:88] PNG warning: iCCP: known incorrect sRGB profile\n",
            "2021-10-15 21:09:33.469320: W tensorflow/core/lib/png/png_io.cc:88] PNG warning: iCCP: known incorrect sRGB profile\n",
            "2021-10-15 21:09:33.585942: W tensorflow/core/lib/png/png_io.cc:88] PNG warning: iCCP: known incorrect sRGB profile\n",
            "2021-10-15 21:09:34.857826: W tensorflow/core/lib/png/png_io.cc:88] PNG warning: iCCP: known incorrect sRGB profile\n",
            "2021-10-15 21:09:43.917732: W tensorflow/core/lib/png/png_io.cc:88] PNG warning: iCCP: too many profiles\n",
            "2021-10-15 21:09:48.560420: W tensorflow/core/lib/png/png_io.cc:88] PNG warning: iCCP: known incorrect sRGB profile\n"
          ]
        },
        {
          "name": "stdout",
          "output_type": "stream",
          "text": [
            "202/202 [==============================] - 169s 838ms/step - loss: 1.1983 - accuracy: 0.7084 - val_loss: 0.0000e+00 - val_accuracy: 0.0000e+00\n",
            "Epoch 2/200\n"
          ]
        },
        {
          "name": "stderr",
          "output_type": "stream",
          "text": [
            "2021-10-15 21:09:55.356419: W tensorflow/core/lib/png/png_io.cc:88] PNG warning: iCCP: known incorrect sRGB profile\n",
            "2021-10-15 21:09:55.356455: W tensorflow/core/lib/png/png_io.cc:88] PNG warning: iCCP: cHRM chunk does not match sRGB\n"
          ]
        },
        {
          "name": "stdout",
          "output_type": "stream",
          "text": [
            " 10/202 [>.............................] - ETA: 1:59 - loss: 0.9676 - accuracy: 0.9375"
          ]
        },
        {
          "name": "stderr",
          "output_type": "stream",
          "text": [
            "2021-10-15 21:10:01.662680: W tensorflow/core/lib/png/png_io.cc:88] PNG warning: iCCP: known incorrect sRGB profile\n"
          ]
        },
        {
          "name": "stdout",
          "output_type": "stream",
          "text": [
            " 16/202 [=>............................] - ETA: 1:55 - loss: 0.9792 - accuracy: 0.9297"
          ]
        },
        {
          "name": "stderr",
          "output_type": "stream",
          "text": [
            "2021-10-15 21:10:05.160673: W tensorflow/core/lib/png/png_io.cc:88] PNG warning: iCCP: known incorrect sRGB profile\n"
          ]
        },
        {
          "name": "stdout",
          "output_type": "stream",
          "text": [
            " 27/202 [===>..........................] - ETA: 1:47 - loss: 0.9678 - accuracy: 0.9444"
          ]
        },
        {
          "name": "stderr",
          "output_type": "stream",
          "text": [
            "2021-10-15 21:10:11.932550: W tensorflow/core/lib/png/png_io.cc:88] PNG warning: iCCP: known incorrect sRGB profile\n"
          ]
        },
        {
          "name": "stdout",
          "output_type": "stream",
          "text": [
            " 32/202 [===>..........................] - ETA: 1:44 - loss: 0.9748 - accuracy: 0.9375"
          ]
        },
        {
          "name": "stderr",
          "output_type": "stream",
          "text": [
            "2021-10-15 21:10:14.992161: W tensorflow/core/lib/png/png_io.cc:88] PNG warning: iCCP: known incorrect sRGB profile\n",
            "2021-10-15 21:10:14.992234: W tensorflow/core/lib/png/png_io.cc:88] PNG warning: iCCP: cHRM chunk does not match sRGB\n"
          ]
        },
        {
          "name": "stdout",
          "output_type": "stream",
          "text": [
            " 35/202 [====>.........................] - ETA: 1:42 - loss: 0.9790 - accuracy: 0.9321"
          ]
        },
        {
          "name": "stderr",
          "output_type": "stream",
          "text": [
            "2021-10-15 21:10:16.797060: W tensorflow/core/lib/png/png_io.cc:88] PNG warning: iCCP: known incorrect sRGB profile\n"
          ]
        },
        {
          "name": "stdout",
          "output_type": "stream",
          "text": [
            " 41/202 [=====>........................] - ETA: 1:38 - loss: 0.9765 - accuracy: 0.9329"
          ]
        },
        {
          "name": "stderr",
          "output_type": "stream",
          "text": [
            "2021-10-15 21:10:20.448186: W tensorflow/core/lib/png/png_io.cc:88] PNG warning: iCCP: known incorrect sRGB profile\n"
          ]
        },
        {
          "name": "stdout",
          "output_type": "stream",
          "text": [
            " 52/202 [======>.......................] - ETA: 1:32 - loss: 0.9708 - accuracy: 0.9423"
          ]
        },
        {
          "name": "stderr",
          "output_type": "stream",
          "text": [
            "2021-10-15 21:10:27.268415: W tensorflow/core/lib/png/png_io.cc:88] PNG warning: iCCP: known incorrect sRGB profile\n"
          ]
        },
        {
          "name": "stdout",
          "output_type": "stream",
          "text": [
            "\b\b\b\b\b\b\b\b\b\b\b\b\b\b\b\b\b\b\b\b\b\b\b\b\b\b\b\b\b\b\b\b\b\b\b\b\b\b\b\b\b\b\b\b\b\b\b\b\b\b\b\b\b\b\b\b\b\b\b\b\b\b\b\b\b\b\b\b\b\b\b\b\b\b\b\b\b\b\b\b\b\b\b\b\b\b\r",
            " 53/202 [======>.......................] - ETA: 1:31 - loss: 0.9704 - accuracy: 0.9434"
          ]
        },
        {
          "name": "stderr",
          "output_type": "stream",
          "text": [
            "2021-10-15 21:10:27.979944: W tensorflow/core/lib/png/png_io.cc:88] PNG warning: iCCP: known incorrect sRGB profile\n"
          ]
        },
        {
          "name": "stdout",
          "output_type": "stream",
          "text": [
            " 56/202 [=======>......................] - ETA: 1:29 - loss: 0.9684 - accuracy: 0.9442"
          ]
        },
        {
          "name": "stderr",
          "output_type": "stream",
          "text": [
            "2021-10-15 21:10:29.796555: W tensorflow/core/lib/png/png_io.cc:88] PNG warning: iCCP: known incorrect sRGB profile\n",
            "2021-10-15 21:10:29.807728: W tensorflow/core/lib/png/png_io.cc:88] PNG warning: bKGD: invalid\n"
          ]
        },
        {
          "name": "stdout",
          "output_type": "stream",
          "text": [
            " 68/202 [=========>....................] - ETA: 1:22 - loss: 0.9624 - accuracy: 0.9504"
          ]
        },
        {
          "name": "stderr",
          "output_type": "stream",
          "text": [
            "2021-10-15 21:10:37.261416: W tensorflow/core/lib/png/png_io.cc:88] PNG warning: iCCP: known incorrect sRGB profile\n"
          ]
        },
        {
          "name": "stdout",
          "output_type": "stream",
          "text": [
            "114/202 [===============>..............] - ETA: 54s - loss: 0.9619 - accuracy: 0.9496"
          ]
        },
        {
          "name": "stderr",
          "output_type": "stream",
          "text": [
            "2021-10-15 21:11:05.693299: W tensorflow/core/lib/png/png_io.cc:88] PNG warning: iCCP: known incorrect sRGB profile\n"
          ]
        },
        {
          "name": "stdout",
          "output_type": "stream",
          "text": [
            "117/202 [================>.............] - ETA: 52s - loss: 0.9670 - accuracy: 0.9444"
          ]
        },
        {
          "name": "stderr",
          "output_type": "stream",
          "text": [
            "2021-10-15 21:11:07.660125: W tensorflow/core/lib/png/png_io.cc:88] PNG warning: iCCP: known incorrect sRGB profile\n"
          ]
        },
        {
          "name": "stdout",
          "output_type": "stream",
          "text": [
            "\b\b\b\b\b\b\b\b\b\b\b\b\b\b\b\b\b\b\b\b\b\b\b\b\b\b\b\b\b\b\b\b\b\b\b\b\b\b\b\b\b\b\b\b\b\b\b\b\b\b\b\b\b\b\b\b\b\b\b\b\b\b\b\b\b\b\b\b\b\b\b\b\b\b\b\b\b\b\b\b\b\b\b\b\b\r",
            "118/202 [================>.............] - ETA: 51s - loss: 0.9679 - accuracy: 0.9439"
          ]
        },
        {
          "name": "stderr",
          "output_type": "stream",
          "text": [
            "2021-10-15 21:11:08.134717: W tensorflow/core/lib/png/png_io.cc:88] PNG warning: iCCP: known incorrect sRGB profile\n"
          ]
        },
        {
          "name": "stdout",
          "output_type": "stream",
          "text": [
            "125/202 [=================>............] - ETA: 47s - loss: 0.9728 - accuracy: 0.9390"
          ]
        },
        {
          "name": "stderr",
          "output_type": "stream",
          "text": [
            "2021-10-15 21:11:12.435563: W tensorflow/core/lib/png/png_io.cc:88] PNG warning: iCCP: known incorrect sRGB profile\n"
          ]
        },
        {
          "name": "stdout",
          "output_type": "stream",
          "text": [
            "128/202 [==================>...........] - ETA: 45s - loss: 0.9718 - accuracy: 0.9404"
          ]
        },
        {
          "name": "stderr",
          "output_type": "stream",
          "text": [
            "2021-10-15 21:11:14.295214: W tensorflow/core/lib/png/png_io.cc:88] PNG warning: iCCP: known incorrect sRGB profile\n",
            "2021-10-15 21:11:14.331718: W tensorflow/core/lib/png/png_io.cc:88] PNG warning: iCCP: known incorrect sRGB profile\n"
          ]
        },
        {
          "name": "stdout",
          "output_type": "stream",
          "text": [
            "145/202 [====================>.........] - ETA: 35s - loss: 0.9694 - accuracy: 0.9431"
          ]
        },
        {
          "name": "stderr",
          "output_type": "stream",
          "text": [
            "2021-10-15 21:11:24.657958: W tensorflow/core/lib/png/png_io.cc:88] PNG warning: iCCP: known incorrect sRGB profile\n"
          ]
        },
        {
          "name": "stdout",
          "output_type": "stream",
          "text": [
            "154/202 [=====================>........] - ETA: 29s - loss: 0.9689 - accuracy: 0.9432"
          ]
        },
        {
          "name": "stderr",
          "output_type": "stream",
          "text": [
            "2021-10-15 21:11:30.532863: W tensorflow/core/lib/png/png_io.cc:88] PNG warning: iCCP: known incorrect sRGB profile\n"
          ]
        },
        {
          "name": "stdout",
          "output_type": "stream",
          "text": [
            "\b\b\b\b\b\b\b\b\b\b\b\b\b\b\b\b\b\b\b\b\b\b\b\b\b\b\b\b\b\b\b\b\b\b\b\b\b\b\b\b\b\b\b\b\b\b\b\b\b\b\b\b\b\b\b\b\b\b\b\b\b\b\b\b\b\b\b\b\b\b\b\b\b\b\b\b\b\b\b\b\b\b\b\b\b\r",
            "155/202 [======================>.......] - ETA: 29s - loss: 0.9686 - accuracy: 0.9435"
          ]
        },
        {
          "name": "stderr",
          "output_type": "stream",
          "text": [
            "2021-10-15 21:11:31.002716: W tensorflow/core/lib/png/png_io.cc:88] PNG warning: iCCP: known incorrect sRGB profile\n"
          ]
        },
        {
          "name": "stdout",
          "output_type": "stream",
          "text": [
            "162/202 [=======================>......] - ETA: 24s - loss: 0.9696 - accuracy: 0.9421"
          ]
        },
        {
          "name": "stderr",
          "output_type": "stream",
          "text": [
            "2021-10-15 21:11:35.460172: W tensorflow/core/lib/png/png_io.cc:88] PNG warning: iCCP: known incorrect sRGB profile\n"
          ]
        },
        {
          "name": "stdout",
          "output_type": "stream",
          "text": [
            "171/202 [========================>.....] - ETA: 19s - loss: 0.9692 - accuracy: 0.9423"
          ]
        },
        {
          "name": "stderr",
          "output_type": "stream",
          "text": [
            "2021-10-15 21:11:41.478722: W tensorflow/core/lib/png/png_io.cc:88] PNG warning: iCCP: known incorrect sRGB profile\n"
          ]
        },
        {
          "name": "stdout",
          "output_type": "stream",
          "text": [
            "181/202 [=========================>....] - ETA: 13s - loss: 0.9712 - accuracy: 0.9406"
          ]
        },
        {
          "name": "stderr",
          "output_type": "stream",
          "text": [
            "2021-10-15 21:11:48.038703: W tensorflow/core/lib/png/png_io.cc:88] PNG warning: iCCP: known incorrect sRGB profile\n",
            "2021-10-15 21:11:48.038756: W tensorflow/core/lib/png/png_io.cc:88] PNG warning: iCCP: cHRM chunk does not match sRGB\n"
          ]
        },
        {
          "name": "stdout",
          "output_type": "stream",
          "text": [
            "196/202 [============================>.] - ETA: 3s - loss: 0.9752 - accuracy: 0.9349"
          ]
        },
        {
          "name": "stderr",
          "output_type": "stream",
          "text": [
            "2021-10-15 21:11:57.204170: W tensorflow/core/lib/png/png_io.cc:88] PNG warning: iCCP: known incorrect sRGB profile\n"
          ]
        },
        {
          "name": "stdout",
          "output_type": "stream",
          "text": [
            "201/202 [============================>.] - ETA: 0s - loss: 0.9795 - accuracy: 0.9303"
          ]
        },
        {
          "name": "stderr",
          "output_type": "stream",
          "text": [
            "2021-10-15 21:12:00.831749: W tensorflow/core/common_runtime/base_collective_executor.cc:216] BaseCollectiveExecutor::StartAbort Out of range: End of sequence\n",
            "\t [[{{node IteratorGetNext}}]]\n",
            "2021-10-15 21:12:01.452620: W tensorflow/core/lib/png/png_io.cc:88] PNG warning: iCCP: known incorrect sRGB profile\n",
            "2021-10-15 21:12:04.421013: W tensorflow/core/lib/png/png_io.cc:88] PNG warning: iCCP: known incorrect sRGB profile\n",
            "2021-10-15 21:12:05.977166: W tensorflow/core/lib/png/png_io.cc:88] PNG warning: iCCP: known incorrect sRGB profile\n",
            "2021-10-15 21:12:10.307845: W tensorflow/core/lib/png/png_io.cc:88] PNG warning: iCCP: known incorrect sRGB profile\n",
            "2021-10-15 21:12:15.484183: W tensorflow/core/lib/png/png_io.cc:88] PNG warning: iCCP: known incorrect sRGB profile\n",
            "2021-10-15 21:12:15.689180: W tensorflow/core/lib/png/png_io.cc:88] PNG warning: iCCP: known incorrect sRGB profile\n",
            "2021-10-15 21:12:22.303456: W tensorflow/core/lib/png/png_io.cc:88] PNG warning: iCCP: known incorrect sRGB profile\n",
            "2021-10-15 21:12:22.401678: W tensorflow/core/lib/png/png_io.cc:88] PNG warning: iCCP: known incorrect sRGB profile\n",
            "2021-10-15 21:12:23.625607: W tensorflow/core/lib/png/png_io.cc:88] PNG warning: iCCP: known incorrect sRGB profile\n",
            "2021-10-15 21:12:32.447929: W tensorflow/core/lib/png/png_io.cc:88] PNG warning: iCCP: too many profiles\n",
            "2021-10-15 21:12:36.610948: W tensorflow/core/lib/png/png_io.cc:88] PNG warning: iCCP: known incorrect sRGB profile\n"
          ]
        },
        {
          "name": "stdout",
          "output_type": "stream",
          "text": [
            "202/202 [==============================] - 167s 828ms/step - loss: 0.9795 - accuracy: 0.9300 - val_loss: 1.0239 - val_accuracy: 0.8788\n",
            "Epoch 3/200\n"
          ]
        },
        {
          "name": "stderr",
          "output_type": "stream",
          "text": [
            "2021-10-15 21:12:42.639351: W tensorflow/core/lib/png/png_io.cc:88] PNG warning: iCCP: known incorrect sRGB profile\n",
            "2021-10-15 21:12:42.715125: W tensorflow/core/lib/png/png_io.cc:88] PNG warning: iCCP: known incorrect sRGB profile\n"
          ]
        },
        {
          "name": "stdout",
          "output_type": "stream",
          "text": [
            "\r",
            "  1/202 [..............................] - ETA: 2:32 - loss: 0.9509 - accuracy: 1.0000"
          ]
        },
        {
          "name": "stderr",
          "output_type": "stream",
          "text": [
            "2021-10-15 21:12:43.389342: W tensorflow/core/lib/png/png_io.cc:88] PNG warning: iCCP: known incorrect sRGB profile\n"
          ]
        },
        {
          "name": "stdout",
          "output_type": "stream",
          "text": [
            " 11/202 [>.............................] - ETA: 2:01 - loss: 0.9633 - accuracy: 0.9432"
          ]
        },
        {
          "name": "stderr",
          "output_type": "stream",
          "text": [
            "2021-10-15 21:12:49.654752: W tensorflow/core/lib/png/png_io.cc:88] PNG warning: iCCP: known incorrect sRGB profile\n"
          ]
        },
        {
          "name": "stdout",
          "output_type": "stream",
          "text": [
            " 23/202 [==>...........................] - ETA: 1:51 - loss: 0.9533 - accuracy: 0.9620"
          ]
        },
        {
          "name": "stderr",
          "output_type": "stream",
          "text": [
            "2021-10-15 21:12:57.141159: W tensorflow/core/lib/png/png_io.cc:88] PNG warning: iCCP: known incorrect sRGB profile\n"
          ]
        },
        {
          "name": "stdout",
          "output_type": "stream",
          "text": [
            " 25/202 [==>...........................] - ETA: 1:50 - loss: 0.9565 - accuracy: 0.9600"
          ]
        },
        {
          "name": "stderr",
          "output_type": "stream",
          "text": [
            "2021-10-15 21:12:58.311509: W tensorflow/core/lib/png/png_io.cc:88] PNG warning: iCCP: known incorrect sRGB profile\n",
            "2021-10-15 21:12:58.311570: W tensorflow/core/lib/png/png_io.cc:88] PNG warning: iCCP: cHRM chunk does not match sRGB\n"
          ]
        },
        {
          "name": "stdout",
          "output_type": "stream",
          "text": [
            " 35/202 [====>.........................] - ETA: 1:43 - loss: 0.9484 - accuracy: 0.9679"
          ]
        },
        {
          "name": "stderr",
          "output_type": "stream",
          "text": [
            "2021-10-15 21:13:04.433400: W tensorflow/core/lib/png/png_io.cc:88] PNG warning: iCCP: known incorrect sRGB profile\n"
          ]
        },
        {
          "name": "stdout",
          "output_type": "stream",
          "text": [
            "\b\b\b\b\b\b\b\b\b\b\b\b\b\b\b\b\b\b\b\b\b\b\b\b\b\b\b\b\b\b\b\b\b\b\b\b\b\b\b\b\b\b\b\b\b\b\b\b\b\b\b\b\b\b\b\b\b\b\b\b\b\b\b\b\b\b\b\b\b\b\b\b\b\b\b\b\b\b\b\b\b\b\b\b\b\b\r",
            " 36/202 [====>.........................] - ETA: 1:43 - loss: 0.9473 - accuracy: 0.9688"
          ]
        },
        {
          "name": "stderr",
          "output_type": "stream",
          "text": [
            "2021-10-15 21:13:05.130263: W tensorflow/core/lib/png/png_io.cc:88] PNG warning: bKGD: invalid\n"
          ]
        },
        {
          "name": "stdout",
          "output_type": "stream",
          "text": [
            " 55/202 [=======>......................] - ETA: 1:31 - loss: 0.9539 - accuracy: 0.9568"
          ]
        },
        {
          "name": "stderr",
          "output_type": "stream",
          "text": [
            "2021-10-15 21:13:16.706765: W tensorflow/core/lib/png/png_io.cc:88] PNG warning: iCCP: known incorrect sRGB profile\n"
          ]
        },
        {
          "name": "stdout",
          "output_type": "stream",
          "text": [
            "\b\b\b\b\b\b\b\b\b\b\b\b\b\b\b\b\b\b\b\b\b\b\b\b\b\b\b\b\b\b\b\b\b\b\b\b\b\b\b\b\b\b\b\b\b\b\b\b\b\b\b\b\b\b\b\b\b\b\b\b\b\b\b\b\b\b\b\b\b\b\b\b\b\b\b\b\b\b\b\b\b\b\b\b\b\b\r",
            " 56/202 [=======>......................] - ETA: 1:30 - loss: 0.9564 - accuracy: 0.9554"
          ]
        },
        {
          "name": "stderr",
          "output_type": "stream",
          "text": [
            "2021-10-15 21:13:17.474822: W tensorflow/core/lib/png/png_io.cc:88] PNG warning: iCCP: known incorrect sRGB profile\n",
            "2021-10-15 21:13:17.475119: W tensorflow/core/lib/png/png_io.cc:88] PNG warning: iCCP: cHRM chunk does not match sRGB\n"
          ]
        },
        {
          "name": "stdout",
          "output_type": "stream",
          "text": [
            "102/202 [==============>...............] - ETA: 1:01 - loss: 0.9538 - accuracy: 0.9547"
          ]
        },
        {
          "name": "stderr",
          "output_type": "stream",
          "text": [
            "2021-10-15 21:13:45.483368: W tensorflow/core/lib/png/png_io.cc:88] PNG warning: iCCP: known incorrect sRGB profile\n"
          ]
        },
        {
          "name": "stdout",
          "output_type": "stream",
          "text": [
            "105/202 [==============>...............] - ETA: 59s - loss: 0.9538 - accuracy: 0.9548 "
          ]
        },
        {
          "name": "stderr",
          "output_type": "stream",
          "text": [
            "2021-10-15 21:13:47.268666: W tensorflow/core/lib/png/png_io.cc:88] PNG warning: iCCP: known incorrect sRGB profile\n"
          ]
        },
        {
          "name": "stdout",
          "output_type": "stream",
          "text": [
            "115/202 [================>.............] - ETA: 53s - loss: 0.9525 - accuracy: 0.9565"
          ]
        },
        {
          "name": "stderr",
          "output_type": "stream",
          "text": [
            "2021-10-15 21:13:53.704440: W tensorflow/core/lib/png/png_io.cc:88] PNG warning: iCCP: known incorrect sRGB profile\n"
          ]
        },
        {
          "name": "stdout",
          "output_type": "stream",
          "text": [
            "120/202 [================>.............] - ETA: 50s - loss: 0.9539 - accuracy: 0.9552"
          ]
        },
        {
          "name": "stderr",
          "output_type": "stream",
          "text": [
            "2021-10-15 21:13:56.779549: W tensorflow/core/lib/png/png_io.cc:88] PNG warning: iCCP: known incorrect sRGB profile\n"
          ]
        },
        {
          "name": "stdout",
          "output_type": "stream",
          "text": [
            "125/202 [=================>............] - ETA: 47s - loss: 0.9533 - accuracy: 0.9560"
          ]
        },
        {
          "name": "stderr",
          "output_type": "stream",
          "text": [
            "2021-10-15 21:13:59.746170: W tensorflow/core/lib/png/png_io.cc:88] PNG warning: iCCP: known incorrect sRGB profile\n"
          ]
        },
        {
          "name": "stdout",
          "output_type": "stream",
          "text": [
            "127/202 [=================>............] - ETA: 46s - loss: 0.9526 - accuracy: 0.9567"
          ]
        },
        {
          "name": "stderr",
          "output_type": "stream",
          "text": [
            "2021-10-15 21:14:00.957244: W tensorflow/core/lib/png/png_io.cc:88] PNG warning: iCCP: known incorrect sRGB profile\n",
            "2021-10-15 21:14:00.957311: W tensorflow/core/lib/png/png_io.cc:88] PNG warning: iCCP: cHRM chunk does not match sRGB\n"
          ]
        },
        {
          "name": "stdout",
          "output_type": "stream",
          "text": [
            "137/202 [===================>..........] - ETA: 40s - loss: 0.9506 - accuracy: 0.9580"
          ]
        },
        {
          "name": "stderr",
          "output_type": "stream",
          "text": [
            "2021-10-15 21:14:07.264609: W tensorflow/core/lib/png/png_io.cc:88] PNG warning: iCCP: known incorrect sRGB profile\n"
          ]
        },
        {
          "name": "stdout",
          "output_type": "stream",
          "text": [
            "139/202 [===================>..........] - ETA: 38s - loss: 0.9499 - accuracy: 0.9586"
          ]
        },
        {
          "name": "stderr",
          "output_type": "stream",
          "text": [
            "2021-10-15 21:14:08.497143: W tensorflow/core/lib/png/png_io.cc:88] PNG warning: iCCP: known incorrect sRGB profile\n"
          ]
        },
        {
          "name": "stdout",
          "output_type": "stream",
          "text": [
            "147/202 [====================>.........] - ETA: 33s - loss: 0.9555 - accuracy: 0.9524"
          ]
        },
        {
          "name": "stderr",
          "output_type": "stream",
          "text": [
            "2021-10-15 21:14:13.261445: W tensorflow/core/lib/png/png_io.cc:88] PNG warning: iCCP: known incorrect sRGB profile\n"
          ]
        },
        {
          "name": "stdout",
          "output_type": "stream",
          "text": [
            "149/202 [=====================>........] - ETA: 32s - loss: 0.9565 - accuracy: 0.9513"
          ]
        },
        {
          "name": "stderr",
          "output_type": "stream",
          "text": [
            "2021-10-15 21:14:14.640389: W tensorflow/core/lib/png/png_io.cc:88] PNG warning: iCCP: known incorrect sRGB profile\n"
          ]
        },
        {
          "name": "stdout",
          "output_type": "stream",
          "text": [
            "156/202 [======================>.......] - ETA: 28s - loss: 0.9568 - accuracy: 0.9511"
          ]
        },
        {
          "name": "stderr",
          "output_type": "stream",
          "text": [
            "2021-10-15 21:14:18.924485: W tensorflow/core/lib/png/png_io.cc:88] PNG warning: iCCP: known incorrect sRGB profile\n"
          ]
        },
        {
          "name": "stdout",
          "output_type": "stream",
          "text": [
            "160/202 [======================>.......] - ETA: 25s - loss: 0.9575 - accuracy: 0.9508"
          ]
        },
        {
          "name": "stderr",
          "output_type": "stream",
          "text": [
            "2021-10-15 21:14:21.424912: W tensorflow/core/lib/png/png_io.cc:88] PNG warning: iCCP: known incorrect sRGB profile\n"
          ]
        },
        {
          "name": "stdout",
          "output_type": "stream",
          "text": [
            "164/202 [=======================>......] - ETA: 23s - loss: 0.9576 - accuracy: 0.9505"
          ]
        },
        {
          "name": "stderr",
          "output_type": "stream",
          "text": [
            "2021-10-15 21:14:23.809581: W tensorflow/core/lib/png/png_io.cc:88] PNG warning: iCCP: known incorrect sRGB profile\n"
          ]
        },
        {
          "name": "stdout",
          "output_type": "stream",
          "text": [
            "166/202 [=======================>......] - ETA: 22s - loss: 0.9577 - accuracy: 0.9503"
          ]
        },
        {
          "name": "stderr",
          "output_type": "stream",
          "text": [
            "2021-10-15 21:14:25.079788: W tensorflow/core/lib/png/png_io.cc:88] PNG warning: iCCP: known incorrect sRGB profile\n"
          ]
        },
        {
          "name": "stdout",
          "output_type": "stream",
          "text": [
            "189/202 [===========================>..] - ETA: 8s - loss: 0.9586 - accuracy: 0.9497"
          ]
        },
        {
          "name": "stderr",
          "output_type": "stream",
          "text": [
            "2021-10-15 21:14:39.337590: W tensorflow/core/lib/png/png_io.cc:88] PNG warning: iCCP: known incorrect sRGB profile\n"
          ]
        },
        {
          "name": "stdout",
          "output_type": "stream",
          "text": [
            "201/202 [============================>.] - ETA: 0s - loss: 0.9599 - accuracy: 0.9478"
          ]
        },
        {
          "name": "stderr",
          "output_type": "stream",
          "text": [
            "2021-10-15 21:14:47.370806: W tensorflow/core/common_runtime/base_collective_executor.cc:216] BaseCollectiveExecutor::StartAbort Out of range: End of sequence\n",
            "\t [[{{node IteratorGetNext}}]]\n",
            "2021-10-15 21:14:47.980439: W tensorflow/core/lib/png/png_io.cc:88] PNG warning: iCCP: known incorrect sRGB profile\n",
            "2021-10-15 21:14:50.892362: W tensorflow/core/lib/png/png_io.cc:88] PNG warning: iCCP: known incorrect sRGB profile\n",
            "2021-10-15 21:14:52.416908: W tensorflow/core/lib/png/png_io.cc:88] PNG warning: iCCP: known incorrect sRGB profile\n",
            "2021-10-15 21:14:56.907556: W tensorflow/core/lib/png/png_io.cc:88] PNG warning: iCCP: known incorrect sRGB profile\n",
            "2021-10-15 21:15:02.149394: W tensorflow/core/lib/png/png_io.cc:88] PNG warning: iCCP: known incorrect sRGB profile\n",
            "2021-10-15 21:15:02.356116: W tensorflow/core/lib/png/png_io.cc:88] PNG warning: iCCP: known incorrect sRGB profile\n",
            "2021-10-15 21:15:09.076312: W tensorflow/core/lib/png/png_io.cc:88] PNG warning: iCCP: known incorrect sRGB profile\n",
            "2021-10-15 21:15:09.178879: W tensorflow/core/lib/png/png_io.cc:88] PNG warning: iCCP: known incorrect sRGB profile\n",
            "2021-10-15 21:15:10.346371: W tensorflow/core/lib/png/png_io.cc:88] PNG warning: iCCP: known incorrect sRGB profile\n",
            "2021-10-15 21:15:19.194554: W tensorflow/core/lib/png/png_io.cc:88] PNG warning: iCCP: too many profiles\n",
            "2021-10-15 21:15:24.024854: W tensorflow/core/lib/png/png_io.cc:88] PNG warning: iCCP: known incorrect sRGB profile\n"
          ]
        },
        {
          "name": "stdout",
          "output_type": "stream",
          "text": [
            "202/202 [==============================] - 167s 827ms/step - loss: 0.9599 - accuracy: 0.9480 - val_loss: 1.0064 - val_accuracy: 0.8975\n",
            "Epoch 4/200\n",
            "  9/202 [>.............................] - ETA: 2:06 - loss: 1.0890 - accuracy: 0.8194"
          ]
        },
        {
          "name": "stderr",
          "output_type": "stream",
          "text": [
            "2021-10-15 21:15:35.588117: W tensorflow/core/lib/png/png_io.cc:88] PNG warning: iCCP: known incorrect sRGB profile\n"
          ]
        },
        {
          "name": "stdout",
          "output_type": "stream",
          "text": [
            " 27/202 [===>..........................] - ETA: 1:54 - loss: 1.0070 - accuracy: 0.8935"
          ]
        },
        {
          "name": "stderr",
          "output_type": "stream",
          "text": [
            "2021-10-15 21:15:47.392890: W tensorflow/core/lib/png/png_io.cc:88] PNG warning: bKGD: invalid\n"
          ]
        },
        {
          "name": "stdout",
          "output_type": "stream",
          "text": [
            " 32/202 [===>..........................] - ETA: 1:50 - loss: 0.9945 - accuracy: 0.9062"
          ]
        },
        {
          "name": "stderr",
          "output_type": "stream",
          "text": [
            "2021-10-15 21:15:50.478437: W tensorflow/core/lib/png/png_io.cc:88] PNG warning: iCCP: known incorrect sRGB profile\n"
          ]
        },
        {
          "name": "stdout",
          "output_type": "stream",
          "text": [
            " 40/202 [====>.........................] - ETA: 1:47 - loss: 0.9812 - accuracy: 0.9219"
          ]
        },
        {
          "name": "stderr",
          "output_type": "stream",
          "text": [
            "2021-10-15 21:15:56.540604: W tensorflow/core/lib/png/png_io.cc:88] PNG warning: iCCP: known incorrect sRGB profile\n"
          ]
        },
        {
          "name": "stdout",
          "output_type": "stream",
          "text": [
            " 50/202 [======>.......................] - ETA: 1:40 - loss: 0.9719 - accuracy: 0.9325"
          ]
        },
        {
          "name": "stderr",
          "output_type": "stream",
          "text": [
            "2021-10-15 21:16:02.634725: W tensorflow/core/lib/png/png_io.cc:88] PNG warning: iCCP: known incorrect sRGB profile\n"
          ]
        },
        {
          "name": "stdout",
          "output_type": "stream",
          "text": [
            " 53/202 [======>.......................] - ETA: 1:37 - loss: 0.9682 - accuracy: 0.9363"
          ]
        },
        {
          "name": "stderr",
          "output_type": "stream",
          "text": [
            "2021-10-15 21:16:04.606516: W tensorflow/core/lib/png/png_io.cc:88] PNG warning: iCCP: known incorrect sRGB profile\n"
          ]
        },
        {
          "name": "stdout",
          "output_type": "stream",
          "text": [
            " 59/202 [=======>......................] - ETA: 1:34 - loss: 0.9632 - accuracy: 0.9428"
          ]
        },
        {
          "name": "stderr",
          "output_type": "stream",
          "text": [
            "2021-10-15 21:16:08.444855: W tensorflow/core/lib/png/png_io.cc:88] PNG warning: iCCP: known incorrect sRGB profile\n"
          ]
        },
        {
          "name": "stdout",
          "output_type": "stream",
          "text": [
            " 71/202 [=========>....................] - ETA: 1:26 - loss: 0.9604 - accuracy: 0.9437"
          ]
        },
        {
          "name": "stderr",
          "output_type": "stream",
          "text": [
            "2021-10-15 21:16:16.299399: W tensorflow/core/lib/png/png_io.cc:88] PNG warning: iCCP: known incorrect sRGB profile\n",
            "2021-10-15 21:16:16.299452: W tensorflow/core/lib/png/png_io.cc:88] PNG warning: iCCP: cHRM chunk does not match sRGB\n"
          ]
        },
        {
          "name": "stdout",
          "output_type": "stream",
          "text": [
            "\b\b\b\b\b\b\b\b\b\b\b\b\b\b\b\b\b\b\b\b\b\b\b\b\b\b\b\b\b\b\b\b\b\b\b\b\b\b\b\b\b\b\b\b\b\b\b\b\b\b\b\b\b\b\b\b\b\b\b\b\b\b\b\b\b\b\b\b\b\b\b\b\b\b\b\b\b\b\b\b\b\b\b\b\b\b\r",
            " 72/202 [=========>....................] - ETA: 1:25 - loss: 0.9604 - accuracy: 0.9427"
          ]
        },
        {
          "name": "stderr",
          "output_type": "stream",
          "text": [
            "2021-10-15 21:16:16.973119: W tensorflow/core/lib/png/png_io.cc:88] PNG warning: iCCP: known incorrect sRGB profile\n"
          ]
        },
        {
          "name": "stdout",
          "output_type": "stream",
          "text": [
            " 83/202 [===========>..................] - ETA: 1:17 - loss: 0.9603 - accuracy: 0.9443"
          ]
        },
        {
          "name": "stderr",
          "output_type": "stream",
          "text": [
            "2021-10-15 21:16:23.902851: W tensorflow/core/lib/png/png_io.cc:88] PNG warning: iCCP: known incorrect sRGB profile\n"
          ]
        },
        {
          "name": "stdout",
          "output_type": "stream",
          "text": [
            " 85/202 [===========>..................] - ETA: 1:16 - loss: 0.9612 - accuracy: 0.9441"
          ]
        },
        {
          "name": "stderr",
          "output_type": "stream",
          "text": [
            "2021-10-15 21:16:25.160420: W tensorflow/core/lib/png/png_io.cc:88] PNG warning: iCCP: known incorrect sRGB profile\n"
          ]
        },
        {
          "name": "stdout",
          "output_type": "stream",
          "text": [
            " 87/202 [===========>..................] - ETA: 1:15 - loss: 0.9602 - accuracy: 0.9454"
          ]
        },
        {
          "name": "stderr",
          "output_type": "stream",
          "text": [
            "2021-10-15 21:16:26.429054: W tensorflow/core/lib/png/png_io.cc:88] PNG warning: iCCP: known incorrect sRGB profile\n"
          ]
        },
        {
          "name": "stdout",
          "output_type": "stream",
          "text": [
            " 92/202 [============>.................] - ETA: 1:11 - loss: 0.9580 - accuracy: 0.9484"
          ]
        },
        {
          "name": "stderr",
          "output_type": "stream",
          "text": [
            "2021-10-15 21:16:29.557445: W tensorflow/core/lib/png/png_io.cc:88] PNG warning: iCCP: known incorrect sRGB profile\n"
          ]
        },
        {
          "name": "stdout",
          "output_type": "stream",
          "text": [
            " 95/202 [=============>................] - ETA: 1:09 - loss: 0.9568 - accuracy: 0.9500"
          ]
        },
        {
          "name": "stderr",
          "output_type": "stream",
          "text": [
            "2021-10-15 21:16:31.410578: W tensorflow/core/lib/png/png_io.cc:88] PNG warning: iCCP: known incorrect sRGB profile\n"
          ]
        },
        {
          "name": "stdout",
          "output_type": "stream",
          "text": [
            "106/202 [==============>...............] - ETA: 1:02 - loss: 0.9557 - accuracy: 0.9493"
          ]
        },
        {
          "name": "stderr",
          "output_type": "stream",
          "text": [
            "2021-10-15 21:16:38.406156: W tensorflow/core/lib/png/png_io.cc:88] PNG warning: iCCP: known incorrect sRGB profile\n"
          ]
        },
        {
          "name": "stdout",
          "output_type": "stream",
          "text": [
            "108/202 [===============>..............] - ETA: 1:00 - loss: 0.9562 - accuracy: 0.9491"
          ]
        },
        {
          "name": "stderr",
          "output_type": "stream",
          "text": [
            "2021-10-15 21:16:39.623678: W tensorflow/core/lib/png/png_io.cc:88] PNG warning: iCCP: known incorrect sRGB profile\n"
          ]
        },
        {
          "name": "stdout",
          "output_type": "stream",
          "text": [
            "\b\b\b\b\b\b\b\b\b\b\b\b\b\b\b\b\b\b\b\b\b\b\b\b\b\b\b\b\b\b\b\b\b\b\b\b\b\b\b\b\b\b\b\b\b\b\b\b\b\b\b\b\b\b\b\b\b\b\b\b\b\b\b\b\b\b\b\b\b\b\b\b\b\b\b\b\b\b\b\b\b\b\b\b\b\b\r",
            "109/202 [===============>..............] - ETA: 1:00 - loss: 0.9562 - accuracy: 0.9495"
          ]
        },
        {
          "name": "stderr",
          "output_type": "stream",
          "text": [
            "2021-10-15 21:16:40.428748: W tensorflow/core/lib/png/png_io.cc:88] PNG warning: iCCP: known incorrect sRGB profile\n"
          ]
        },
        {
          "name": "stdout",
          "output_type": "stream",
          "text": [
            "119/202 [================>.............] - ETA: 53s - loss: 0.9551 - accuracy: 0.9506"
          ]
        },
        {
          "name": "stderr",
          "output_type": "stream",
          "text": [
            "2021-10-15 21:16:46.593839: W tensorflow/core/lib/png/png_io.cc:88] PNG warning: iCCP: known incorrect sRGB profile\n",
            "2021-10-15 21:16:46.593929: W tensorflow/core/lib/png/png_io.cc:88] PNG warning: iCCP: cHRM chunk does not match sRGB\n"
          ]
        },
        {
          "name": "stdout",
          "output_type": "stream",
          "text": [
            "126/202 [=================>............] - ETA: 49s - loss: 0.9535 - accuracy: 0.9524"
          ]
        },
        {
          "name": "stderr",
          "output_type": "stream",
          "text": [
            "2021-10-15 21:16:50.942928: W tensorflow/core/lib/png/png_io.cc:88] PNG warning: iCCP: known incorrect sRGB profile\n"
          ]
        },
        {
          "name": "stdout",
          "output_type": "stream",
          "text": [
            "134/202 [==================>...........] - ETA: 43s - loss: 0.9554 - accuracy: 0.9506"
          ]
        },
        {
          "name": "stderr",
          "output_type": "stream",
          "text": [
            "2021-10-15 21:16:56.059993: W tensorflow/core/lib/png/png_io.cc:88] PNG warning: iCCP: known incorrect sRGB profile\n"
          ]
        },
        {
          "name": "stdout",
          "output_type": "stream",
          "text": [
            "145/202 [====================>.........] - ETA: 36s - loss: 0.9538 - accuracy: 0.9526"
          ]
        },
        {
          "name": "stderr",
          "output_type": "stream",
          "text": [
            "2021-10-15 21:17:02.837220: W tensorflow/core/lib/png/png_io.cc:88] PNG warning: iCCP: known incorrect sRGB profile\n"
          ]
        },
        {
          "name": "stdout",
          "output_type": "stream",
          "text": [
            "162/202 [=======================>......] - ETA: 25s - loss: 0.9505 - accuracy: 0.9560"
          ]
        },
        {
          "name": "stderr",
          "output_type": "stream",
          "text": [
            "2021-10-15 21:17:13.258550: W tensorflow/core/lib/png/png_io.cc:88] PNG warning: iCCP: known incorrect sRGB profile\n",
            "2021-10-15 21:17:13.258608: W tensorflow/core/lib/png/png_io.cc:88] PNG warning: iCCP: cHRM chunk does not match sRGB\n"
          ]
        },
        {
          "name": "stdout",
          "output_type": "stream",
          "text": [
            "167/202 [=======================>......] - ETA: 22s - loss: 0.9492 - accuracy: 0.9573"
          ]
        },
        {
          "name": "stderr",
          "output_type": "stream",
          "text": [
            "2021-10-15 21:17:16.327174: W tensorflow/core/lib/png/png_io.cc:88] PNG warning: iCCP: known incorrect sRGB profile\n"
          ]
        },
        {
          "name": "stdout",
          "output_type": "stream",
          "text": [
            "184/202 [==========================>...] - ETA: 11s - loss: 0.9473 - accuracy: 0.9592"
          ]
        },
        {
          "name": "stderr",
          "output_type": "stream",
          "text": [
            "2021-10-15 21:17:27.026710: W tensorflow/core/lib/png/png_io.cc:88] PNG warning: iCCP: known incorrect sRGB profile\n"
          ]
        },
        {
          "name": "stdout",
          "output_type": "stream",
          "text": [
            "199/202 [============================>.] - ETA: 1s - loss: 0.9473 - accuracy: 0.9598"
          ]
        },
        {
          "name": "stderr",
          "output_type": "stream",
          "text": [
            "2021-10-15 21:17:36.204583: W tensorflow/core/lib/png/png_io.cc:88] PNG warning: iCCP: known incorrect sRGB profile\n"
          ]
        },
        {
          "name": "stdout",
          "output_type": "stream",
          "text": [
            "201/202 [============================>.] - ETA: 0s - loss: 0.9468 - accuracy: 0.9602"
          ]
        },
        {
          "name": "stderr",
          "output_type": "stream",
          "text": [
            "2021-10-15 21:17:37.871102: W tensorflow/core/common_runtime/base_collective_executor.cc:216] BaseCollectiveExecutor::StartAbort Out of range: End of sequence\n",
            "\t [[{{node IteratorGetNext}}]]\n",
            "2021-10-15 21:17:38.509838: W tensorflow/core/lib/png/png_io.cc:88] PNG warning: iCCP: known incorrect sRGB profile\n",
            "2021-10-15 21:17:41.414517: W tensorflow/core/lib/png/png_io.cc:88] PNG warning: iCCP: known incorrect sRGB profile\n",
            "2021-10-15 21:17:42.904717: W tensorflow/core/lib/png/png_io.cc:88] PNG warning: iCCP: known incorrect sRGB profile\n",
            "2021-10-15 21:17:47.300513: W tensorflow/core/lib/png/png_io.cc:88] PNG warning: iCCP: known incorrect sRGB profile\n",
            "2021-10-15 21:17:52.663411: W tensorflow/core/lib/png/png_io.cc:88] PNG warning: iCCP: known incorrect sRGB profile\n",
            "2021-10-15 21:17:52.858772: W tensorflow/core/lib/png/png_io.cc:88] PNG warning: iCCP: known incorrect sRGB profile\n",
            "2021-10-15 21:17:59.592752: W tensorflow/core/lib/png/png_io.cc:88] PNG warning: iCCP: known incorrect sRGB profile\n",
            "2021-10-15 21:17:59.695085: W tensorflow/core/lib/png/png_io.cc:88] PNG warning: iCCP: known incorrect sRGB profile\n",
            "2021-10-15 21:18:00.892673: W tensorflow/core/lib/png/png_io.cc:88] PNG warning: iCCP: known incorrect sRGB profile\n",
            "2021-10-15 21:18:09.731190: W tensorflow/core/lib/png/png_io.cc:88] PNG warning: iCCP: too many profiles\n",
            "2021-10-15 21:18:14.191097: W tensorflow/core/lib/png/png_io.cc:88] PNG warning: iCCP: known incorrect sRGB profile\n"
          ]
        },
        {
          "name": "stdout",
          "output_type": "stream",
          "text": [
            "202/202 [==============================] - 171s 849ms/step - loss: 0.9468 - accuracy: 0.9604 - val_loss: 0.9294 - val_accuracy: 0.9740\n",
            "Epoch 5/200\n",
            " 38/202 [====>.........................] - ETA: 1:44 - loss: 0.9291 - accuracy: 0.9770"
          ]
        },
        {
          "name": "stderr",
          "output_type": "stream",
          "text": [
            "2021-10-15 21:18:45.193704: W tensorflow/core/lib/png/png_io.cc:88] PNG warning: iCCP: known incorrect sRGB profile\n"
          ]
        },
        {
          "name": "stdout",
          "output_type": "stream",
          "text": [
            " 42/202 [=====>........................] - ETA: 1:41 - loss: 0.9268 - accuracy: 0.9792"
          ]
        },
        {
          "name": "stderr",
          "output_type": "stream",
          "text": [
            "2021-10-15 21:18:47.849702: W tensorflow/core/lib/png/png_io.cc:88] PNG warning: iCCP: known incorrect sRGB profile\n"
          ]
        },
        {
          "name": "stdout",
          "output_type": "stream",
          "text": [
            " 61/202 [========>.....................] - ETA: 1:29 - loss: 0.9284 - accuracy: 0.9775"
          ]
        },
        {
          "name": "stderr",
          "output_type": "stream",
          "text": [
            "2021-10-15 21:18:59.667992: W tensorflow/core/lib/png/png_io.cc:88] PNG warning: iCCP: known incorrect sRGB profile\n"
          ]
        },
        {
          "name": "stdout",
          "output_type": "stream",
          "text": [
            " 63/202 [========>.....................] - ETA: 1:28 - loss: 0.9277 - accuracy: 0.9782"
          ]
        },
        {
          "name": "stderr",
          "output_type": "stream",
          "text": [
            "2021-10-15 21:19:01.054736: W tensorflow/core/lib/png/png_io.cc:88] PNG warning: iCCP: known incorrect sRGB profile\n"
          ]
        },
        {
          "name": "stdout",
          "output_type": "stream",
          "text": [
            " 68/202 [=========>....................] - ETA: 1:24 - loss: 0.9292 - accuracy: 0.9761"
          ]
        },
        {
          "name": "stderr",
          "output_type": "stream",
          "text": [
            "2021-10-15 21:19:04.182448: W tensorflow/core/lib/png/png_io.cc:88] PNG warning: bKGD: invalid\n"
          ]
        },
        {
          "name": "stdout",
          "output_type": "stream",
          "text": [
            " 82/202 [===========>..................] - ETA: 1:15 - loss: 0.9319 - accuracy: 0.9726"
          ]
        },
        {
          "name": "stderr",
          "output_type": "stream",
          "text": [
            "2021-10-15 21:19:12.786520: W tensorflow/core/lib/png/png_io.cc:88] PNG warning: iCCP: known incorrect sRGB profile\n"
          ]
        },
        {
          "name": "stdout",
          "output_type": "stream",
          "text": [
            " 85/202 [===========>..................] - ETA: 1:13 - loss: 0.9332 - accuracy: 0.9721"
          ]
        },
        {
          "name": "stderr",
          "output_type": "stream",
          "text": [
            "2021-10-15 21:19:14.584407: W tensorflow/core/lib/png/png_io.cc:88] PNG warning: iCCP: known incorrect sRGB profile\n"
          ]
        },
        {
          "name": "stdout",
          "output_type": "stream",
          "text": [
            " 95/202 [=============>................] - ETA: 1:07 - loss: 0.9334 - accuracy: 0.9711"
          ]
        },
        {
          "name": "stderr",
          "output_type": "stream",
          "text": [
            "2021-10-15 21:19:20.910642: W tensorflow/core/lib/png/png_io.cc:88] PNG warning: iCCP: known incorrect sRGB profile\n",
            "2021-10-15 21:19:20.910674: W tensorflow/core/lib/png/png_io.cc:88] PNG warning: iCCP: cHRM chunk does not match sRGB\n"
          ]
        },
        {
          "name": "stdout",
          "output_type": "stream",
          "text": [
            " 97/202 [=============>................] - ETA: 1:05 - loss: 0.9341 - accuracy: 0.9704"
          ]
        },
        {
          "name": "stderr",
          "output_type": "stream",
          "text": [
            "2021-10-15 21:19:22.066992: W tensorflow/core/lib/png/png_io.cc:88] PNG warning: iCCP: known incorrect sRGB profile\n"
          ]
        },
        {
          "name": "stdout",
          "output_type": "stream",
          "text": [
            " 99/202 [=============>................] - ETA: 1:04 - loss: 0.9337 - accuracy: 0.9710"
          ]
        },
        {
          "name": "stderr",
          "output_type": "stream",
          "text": [
            "2021-10-15 21:19:23.403853: W tensorflow/core/lib/png/png_io.cc:88] PNG warning: iCCP: known incorrect sRGB profile\n"
          ]
        },
        {
          "name": "stdout",
          "output_type": "stream",
          "text": [
            "102/202 [==============>...............] - ETA: 1:02 - loss: 0.9339 - accuracy: 0.9706"
          ]
        },
        {
          "name": "stderr",
          "output_type": "stream",
          "text": [
            "2021-10-15 21:19:25.196744: W tensorflow/core/lib/png/png_io.cc:88] PNG warning: iCCP: known incorrect sRGB profile\n"
          ]
        },
        {
          "name": "stdout",
          "output_type": "stream",
          "text": [
            "119/202 [================>.............] - ETA: 51s - loss: 0.9337 - accuracy: 0.9706"
          ]
        },
        {
          "name": "stderr",
          "output_type": "stream",
          "text": [
            "2021-10-15 21:19:35.777800: W tensorflow/core/lib/png/png_io.cc:88] PNG warning: iCCP: known incorrect sRGB profile\n"
          ]
        },
        {
          "name": "stdout",
          "output_type": "stream",
          "text": [
            "125/202 [=================>............] - ETA: 48s - loss: 0.9352 - accuracy: 0.9690"
          ]
        },
        {
          "name": "stderr",
          "output_type": "stream",
          "text": [
            "2021-10-15 21:19:39.426698: W tensorflow/core/lib/png/png_io.cc:88] PNG warning: iCCP: known incorrect sRGB profile\n"
          ]
        },
        {
          "name": "stdout",
          "output_type": "stream",
          "text": [
            "130/202 [==================>...........] - ETA: 45s - loss: 0.9351 - accuracy: 0.9692"
          ]
        },
        {
          "name": "stderr",
          "output_type": "stream",
          "text": [
            "2021-10-15 21:19:42.518899: W tensorflow/core/lib/png/png_io.cc:88] PNG warning: iCCP: known incorrect sRGB profile\n",
            "2021-10-15 21:19:42.678448: W tensorflow/core/lib/png/png_io.cc:88] PNG warning: iCCP: known incorrect sRGB profile\n"
          ]
        },
        {
          "name": "stdout",
          "output_type": "stream",
          "text": [
            "133/202 [==================>...........] - ETA: 43s - loss: 0.9354 - accuracy: 0.9690"
          ]
        },
        {
          "name": "stderr",
          "output_type": "stream",
          "text": [
            "2021-10-15 21:19:44.359091: W tensorflow/core/lib/png/png_io.cc:88] PNG warning: iCCP: known incorrect sRGB profile\n",
            "2021-10-15 21:19:44.359155: W tensorflow/core/lib/png/png_io.cc:88] PNG warning: iCCP: cHRM chunk does not match sRGB\n"
          ]
        },
        {
          "name": "stdout",
          "output_type": "stream",
          "text": [
            "147/202 [====================>.........] - ETA: 34s - loss: 0.9336 - accuracy: 0.9711"
          ]
        },
        {
          "name": "stderr",
          "output_type": "stream",
          "text": [
            "2021-10-15 21:19:53.551190: W tensorflow/core/lib/png/png_io.cc:88] PNG warning: iCCP: known incorrect sRGB profile\n"
          ]
        },
        {
          "name": "stdout",
          "output_type": "stream",
          "text": [
            "162/202 [=======================>......] - ETA: 25s - loss: 0.9341 - accuracy: 0.9707"
          ]
        },
        {
          "name": "stderr",
          "output_type": "stream",
          "text": [
            "2021-10-15 21:20:02.793790: W tensorflow/core/lib/png/png_io.cc:88] PNG warning: iCCP: known incorrect sRGB profile\n"
          ]
        },
        {
          "name": "stdout",
          "output_type": "stream",
          "text": [
            "177/202 [=========================>....] - ETA: 15s - loss: 0.9347 - accuracy: 0.9703"
          ]
        },
        {
          "name": "stderr",
          "output_type": "stream",
          "text": [
            "2021-10-15 21:20:12.350847: W tensorflow/core/lib/png/png_io.cc:88] PNG warning: iCCP: known incorrect sRGB profile\n",
            "2021-10-15 21:20:12.350885: W tensorflow/core/lib/png/png_io.cc:88] PNG warning: iCCP: cHRM chunk does not match sRGB\n"
          ]
        },
        {
          "name": "stdout",
          "output_type": "stream",
          "text": [
            "187/202 [==========================>...] - ETA: 9s - loss: 0.9358 - accuracy: 0.9699 "
          ]
        },
        {
          "name": "stderr",
          "output_type": "stream",
          "text": [
            "2021-10-15 21:20:18.421782: W tensorflow/core/lib/png/png_io.cc:88] PNG warning: iCCP: known incorrect sRGB profile\n",
            "2021-10-15 21:20:18.458835: W tensorflow/core/lib/png/png_io.cc:88] PNG warning: iCCP: known incorrect sRGB profile\n"
          ]
        },
        {
          "name": "stdout",
          "output_type": "stream",
          "text": [
            "193/202 [===========================>..] - ETA: 5s - loss: 0.9350 - accuracy: 0.9709"
          ]
        },
        {
          "name": "stderr",
          "output_type": "stream",
          "text": [
            "2021-10-15 21:20:22.254794: W tensorflow/core/lib/png/png_io.cc:88] PNG warning: iCCP: known incorrect sRGB profile\n"
          ]
        },
        {
          "name": "stdout",
          "output_type": "stream",
          "text": [
            "\b\b\b\b\b\b\b\b\b\b\b\b\b\b\b\b\b\b\b\b\b\b\b\b\b\b\b\b\b\b\b\b\b\b\b\b\b\b\b\b\b\b\b\b\b\b\b\b\b\b\b\b\b\b\b\b\b\b\b\b\b\b\b\b\b\b\b\b\b\b\b\b\b\b\b\b\b\b\b\b\b\b\b\b\r",
            "194/202 [===========================>..] - ETA: 5s - loss: 0.9349 - accuracy: 0.9710"
          ]
        },
        {
          "name": "stderr",
          "output_type": "stream",
          "text": [
            "2021-10-15 21:20:22.846312: W tensorflow/core/lib/png/png_io.cc:88] PNG warning: iCCP: known incorrect sRGB profile\n"
          ]
        },
        {
          "name": "stdout",
          "output_type": "stream",
          "text": [
            "196/202 [============================>.] - ETA: 3s - loss: 0.9346 - accuracy: 0.9713"
          ]
        },
        {
          "name": "stderr",
          "output_type": "stream",
          "text": [
            "2021-10-15 21:20:24.160758: W tensorflow/core/lib/png/png_io.cc:88] PNG warning: iCCP: known incorrect sRGB profile\n"
          ]
        },
        {
          "name": "stdout",
          "output_type": "stream",
          "text": [
            "\b\b\b\b\b\b\b\b\b\b\b\b\b\b\b\b\b\b\b\b\b\b\b\b\b\b\b\b\b\b\b\b\b\b\b\b\b\b\b\b\b\b\b\b\b\b\b\b\b\b\b\b\b\b\b\b\b\b\b\b\b\b\b\b\b\b\b\b\b\b\b\b\b\b\b\b\b\b\b\b\b\b\b\b\r",
            "197/202 [============================>.] - ETA: 3s - loss: 0.9344 - accuracy: 0.9714"
          ]
        },
        {
          "name": "stderr",
          "output_type": "stream",
          "text": [
            "2021-10-15 21:20:24.669341: W tensorflow/core/lib/png/png_io.cc:88] PNG warning: iCCP: known incorrect sRGB profile\n"
          ]
        },
        {
          "name": "stdout",
          "output_type": "stream",
          "text": [
            "201/202 [============================>.] - ETA: 0s - loss: 0.9353 - accuracy: 0.9708"
          ]
        },
        {
          "name": "stderr",
          "output_type": "stream",
          "text": [
            "2021-10-15 21:20:27.631654: W tensorflow/core/common_runtime/base_collective_executor.cc:216] BaseCollectiveExecutor::StartAbort Out of range: End of sequence\n",
            "\t [[{{node IteratorGetNext}}]]\n",
            "2021-10-15 21:20:28.245582: W tensorflow/core/lib/png/png_io.cc:88] PNG warning: iCCP: known incorrect sRGB profile\n",
            "2021-10-15 21:20:31.184660: W tensorflow/core/lib/png/png_io.cc:88] PNG warning: iCCP: known incorrect sRGB profile\n",
            "2021-10-15 21:20:32.720240: W tensorflow/core/lib/png/png_io.cc:88] PNG warning: iCCP: known incorrect sRGB profile\n",
            "2021-10-15 21:20:37.144260: W tensorflow/core/lib/png/png_io.cc:88] PNG warning: iCCP: known incorrect sRGB profile\n",
            "2021-10-15 21:20:42.575754: W tensorflow/core/lib/png/png_io.cc:88] PNG warning: iCCP: known incorrect sRGB profile\n",
            "2021-10-15 21:20:42.788970: W tensorflow/core/lib/png/png_io.cc:88] PNG warning: iCCP: known incorrect sRGB profile\n",
            "2021-10-15 21:20:49.740410: W tensorflow/core/lib/png/png_io.cc:88] PNG warning: iCCP: known incorrect sRGB profile\n",
            "2021-10-15 21:20:49.841974: W tensorflow/core/lib/png/png_io.cc:88] PNG warning: iCCP: known incorrect sRGB profile\n",
            "2021-10-15 21:20:51.024651: W tensorflow/core/lib/png/png_io.cc:88] PNG warning: iCCP: known incorrect sRGB profile\n",
            "2021-10-15 21:21:00.069272: W tensorflow/core/lib/png/png_io.cc:88] PNG warning: iCCP: too many profiles\n",
            "2021-10-15 21:21:05.110963: W tensorflow/core/lib/png/png_io.cc:88] PNG warning: iCCP: known incorrect sRGB profile\n"
          ]
        },
        {
          "name": "stdout",
          "output_type": "stream",
          "text": [
            "202/202 [==============================] - 170s 841ms/step - loss: 0.9353 - accuracy: 0.9709 - val_loss: 0.9368 - val_accuracy: 0.9668\n",
            "Epoch 6/200\n",
            "  7/202 [>.............................] - ETA: 2:10 - loss: 0.9361 - accuracy: 0.9821"
          ]
        },
        {
          "name": "stderr",
          "output_type": "stream",
          "text": [
            "2021-10-15 21:21:15.694076: W tensorflow/core/lib/png/png_io.cc:88] PNG warning: iCCP: known incorrect sRGB profile\n"
          ]
        },
        {
          "name": "stdout",
          "output_type": "stream",
          "text": [
            " 21/202 [==>...........................] - ETA: 1:56 - loss: 0.9407 - accuracy: 0.9643"
          ]
        },
        {
          "name": "stderr",
          "output_type": "stream",
          "text": [
            "2021-10-15 21:21:24.512856: W tensorflow/core/lib/png/png_io.cc:88] PNG warning: iCCP: known incorrect sRGB profile\n",
            "2021-10-15 21:21:24.512903: W tensorflow/core/lib/png/png_io.cc:88] PNG warning: iCCP: cHRM chunk does not match sRGB\n"
          ]
        },
        {
          "name": "stdout",
          "output_type": "stream",
          "text": [
            " 23/202 [==>...........................] - ETA: 1:55 - loss: 0.9416 - accuracy: 0.9620"
          ]
        },
        {
          "name": "stderr",
          "output_type": "stream",
          "text": [
            "2021-10-15 21:21:25.856430: W tensorflow/core/lib/png/png_io.cc:88] PNG warning: iCCP: known incorrect sRGB profile\n"
          ]
        },
        {
          "name": "stdout",
          "output_type": "stream",
          "text": [
            " 25/202 [==>...........................] - ETA: 1:53 - loss: 0.9387 - accuracy: 0.9650"
          ]
        },
        {
          "name": "stderr",
          "output_type": "stream",
          "text": [
            "2021-10-15 21:21:27.008860: W tensorflow/core/lib/png/png_io.cc:88] PNG warning: iCCP: known incorrect sRGB profile\n"
          ]
        },
        {
          "name": "stdout",
          "output_type": "stream",
          "text": [
            " 28/202 [===>..........................] - ETA: 1:51 - loss: 0.9351 - accuracy: 0.9688"
          ]
        },
        {
          "name": "stderr",
          "output_type": "stream",
          "text": [
            "2021-10-15 21:21:28.902500: W tensorflow/core/lib/png/png_io.cc:88] PNG warning: iCCP: known incorrect sRGB profile\n",
            "2021-10-15 21:21:28.979881: W tensorflow/core/lib/png/png_io.cc:88] PNG warning: iCCP: known incorrect sRGB profile\n"
          ]
        },
        {
          "name": "stdout",
          "output_type": "stream",
          "text": [
            " 31/202 [===>..........................] - ETA: 1:49 - loss: 0.9322 - accuracy: 0.9718"
          ]
        },
        {
          "name": "stderr",
          "output_type": "stream",
          "text": [
            "2021-10-15 21:21:30.744930: W tensorflow/core/lib/png/png_io.cc:88] PNG warning: iCCP: known incorrect sRGB profile\n"
          ]
        },
        {
          "name": "stdout",
          "output_type": "stream",
          "text": [
            " 36/202 [====>.........................] - ETA: 1:46 - loss: 0.9338 - accuracy: 0.9688"
          ]
        },
        {
          "name": "stderr",
          "output_type": "stream",
          "text": [
            "2021-10-15 21:21:34.042949: W tensorflow/core/lib/png/png_io.cc:88] PNG warning: iCCP: known incorrect sRGB profile\n",
            "2021-10-15 21:21:34.092933: W tensorflow/core/lib/png/png_io.cc:88] PNG warning: iCCP: known incorrect sRGB profile\n"
          ]
        },
        {
          "name": "stdout",
          "output_type": "stream",
          "text": [
            " 55/202 [=======>......................] - ETA: 1:33 - loss: 0.9321 - accuracy: 0.9705"
          ]
        },
        {
          "name": "stderr",
          "output_type": "stream",
          "text": [
            "2021-10-15 21:21:46.055725: W tensorflow/core/lib/png/png_io.cc:88] PNG warning: iCCP: known incorrect sRGB profile\n"
          ]
        },
        {
          "name": "stdout",
          "output_type": "stream",
          "text": [
            " 61/202 [========>.....................] - ETA: 1:29 - loss: 0.9294 - accuracy: 0.9734"
          ]
        },
        {
          "name": "stderr",
          "output_type": "stream",
          "text": [
            "2021-10-15 21:21:49.906687: W tensorflow/core/lib/png/png_io.cc:88] PNG warning: iCCP: known incorrect sRGB profile\n"
          ]
        },
        {
          "name": "stdout",
          "output_type": "stream",
          "text": [
            "\b\b\b\b\b\b\b\b\b\b\b\b\b\b\b\b\b\b\b\b\b\b\b\b\b\b\b\b\b\b\b\b\b\b\b\b\b\b\b\b\b\b\b\b\b\b\b\b\b\b\b\b\b\b\b\b\b\b\b\b\b\b\b\b\b\b\b\b\b\b\b\b\b\b\b\b\b\b\b\b\b\b\b\b\b\b\r",
            " 62/202 [========>.....................] - ETA: 1:28 - loss: 0.9290 - accuracy: 0.9738"
          ]
        },
        {
          "name": "stderr",
          "output_type": "stream",
          "text": [
            "2021-10-15 21:21:50.430763: W tensorflow/core/lib/png/png_io.cc:88] PNG warning: iCCP: known incorrect sRGB profile\n"
          ]
        },
        {
          "name": "stdout",
          "output_type": "stream",
          "text": [
            " 70/202 [=========>....................] - ETA: 1:23 - loss: 0.9288 - accuracy: 0.9732"
          ]
        },
        {
          "name": "stderr",
          "output_type": "stream",
          "text": [
            "2021-10-15 21:21:55.320364: W tensorflow/core/lib/png/png_io.cc:88] PNG warning: bKGD: invalid\n"
          ]
        },
        {
          "name": "stdout",
          "output_type": "stream",
          "text": [
            " 78/202 [==========>...................] - ETA: 1:18 - loss: 0.9272 - accuracy: 0.9760"
          ]
        },
        {
          "name": "stderr",
          "output_type": "stream",
          "text": [
            "2021-10-15 21:22:00.417690: W tensorflow/core/lib/png/png_io.cc:88] PNG warning: iCCP: known incorrect sRGB profile\n"
          ]
        },
        {
          "name": "stdout",
          "output_type": "stream",
          "text": [
            " 95/202 [=============>................] - ETA: 1:07 - loss: 0.9274 - accuracy: 0.9763"
          ]
        },
        {
          "name": "stderr",
          "output_type": "stream",
          "text": [
            "2021-10-15 21:22:10.964557: W tensorflow/core/lib/png/png_io.cc:88] PNG warning: iCCP: known incorrect sRGB profile\n"
          ]
        },
        {
          "name": "stdout",
          "output_type": "stream",
          "text": [
            "116/202 [================>.............] - ETA: 54s - loss: 0.9271 - accuracy: 0.9774"
          ]
        },
        {
          "name": "stderr",
          "output_type": "stream",
          "text": [
            "2021-10-15 21:22:23.989706: W tensorflow/core/lib/png/png_io.cc:88] PNG warning: iCCP: known incorrect sRGB profile\n"
          ]
        },
        {
          "name": "stdout",
          "output_type": "stream",
          "text": [
            "148/202 [====================>.........] - ETA: 33s - loss: 0.9274 - accuracy: 0.9772"
          ]
        },
        {
          "name": "stderr",
          "output_type": "stream",
          "text": [
            "2021-10-15 21:22:43.630485: W tensorflow/core/lib/png/png_io.cc:88] PNG warning: iCCP: known incorrect sRGB profile\n"
          ]
        },
        {
          "name": "stdout",
          "output_type": "stream",
          "text": [
            "155/202 [======================>.......] - ETA: 29s - loss: 0.9278 - accuracy: 0.9774"
          ]
        },
        {
          "name": "stderr",
          "output_type": "stream",
          "text": [
            "2021-10-15 21:22:47.942736: W tensorflow/core/lib/png/png_io.cc:88] PNG warning: iCCP: known incorrect sRGB profile\n"
          ]
        },
        {
          "name": "stdout",
          "output_type": "stream",
          "text": [
            "159/202 [======================>.......] - ETA: 26s - loss: 0.9285 - accuracy: 0.9764"
          ]
        },
        {
          "name": "stderr",
          "output_type": "stream",
          "text": [
            "2021-10-15 21:22:50.358701: W tensorflow/core/lib/png/png_io.cc:88] PNG warning: iCCP: known incorrect sRGB profile\n",
            "2021-10-15 21:22:50.358765: W tensorflow/core/lib/png/png_io.cc:88] PNG warning: iCCP: cHRM chunk does not match sRGB\n"
          ]
        },
        {
          "name": "stdout",
          "output_type": "stream",
          "text": [
            "167/202 [=======================>......] - ETA: 21s - loss: 0.9277 - accuracy: 0.9775"
          ]
        },
        {
          "name": "stderr",
          "output_type": "stream",
          "text": [
            "2021-10-15 21:22:55.323232: W tensorflow/core/lib/png/png_io.cc:88] PNG warning: iCCP: known incorrect sRGB profile\n"
          ]
        },
        {
          "name": "stdout",
          "output_type": "stream",
          "text": [
            "171/202 [========================>.....] - ETA: 19s - loss: 0.9274 - accuracy: 0.9781"
          ]
        },
        {
          "name": "stderr",
          "output_type": "stream",
          "text": [
            "2021-10-15 21:22:57.734906: W tensorflow/core/lib/png/png_io.cc:88] PNG warning: iCCP: known incorrect sRGB profile\n"
          ]
        },
        {
          "name": "stdout",
          "output_type": "stream",
          "text": [
            "173/202 [========================>.....] - ETA: 18s - loss: 0.9272 - accuracy: 0.9783"
          ]
        },
        {
          "name": "stderr",
          "output_type": "stream",
          "text": [
            "2021-10-15 21:22:58.975133: W tensorflow/core/lib/png/png_io.cc:88] PNG warning: iCCP: known incorrect sRGB profile\n",
            "2021-10-15 21:22:58.975198: W tensorflow/core/lib/png/png_io.cc:88] PNG warning: iCCP: cHRM chunk does not match sRGB\n"
          ]
        },
        {
          "name": "stdout",
          "output_type": "stream",
          "text": [
            "183/202 [==========================>...] - ETA: 11s - loss: 0.9284 - accuracy: 0.9768"
          ]
        },
        {
          "name": "stderr",
          "output_type": "stream",
          "text": [
            "2021-10-15 21:23:05.252626: W tensorflow/core/lib/png/png_io.cc:88] PNG warning: iCCP: known incorrect sRGB profile\n"
          ]
        },
        {
          "name": "stdout",
          "output_type": "stream",
          "text": [
            "197/202 [============================>.] - ETA: 3s - loss: 0.9280 - accuracy: 0.9778"
          ]
        },
        {
          "name": "stderr",
          "output_type": "stream",
          "text": [
            "2021-10-15 21:23:14.106008: W tensorflow/core/lib/png/png_io.cc:88] PNG warning: iCCP: known incorrect sRGB profile\n"
          ]
        },
        {
          "name": "stdout",
          "output_type": "stream",
          "text": [
            "\b\b\b\b\b\b\b\b\b\b\b\b\b\b\b\b\b\b\b\b\b\b\b\b\b\b\b\b\b\b\b\b\b\b\b\b\b\b\b\b\b\b\b\b\b\b\b\b\b\b\b\b\b\b\b\b\b\b\b\b\b\b\b\b\b\b\b\b\b\b\b\b\b\b\b\b\b\b\b\b\b\b\b\b\r",
            "198/202 [============================>.] - ETA: 2s - loss: 0.9278 - accuracy: 0.9779"
          ]
        },
        {
          "name": "stderr",
          "output_type": "stream",
          "text": [
            "2021-10-15 21:23:14.702257: W tensorflow/core/lib/png/png_io.cc:88] PNG warning: iCCP: known incorrect sRGB profile\n"
          ]
        },
        {
          "name": "stdout",
          "output_type": "stream",
          "text": [
            "201/202 [============================>.] - ETA: 0s - loss: 0.9283 - accuracy: 0.9776"
          ]
        },
        {
          "name": "stderr",
          "output_type": "stream",
          "text": [
            "2021-10-15 21:23:16.795796: W tensorflow/core/common_runtime/base_collective_executor.cc:216] BaseCollectiveExecutor::StartAbort Out of range: End of sequence\n",
            "\t [[{{node IteratorGetNext}}]]\n",
            "2021-10-15 21:23:17.428999: W tensorflow/core/lib/png/png_io.cc:88] PNG warning: iCCP: known incorrect sRGB profile\n",
            "2021-10-15 21:23:20.323689: W tensorflow/core/lib/png/png_io.cc:88] PNG warning: iCCP: known incorrect sRGB profile\n",
            "2021-10-15 21:23:21.848278: W tensorflow/core/lib/png/png_io.cc:88] PNG warning: iCCP: known incorrect sRGB profile\n",
            "2021-10-15 21:23:26.222802: W tensorflow/core/lib/png/png_io.cc:88] PNG warning: iCCP: known incorrect sRGB profile\n",
            "2021-10-15 21:23:31.505543: W tensorflow/core/lib/png/png_io.cc:88] PNG warning: iCCP: known incorrect sRGB profile\n",
            "2021-10-15 21:23:31.734076: W tensorflow/core/lib/png/png_io.cc:88] PNG warning: iCCP: known incorrect sRGB profile\n",
            "2021-10-15 21:23:38.616448: W tensorflow/core/lib/png/png_io.cc:88] PNG warning: iCCP: known incorrect sRGB profile\n",
            "2021-10-15 21:23:38.719900: W tensorflow/core/lib/png/png_io.cc:88] PNG warning: iCCP: known incorrect sRGB profile\n",
            "2021-10-15 21:23:39.932633: W tensorflow/core/lib/png/png_io.cc:88] PNG warning: iCCP: known incorrect sRGB profile\n",
            "2021-10-15 21:23:48.768901: W tensorflow/core/lib/png/png_io.cc:88] PNG warning: iCCP: too many profiles\n",
            "2021-10-15 21:23:53.690945: W tensorflow/core/lib/png/png_io.cc:88] PNG warning: iCCP: known incorrect sRGB profile\n"
          ]
        },
        {
          "name": "stdout",
          "output_type": "stream",
          "text": [
            "202/202 [==============================] - 168s 834ms/step - loss: 0.9283 - accuracy: 0.9777 - val_loss: 0.9344 - val_accuracy: 0.9740\n",
            "Epoch 7/200\n",
            " 15/202 [=>............................] - ETA: 2:03 - loss: 0.9063 - accuracy: 1.0000"
          ]
        },
        {
          "name": "stderr",
          "output_type": "stream",
          "text": [
            "2021-10-15 21:24:09.431047: W tensorflow/core/lib/png/png_io.cc:88] PNG warning: iCCP: known incorrect sRGB profile\n"
          ]
        },
        {
          "name": "stdout",
          "output_type": "stream",
          "text": [
            " 17/202 [=>............................] - ETA: 2:01 - loss: 0.9074 - accuracy: 1.0000"
          ]
        },
        {
          "name": "stderr",
          "output_type": "stream",
          "text": [
            "2021-10-15 21:24:10.668038: W tensorflow/core/lib/png/png_io.cc:88] PNG warning: iCCP: known incorrect sRGB profile\n"
          ]
        },
        {
          "name": "stdout",
          "output_type": "stream",
          "text": [
            " 19/202 [=>............................] - ETA: 1:59 - loss: 0.9072 - accuracy: 1.0000"
          ]
        },
        {
          "name": "stderr",
          "output_type": "stream",
          "text": [
            "2021-10-15 21:24:12.050389: W tensorflow/core/lib/png/png_io.cc:88] PNG warning: iCCP: known incorrect sRGB profile\n"
          ]
        },
        {
          "name": "stdout",
          "output_type": "stream",
          "text": [
            " 24/202 [==>...........................] - ETA: 1:55 - loss: 0.9116 - accuracy: 0.9948"
          ]
        },
        {
          "name": "stderr",
          "output_type": "stream",
          "text": [
            "2021-10-15 21:24:15.161721: W tensorflow/core/lib/png/png_io.cc:88] PNG warning: iCCP: known incorrect sRGB profile\n"
          ]
        },
        {
          "name": "stdout",
          "output_type": "stream",
          "text": [
            " 44/202 [=====>........................] - ETA: 1:41 - loss: 0.9220 - accuracy: 0.9801"
          ]
        },
        {
          "name": "stderr",
          "output_type": "stream",
          "text": [
            "2021-10-15 21:24:27.994522: W tensorflow/core/lib/png/png_io.cc:88] PNG warning: iCCP: known incorrect sRGB profile\n",
            "2021-10-15 21:24:27.994589: W tensorflow/core/lib/png/png_io.cc:88] PNG warning: iCCP: cHRM chunk does not match sRGB\n"
          ]
        },
        {
          "name": "stdout",
          "output_type": "stream",
          "text": [
            " 46/202 [=====>........................] - ETA: 1:40 - loss: 0.9213 - accuracy: 0.9810"
          ]
        },
        {
          "name": "stderr",
          "output_type": "stream",
          "text": [
            "2021-10-15 21:24:29.087026: W tensorflow/core/lib/png/png_io.cc:88] PNG warning: iCCP: known incorrect sRGB profile\n"
          ]
        },
        {
          "name": "stdout",
          "output_type": "stream",
          "text": [
            "\b\b\b\b\b\b\b\b\b\b\b\b\b\b\b\b\b\b\b\b\b\b\b\b\b\b\b\b\b\b\b\b\b\b\b\b\b\b\b\b\b\b\b\b\b\b\b\b\b\b\b\b\b\b\b\b\b\b\b\b\b\b\b\b\b\b\b\b\b\b\b\b\b\b\b\b\b\b\b\b\b\b\b\b\b\b\r",
            " 47/202 [=====>........................] - ETA: 1:39 - loss: 0.9209 - accuracy: 0.9814"
          ]
        },
        {
          "name": "stderr",
          "output_type": "stream",
          "text": [
            "2021-10-15 21:24:29.698438: W tensorflow/core/lib/png/png_io.cc:88] PNG warning: iCCP: known incorrect sRGB profile\n"
          ]
        },
        {
          "name": "stdout",
          "output_type": "stream",
          "text": [
            " 55/202 [=======>......................] - ETA: 1:34 - loss: 0.9220 - accuracy: 0.9818"
          ]
        },
        {
          "name": "stderr",
          "output_type": "stream",
          "text": [
            "2021-10-15 21:24:34.690096: W tensorflow/core/lib/png/png_io.cc:88] PNG warning: iCCP: known incorrect sRGB profile\n"
          ]
        },
        {
          "name": "stdout",
          "output_type": "stream",
          "text": [
            " 58/202 [=======>......................] - ETA: 1:31 - loss: 0.9224 - accuracy: 0.9828"
          ]
        },
        {
          "name": "stderr",
          "output_type": "stream",
          "text": [
            "2021-10-15 21:24:36.452187: W tensorflow/core/lib/png/png_io.cc:88] PNG warning: iCCP: known incorrect sRGB profile\n"
          ]
        },
        {
          "name": "stdout",
          "output_type": "stream",
          "text": [
            " 61/202 [========>.....................] - ETA: 1:29 - loss: 0.9216 - accuracy: 0.9836"
          ]
        },
        {
          "name": "stderr",
          "output_type": "stream",
          "text": [
            "2021-10-15 21:24:38.345851: W tensorflow/core/lib/png/png_io.cc:88] PNG warning: iCCP: known incorrect sRGB profile\n",
            "2021-10-15 21:24:38.345951: W tensorflow/core/lib/png/png_io.cc:88] PNG warning: iCCP: cHRM chunk does not match sRGB\n"
          ]
        },
        {
          "name": "stdout",
          "output_type": "stream",
          "text": [
            " 77/202 [==========>...................] - ETA: 1:18 - loss: 0.9198 - accuracy: 0.9854"
          ]
        },
        {
          "name": "stderr",
          "output_type": "stream",
          "text": [
            "2021-10-15 21:24:48.113660: W tensorflow/core/lib/png/png_io.cc:88] PNG warning: iCCP: known incorrect sRGB profile\n"
          ]
        },
        {
          "name": "stdout",
          "output_type": "stream",
          "text": [
            " 84/202 [===========>..................] - ETA: 1:14 - loss: 0.9216 - accuracy: 0.9836"
          ]
        },
        {
          "name": "stderr",
          "output_type": "stream",
          "text": [
            "2021-10-15 21:24:52.327901: W tensorflow/core/lib/png/png_io.cc:88] PNG warning: iCCP: known incorrect sRGB profile\n"
          ]
        },
        {
          "name": "stdout",
          "output_type": "stream",
          "text": [
            "132/202 [==================>...........] - ETA: 43s - loss: 0.9192 - accuracy: 0.9858"
          ]
        },
        {
          "name": "stderr",
          "output_type": "stream",
          "text": [
            "2021-10-15 21:25:22.427650: W tensorflow/core/lib/png/png_io.cc:88] PNG warning: iCCP: known incorrect sRGB profile\n"
          ]
        },
        {
          "name": "stdout",
          "output_type": "stream",
          "text": [
            "151/202 [=====================>........] - ETA: 32s - loss: 0.9202 - accuracy: 0.9843"
          ]
        },
        {
          "name": "stderr",
          "output_type": "stream",
          "text": [
            "2021-10-15 21:25:34.536176: W tensorflow/core/lib/png/png_io.cc:88] PNG warning: iCCP: known incorrect sRGB profile\n"
          ]
        },
        {
          "name": "stdout",
          "output_type": "stream",
          "text": [
            "153/202 [=====================>........] - ETA: 30s - loss: 0.9209 - accuracy: 0.9837"
          ]
        },
        {
          "name": "stderr",
          "output_type": "stream",
          "text": [
            "2021-10-15 21:25:35.824987: W tensorflow/core/lib/png/png_io.cc:88] PNG warning: iCCP: known incorrect sRGB profile\n",
            "2021-10-15 21:25:35.825046: W tensorflow/core/lib/png/png_io.cc:88] PNG warning: iCCP: cHRM chunk does not match sRGB\n",
            "2021-10-15 21:25:35.924947: W tensorflow/core/lib/png/png_io.cc:88] PNG warning: iCCP: known incorrect sRGB profile\n"
          ]
        },
        {
          "name": "stdout",
          "output_type": "stream",
          "text": [
            "160/202 [======================>.......] - ETA: 26s - loss: 0.9221 - accuracy: 0.9828"
          ]
        },
        {
          "name": "stderr",
          "output_type": "stream",
          "text": [
            "2021-10-15 21:25:40.236904: W tensorflow/core/lib/png/png_io.cc:88] PNG warning: iCCP: known incorrect sRGB profile\n"
          ]
        },
        {
          "name": "stdout",
          "output_type": "stream",
          "text": [
            "167/202 [=======================>......] - ETA: 22s - loss: 0.9214 - accuracy: 0.9835"
          ]
        },
        {
          "name": "stderr",
          "output_type": "stream",
          "text": [
            "2021-10-15 21:25:44.576731: W tensorflow/core/lib/png/png_io.cc:88] PNG warning: bKGD: invalid\n"
          ]
        },
        {
          "name": "stdout",
          "output_type": "stream",
          "text": [
            "173/202 [========================>.....] - ETA: 18s - loss: 0.9222 - accuracy: 0.9827"
          ]
        },
        {
          "name": "stderr",
          "output_type": "stream",
          "text": [
            "2021-10-15 21:25:48.241853: W tensorflow/core/lib/png/png_io.cc:88] PNG warning: iCCP: known incorrect sRGB profile\n"
          ]
        },
        {
          "name": "stdout",
          "output_type": "stream",
          "text": [
            "\b\b\b\b\b\b\b\b\b\b\b\b\b\b\b\b\b\b\b\b\b\b\b\b\b\b\b\b\b\b\b\b\b\b\b\b\b\b\b\b\b\b\b\b\b\b\b\b\b\b\b\b\b\b\b\b\b\b\b\b\b\b\b\b\b\b\b\b\b\b\b\b\b\b\b\b\b\b\b\b\b\b\b\b\b\r",
            "174/202 [========================>.....] - ETA: 17s - loss: 0.9221 - accuracy: 0.9828"
          ]
        },
        {
          "name": "stderr",
          "output_type": "stream",
          "text": [
            "2021-10-15 21:25:48.878153: W tensorflow/core/lib/png/png_io.cc:88] PNG warning: iCCP: known incorrect sRGB profile\n",
            "2021-10-15 21:25:49.034758: W tensorflow/core/lib/png/png_io.cc:88] PNG warning: iCCP: known incorrect sRGB profile\n"
          ]
        },
        {
          "name": "stdout",
          "output_type": "stream",
          "text": [
            "177/202 [=========================>....] - ETA: 15s - loss: 0.9226 - accuracy: 0.9823"
          ]
        },
        {
          "name": "stderr",
          "output_type": "stream",
          "text": [
            "2021-10-15 21:25:50.787946: W tensorflow/core/lib/png/png_io.cc:88] PNG warning: iCCP: known incorrect sRGB profile\n"
          ]
        },
        {
          "name": "stdout",
          "output_type": "stream",
          "text": [
            "185/202 [==========================>...] - ETA: 10s - loss: 0.9227 - accuracy: 0.9824"
          ]
        },
        {
          "name": "stderr",
          "output_type": "stream",
          "text": [
            "2021-10-15 21:25:55.900482: W tensorflow/core/lib/png/png_io.cc:88] PNG warning: iCCP: known incorrect sRGB profile\n",
            "2021-10-15 21:25:56.031710: W tensorflow/core/lib/png/png_io.cc:88] PNG warning: iCCP: known incorrect sRGB profile\n"
          ]
        },
        {
          "name": "stdout",
          "output_type": "stream",
          "text": [
            "\b\b\b\b\b\b\b\b\b\b\b\b\b\b\b\b\b\b\b\b\b\b\b\b\b\b\b\b\b\b\b\b\b\b\b\b\b\b\b\b\b\b\b\b\b\b\b\b\b\b\b\b\b\b\b\b\b\b\b\b\b\b\b\b\b\b\b\b\b\b\b\b\b\b\b\b\b\b\b\b\b\b\b\b\b\r",
            "186/202 [==========================>...] - ETA: 10s - loss: 0.9226 - accuracy: 0.9825"
          ]
        },
        {
          "name": "stderr",
          "output_type": "stream",
          "text": [
            "2021-10-15 21:25:56.586849: W tensorflow/core/lib/png/png_io.cc:88] PNG warning: iCCP: known incorrect sRGB profile\n"
          ]
        },
        {
          "name": "stdout",
          "output_type": "stream",
          "text": [
            "201/202 [============================>.] - ETA: 0s - loss: 0.9226 - accuracy: 0.9826"
          ]
        },
        {
          "name": "stderr",
          "output_type": "stream",
          "text": [
            "2021-10-15 21:26:06.206842: W tensorflow/core/common_runtime/base_collective_executor.cc:216] BaseCollectiveExecutor::StartAbort Out of range: End of sequence\n",
            "\t [[{{node IteratorGetNext}}]]\n",
            "2021-10-15 21:26:06.853736: W tensorflow/core/lib/png/png_io.cc:88] PNG warning: iCCP: known incorrect sRGB profile\n",
            "2021-10-15 21:26:09.784878: W tensorflow/core/lib/png/png_io.cc:88] PNG warning: iCCP: known incorrect sRGB profile\n",
            "2021-10-15 21:26:11.379782: W tensorflow/core/lib/png/png_io.cc:88] PNG warning: iCCP: known incorrect sRGB profile\n",
            "2021-10-15 21:26:15.758193: W tensorflow/core/lib/png/png_io.cc:88] PNG warning: iCCP: known incorrect sRGB profile\n",
            "2021-10-15 21:26:21.018359: W tensorflow/core/lib/png/png_io.cc:88] PNG warning: iCCP: known incorrect sRGB profile\n",
            "2021-10-15 21:26:21.239168: W tensorflow/core/lib/png/png_io.cc:88] PNG warning: iCCP: known incorrect sRGB profile\n",
            "2021-10-15 21:26:27.963113: W tensorflow/core/lib/png/png_io.cc:88] PNG warning: iCCP: known incorrect sRGB profile\n",
            "2021-10-15 21:26:28.064929: W tensorflow/core/lib/png/png_io.cc:88] PNG warning: iCCP: known incorrect sRGB profile\n",
            "2021-10-15 21:26:29.231287: W tensorflow/core/lib/png/png_io.cc:88] PNG warning: iCCP: known incorrect sRGB profile\n",
            "2021-10-15 21:26:38.314930: W tensorflow/core/lib/png/png_io.cc:88] PNG warning: iCCP: too many profiles\n",
            "2021-10-15 21:26:43.243004: W tensorflow/core/lib/png/png_io.cc:88] PNG warning: iCCP: known incorrect sRGB profile\n"
          ]
        },
        {
          "name": "stdout",
          "output_type": "stream",
          "text": [
            "202/202 [==============================] - 169s 838ms/step - loss: 0.9226 - accuracy: 0.9827 - val_loss: 0.9264 - val_accuracy: 0.9784\n",
            "****************************************************************************************************\n",
            "0:19:42.930277\n"
          ]
        }
      ]
    },
    {
      "cell_type": "markdown",
      "metadata": {
        "id": "0e40b8a4"
      },
      "source": [
        "# 绘制训练集和验证集上损失值、准确率"
      ],
      "id": "0e40b8a4"
    },
    {
      "cell_type": "code",
      "metadata": {
        "scrolled": false,
        "id": "f660334a",
        "outputId": "07daf4c7-1179-45ac-f3fd-bd8784a9a6fa"
      },
      "source": [
        "train_loss = history.history[\"loss\"]\n",
        "train_accuracy = history.history[\"accuracy\"]\n",
        "val_loss = history.history[\"val_loss\"]\n",
        "val_accuray = history.history[\"val_accuracy\"]\n",
        "\n",
        "plt.plot(train_loss,label=\"train_loss\")\n",
        "plt.plot(val_loss,label=\"val_loss\")\n",
        "plt.legend()\n",
        "plt.xlabel(\"epochs\")\n",
        "plt.ylabel(\"loss\")\n",
        "plt.savefig(\"loss3.png\")\n",
        "plt.show()\n",
        "\n",
        "\n",
        "plt.plot(train_accuracy,label=\"train_accuracy\")\n",
        "plt.plot(val_accuray,label=\"val_accuray\")\n",
        "plt.legend()\n",
        "plt.xlabel(\"epochs\")\n",
        "plt.ylabel(\"accuracy\")\n",
        "plt.savefig(\"accuracy3.png\")\n",
        "plt.show()"
      ],
      "id": "f660334a",
      "execution_count": null,
      "outputs": [
        {
          "data": {
            "image/png": "[encoded data removed]",
            "text/plain": [
              "<Figure size 432x288 with 1 Axes>"
            ]
          },
          "metadata": {
            "needs_background": "light"
          },
          "output_type": "display_data"
        },
        {
          "data": {
            "image/png": "[encoded data removed]",
            "text/plain": [
              "<Figure size 432x288 with 1 Axes>"
            ]
          },
          "metadata": {
            "needs_background": "light"
          },
          "output_type": "display_data"
        }
      ]
    },
    {
      "cell_type": "markdown",
      "metadata": {
        "id": "bc061ca2"
      },
      "source": [
        "# 绘制验证集混淆矩阵"
      ],
      "id": "bc061ca2"
    },
    {
      "cell_type": "code",
      "metadata": {
        "scrolled": false,
        "id": "71093bc2",
        "outputId": "dbdbc336-98b0-4a88-9f33-ff99ee49bde0"
      },
      "source": [
        "y_pred = model.predict_generator(val_data)\n",
        "y_pred_classes = np.argmax(y_pred,axis=1)\n",
        "y_true = list(load_data(\"val\")[1])\n",
        "matrix = sklearn.metrics.confusion_matrix(load_data(\"val\")[1],y_pred_classes)\n",
        "print(matrix)"
      ],
      "id": "71093bc2",
      "execution_count": null,
      "outputs": [
        {
          "name": "stderr",
          "output_type": "stream",
          "text": [
            "2021-10-15 21:27:54.385675: W tensorflow/core/lib/png/png_io.cc:88] PNG warning: iCCP: known incorrect sRGB profile\n",
            "2021-10-15 21:27:58.138822: W tensorflow/core/lib/png/png_io.cc:88] PNG warning: iCCP: known incorrect sRGB profile\n",
            "2021-10-15 21:27:59.928378: W tensorflow/core/lib/png/png_io.cc:88] PNG warning: iCCP: known incorrect sRGB profile\n",
            "2021-10-15 21:28:05.348266: W tensorflow/core/lib/png/png_io.cc:88] PNG warning: iCCP: known incorrect sRGB profile\n",
            "2021-10-15 21:28:11.841132: W tensorflow/core/lib/png/png_io.cc:88] PNG warning: iCCP: known incorrect sRGB profile\n",
            "2021-10-15 21:28:12.068534: W tensorflow/core/lib/png/png_io.cc:88] PNG warning: iCCP: known incorrect sRGB profile\n",
            "2021-10-15 21:28:20.530268: W tensorflow/core/lib/png/png_io.cc:88] PNG warning: iCCP: known incorrect sRGB profile\n",
            "2021-10-15 21:28:20.639594: W tensorflow/core/lib/png/png_io.cc:88] PNG warning: iCCP: known incorrect sRGB profile\n",
            "2021-10-15 21:28:22.277815: W tensorflow/core/lib/png/png_io.cc:88] PNG warning: iCCP: known incorrect sRGB profile\n",
            "2021-10-15 21:28:33.356924: W tensorflow/core/lib/png/png_io.cc:88] PNG warning: iCCP: too many profiles\n",
            "2021-10-15 21:28:39.588397: W tensorflow/core/lib/png/png_io.cc:88] PNG warning: iCCP: known incorrect sRGB profile\n"
          ]
        },
        {
          "name": "stdout",
          "output_type": "stream",
          "text": [
            "验证集：693\n",
            "验证集：693\n",
            "[[132   2   2   2   0]\n",
            " [  0 135   1   0   1]\n",
            " [  0   2 134   0   0]\n",
            " [  0   2   2 127   0]\n",
            " [  0   0   0   1 150]]\n"
          ]
        }
      ]
    },
    {
      "cell_type": "markdown",
      "metadata": {
        "id": "8e2bb54f"
      },
      "source": [
        "# 预测并保存到csv"
      ],
      "id": "8e2bb54f"
    },
    {
      "cell_type": "code",
      "metadata": {
        "id": "198bc35d"
      },
      "source": [
        "def preprocess_x(x):\n",
        "    x = tf.io.read_file(x)\n",
        "    x = tf.io.decode_jpeg(x,channels=3)\n",
        "    x = tf.image.resize(x,(224,224))\n",
        "    x = tf.cast(x,dtype=tf.float32) / 255.\n",
        "    x = np.expand_dims(x,axis=0)\n",
        "    return x"
      ],
      "id": "198bc35d",
      "execution_count": null,
      "outputs": []
    },
    {
      "cell_type": "code",
      "metadata": {
        "id": "97e096f6",
        "outputId": "5a7dba5d-3e65-4a34-ad66-636c7c1c41b2"
      },
      "source": [
        "label2name = list(name2label.keys())\n",
        "print(label2name)\n",
        "pre_images = []\n",
        "pre_label = []\n",
        "for path in glob.glob(\"./predict/*\"):\n",
        "    pre_images.append(path)\n",
        "    pre_label.append(label2name[model.predict_classes(preprocess_x(path))[0]])\n",
        "df = pd.DataFrame({\"images\":pre_images,\"pre_label\":pre_label})\n",
        "df.to_csv(\"predict.csv\",index=False)\n",
        "df"
      ],
      "id": "97e096f6",
      "execution_count": null,
      "outputs": [
        {
          "name": "stdout",
          "output_type": "stream",
          "text": [
            "['mewtwo', 'charmander', 'squirtle', 'bulbasaur', 'pikachu']\n"
          ]
        },
        {
          "name": "stderr",
          "output_type": "stream",
          "text": [
            "2021-10-15 21:29:09.554384: W tensorflow/core/lib/png/png_io.cc:88] PNG warning: iCCP: known incorrect sRGB profile\n"
          ]
        },
        {
          "data": {
            "text/html": [
              "<div>\n",
              "<style scoped>\n",
              "    .dataframe tbody tr th:only-of-type {\n",
              "        vertical-align: middle;\n",
              "    }\n",
              "\n",
              "    .dataframe tbody tr th {\n",
              "        vertical-align: top;\n",
              "    }\n",
              "\n",
              "    .dataframe thead th {\n",
              "        text-align: right;\n",
              "    }\n",
              "</style>\n",
              "<table border=\"1\" class=\"dataframe\">\n",
              "  <thead>\n",
              "    <tr style=\"text-align: right;\">\n",
              "      <th></th>\n",
              "      <th>images</th>\n",
              "      <th>pre_label</th>\n",
              "    </tr>\n",
              "  </thead>\n",
              "  <tbody>\n",
              "    <tr>\n",
              "      <th>0</th>\n",
              "      <td>./predict/squirtle.png</td>\n",
              "      <td>squirtle</td>\n",
              "    </tr>\n",
              "    <tr>\n",
              "      <th>1</th>\n",
              "      <td>./predict/bulbasaur.png</td>\n",
              "      <td>bulbasaur</td>\n",
              "    </tr>\n",
              "    <tr>\n",
              "      <th>2</th>\n",
              "      <td>./predict/mewtwo2.png</td>\n",
              "      <td>mewtwo</td>\n",
              "    </tr>\n",
              "    <tr>\n",
              "      <th>3</th>\n",
              "      <td>./predict/mewtwo.png</td>\n",
              "      <td>mewtwo</td>\n",
              "    </tr>\n",
              "    <tr>\n",
              "      <th>4</th>\n",
              "      <td>./predict/charmander.png</td>\n",
              "      <td>charmander</td>\n",
              "    </tr>\n",
              "    <tr>\n",
              "      <th>5</th>\n",
              "      <td>./predict/squirtle1.jpg</td>\n",
              "      <td>squirtle</td>\n",
              "    </tr>\n",
              "    <tr>\n",
              "      <th>6</th>\n",
              "      <td>./predict/pikachu1.png</td>\n",
              "      <td>pikachu</td>\n",
              "    </tr>\n",
              "    <tr>\n",
              "      <th>7</th>\n",
              "      <td>./predict/charmander1.png</td>\n",
              "      <td>charmander</td>\n",
              "    </tr>\n",
              "    <tr>\n",
              "      <th>8</th>\n",
              "      <td>./predict/pikachu.png</td>\n",
              "      <td>pikachu</td>\n",
              "    </tr>\n",
              "  </tbody>\n",
              "</table>\n",
              "</div>"
            ],
            "text/plain": [
              "                      images   pre_label\n",
              "0     ./predict/squirtle.png    squirtle\n",
              "1    ./predict/bulbasaur.png   bulbasaur\n",
              "2      ./predict/mewtwo2.png      mewtwo\n",
              "3       ./predict/mewtwo.png      mewtwo\n",
              "4   ./predict/charmander.png  charmander\n",
              "5    ./predict/squirtle1.jpg    squirtle\n",
              "6     ./predict/pikachu1.png     pikachu\n",
              "7  ./predict/charmander1.png  charmander\n",
              "8      ./predict/pikachu.png     pikachu"
            ]
          },
          "execution_count": 128,
          "metadata": {},
          "output_type": "execute_result"
        }
      ]
    },
    {
      "cell_type": "markdown",
      "metadata": {
        "id": "d17b0624"
      },
      "source": [
        "# 可视化预测结果"
      ],
      "id": "d17b0624"
    },
    {
      "cell_type": "code",
      "metadata": {
        "id": "d30158e2",
        "outputId": "03db2378-fbb5-44ff-e45a-597028bdddea"
      },
      "source": [
        "for i in range(9):\n",
        "    plt.subplot(3,3,i+1)\n",
        "    plt.imshow(tf.keras.preprocessing.image.load_img(pre_images[i]))\n",
        "    plt.xlabel(\"predict:\" + str(pre_label[i]))\n",
        "plt.tight_layout()  "
      ],
      "id": "d30158e2",
      "execution_count": null,
      "outputs": [
        {
          "data": {
            "image/png": "[encoded data removed]",
            "text/plain": [
              "<Figure size 432x288 with 9 Axes>"
            ]
          },
          "metadata": {
            "needs_background": "light"
          },
          "output_type": "display_data"
        }
      ]
    },
    {
      "cell_type": "code",
      "metadata": {
        "id": "c31831d8"
      },
      "source": [
        ""
      ],
      "id": "c31831d8",
      "execution_count": null,
      "outputs": []
    }
  ]
}